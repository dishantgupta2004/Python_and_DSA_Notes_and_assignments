{
  "cells": [
    {
      "cell_type": "markdown",
      "metadata": {
        "colab_type": "text",
        "id": "view-in-github"
      },
      "source": [
        "<a href=\"https://colab.research.google.com/github/dishantgupta2004/Python_and_DSA_Notes_and_assignments/blob/main/15th_Oct_OopsAssignment_02.ipynb\" target=\"_parent\"><img src=\"https://colab.research.google.com/assets/colab-badge.svg\" alt=\"Open In Colab\"/></a>"
      ]
    },
    {
      "cell_type": "markdown",
      "metadata": {
        "id": "sQgnnL6WqqF3"
      },
      "source": [
        "# **CONSTRUCTORS (1 - 20)**"
      ]
    },
    {
      "cell_type": "markdown",
      "metadata": {
        "id": "uLRYddGAsbSS"
      },
      "source": [
        "1. What is a constructor in Python? Explain its purpose and usage.\n",
        "2. Differentiate between a parameterless constructor and a parameterized constructor in Python.\n",
        "3. How do you define a constructor in a Python class? Provide an example.\n",
        "4. Explain the `__init__` method in Python and its role in constructors.\n",
        "5. In a class named `Person`, create a constructor that initializes the `name` and `age` attributes. Provide an\n",
        "example of creating an object of this class.\n",
        "6. How can you call a constructor explicitly in Python? Give an example.\n",
        "7. What is the significance of the `self` parameter in Python constructors? Explain with an example.\n",
        "8. Discuss the concept of default constructors in Python. When are they used?\n",
        "9. Create a Python class called `Rectangle` with a constructor that initializes the `width` and `height`\n",
        "attributes. Provide a method to calculate the area of the rectangle.\n",
        "10. How can you have multiple constructors in a Python class? Explain with an example.\n",
        "11. What is method overloading, and how is it related to constructors in Python?\n",
        "12. Explain the use of the `super()` function in Python constructors. Provide an example.\n",
        "13. Create a class called `Book` with a constructor that initializes the `title`, `author`, and `published_year`\n",
        "attributes. Provide a method to display book details.\n",
        "14. Discuss the differences between constructors and regular methods in Python classes.\n",
        "15. Explain the role of the `self` parameter in instance variable initialization within a constructor.\n",
        "16. How do you prevent a class from having multiple instances by using constructors in Python? Provide an\n",
        "example.\n",
        "17. Create a Python class called `Student` with a constructor that takes a list of subjects as a parameter and\n",
        "initializes the `subjects` attribute.\n",
        "18. What is the purpose of the `__del__` method in Python classes, and how does it relate to constructors?\n",
        "19. Explain the use of constructor chaining in Python. Provide a practical example.\n",
        "20. Create a Python class called `Car` with a default constructor that initializes the `make` and `model`\n",
        "attributes. Provide a method to display car information."
      ]
    },
    {
      "cell_type": "markdown",
      "metadata": {
        "id": "T0DNN1RKvylL"
      },
      "source": [
        "1. **Question-01**: A constructor is a special method that gets called automatically when an object of a class is created. Its primary purpose is to initialize the attributes of the object or perform any setup operations required when a new instance is created. In python, constructors help ensure that objects are properly initialized with the necessary attributes and in a valid state when they are created.\n",
        "\n",
        "2. **Question-02**\n",
        " - **Parameterless constructor** that does not accept any arguments (except self). It intilizes object attributes to default values.\n",
        " - **Parameterized constructors** that accepts parameters to initialize object attributes with specific values during object creation.\n",
        "\n",
        "3. **Question-03**:\n",
        " - In Python, constructors are defined using the special __init__ method:\n"
      ]
    },
    {
      "cell_type": "code",
      "execution_count": 2,
      "metadata": {
        "id": "llHuLjIjbVOh"
      },
      "outputs": [],
      "source": [
        "import pandas as pd\n",
        "class StudentProfile:\n",
        "  def __init__(self, id, name):\n",
        "    self.id = id\n",
        "    self.name = name\n",
        "    self.records = pd.DataFrame(columns = ['id', 'name', 'Academic_Records', 'Status'])\n",
        "\n",
        "  def show_profile(self):\n",
        "    print(f\"student having {self.id} has {self.name} as name\")\n",
        "\n"
      ]
    },
    {
      "cell_type": "markdown",
      "metadata": {
        "id": "uxlspM93zptq"
      },
      "source": [
        "4. **Question-04**: The __init__ method in Python serves as the constructor for a class. It's automatically called when a new instance of the class is created. Its primary roles are:\n",
        " - Initializing instance attributes.\n",
        " - Performing any setup operations required for new objects.\n",
        " - Setting the initial state of the object.\n",
        " - The first parameter of __init__ is always self, which refers to the instance being created."
      ]
    },
    {
      "cell_type": "code",
      "execution_count": 3,
      "metadata": {
        "colab": {
          "base_uri": "https://localhost:8080/"
        },
        "id": "JFSahTiSyKIu",
        "outputId": "5aa0ff5c-3d8c-423a-c870-b69cef306487"
      },
      "outputs": [
        {
          "name": "stdout",
          "output_type": "stream",
          "text": [
            "Name: dishant, Age: 22\n"
          ]
        }
      ],
      "source": [
        "## Question-05:\n",
        "class Person:\n",
        "    def __init__(self, name, age):\n",
        "        self.name = name\n",
        "        self.age = age\n",
        "\n",
        "\n",
        "person1 = Person(\"dishant\", 22)\n",
        "print(f\"Name: {person1.name}, Age: {person1.age}\")"
      ]
    },
    {
      "cell_type": "code",
      "execution_count": 4,
      "metadata": {
        "id": "jSmye6JJ0Wox"
      },
      "outputs": [],
      "source": [
        "## Question-06: In Python, constructors are typically called implicitly when creating an object. However, you can explicitly call a parent class's constructor using super():\n",
        "class Parent:\n",
        "    def __init__(self, value):\n",
        "        self.value = value\n",
        "\n",
        "class Child(Parent):\n",
        "    def __init__(self, value, extra):\n",
        "        # Explicitly calling Parent's constructor\n",
        "        super().__init__(value)\n",
        "        self.extra = extra\n",
        "\n",
        "child = Child(10, \"extra data\")"
      ]
    },
    {
      "cell_type": "code",
      "execution_count": 5,
      "metadata": {
        "id": "FkIbAJri0kLD"
      },
      "outputs": [],
      "source": [
        "## Question-07: The self parameter in Python constructors refers to the instance being created. It allows the constructor to assign values to the specific instance's attributes.\n",
        "## Without self, there would be no way to reference the particular object being initialized:\n",
        "class Counter:\n",
        "    def __init__(self, start_value):\n",
        "        # self refers to the specific instance being created\n",
        "        self.count = start_value  # Assigns start_value to this instance's count\n",
        "\n",
        "c1 = Counter(5)  # c1.count becomes 5\n",
        "c2 = Counter(10)  # c2.count becomes 10"
      ]
    },
    {
      "cell_type": "markdown",
      "metadata": {
        "id": "72e6PdyS1vzY"
      },
      "source": [
        "8. **Question-08**: In Python, a default constructor is provided automatically if no __init__ method is defined in a class. It takes no arguments except self and performs no specific initialization. Default constructors are used when:\n",
        " - Objects don't require specific initialization.\n",
        " - All attributes will be added after object creation.\n",
        " - The class inherits initialization from a parent class.\n",
        "\n",
        "9. **Question-09**:\n"
      ]
    },
    {
      "cell_type": "code",
      "execution_count": 6,
      "metadata": {
        "colab": {
          "base_uri": "https://localhost:8080/"
        },
        "id": "BM0crrpu1lWE",
        "outputId": "79f47f18-fd13-4a26-90cd-af8148afe59d"
      },
      "outputs": [
        {
          "name": "stdout",
          "output_type": "stream",
          "text": [
            "Rectangle area: 15\n"
          ]
        }
      ],
      "source": [
        "class Rectangle:\n",
        "    def __init__(self, width, height):\n",
        "        self.width = width\n",
        "        self.height = height\n",
        "\n",
        "    def calculate_area(self):\n",
        "        return self.width * self.height\n",
        "\n",
        "# Example usage\n",
        "rect = Rectangle(5, 3)\n",
        "print(f\"Rectangle area: {rect.calculate_area()}\")  # Output: Rectangle area: 15"
      ]
    },
    {
      "cell_type": "code",
      "execution_count": 7,
      "metadata": {
        "id": "x4AY7z6f2J09"
      },
      "outputs": [],
      "source": [
        "## Question-10: Python doesn't directly support multiple constructors like some other languages. However, you can simulate this behavior using class methods as alternative\n",
        "## constructors:\n",
        "\n",
        "class Date:\n",
        "    def __init__(self, year, month, day):\n",
        "        self.year = year\n",
        "        self.month = month\n",
        "        self.day = day\n",
        "\n",
        "    @classmethod\n",
        "    def from_string(cls, date_string):\n",
        "        # Alternative constructor that creates Date from a string\n",
        "        year, month, day = map(int, date_string.split('-'))\n",
        "        return cls(year, month, day)\n",
        "\n",
        "    @classmethod\n",
        "    def today(cls):\n",
        "        # Another alternative constructor\n",
        "        import datetime\n",
        "        today = datetime.date.today()\n",
        "        return cls(today.year, today.month, today.day)\n",
        "\n",
        "# Different ways to create Date objects\n",
        "d1 = Date(2023, 5, 15)  # Using the regular constructor\n",
        "d2 = Date.from_string(\"2023-05-15\")  # Using alternative constructor\n",
        "d3 = Date.today()  # Using another alternative constructor"
      ]
    },
    {
      "cell_type": "markdown",
      "metadata": {
        "id": "08-AozW62pFV"
      },
      "source": [
        "11. **Question-11**: Method overloading is a concept where multiple methods can have the same name but different parameters. Python doesn't support traditional method overloading. For constructors, this means you can't have multiple __init__ methods with different parameter lists.\n",
        "Instead, Python developers use:\n",
        " - Default parameter values.\n",
        " - Variable-length argument lists.\n",
        " - Class methods as alternative constructors (as shown in the previous answer)"
      ]
    },
    {
      "cell_type": "code",
      "execution_count": 8,
      "metadata": {
        "id": "CT97RzY32e2L"
      },
      "outputs": [],
      "source": [
        "class Product:\n",
        "    def __init__(self, name, price=0, quantity=1, category=None):\n",
        "        self.name = name\n",
        "        self.price = price\n",
        "        self.quantity = quantity\n",
        "        self.category = category\n",
        "\n",
        "# Can be called in different ways\n",
        "p1 = Product(\"Laptop\", 1000)\n",
        "p2 = Product(\"Mouse\", 25, 5)\n",
        "p3 = Product(\"Keyboard\", 50, 2, \"Peripherals\")"
      ]
    },
    {
      "cell_type": "markdown",
      "metadata": {
        "id": "TjCbKtqQ4YQa"
      },
      "source": [
        "12. **Question-12**: The super() function in Python constructors is used to call methods from the parent class, particularly the parent's constructor. It enables proper initialization of the parent class attributes before adding functionality in the child class:"
      ]
    },
    {
      "cell_type": "code",
      "execution_count": 9,
      "metadata": {
        "colab": {
          "base_uri": "https://localhost:8080/"
        },
        "id": "DstjLr4p4UnU",
        "outputId": "e39ba097-655c-4e51-b546-5aa4151365c4"
      },
      "outputs": [
        {
          "name": "stdout",
          "output_type": "stream",
          "text": [
            "Brand: Toyota, Year: 2022, Model: Corolla\n"
          ]
        }
      ],
      "source": [
        "class Vehicle:\n",
        "    def __init__(self, brand, year):\n",
        "        self.brand = brand\n",
        "        self.year = year\n",
        "\n",
        "class Car(Vehicle):\n",
        "    def __init__(self, brand, year, model):\n",
        "        # Call parent constructor to initialize brand and year\n",
        "        super().__init__(brand, year)\n",
        "        # Add car-specific attribute\n",
        "        self.model = model\n",
        "\n",
        "my_car = Car(\"Toyota\", 2022, \"Corolla\")\n",
        "print(f\"Brand: {my_car.brand}, Year: {my_car.year}, Model: {my_car.model}\")"
      ]
    },
    {
      "cell_type": "code",
      "execution_count": 10,
      "metadata": {
        "colab": {
          "base_uri": "https://localhost:8080/"
        },
        "id": "WyyMABXW4e31",
        "outputId": "000b8228-debc-4c2b-b172-99840992443b"
      },
      "outputs": [
        {
          "name": "stdout",
          "output_type": "stream",
          "text": [
            "'The Great Gatsby' by F. Scott Fitzgerald (1925)\n"
          ]
        }
      ],
      "source": [
        "# 13-> Question-13:\n",
        "class Book:\n",
        "    def __init__(self, title, author, published_year):\n",
        "        self.title = title\n",
        "        self.author = author\n",
        "        self.published_year = published_year\n",
        "\n",
        "    def display_details(self):\n",
        "        return f\"'{self.title}' by {self.author} ({self.published_year})\"\n",
        "\n",
        "# Example usage\n",
        "book1 = Book(\"The Great Gatsby\", \"F. Scott Fitzgerald\", 1925)\n",
        "print(book1.display_details())  # Output: 'The Great Gatsby' by F. Scott Fitzgerald (1925)"
      ]
    },
    {
      "cell_type": "markdown",
      "metadata": {
        "id": "1A7zBXPM4rdh"
      },
      "source": [
        "14. **Question-14**: Constructors (__init__ method) differ from regular methods in several ways:\n",
        " - Constructors are automatically called when an object is created; regular methods must be explicitly called.\n",
        " - Constructors always have the name __init__; regular methods can have any valid identifier.\n",
        " - Constructors don't return values (return statements are ignored); regular methods can return values.\n",
        " - Constructors initialize object state; regular methods typically perform operations using that state.\n",
        " - Constructors run only once per object; regular methods can be called multiple times."
      ]
    },
    {
      "cell_type": "markdown",
      "metadata": {
        "id": "J2X8VVRH4-jO"
      },
      "source": [
        "15. **Question-15**: The self parameter in constructors is essential for instance variable initialization because:\n",
        " - It identifies which instance the variables belong to.\n",
        " - It differentiates instance variables from local variables.\n",
        " - It ensures each object gets its own set of attributes.\n",
        " - It allows the constructor to set up the object's namespace"
      ]
    },
    {
      "cell_type": "code",
      "execution_count": 11,
      "metadata": {
        "id": "jiZvi60n4lnv"
      },
      "outputs": [],
      "source": [
        "class Student:\n",
        "    def __init__(self, name):\n",
        "        # self.name is an instance variable (belongs to the object)\n",
        "        self.name = name\n",
        "        # name is just a local parameter (temporary)\n",
        "\n",
        "        # Without self, this would be a local variable that disappears\n",
        "        # after the constructor finishes executing\n",
        "        grade = \"A\"  # This is NOT an instance variable\n",
        "        self.grade = \"A\"  # This IS an instance variable"
      ]
    },
    {
      "cell_type": "code",
      "execution_count": 12,
      "metadata": {
        "colab": {
          "base_uri": "https://localhost:8080/"
        },
        "id": "yCBcpBNv5Laq",
        "outputId": "eaa984c0-2514-4750-8ead-a6beb57491cf"
      },
      "outputs": [
        {
          "name": "stdout",
          "output_type": "stream",
          "text": [
            "First\n",
            "First\n",
            "True\n"
          ]
        }
      ],
      "source": [
        "#16:We can implement the Singleton pattern by tracking instance creation in the constructor:\n",
        "class Singleton:\n",
        "    _instance = None\n",
        "\n",
        "    def __new__(cls, *args, **kwargs):\n",
        "        if cls._instance is None:\n",
        "            cls._instance = super().__new__(cls)\n",
        "        return cls._instance\n",
        "\n",
        "    def __init__(self, value=None):\n",
        "        # This will only effectively run once for the first instance\n",
        "        if not hasattr(self, 'value'):\n",
        "            self.value = value\n",
        "\n",
        "# Testing\n",
        "s1 = Singleton(\"First\")\n",
        "s2 = Singleton(\"Second\")\n",
        "\n",
        "print(s1.value)  # Output: \"First\"\n",
        "print(s2.value)  # Output: \"First\" (not \"Second\"!)\n",
        "print(s1 is s2)  # Output: True (same instance)"
      ]
    },
    {
      "cell_type": "code",
      "execution_count": 13,
      "metadata": {
        "colab": {
          "base_uri": "https://localhost:8080/"
        },
        "id": "N9vbMAS55aF2",
        "outputId": "6ba672f5-ba72-4c7c-bcb6-77ddb8919282"
      },
      "outputs": [
        {
          "name": "stdout",
          "output_type": "stream",
          "text": [
            "Emma's subjects: Math, Physics, Chemistry\n",
            "Jack's subjects: History\n"
          ]
        }
      ],
      "source": [
        "## Question 17:\n",
        "class Student:\n",
        "    def __init__(self, name, subjects=None):\n",
        "        self.name = name\n",
        "        # Use empty list as default if no subjects provided\n",
        "        self.subjects = subjects if subjects is not None else []\n",
        "\n",
        "    def add_subject(self, subject):\n",
        "        self.subjects.append(subject)\n",
        "\n",
        "    def display_subjects(self):\n",
        "        if self.subjects:\n",
        "            return f\"{self.name}'s subjects: {', '.join(self.subjects)}\"\n",
        "        else:\n",
        "            return f\"{self.name} hasn't enrolled in any subjects yet\"\n",
        "\n",
        "# Example usage\n",
        "student1 = Student(\"Emma\", [\"Math\", \"Physics\", \"Chemistry\"])\n",
        "student2 = Student(\"Jack\")\n",
        "student2.add_subject(\"History\")\n",
        "\n",
        "print(student1.display_subjects())\n",
        "print(student2.display_subjects())"
      ]
    },
    {
      "cell_type": "markdown",
      "metadata": {
        "id": "FmVK6cAX5WnT"
      },
      "source": [
        "18. **Question-18**: The __del__ method in Python is a destructor that gets called when an object is about to be destroyed (when its reference count drops to zero). While constructors (__init__) initialize objects, destructors (__del__) clean them up. The relationship between them:\n",
        " - __init__ sets up resources; __del__ releases them.\n",
        " - __init__ is called at the beginning of an object's life; __del__ at the end.\n",
        " - Together they manage the complete lifecycle of an object."
      ]
    },
    {
      "cell_type": "code",
      "execution_count": 14,
      "metadata": {
        "colab": {
          "base_uri": "https://localhost:8080/"
        },
        "id": "vpIE3gVe6G1N",
        "outputId": "3753199a-bf21-44c8-b586-d7e2ca97cf87"
      },
      "outputs": [
        {
          "name": "stdout",
          "output_type": "stream",
          "text": [
            "Resource database_connection acquired\n",
            "Resource database_connection released\n"
          ]
        }
      ],
      "source": [
        "class ResourceManager:\n",
        "    def __init__(self, resource_name):\n",
        "        self.resource_name = resource_name\n",
        "        print(f\"Resource {resource_name} acquired\")\n",
        "\n",
        "    def __del__(self):\n",
        "        print(f\"Resource {self.resource_name} released\")\n",
        "\n",
        "# Example\n",
        "def test_resource():\n",
        "    r = ResourceManager(\"database_connection\")\n",
        "    # When r goes out of scope, __del__ will be called\n",
        "\n",
        "test_resource()  # Output: \"Resource database_connection acquired\" followed by \"Resource database_connection released\""
      ]
    },
    {
      "cell_type": "markdown",
      "metadata": {
        "id": "uFAaXgDq6Pkm"
      },
      "source": [
        "19. Question 19: Constructor chaining in Python refers to calling one constructor from another, typically through inheritance hierarchies using super(). This allows code reuse and proper initialization of the inheritance chain:"
      ]
    },
    {
      "cell_type": "code",
      "execution_count": 15,
      "metadata": {
        "colab": {
          "base_uri": "https://localhost:8080/"
        },
        "id": "3_Y_PVbJ6K4L",
        "outputId": "c011a884-8673-4566-9e08-501dd58a88de"
      },
      "outputs": [
        {
          "name": "stdout",
          "output_type": "stream",
          "text": [
            "Name: Alice, Age: 40, ID: E12345, Dept: Engineering\n"
          ]
        }
      ],
      "source": [
        "class Person:\n",
        "    def __init__(self, name, age):\n",
        "        self.name = name\n",
        "        self.age = age\n",
        "\n",
        "class Employee(Person):\n",
        "    def __init__(self, name, age, employee_id):\n",
        "        # Chain to the parent constructor\n",
        "        super().__init__(name, age)\n",
        "        self.employee_id = employee_id\n",
        "\n",
        "class Manager(Employee):\n",
        "    def __init__(self, name, age, employee_id, department):\n",
        "        # Chain to the parent constructor\n",
        "        super().__init__(name, age, employee_id)\n",
        "        self.department = department\n",
        "\n",
        "# Creating a manager chains through all constructors\n",
        "manager = Manager(\"Alice\", 40, \"E12345\", \"Engineering\")\n",
        "print(f\"Name: {manager.name}, Age: {manager.age}, ID: {manager.employee_id}, Dept: {manager.department}\")"
      ]
    },
    {
      "cell_type": "code",
      "execution_count": 16,
      "metadata": {
        "colab": {
          "base_uri": "https://localhost:8080/"
        },
        "id": "6Bup1duB6UwE",
        "outputId": "c0d2ee9a-9f98-45d4-bd4b-daa52124e87f"
      },
      "outputs": [
        {
          "name": "stdout",
          "output_type": "stream",
          "text": [
            "Car: Toyota Camry, Year: 2023\n",
            "Car: Unknown Unknown\n"
          ]
        }
      ],
      "source": [
        "## Question 20:\n",
        "class Car:\n",
        "    def __init__(self, make=\"Unknown\", model=\"Unknown\"):\n",
        "        self.make = make\n",
        "        self.model = model\n",
        "        self.year = None  # Optional attribute to be set later\n",
        "\n",
        "    def set_year(self, year):\n",
        "        self.year = year\n",
        "\n",
        "    def display_info(self):\n",
        "        year_info = f\", Year: {self.year}\" if self.year else \"\"\n",
        "        return f\"Car: {self.make} {self.model}{year_info}\"\n",
        "\n",
        "# Example usage\n",
        "car1 = Car(\"Toyota\", \"Camry\")\n",
        "car1.set_year(2023)\n",
        "print(car1.display_info())  # Output: Car: Toyota Camry, Year: 2023\n",
        "\n",
        "car2 = Car()  # Using default values\n",
        "print(car2.display_info())  # Output: Car: Unknown Unknown"
      ]
    },
    {
      "cell_type": "markdown",
      "metadata": {
        "id": "o_OXnwsc6mQj"
      },
      "source": [
        "# **INHERITENCE (1 - 20)**"
      ]
    },
    {
      "cell_type": "markdown",
      "metadata": {
        "id": "_26cMq_564Xs"
      },
      "source": [
        "1. **What is inheritance in Python? Explain its significance in object-oriented programming.**\n",
        " - Inheritance in Python is a mechanism where a class (child class) can inherit attributes and methods from another class (parent class). This allows for code reuse and the creation of hierarchical relationships between classes.\n",
        "The significance of inheritance in object-oriented programming includes:\n",
        "  - **Code reusability**: Avoids duplicating code by inheriting common functionality.\n",
        "  - **Extensibility**: Allows extending existing classes with new features.\n",
        "  - **Hierarchy**: Enables organizing classes in a logical parent-child relationship.\n",
        "  - **Polymorphism**: Permits using child class objects where parent class objects are expected.\n",
        "\n",
        "\n",
        "2. **Differentiate between single inheritance and multiple inheritance in Python. Provide examples for each.**\n",
        " - Single Inheritance: A class inherits from only one parent class.\n",
        " - Multiple Inheritance: A class inherits from multiple parent classes."
      ]
    },
    {
      "cell_type": "code",
      "execution_count": 17,
      "metadata": {
        "colab": {
          "base_uri": "https://localhost:8080/"
        },
        "id": "j6aRPL666Z9V",
        "outputId": "9e9ea382-5d0e-4793-aff1-86f09e538c41"
      },
      "outputs": [
        {
          "name": "stdout",
          "output_type": "stream",
          "text": [
            "Method from Parent\n",
            "Method from Child\n",
            "Eye color: Brown\n",
            "Hair color: Black\n"
          ]
        }
      ],
      "source": [
        "## Single Inheritence:\n",
        "class Parent:\n",
        "    def method1(self):\n",
        "        print(\"Method from Parent\")\n",
        "\n",
        "class Child(Parent):  # Single inheritance\n",
        "    def method2(self):\n",
        "        print(\"Method from Child\")\n",
        "\n",
        "child = Child()\n",
        "child.method1()  # Inherited from Parent\n",
        "child.method2()  # Defined in Child\n",
        "\n",
        "## Multiple inheritence\n",
        "class Father:\n",
        "    def eye_color(self):\n",
        "        return \"Brown\"\n",
        "\n",
        "class Mother:\n",
        "    def hair_color(self):\n",
        "        return \"Black\"\n",
        "\n",
        "class Child(Father, Mother):  # Multiple inheritance\n",
        "    pass\n",
        "\n",
        "child = Child()\n",
        "print(f\"Eye color: {child.eye_color()}\")  # From Father\n",
        "print(f\"Hair color: {child.hair_color()}\")  # From Mother"
      ]
    },
    {
      "cell_type": "markdown",
      "metadata": {
        "id": "T4NnfH7y7wTb"
      },
      "source": [
        "3. **Create a Python class called Vehicle with attributes color and speed. Then, create a child class called Car that inherits from Vehicle and adds a brand attribute. Provide an example of creating a Car object.**"
      ]
    },
    {
      "cell_type": "code",
      "execution_count": 18,
      "metadata": {
        "colab": {
          "base_uri": "https://localhost:8080/"
        },
        "id": "aa7Ta3Qo7vmc",
        "outputId": "0817803f-97f7-4397-b987-67dae3e4ee68"
      },
      "outputs": [
        {
          "name": "stdout",
          "output_type": "stream",
          "text": [
            "Car: Brand=Toyota, Color=Red, Speed=180km/h\n"
          ]
        }
      ],
      "source": [
        "class Vehicle:\n",
        "    def __init__(self, color, speed):\n",
        "        self.color = color\n",
        "        self.speed = speed\n",
        "\n",
        "    def display_info(self):\n",
        "        return f\"Vehicle: Color={self.color}, Speed={self.speed}km/h\"\n",
        "\n",
        "class Car(Vehicle):\n",
        "    def __init__(self, color, speed, brand):\n",
        "        super().__init__(color, speed)  # Initialize parent class attributes\n",
        "        self.brand = brand\n",
        "\n",
        "    def display_info(self):\n",
        "        return f\"Car: Brand={self.brand}, Color={self.color}, Speed={self.speed}km/h\"\n",
        "\n",
        "# Creating a Car object\n",
        "my_car = Car(\"Red\", 180, \"Toyota\")\n",
        "print(my_car.display_info())  # Output: Car: Brand=Toyota, Color=Red, Speed=180km/h"
      ]
    },
    {
      "cell_type": "markdown",
      "metadata": {
        "id": "13naRSLN74PU"
      },
      "source": [
        "4. **Explain the concept of method overriding in inheritance. Provide a practical example.**\n",
        " - Method overriding occurs when a child class provides a specific implementation for a method that is already defined in its parent class. The child's implementation takes precedence over the parent's implementation when the method is called on the child object."
      ]
    },
    {
      "cell_type": "code",
      "execution_count": 19,
      "metadata": {
        "colab": {
          "base_uri": "https://localhost:8080/"
        },
        "id": "Zw9WdkdB7q6c",
        "outputId": "b85778a0-a3dc-4930-de86-553de490f6b1"
      },
      "outputs": [
        {
          "name": "stdout",
          "output_type": "stream",
          "text": [
            "Some generic animal sound\n",
            "Woof!\n",
            "Meow!\n"
          ]
        }
      ],
      "source": [
        "class Animal:\n",
        "    def make_sound(self):\n",
        "        return \"Some generic animal sound\"\n",
        "\n",
        "class Dog(Animal):\n",
        "    def make_sound(self):  # Overriding the parent class method\n",
        "        return \"Woof!\"\n",
        "\n",
        "class Cat(Animal):\n",
        "    def make_sound(self):  # Overriding the parent class method\n",
        "        return \"Meow!\"\n",
        "\n",
        "# Example usage\n",
        "generic_animal = Animal()\n",
        "dog = Dog()\n",
        "cat = Cat()\n",
        "\n",
        "print(generic_animal.make_sound())  # Output: Some generic animal sound\n",
        "print(dog.make_sound())  # Output: Woof!\n",
        "print(cat.make_sound())  # Output: Meow!"
      ]
    },
    {
      "cell_type": "markdown",
      "metadata": {
        "id": "FNF72DMo8Fu-"
      },
      "source": [
        "5. **How can you access the methods and attributes of a parent class from a child class in Python? Give an example.**"
      ]
    },
    {
      "cell_type": "code",
      "execution_count": 20,
      "metadata": {
        "colab": {
          "base_uri": "https://localhost:8080/"
        },
        "id": "yu-IVeWD8CKF",
        "outputId": "e9ff708f-0b9c-4caf-adf7-1b27b1f27856"
      },
      "outputs": [
        {
          "name": "stdout",
          "output_type": "stream",
          "text": [
            "Parent value: 10, Parent method: Parent method\n",
            "Parent method\n"
          ]
        }
      ],
      "source": [
        "class Parent:\n",
        "    def __init__(self):\n",
        "        self.value = 10\n",
        "\n",
        "    def method(self):\n",
        "        return \"Parent method\"\n",
        "\n",
        "class Child(Parent):\n",
        "    def __init__(self):\n",
        "        super().__init__()  # Access parent's __init__ using super()\n",
        "        self.child_value = 20\n",
        "\n",
        "    def child_method(self):\n",
        "        # Access parent's attributes and methods\n",
        "        parent_method_result = super().method()\n",
        "        return f\"Parent value: {self.value}, Parent method: {parent_method_result}\"\n",
        "\n",
        "    def alternative_access(self):\n",
        "        # Alternative way using direct parent class name\n",
        "        return Parent.method(self)\n",
        "child = Child()\n",
        "print(child.child_method())  # Output: Parent value: 10, Parent method: Parent method\n",
        "print(child.alternative_access())  # Output: Parent method"
      ]
    },
    {
      "cell_type": "markdown",
      "metadata": {
        "id": "SxUZTZrP8UoN"
      },
      "source": [
        "6. **Discuss the use of the super() function in Python inheritance. When and why is it used? Provide an example.**"
      ]
    },
    {
      "cell_type": "markdown",
      "metadata": {},
      "source": [
        "The super() function is used to call methods from the parent class within a child class. It's particularly useful for:\n",
        "- Calling the parent class constructor.\n",
        "- Accessing overridden methods.\n",
        "- Maintaining proper method resolution order in multiple inheritance\n",
        "\n",
        "**The function is used when you need the parent's functionality before adding or modifying it in the child class.**"
      ]
    },
    {
      "cell_type": "code",
      "execution_count": 21,
      "metadata": {},
      "outputs": [
        {
          "name": "stdout",
          "output_type": "stream",
          "text": [
            "This is a blue shape with radius 5\n"
          ]
        }
      ],
      "source": [
        "class Shape:\n",
        "    def __init__(self, color):\n",
        "        self.color = color\n",
        "    \n",
        "    def describe(self):\n",
        "        return f\"This is a {self.color} shape\"\n",
        "\n",
        "class Circle(Shape):\n",
        "    def __init__(self, color, radius):\n",
        "        super().__init__(color)  # Call parent constructor\n",
        "        self.radius = radius\n",
        "    \n",
        "    def describe(self):\n",
        "        # Get basic description from parent, then add to it\n",
        "        base_description = super().describe()\n",
        "        return f\"{base_description} with radius {self.radius}\"\n",
        "\n",
        "# Example usage\n",
        "circle = Circle(\"blue\", 5)\n",
        "print(circle.describe())  # Output: This is a blue shape with radius 5"
      ]
    },
    {
      "cell_type": "markdown",
      "metadata": {},
      "source": [
        "7. **Create a Python class called Animal with a method speak(). Then, create child classes Dog and Cat that inherit from Animal and override the speak() method. Provide an example of using these classes.**"
      ]
    },
    {
      "cell_type": "code",
      "execution_count": 23,
      "metadata": {},
      "outputs": [
        {
          "name": "stdout",
          "output_type": "stream",
          "text": [
            "Animal makes a sound\n",
            "Rex says Woof!\n",
            "Whiskers says Meow!\n"
          ]
        }
      ],
      "source": [
        "class Animal:\n",
        "    def __init__(self, name):\n",
        "        self.name = name\n",
        "    \n",
        "    def speak(self):\n",
        "        return \"Animal makes a sound\"\n",
        "\n",
        "class Dog(Animal):\n",
        "    def speak(self):  # Override speak method\n",
        "        return f\"{self.name} says Woof!\"\n",
        "\n",
        "class Cat(Animal):\n",
        "    def speak(self):  # Override speak method\n",
        "        return f\"{self.name} says Meow!\"\n",
        "\n",
        "# Example usage\n",
        "animals = [\n",
        "    Animal(\"Generic Animal\"),\n",
        "    Dog(\"Rex\"),\n",
        "    Cat(\"Whiskers\")\n",
        "]\n",
        "\n",
        "for animal in animals:\n",
        "    print(animal.speak())\n",
        "\n",
        "# Output:\n",
        "# Generic Animal makes a sound\n",
        "# Rex says Woof!\n",
        "# Whiskers says Meow!"
      ]
    },
    {
      "cell_type": "markdown",
      "metadata": {},
      "source": [
        "8. **Explain the role of the isinstance() function in Python and how it relates to inheritance.**\n",
        "- The isinstance() function in Python checks if an object is an instance of a specified class or any of its subclasses. It's particularly useful \n",
        "in the context of inheritance to determine if an object belongs to a certain class hierarchy."
      ]
    },
    {
      "cell_type": "code",
      "execution_count": 24,
      "metadata": {},
      "outputs": [
        {
          "name": "stdout",
          "output_type": "stream",
          "text": [
            "True\n",
            "True\n",
            "False\n",
            "False\n",
            "True\n"
          ]
        }
      ],
      "source": [
        "class Animal:\n",
        "    pass\n",
        "\n",
        "class Dog(Animal):\n",
        "    pass\n",
        "\n",
        "class Cat(Animal):\n",
        "    pass\n",
        "\n",
        "# Create objects\n",
        "animal = Animal()\n",
        "dog = Dog()\n",
        "cat = Cat()\n",
        "\n",
        "# Check inheritance relationships\n",
        "print(isinstance(dog, Dog))      # True - dog is a Dog\n",
        "print(isinstance(dog, Animal))   # True - Dog inherits from Animal\n",
        "print(isinstance(dog, Cat))      # False - dog is not a Cat\n",
        "print(isinstance(animal, Dog))   # False - parent is not an instance of child\n",
        "\n",
        "# Works with multiple classes too\n",
        "print(isinstance(dog, (Cat, Dog, Animal)))  # True - dog is a Dog"
      ]
    },
    {
      "cell_type": "markdown",
      "metadata": {},
      "source": [
        "9. **What is the purpose of the issubclass() function in Python? Provide an example.**\n",
        "- The issubclass() function checks if a class is a subclass of another class or classes. Unlike isinstance() which works with objects, issubclass() works with class types directly. Syntax: issubclass(class, classinfo)"
      ]
    },
    {
      "cell_type": "code",
      "execution_count": 25,
      "metadata": {},
      "outputs": [
        {
          "name": "stdout",
          "output_type": "stream",
          "text": [
            "True\n",
            "True\n",
            "True\n",
            "False\n",
            "False\n",
            "True\n"
          ]
        }
      ],
      "source": [
        "class Animal:\n",
        "    pass\n",
        "\n",
        "class Mammal(Animal):\n",
        "    pass\n",
        "\n",
        "class Dog(Mammal):\n",
        "    pass\n",
        "\n",
        "class Plant:\n",
        "    pass\n",
        "\n",
        "# Check subclass relationships\n",
        "print(issubclass(Mammal, Animal))  # True - Mammal inherits from Animal\n",
        "print(issubclass(Dog, Animal))     # True - Dog inherits from Animal via Mammal\n",
        "print(issubclass(Dog, Mammal))     # True - Dog inherits directly from Mammal\n",
        "print(issubclass(Animal, Mammal))  # False - parent is not a subclass of child\n",
        "print(issubclass(Plant, Animal))   # False - no inheritance relationship\n",
        "\n",
        "# Check against multiple classes\n",
        "print(issubclass(Dog, (Plant, Animal)))  # True - Dog is a subclass of Animal"
      ]
    },
    {
      "cell_type": "markdown",
      "metadata": {},
      "source": [
        "10. **Discuss the concept of constructor inheritance in Python. How are constructors inherited in child classes?**\n",
        "In Python, constructors (__init__ methods) are inherited like any other method, but they do not automatically call the parent constructor. To properly initialize both the parent and child parts of an object, you need to explicitly call the parent constructor using super().__init__().\n",
        "Key points about constructor inheritance:\n",
        "- Child classes inherit the parent's constructor but don't automatically execute it\n",
        "- Without explicitly calling the parent constructor, parent class attributes won't be initialized\n",
        "- super().__init__() is the recommended way to call the parent constructor\n",
        "- Child constructors typically extend parent constructors by adding new attributes"
      ]
    },
    {
      "cell_type": "code",
      "execution_count": 26,
      "metadata": {},
      "outputs": [
        {
          "name": "stdout",
          "output_type": "stream",
          "text": [
            "Parent constructor called\n",
            "ChildA: x=1, y=2\n",
            "Parent constructor called\n",
            "ChildB constructor called\n",
            "ChildB: x=3, y=4, z=5\n"
          ]
        }
      ],
      "source": [
        "class Parent:\n",
        "    def __init__(self, x, y):\n",
        "        self.x = x\n",
        "        self.y = y\n",
        "        print(\"Parent constructor called\")\n",
        "\n",
        "class ChildA(Parent):\n",
        "    # No __init__ method - will use Parent's constructor as is\n",
        "    pass\n",
        "\n",
        "class ChildB(Parent):\n",
        "    def __init__(self, x, y, z):\n",
        "        # Call parent constructor first\n",
        "        super().__init__(x, y)\n",
        "        # Then initialize child-specific attributes\n",
        "        self.z = z\n",
        "        print(\"ChildB constructor called\")\n",
        "\n",
        "# Examples\n",
        "child_a = ChildA(1, 2)           # Only parent constructor runs\n",
        "print(f\"ChildA: x={child_a.x}, y={child_a.y}\")\n",
        "\n",
        "child_b = ChildB(3, 4, 5)         # Both constructors run\n",
        "print(f\"ChildB: x={child_b.x}, y={child_b.y}, z={child_b.z}\")"
      ]
    },
    {
      "cell_type": "markdown",
      "metadata": {},
      "source": [
        "11. **Create a Python class called Shape with a method area() that calculates the area of a shape. Then, create child classes Circle and Rectangle that inherit from Shape and implement the area() method accordingly. Provide an example.**\n"
      ]
    },
    {
      "cell_type": "code",
      "execution_count": 27,
      "metadata": {},
      "outputs": [
        {
          "name": "stdout",
          "output_type": "stream",
          "text": [
            "Circle area: 78.54\n",
            "Rectangle area: 24\n",
            "This shape has an area of 78.53981633974483 square units\n",
            "This shape has an area of 24 square units\n"
          ]
        }
      ],
      "source": [
        "import math\n",
        "\n",
        "class Shape:\n",
        "    def area(self):\n",
        "        raise NotImplementedError(\"Subclasses must implement this method\")\n",
        "    \n",
        "    def description(self):\n",
        "        return f\"This shape has an area of {self.area()} square units\"\n",
        "\n",
        "class Circle(Shape):\n",
        "    def __init__(self, radius):\n",
        "        self.radius = radius\n",
        "    \n",
        "    def area(self):\n",
        "        return math.pi * self.radius ** 2\n",
        "\n",
        "class Rectangle(Shape):\n",
        "    def __init__(self, width, height):\n",
        "        self.width = width\n",
        "        self.height = height\n",
        "    \n",
        "    def area(self):\n",
        "        return self.width * self.height\n",
        "\n",
        "# Example usage\n",
        "circle = Circle(5)\n",
        "rectangle = Rectangle(4, 6)\n",
        "\n",
        "print(f\"Circle area: {circle.area():.2f}\")  # Output: Circle area: 78.54\n",
        "print(f\"Rectangle area: {rectangle.area()}\")  # Output: Rectangle area: 24\n",
        "\n",
        "print(circle.description())  # Output: This shape has an area of 78.53981633974483 square units\n",
        "print(rectangle.description())  # Output: This shape has an area of 24 square units"
      ]
    },
    {
      "cell_type": "markdown",
      "metadata": {},
      "source": [
        "12. **Explain the use of abstract base classes (ABCs) in Python and how they relate to inheritance. Provide an example using the abc module.**\n",
        " - Abstract Base Classes (ABCs) in Python provide a way to define classes that cannot be instantiated and must be subclassed. They allow you to define methods that must be implemented by subclasses. ABCs enforce a contract that subclasses must follow, ensuring consistent behavior across derived classes."
      ]
    },
    {
      "cell_type": "code",
      "execution_count": 29,
      "metadata": {},
      "outputs": [
        {
          "name": "stdout",
          "output_type": "stream",
          "text": [
            "2023 Tesla Model 3: Electric powered, max speed 150 km/h\n",
            "2023 Toyota Camry: Gasoline powered, max speed 180 km/h\n"
          ]
        }
      ],
      "source": [
        "from abc import ABC, abstractmethod\n",
        "\n",
        "class Vehicle(ABC):\n",
        "    def __init__(self, model, year):\n",
        "        self.model = model\n",
        "        self.year = year\n",
        "    \n",
        "    @abstractmethod\n",
        "    def fuel_type(self):\n",
        "        \"\"\"Return the fuel type - must be implemented by subclasses\"\"\"\n",
        "        pass\n",
        "    \n",
        "    @abstractmethod\n",
        "    def max_speed(self):\n",
        "        \"\"\"Return maximum speed - must be implemented by subclasses\"\"\"\n",
        "        pass\n",
        "    \n",
        "    def description(self):\n",
        "        return f\"{self.year} {self.model}\"\n",
        "\n",
        "class ElectricCar(Vehicle):\n",
        "    def fuel_type(self):\n",
        "        return \"Electric\"\n",
        "    \n",
        "    def max_speed(self):\n",
        "        return 150\n",
        "    \n",
        "    def battery_capacity(self):\n",
        "        return \"75 kWh\"\n",
        "\n",
        "class GasCar(Vehicle):\n",
        "    def fuel_type(self):\n",
        "        return \"Gasoline\"\n",
        "    \n",
        "    def max_speed(self):\n",
        "        return 180\n",
        "\n",
        "# vehicle = Vehicle(\"Generic\", 2023)  # Error! Cannot instantiate abstract class\n",
        "electric_car = ElectricCar(\"Tesla Model 3\", 2023)\n",
        "gas_car = GasCar(\"Toyota Camry\", 2023)\n",
        "\n",
        "print(f\"{electric_car.description()}: {electric_car.fuel_type()} powered, max speed {electric_car.max_speed()} km/h\")\n",
        "print(f\"{gas_car.description()}: {gas_car.fuel_type()} powered, max speed {gas_car.max_speed()} km/h\")"
      ]
    },
    {
      "cell_type": "code",
      "execution_count": 30,
      "metadata": {},
      "outputs": [
        {
          "ename": "TypeError",
          "evalue": "Can't instantiate abstract class Vehicle without an implementation for abstract methods 'fuel_type', 'max_speed'",
          "output_type": "error",
          "traceback": [
            "\u001b[31m---------------------------------------------------------------------------\u001b[39m",
            "\u001b[31mTypeError\u001b[39m                                 Traceback (most recent call last)",
            "\u001b[36mCell\u001b[39m\u001b[36m \u001b[39m\u001b[32mIn[30]\u001b[39m\u001b[32m, line 1\u001b[39m\n\u001b[32m----> \u001b[39m\u001b[32m1\u001b[39m vehicle = \u001b[43mVehicle\u001b[49m\u001b[43m(\u001b[49m\u001b[33;43m\"\u001b[39;49m\u001b[33;43mGeneric\u001b[39;49m\u001b[33;43m\"\u001b[39;49m\u001b[43m,\u001b[49m\u001b[43m \u001b[49m\u001b[32;43m2023\u001b[39;49m\u001b[43m)\u001b[49m\n",
            "\u001b[31mTypeError\u001b[39m: Can't instantiate abstract class Vehicle without an implementation for abstract methods 'fuel_type', 'max_speed'"
          ]
        }
      ],
      "source": [
        "vehicle = Vehicle(\"Generic\", 2023)"
      ]
    },
    {
      "cell_type": "markdown",
      "metadata": {},
      "source": [
        "13. **How can you prevent a child class from modifying certain attributes or methods inherited from a parent class in Python?**"
      ]
    },
    {
      "cell_type": "markdown",
      "metadata": {},
      "source": [
        "- Python doesn't have built-in \"private\" or \"final\" modifiers like some other languages, but We can use these approaches:\n",
        " 1. Name mangling with double underscores: Attributes with names starting with double underscores (__) are name-mangled, making them harder (but not impossible) to access from subclasses.\n",
        " 2. Property decorators: Use property decorators with only getters to create read-only attributes.\n",
        " 3. Documentation and conventions: Use naming conventions (like a single underscore prefix) to indicate attributes that shouldn't be modified."
      ]
    },
    {
      "cell_type": "code",
      "execution_count": 31,
      "metadata": {},
      "outputs": [
        {
          "name": "stdout",
          "output_type": "stream",
          "text": [
            "Couldn't access __private directly\n",
            "Can't access directly\n",
            "10\n"
          ]
        }
      ],
      "source": [
        "class Parent:\n",
        "    def __init__(self):\n",
        "        self.__private = \"Can't access directly\"  # Name mangling\n",
        "        self._protected = \"Don't modify this\"     # Convention\n",
        "        self._value = 10\n",
        "    \n",
        "    @property\n",
        "    def value(self):  # Read-only property\n",
        "        return self._value\n",
        "    \n",
        "    def _internal_method(self):\n",
        "        return \"Internal implementation\"\n",
        "    \n",
        "    def public_method(self):\n",
        "        return \"This can be overridden\"\n",
        "\n",
        "class Child(Parent):\n",
        "    def __init__(self):\n",
        "        super().__init__()\n",
        "        # self.__private = \"New value\"  # Creates a new attribute, doesn't modify parent's\n",
        "        \n",
        "    def access_attempts(self):\n",
        "        try:\n",
        "            return self.__private  # Will fail\n",
        "        except AttributeError:\n",
        "            return \"Couldn't access __private directly\"\n",
        "    \n",
        "    def access_mangled(self):\n",
        "        return self._Parent__private  # Can still access with name mangling pattern\n",
        "        \n",
        "    def public_method(self):\n",
        "        return \"Overridden public method\"\n",
        "\n",
        "# Example\n",
        "child = Child()\n",
        "print(child.access_attempts())  # Output: Couldn't access __private directly\n",
        "print(child.access_mangled())   # Output: Can't access directly\n",
        "print(child.value)              # Output: 10\n",
        "# child.value = 20              # Error - can't set attribute"
      ]
    },
    {
      "cell_type": "markdown",
      "metadata": {},
      "source": [
        "14. **Create a Python class called Employee with attributes name and salary. Then, create a child class Manager that inherits from Employee and adds an attribute department. Provide an example.**\n"
      ]
    },
    {
      "cell_type": "code",
      "execution_count": 32,
      "metadata": {},
      "outputs": [
        {
          "name": "stdout",
          "output_type": "stream",
          "text": [
            "Employee: John Smith, Salary: $5000\n",
            "Employee: Sarah Johnson, Salary: $8000, Department: Engineering\n",
            "Team members: Alex Chen, Maria Garcia\n"
          ]
        }
      ],
      "source": [
        "class Employee:\n",
        "    def __init__(self, name, salary):\n",
        "        self.name = name\n",
        "        self.salary = salary\n",
        "    \n",
        "    def display_info(self):\n",
        "        return f\"Employee: {self.name}, Salary: ${self.salary}\"\n",
        "    \n",
        "    def get_annual_salary(self):\n",
        "        return self.salary * 12\n",
        "\n",
        "class Manager(Employee):\n",
        "    def __init__(self, name, salary, department):\n",
        "        super().__init__(name, salary)\n",
        "        self.department = department\n",
        "        self.team = []\n",
        "    \n",
        "    def display_info(self):\n",
        "        employee_info = super().display_info()\n",
        "        return f\"{employee_info}, Department: {self.department}\"\n",
        "    \n",
        "    def add_team_member(self, employee):\n",
        "        if isinstance(employee, Employee) and not isinstance(employee, Manager):\n",
        "            self.team.append(employee)\n",
        "            return f\"Added {employee.name} to team\"\n",
        "        return \"Only non-manager employees can be added to the team\"\n",
        "    \n",
        "    def display_team(self):\n",
        "        if not self.team:\n",
        "            return \"No team members yet\"\n",
        "        team_info = [employee.name for employee in self.team]\n",
        "        return f\"Team members: {', '.join(team_info)}\"\n",
        "\n",
        "# Example usage\n",
        "employee = Employee(\"John Smith\", 5000)\n",
        "manager = Manager(\"Sarah Johnson\", 8000, \"Engineering\")\n",
        "\n",
        "print(employee.display_info())  # Output: Employee: John Smith, Salary: $5000\n",
        "print(manager.display_info())   # Output: Employee: Sarah Johnson, Salary: $8000, Department: Engineering\n",
        "\n",
        "# Add team members to manager\n",
        "dev1 = Employee(\"Alex Chen\", 4500)\n",
        "dev2 = Employee(\"Maria Garcia\", 4800)\n",
        "\n",
        "manager.add_team_member(dev1)\n",
        "manager.add_team_member(dev2)\n",
        "print(manager.display_team())  # Output: Team members: Alex Chen, Maria Garcia"
      ]
    },
    {
      "cell_type": "markdown",
      "metadata": {},
      "source": [
        "15. **Discuss the concept of method overloading in Python inheritance. How does it differ from method overriding?**\n",
        "- **Method Overloading vs. Method Overriding**: Method overloading refers to defining multiple methods with the same name but different parameters (number, type, or order). Python doesn't support traditional method overloading like some other languages (Java, C++). Method overriding is providing a new implementation for a method already defined in a parent class.\n",
        "Key differences:\n",
        "1. Method overloading concerns multiple methods with the same name in the same class\n",
        "2. Method overriding concerns the same method in parent and child classes\n",
        "3. Python doesn't natively support overloading but simulates it with default parameters and variable arguments"
      ]
    },
    {
      "cell_type": "code",
      "execution_count": 33,
      "metadata": {},
      "outputs": [
        {
          "name": "stdout",
          "output_type": "stream",
          "text": [
            "3\n",
            "10\n",
            "5\n",
            "10\n",
            "30\n"
          ]
        }
      ],
      "source": [
        "# Method overriding - fully supported in Python\n",
        "class Parent:\n",
        "    def greet(self):\n",
        "        return \"Hello from Parent\"\n",
        "\n",
        "class Child(Parent):\n",
        "    def greet(self):  # Overriding\n",
        "        return \"Hello from Child\"\n",
        "\n",
        "# Simulating method overloading in Python\n",
        "class Calculator:\n",
        "    def add(self, *args):\n",
        "        # Flexible number of arguments\n",
        "        return sum(args)\n",
        "    \n",
        "    def multiply(self, a, b=1, c=1):\n",
        "        # Default parameters\n",
        "        return a * b * c\n",
        "\n",
        "# Examples\n",
        "calc = Calculator()\n",
        "print(calc.add(1, 2))       # Output: 3\n",
        "print(calc.add(1, 2, 3, 4)) # Output: 10\n",
        "\n",
        "print(calc.multiply(5))          # Output: 5  (using defaults for b and c)\n",
        "print(calc.multiply(5, 2))       # Output: 10 (using default for c)\n",
        "print(calc.multiply(5, 2, 3))    # Output: 30 (all parameters specified)"
      ]
    },
    {
      "cell_type": "markdown",
      "metadata": {},
      "source": [
        "16. **Explain the purpose of the __init__() method in Python inheritance and how it is utilized in child classes.**\n",
        "- The __init__() method in Python serves as the constructor for a class, initializing the object's attributes when it's created. In the context of inheritance, it has several important purposes: In the parent class, it establishes the base attributes that all derived classes will inherit\n",
        "In child classes, it typically: Calls the parent's __init__() to initialize inherited attributes. Initializes additional attributes specific to the child class. May override or customize how parent attributes are initialized\n",
        "- A child class can:\n",
        " 1. Use the parent's __init__() as is (if no __init__() is defined in the child)\n",
        " 2. Completely override the parent's __init__() (not calling the parent's version)\n",
        " 3. Extend the parent's __init__() (calling the parent's version and adding more functionality)"
      ]
    },
    {
      "cell_type": "code",
      "execution_count": 34,
      "metadata": {},
      "outputs": [
        {
          "name": "stdout",
          "output_type": "stream",
          "text": [
            "E-book: $9.99 - In stock - 2.5MB\n",
            "Notebook: $4.99 - In stock - Weight: 0.3kg, Inventory: 10\n",
            "Fountain Pen: $24.99 - Out of stock - Weight: 0.1kg, Inventory: 0\n"
          ]
        }
      ],
      "source": [
        "class Product:\n",
        "    def __init__(self, name, price):\n",
        "        self.name = name\n",
        "        self.price = price\n",
        "        self.in_stock = True\n",
        "    \n",
        "    def display(self):\n",
        "        status = \"In stock\" if self.in_stock else \"Out of stock\"\n",
        "        return f\"{self.name}: ${self.price} - {status}\"\n",
        "\n",
        "class DigitalProduct(Product):\n",
        "    def __init__(self, name, price, file_size):\n",
        "        # Call parent constructor to initialize name, price, and in_stock\n",
        "        super().__init__(name, price)\n",
        "        # Add child-specific attribute\n",
        "        self.file_size = file_size\n",
        "        # Digital products are always in stock\n",
        "        self.in_stock = True\n",
        "    \n",
        "    def display(self):\n",
        "        basic_info = super().display()\n",
        "        return f\"{basic_info} - {self.file_size}MB\"\n",
        "\n",
        "class PhysicalProduct(Product):\n",
        "    def __init__(self, name, price, weight, inventory_count=0):\n",
        "        # Call parent constructor\n",
        "        super().__init__(name, price)\n",
        "        # Add child-specific attributes\n",
        "        self.weight = weight\n",
        "        self.inventory_count = inventory_count\n",
        "        # Override the in_stock value based on inventory\n",
        "        self.in_stock = inventory_count > 0\n",
        "    \n",
        "    def display(self):\n",
        "        basic_info = super().display()\n",
        "        return f\"{basic_info} - Weight: {self.weight}kg, Inventory: {self.inventory_count}\"\n",
        "\n",
        "# Examples\n",
        "digital = DigitalProduct(\"E-book\", 9.99, 2.5)\n",
        "physical = PhysicalProduct(\"Notebook\", 4.99, 0.3, 10)\n",
        "out_of_stock = PhysicalProduct(\"Fountain Pen\", 24.99, 0.1, 0)\n",
        "\n",
        "print(digital.display())    # E-book: $9.99 - In stock - 2.5MB\n",
        "print(physical.display())   # Notebook: $4.99 - In stock - Weight: 0.3kg, Inventory: 10\n",
        "print(out_of_stock.display()) # Fountain Pen: $24.99 - Out of stock - Weight: 0.1kg, Inventory: 0"
      ]
    },
    {
      "cell_type": "markdown",
      "metadata": {},
      "source": [
        "17. **Create a Python class called Bird with a method fly(). Then, create child classes Eagle and Sparrow that inherit from Bird and implement the fly() method differently. Provide an example of using these classes.**\n"
      ]
    },
    {
      "cell_type": "code",
      "execution_count": 35,
      "metadata": {},
      "outputs": [
        {
          "name": "stdout",
          "output_type": "stream",
          "text": [
            "Bald Eagle has a wingspan of 220cm\n",
            "Bald Eagle is soaring high in the sky, searching for prey over Mountain Range\n",
            "\n",
            "House Sparrow has a wingspan of 22cm\n",
            "House Sparrow is flying quickly between trees and buildings around City Park\n",
            "\n",
            "Bald Eagle swoops down to catch prey\n",
            "House Sparrow is chirping happily\n"
          ]
        }
      ],
      "source": [
        "class Bird:\n",
        "    def __init__(self, name, wingspan):\n",
        "        self.name = name\n",
        "        self.wingspan = wingspan  # in centimeters\n",
        "    \n",
        "    def fly(self):\n",
        "        return f\"{self.name} is flying\"\n",
        "    \n",
        "    def describe(self):\n",
        "        return f\"{self.name} has a wingspan of {self.wingspan}cm\"\n",
        "\n",
        "class Eagle(Bird):\n",
        "    def __init__(self, name, wingspan, hunting_area):\n",
        "        super().__init__(name, wingspan)\n",
        "        self.hunting_area = hunting_area\n",
        "    \n",
        "    def fly(self):\n",
        "        return f\"{self.name} is soaring high in the sky, searching for prey over {self.hunting_area}\"\n",
        "    \n",
        "    def hunt(self):\n",
        "        return f\"{self.name} swoops down to catch prey\"\n",
        "\n",
        "class Sparrow(Bird):\n",
        "    def __init__(self, name, wingspan, nest_location):\n",
        "        super().__init__(name, wingspan)\n",
        "        self.nest_location = nest_location\n",
        "    \n",
        "    def fly(self):\n",
        "        return f\"{self.name} is flying quickly between trees and buildings around {self.nest_location}\"\n",
        "    \n",
        "    def chirp(self):\n",
        "        return f\"{self.name} is chirping happily\"\n",
        "\n",
        "# Example usage\n",
        "eagle = Eagle(\"Bald Eagle\", 220, \"Mountain Range\")\n",
        "sparrow = Sparrow(\"House Sparrow\", 22, \"City Park\")\n",
        "\n",
        "# Using the fly method (polymorphism)\n",
        "birds = [eagle, sparrow]\n",
        "for bird in birds:\n",
        "    print(bird.describe())\n",
        "    print(bird.fly())\n",
        "    print()\n",
        "\n",
        "# Using class-specific methods\n",
        "print(eagle.hunt())\n",
        "print(sparrow.chirp())"
      ]
    },
    {
      "cell_type": "markdown",
      "metadata": {},
      "source": [
        "18. **What is the \"diamond problem\" in multiple inheritance, and how does Python address it?**\n",
        "- The diamond problem occurs in multiple inheritance when a class inherits from two classes that have a common ancestor. This creates a \"diamond\" shape in the inheritance diagram and raises the question of which implementation to use when the same method is defined in multiple parent classes.\n",
        "- Python addresses this problem using the C3 Linearization algorithm, which determines the Method Resolution Order (MRO). The MRO is a linear ordering of base classes that Python follows when looking for methods. You can view a class's MRO using the __mro__ attribute or the mro() method."
      ]
    },
    {
      "cell_type": "code",
      "execution_count": 36,
      "metadata": {},
      "outputs": [
        {
          "name": "stdout",
          "output_type": "stream",
          "text": [
            "(<class '__main__.D'>, <class '__main__.B'>, <class '__main__.C'>, <class '__main__.A'>, <class 'object'>)\n",
            "Method from B\n",
            "(<class '__main__.D2'>, <class '__main__.C'>, <class '__main__.B'>, <class '__main__.A'>, <class 'object'>)\n",
            "Method from C\n"
          ]
        }
      ],
      "source": [
        "class A:\n",
        "    def method(self):\n",
        "        return \"Method from A\"\n",
        "\n",
        "class B(A):\n",
        "    def method(self):\n",
        "        return \"Method from B\"\n",
        "\n",
        "class C(A):\n",
        "    def method(self):\n",
        "        return \"Method from C\"\n",
        "\n",
        "class D(B, C):\n",
        "    pass  # No method override\n",
        "\n",
        "# View the MRO\n",
        "print(D.__mro__)  # Output: (<class '__main__.D'>, <class '__main__.B'>, <class '__main__.C'>, <class '__main__.A'>, <class 'object'>)\n",
        "\n",
        "# See which method gets called\n",
        "d = D()\n",
        "print(d.method())  # Output: Method from B (follows MRO)\n",
        "\n",
        "# Method resolution can be controlled by changing the inheritance order\n",
        "class D2(C, B):\n",
        "    pass  # Changed inheritance order\n",
        "\n",
        "print(D2.__mro__)  # Output: (<class '__main__.D2'>, <class '__main__.C'>, <class '__main__.B'>, <class '__main__.A'>, <class 'object'>)\n",
        "d2 = D2()\n",
        "print(d2.method())  # Output: Method from C (follows new MRO)"
      ]
    },
    {
      "cell_type": "markdown",
      "metadata": {},
      "source": [
        "19. **Discuss the concept of \"is-a\" and \"has-a\" relationships in inheritance, and provide examples of each.**"
      ]
    },
    {
      "cell_type": "markdown",
      "metadata": {},
      "source": [
        "1. In object-oriented programming, there are two fundamental types of relationships between classes:\n",
        "**\"Is-a\" Relationship (Inheritance)**:\n",
        "- Represents an inheritance relationship where a child class is a specialized version of a parent class.\n",
        "- Modeled using inheritance in Python.\n",
        "- Example: A Car \"is-a\" Vehicle, a Dog \"is-a\" Animal\n",
        "\n",
        "**\"Has-a\" Relationship (Composition)**:\n",
        "- Represents a composition where a class contains objects of other classes as attributes.\n",
        "- Modeled using instance variables in Python.\n",
        "- Example: A Car \"has-a\" Engine, a Dog \"has-a\" Tail"
      ]
    },
    {
      "cell_type": "code",
      "execution_count": 37,
      "metadata": {},
      "outputs": [
        {
          "name": "stdout",
          "output_type": "stream",
          "text": [
            "False\n",
            "Tesla: 75kW motor activated\n",
            "Toyota: Gasoline engine started\n"
          ]
        }
      ],
      "source": [
        "# Is-a relationship (inheritance)\n",
        "class Vehicle:\n",
        "    def __init__(self, color):\n",
        "        self.color = color\n",
        "    \n",
        "    def move(self):\n",
        "        return \"Moving\"\n",
        "\n",
        "class Car(Vehicle):  # Car \"is-a\" Vehicle\n",
        "    def __init__(self, color, brand):\n",
        "        super().__init__(color)\n",
        "        self.brand = brand\n",
        "    \n",
        "    def move(self):\n",
        "        return \"Driving on the road\"\n",
        "\n",
        "# Has-a relationship (composition)\n",
        "class Engine:\n",
        "    def __init__(self, type):\n",
        "        self.type = type\n",
        "    \n",
        "    def start(self):\n",
        "        return f\"{self.type} engine started\"\n",
        "\n",
        "class ElectricMotor:\n",
        "    def __init__(self, power):\n",
        "        self.power = power\n",
        "    \n",
        "    def start(self):\n",
        "        return f\"{self.power}kW motor activated\"\n",
        "\n",
        "class Car:\n",
        "    def __init__(self, brand, engine):\n",
        "        self.brand = brand\n",
        "        self.engine = engine  # Car \"has-a\" Engine (composition)\n",
        "    \n",
        "    def start_engine(self):\n",
        "        return f\"{self.brand}: {self.engine.start()}\"\n",
        "\n",
        "# Examples\n",
        "# Is-a relationship\n",
        "vehicle = Vehicle(\"Blue\")\n",
        "car = Car(\"Red\", \"Toyota\")\n",
        "print(isinstance(car, Vehicle))  # True - car \"is-a\" Vehicle\n",
        "\n",
        "# Has-a relationship\n",
        "gasoline_engine = Engine(\"Gasoline\")\n",
        "electric_motor = ElectricMotor(75)\n",
        "\n",
        "tesla = Car(\"Tesla\", electric_motor)\n",
        "toyota = Car(\"Toyota\", gasoline_engine)\n",
        "\n",
        "print(tesla.start_engine())  # Tesla: 75kW motor activated\n",
        "print(toyota.start_engine())  # Toyota: Gasoline engine started"
      ]
    },
    {
      "cell_type": "markdown",
      "metadata": {},
      "source": [
        "20. **Create a Python class hierarchy for a university system. Start with a base class Person and create child classes Student and Professor, each with their own attributes and methods. Provide an example of using these classes in a university context.**"
      ]
    },
    {
      "cell_type": "code",
      "execution_count": 38,
      "metadata": {},
      "outputs": [
        {
          "name": "stdout",
          "output_type": "stream",
          "text": [
            "Course Details:\n",
            "Course: Introduction to Programming (CS101), Credits: 3, Instructor: Dr. Jane Doe, Students: 1\n",
            "Course: English Literature (ENG205), Credits: 4, Instructor: Dr. Michael Brown, Students: 2\n",
            "Course: Calculus I (MATH101), Credits: 4, Instructor: Dr. Jane Doe, Students: 1\n",
            "\n",
            "Professor Details:\n",
            "Name: Dr. Jane Doe, Age: 45, ID: P54321, Department: Computer Science, Specialization: Algorithms\n",
            "Courses taught: Introduction to Programming, Calculus I\n",
            "Name: Dr. Michael Brown, Age: 52, ID: P98765, Department: English, Specialization: Victorian Literature\n",
            "Courses taught: English Literature\n",
            "\n",
            "Student Details:\n",
            "Name: Alice Smith, Age: 20, ID: S12345, Major: Computer Science, Year: 2\n",
            "Enrolled courses: Introduction to Programming, Calculus I, English Literature\n",
            "Name: Bob Johnson, Age: 22, ID: S67890, Major: English, Year: 3\n",
            "Enrolled courses: English Literature\n",
            "\n",
            "Student Grades:\n",
            "Alice Smith's grades:\n",
            "  Introduction to Programming: A\n",
            "  Calculus I: B+\n",
            "  English Literature: A-\n",
            "Bob Johnson's grades:\n",
            "  English Literature: A\n",
            "\n",
            "Department Details:\n",
            "Department: Computer Science, Chair: Dr. Jane Doe, Faculty: 1, Courses: 2\n",
            "Department: English, Chair: Vacant, Faculty: 1, Courses: 1\n"
          ]
        }
      ],
      "source": [
        "class Person:\n",
        "    def __init__(self, name, age, id_number):\n",
        "        self.name = name\n",
        "        self.age = age\n",
        "        self.id_number = id_number\n",
        "    \n",
        "    def get_details(self):\n",
        "        return f\"Name: {self.name}, Age: {self.age}, ID: {self.id_number}\"\n",
        "\n",
        "class Student(Person):\n",
        "    def __init__(self, name, age, id_number, major, year):\n",
        "        super().__init__(name, age, id_number)\n",
        "        self.major = major\n",
        "        self.year = year\n",
        "        self.enrolled_courses = []\n",
        "        self.grades = {}\n",
        "    \n",
        "    def enroll(self, course):\n",
        "        self.enrolled_courses.append(course)\n",
        "        self.grades[course.course_code] = None\n",
        "        return f\"{self.name} enrolled in {course.name}\"\n",
        "    \n",
        "    def get_grade(self, course_code):\n",
        "        if course_code in self.grades:\n",
        "            grade = self.grades[course_code]\n",
        "            if grade is None:\n",
        "                return \"Not graded yet\"\n",
        "            return f\"Grade for {course_code}: {grade}\"\n",
        "        return f\"Not enrolled in {course_code}\"\n",
        "    \n",
        "    def get_details(self):\n",
        "        basic_info = super().get_details()\n",
        "        return f\"{basic_info}, Major: {self.major}, Year: {self.year}\"\n",
        "\n",
        "class Professor(Person):\n",
        "    def __init__(self, name, age, id_number, department, specialization):\n",
        "        super().__init__(name, age, id_number)\n",
        "        self.department = department\n",
        "        self.specialization = specialization\n",
        "        self.courses_taught = []\n",
        "    \n",
        "    def assign_course(self, course):\n",
        "        self.courses_taught.append(course)\n",
        "        course.instructor = self\n",
        "        return f\"{self.name} assigned to teach {course.name}\"\n",
        "    \n",
        "    def grade_student(self, student, course_code, grade):\n",
        "        if course_code in [course.course_code for course in self.courses_taught]:\n",
        "            if course_code in student.grades:\n",
        "                student.grades[course_code] = grade\n",
        "                return f\"Graded {student.name} with {grade} in {course_code}\"\n",
        "            return f\"{student.name} is not enrolled in {course_code}\"\n",
        "        return f\"You are not teaching {course_code}\"\n",
        "    \n",
        "    def get_details(self):\n",
        "        basic_info = super().get_details()\n",
        "        return f\"{basic_info}, Department: {self.department}, Specialization: {self.specialization}\"\n",
        "\n",
        "class Course:\n",
        "    def __init__(self, name, course_code, credits):\n",
        "        self.name = name\n",
        "        self.course_code = course_code\n",
        "        self.credits = credits\n",
        "        self.instructor = None\n",
        "        self.students = []\n",
        "    \n",
        "    def add_student(self, student):\n",
        "        self.students.append(student)\n",
        "        return student.enroll(self)\n",
        "    \n",
        "    def get_details(self):\n",
        "        instructor_name = self.instructor.name if self.instructor else \"TBA\"\n",
        "        return f\"Course: {self.name} ({self.course_code}), Credits: {self.credits}, Instructor: {instructor_name}, Students: {len(self.students)}\"\n",
        "\n",
        "# Creating courses\n",
        "programming = Course(\"Introduction to Programming\", \"CS101\", 3)\n",
        "literature = Course(\"English Literature\", \"ENG205\", 4)\n",
        "calculus = Course(\"Calculus I\", \"MATH101\", 4)\n",
        "\n",
        "# Creating people\n",
        "student1 = Student(\"Alice Smith\", 20, \"S12345\", \"Computer Science\", 2)\n",
        "student2 = Student(\"Bob Johnson\", 22, \"S67890\", \"English\", 3)\n",
        "professor1 = Professor(\"Dr. Jane Doe\", 45, \"P54321\", \"Computer Science\", \"Algorithms\")\n",
        "professor2 = Professor(\"Dr. Michael Brown\", 52, \"P98765\", \"English\", \"Victorian Literature\")\n",
        "\n",
        "# Assigning professors to courses\n",
        "professor1.assign_course(programming)\n",
        "professor1.assign_course(calculus)\n",
        "professor2.assign_course(literature)\n",
        "\n",
        "# Enrolling students in courses\n",
        "programming.add_student(student1)\n",
        "calculus.add_student(student1)\n",
        "literature.add_student(student1)\n",
        "literature.add_student(student2)\n",
        "\n",
        "# Displaying details\n",
        "print(\"Course Details:\")\n",
        "for course in [programming, literature, calculus]:\n",
        "    print(course.get_details())\n",
        "\n",
        "print(\"\\nProfessor Details:\")\n",
        "for professor in [professor1, professor2]:\n",
        "    print(professor.get_details())\n",
        "    print(f\"Courses taught: {', '.join([course.name for course in professor.courses_taught])}\")\n",
        "\n",
        "print(\"\\nStudent Details:\")\n",
        "for student in [student1, student2]:\n",
        "    print(student.get_details())\n",
        "    print(f\"Enrolled courses: {', '.join([course.name for course in student.enrolled_courses])}\")\n",
        "\n",
        "# Grading students\n",
        "professor1.grade_student(student1, \"CS101\", \"A\")\n",
        "professor1.grade_student(student1, \"MATH101\", \"B+\")\n",
        "professor2.grade_student(student1, \"ENG205\", \"A-\")\n",
        "professor2.grade_student(student2, \"ENG205\", \"A\")\n",
        "\n",
        "# Checking grades\n",
        "print(\"\\nStudent Grades:\")\n",
        "print(f\"{student1.name}'s grades:\")\n",
        "for course in student1.enrolled_courses:\n",
        "    print(f\"  {course.name}: {student1.grades[course.course_code]}\")\n",
        "\n",
        "print(f\"{student2.name}'s grades:\")\n",
        "for course in student2.enrolled_courses:\n",
        "    print(f\"  {course.name}: {student2.grades[course.course_code]}\")\n",
        "\n",
        "# Adding a new feature - department\n",
        "class Department:\n",
        "    def __init__(self, name, chair=None):\n",
        "        self.name = name\n",
        "        self.chair = chair\n",
        "        self.professors = []\n",
        "        self.courses = []\n",
        "    \n",
        "    def add_professor(self, professor):\n",
        "        if professor.department == self.name:\n",
        "            self.professors.append(professor)\n",
        "            return f\"{professor.name} added to {self.name} department\"\n",
        "        return f\"{professor.name} belongs to {professor.department}, not {self.name}\"\n",
        "    \n",
        "    def add_course(self, course):\n",
        "        self.courses.append(course)\n",
        "        return f\"{course.name} added to {self.name} department offerings\"\n",
        "    \n",
        "    def set_chair(self, professor):\n",
        "        if professor in self.professors:\n",
        "            self.chair = professor\n",
        "            return f\"{professor.name} appointed as chair of {self.name}\"\n",
        "        return f\"{professor.name} must be a member of {self.name} department\"\n",
        "    \n",
        "    def get_details(self):\n",
        "        chair_name = self.chair.name if self.chair else \"Vacant\"\n",
        "        return f\"Department: {self.name}, Chair: {chair_name}, Faculty: {len(self.professors)}, Courses: {len(self.courses)}\"\n",
        "\n",
        "# Creating departments\n",
        "cs_dept = Department(\"Computer Science\")\n",
        "english_dept = Department(\"English\")\n",
        "\n",
        "# Adding professors and courses to departments\n",
        "cs_dept.add_professor(professor1)\n",
        "english_dept.add_professor(professor2)\n",
        "\n",
        "cs_dept.add_course(programming)\n",
        "cs_dept.add_course(calculus)\n",
        "english_dept.add_course(literature)\n",
        "\n",
        "# Setting department chairs\n",
        "cs_dept.set_chair(professor1)\n",
        "\n",
        "# Displaying department details\n",
        "print(\"\\nDepartment Details:\")\n",
        "for dept in [cs_dept, english_dept]:\n",
        "    print(dept.get_details())"
      ]
    },
    {
      "cell_type": "markdown",
      "metadata": {},
      "source": [
        "# **ENCAPSULATION (1 - 20)**"
      ]
    },
    {
      "cell_type": "markdown",
      "metadata": {},
      "source": [
        "1. Explain the concept of encapsulation in Python. What is its role in object-oriented programming?\n",
        "2. Describe the key principles of encapsulation, including access control and data hiding.\n",
        "3. How can you achieve encapsulation in Python classes? Provide an example.\n",
        "4. Discuss the difference between public, private, and protected access modifiers in Python.\n",
        "5. Create a Python class called `Person` with a private attribute `__name`. Provide methods to get and set the\n",
        "name attribute.\n",
        "6. Explain the purpose of getter and setter methods in encapsulation. Provide examples.\n",
        "7. What is name mangling in Python, and how does it affect encapsulation?\n",
        "8. Create a Python class called `BankAccount` with private attributes for the account balance (`__balance`) and account number (`__account_number`). Provide methods for depositing and withdrawing money.\n",
        "9. Discuss the advantages of encapsulation in terms of code maintainability and security.\n",
        "10. How can you access private attributes in Python? Provide an example demonstrating the use of name\n",
        "mangling.\n",
        "11. Create a Python class hierarchy for a school system, including classes for students, teachers, and courses,\n",
        "and implement encapsulation principles to protect sensitive information.\n",
        "12. Explain the concept of property decorators in Python and how they relate to encapsulation.\n",
        "13. What is data hiding, and why is it important in encapsulation? Provide examples.\n",
        "14. Create a Python class called `Employee` with private attributes for salary (`__salary`) and employee ID (`__employee_id`). Provide a method to calculate yearly bonuses.\n",
        "15. Discuss the use of accessors and mutators in encapsulation. How do they help maintain control over\n",
        "attribute access?\n",
        "16. What are the potential drawbacks or disadvantages of using encapsulation in Python?\n",
        "17. Create a Python class for a library system that encapsulates book information, including titles, authors,\n",
        "and availability status.\n",
        "18. Explain how encapsulation enhances code reusability and modularity in Python programs.\n",
        "19. Describe the concept of information hiding in encapsulation. Why is it essential in software development?\n",
        "20. Create a Python class called `Customer` with private attributes for customer details like name, address,\n",
        "and contact information. Implement encapsulation to ensure data integrity and security."
      ]
    },
    {
      "cell_type": "markdown",
      "metadata": {},
      "source": [
        "1. **Concept of Encapsulation in Python**: Encapsulation is a fundamental principle in object-oriented programming that involves bundling data (attributes) and methods that operate on that data into a single unit called a class. This concept allows for data hiding, restricting direct access to some of an object's components. In Python's OOP context, encapsulation:\n",
        "- Restricts access to internal data.\n",
        "- Prevents unintended modification of data.\n",
        "- Creates a clear interface for interacting with objects.\n",
        "- Isolates implementation details from external code\n",
        "\n",
        "2. **Key Principles of Encapsulation**: The key principles of encapsulation include:\n",
        "- **Data Hiding**: Concealing the internal representation of an object from the outside world\n",
        "- **Access Control**: Regulating access to class attributes and methods through access modifiers\n",
        "- **Implementation Hiding**: Exposing only necessary parts of the class while hiding complex implementations\n",
        "- **Abstraction Boundary**: Creating a clear separation between what users of a class need to know and the internal workings\n",
        "\n",
        "3. **Achieving Encapsulation in Python Classes**: Python implements encapsulation through naming conventions for attributes and methods:"
      ]
    },
    {
      "cell_type": "code",
      "execution_count": 39,
      "metadata": {},
      "outputs": [],
      "source": [
        "class Car:\n",
        "    def __init__(self, make, model, year):\n",
        "        self.make = make      # Public attribute\n",
        "        self._model = model   # Protected attribute (convention)\n",
        "        self.__year = year    # Private attribute (name mangling)\n",
        "    \n",
        "    def get_year(self):\n",
        "        return self.__year\n",
        "    \n",
        "    def set_year(self, year):\n",
        "        if year > 1900:  # Data validation\n",
        "            self.__year = year\n",
        "        else:\n",
        "            print(\"Invalid year\")"
      ]
    },
    {
      "cell_type": "markdown",
      "metadata": {},
      "source": [
        "4. **Public, Private, and Protected Access Modifiers in Python**: Python uses naming conventions rather than strict access modifiers:\n",
        "- **Public**: No prefix (e.g., self.name). Accessible from anywhere\n",
        "- **Protected**: Single underscore prefix (e.g., self._name). Convention indicating the attribute should not be accessed directly Not enforced by the language but a signal to developers.\n",
        "- **Private**: Double underscore prefix (e.g., self.__name). Name mangling occurs (e.g., _ClassName__name). Helps prevent accidental override in subclasses. More difficult but not impossible to access from outside"
      ]
    },
    {
      "cell_type": "code",
      "execution_count": 40,
      "metadata": {},
      "outputs": [
        {
          "name": "stdout",
          "output_type": "stream",
          "text": [
            "Alice\n",
            "Bob\n"
          ]
        }
      ],
      "source": [
        "### Question 5:\n",
        "class Person:\n",
        "    def __init__(self, name):\n",
        "        self.__name = name  # Private attribute\n",
        "    \n",
        "    def get_name(self):\n",
        "        return self.__name\n",
        "    \n",
        "    def set_name(self, name):\n",
        "        if isinstance(name, str) and len(name) > 0:\n",
        "            self.__name = name\n",
        "        else:\n",
        "            print(\"Invalid name\")\n",
        "\n",
        "# Usage\n",
        "person = Person(\"Alice\")\n",
        "print(person.get_name())  # Output: Alice\n",
        "person.set_name(\"Bob\")\n",
        "print(person.get_name())  # Output: Bob"
      ]
    },
    {
      "cell_type": "markdown",
      "metadata": {},
      "source": [
        "6. **Purpose of Getter and Setter Methods**: Getter and setter methods (accessors and mutators) serve several purposes:\n",
        "- Control access to private attributes.\n",
        "- Validate data before assigning to attributes.\n",
        "- Perform additional operations when getting or setting values.\n",
        "- Maintain encapsulation while providing a controlled interface"
      ]
    },
    {
      "cell_type": "code",
      "execution_count": 41,
      "metadata": {},
      "outputs": [],
      "source": [
        "class Temperature:\n",
        "    def __init__(self, celsius=0):\n",
        "        self.__celsius = celsius\n",
        "    \n",
        "    def get_celsius(self):\n",
        "        return self.__celsius\n",
        "    \n",
        "    def set_celsius(self, value):\n",
        "        if value >= -273.15:  # Absolute zero check\n",
        "            self.__celsius = value\n",
        "        else:\n",
        "            raise ValueError(\"Temperature below absolute zero!\")\n",
        "    \n",
        "    def get_fahrenheit(self):\n",
        "        return (self.__celsius * 9/5) + 32\n",
        "    \n",
        "    def set_fahrenheit(self, value):\n",
        "        self.set_celsius((value - 32) * 5/9)"
      ]
    },
    {
      "cell_type": "markdown",
      "metadata": {},
      "source": [
        "7. **Name Mangling in Python**: Name mangling is Python's mechanism for implementing private attributes and methods. When an identifier starts with double underscores (__), Python automatically renames it to _ClassName__identifier.\n",
        "This serves two purposes:\n",
        "- It helps prevent accidental access from outside the class.\n",
        "- It helps avoid name collisions in inheritance hierarchies."
      ]
    },
    {
      "cell_type": "code",
      "execution_count": 42,
      "metadata": {},
      "outputs": [
        {
          "name": "stdout",
          "output_type": "stream",
          "text": [
            "I'm private\n"
          ]
        }
      ],
      "source": [
        "class Example:\n",
        "    def __init__(self):\n",
        "        self.__private = \"I'm private\"\n",
        "\n",
        "e = Example()\n",
        "# print(e.__private)  # AttributeError\n",
        "print(e._Example__private)  # Works, outputs: I'm private"
      ]
    },
    {
      "cell_type": "code",
      "execution_count": 43,
      "metadata": {},
      "outputs": [
        {
          "name": "stdout",
          "output_type": "stream",
          "text": [
            "1300\n"
          ]
        }
      ],
      "source": [
        "### Question 8:\n",
        "class BankAccount:\n",
        "    def __init__(self, account_number, initial_balance=0):\n",
        "        self.__account_number = account_number\n",
        "        self.__balance = initial_balance\n",
        "    \n",
        "    def get_account_number(self):\n",
        "        return self.__account_number\n",
        "    \n",
        "    def get_balance(self):\n",
        "        return self.__balance\n",
        "    \n",
        "    def deposit(self, amount):\n",
        "        if amount > 0:\n",
        "            self.__balance += amount\n",
        "            return True\n",
        "        return False\n",
        "    \n",
        "    def withdraw(self, amount):\n",
        "        if 0 < amount <= self.__balance:\n",
        "            self.__balance -= amount\n",
        "            return True\n",
        "        return False\n",
        "\n",
        "# Usage\n",
        "account = BankAccount(\"12345\", 1000)\n",
        "account.deposit(500)  # Balance: 1500\n",
        "account.withdraw(200)  # Balance: 1300\n",
        "print(account.get_balance())  # Output: 1300"
      ]
    },
    {
      "cell_type": "markdown",
      "metadata": {},
      "source": [
        "9. **Advantages of Encapsulation**: Encapsulation offers several benefits:\n",
        "- Improved Code Maintainability: Changes to internal implementation don't affect external code Centralized data validation Easier debugging\n",
        "- Enhanced Security: Protection against accidental or malicious modification. Control over data access and modification.\n",
        "- Better Code Organization: Clear interfaces between components. Logical grouping of related functionality. Reduced complexity for users of the class.\n",
        "\n",
        "10. **Accessing Private Attributes with Name Mangling**: Private attributes can be accessed using name mangling:"
      ]
    },
    {
      "cell_type": "code",
      "execution_count": 44,
      "metadata": {},
      "outputs": [
        {
          "name": "stdout",
          "output_type": "stream",
          "text": [
            "1234\n"
          ]
        }
      ],
      "source": [
        "class Secret:\n",
        "    def __init__(self):\n",
        "        self.__password = \"1234\"\n",
        "\n",
        "secret = Secret()\n",
        "# Direct access fails\n",
        "# print(secret.__password)  # AttributeError\n",
        "\n",
        "# Using name mangling\n",
        "print(secret._Secret__password)  # Output: 1234"
      ]
    },
    {
      "cell_type": "code",
      "execution_count": null,
      "metadata": {},
      "outputs": [],
      "source": [
        "### Question 11:\n",
        "\n",
        "class Person:\n",
        "    def __init__(self, name, age):\n",
        "        self._name = name  # Protected\n",
        "        self.__age = age   # Private\n",
        "    \n",
        "    def get_name(self):\n",
        "        return self._name\n",
        "    \n",
        "    def get_age(self):\n",
        "        return self.__age\n",
        "\n",
        "class Student(Person):\n",
        "    def __init__(self, name, age, student_id, grades=None):\n",
        "        super().__init__(name, age)\n",
        "        self.__student_id = student_id\n",
        "        self.__grades = grades or {}\n",
        "    \n",
        "    def get_student_id(self):\n",
        "        return self.__student_id\n",
        "    \n",
        "    def add_grade(self, course, grade):\n",
        "        self.__grades[course] = grade\n",
        "    \n",
        "    def get_grades(self):\n",
        "        return self.__grades.copy()  # Return copy to prevent direct modification\n",
        "\n",
        "class Teacher(Person):\n",
        "    def __init__(self, name, age, employee_id, department):\n",
        "        super().__init__(name, age)\n",
        "        self.__employee_id = employee_id\n",
        "        self.__department = department\n",
        "    \n",
        "    def get_employee_id(self):\n",
        "        return self.__employee_id\n",
        "    \n",
        "    def get_department(self):\n",
        "        return self.__department\n",
        "\n",
        "class Course:\n",
        "    def __init__(self, course_id, title, teacher):\n",
        "        self.__course_id = course_id\n",
        "        self.__title = title\n",
        "        self.__teacher = teacher\n",
        "        self.__students = []\n",
        "    \n",
        "    def add_student(self, student):\n",
        "        self.__students.append(student)\n",
        "    \n",
        "    def get_course_info(self):\n",
        "        return {\n",
        "            \"id\": self.__course_id,\n",
        "            \"title\": self.__title,\n",
        "            \"teacher\": self.__teacher.get_name(),\n",
        "            \"num_students\": len(self.__students)\n",
        "        }"
      ]
    },
    {
      "cell_type": "code",
      "execution_count": 46,
      "metadata": {},
      "outputs": [
        {
          "name": "stdout",
          "output_type": "stream",
          "text": [
            "5\n",
            "70\n"
          ]
        }
      ],
      "source": [
        "## 12. Property Decorators and Encapsulation\n",
        "## Property decorators provide a more Pythonic way to implement encapsulation:\n",
        "class Rectangle:\n",
        "    def __init__(self, width, height):\n",
        "        self.__width = width\n",
        "        self.__height = height\n",
        "    \n",
        "    @property\n",
        "    def width(self):\n",
        "        return self.__width\n",
        "    \n",
        "    @width.setter\n",
        "    def width(self, value):\n",
        "        if value > 0:\n",
        "            self.__width = value\n",
        "        else:\n",
        "            raise ValueError(\"Width must be positive\")\n",
        "    \n",
        "    @property\n",
        "    def height(self):\n",
        "        return self.__height\n",
        "    \n",
        "    @height.setter\n",
        "    def height(self, value):\n",
        "        if value > 0:\n",
        "            self.__height = value\n",
        "        else:\n",
        "            raise ValueError(\"Height must be positive\")\n",
        "    \n",
        "    @property\n",
        "    def area(self):\n",
        "        return self.__width * self.__height\n",
        "\n",
        "# Usage\n",
        "rect = Rectangle(5, 10)\n",
        "print(rect.width)    # 5 (using getter)\n",
        "rect.width = 7       # Using setter\n",
        "print(rect.area)     # 70 (calculated property)"
      ]
    },
    {
      "cell_type": "markdown",
      "metadata": {},
      "source": [
        "**Property decorators**:\n",
        "- Provide attribute-like access with method-like control.\n",
        "- Implement computed properties.\n",
        "- Allow data validation in a clean, Pythonic way.\n",
        "\n",
        "13. **Data Hiding and Its Importance**: Data hiding is restricting direct access to an object's internal data. It's important because:\n",
        "- It prevents outside code from accidentally modifying data in invalid ways.\n",
        "- It allows implementation details to change without affecting external code.\n",
        "- It creates a cleaner, more stable interface.\n",
        "- It enables validation and processing of data before storage."
      ]
    },
    {
      "cell_type": "code",
      "execution_count": 47,
      "metadata": {},
      "outputs": [],
      "source": [
        "class User:\n",
        "    def __init__(self, username, password):\n",
        "        self.username = username\n",
        "        self.__password = self.__hash_password(password)\n",
        "    \n",
        "    def __hash_password(self, password):\n",
        "        # In real code, use a proper hashing algorithm\n",
        "        return f\"hashed_{password}\"\n",
        "    \n",
        "    def check_password(self, password):\n",
        "        return self.__password == self.__hash_password(password)"
      ]
    },
    {
      "cell_type": "code",
      "execution_count": 48,
      "metadata": {},
      "outputs": [
        {
          "name": "stdout",
          "output_type": "stream",
          "text": [
            "John Smith\n",
            "2500.0\n",
            "5000.0\n"
          ]
        }
      ],
      "source": [
        "## 14. Employee Class with Private Attributes\n",
        "class Employee:\n",
        "    def __init__(self, name, employee_id, salary):\n",
        "        self.__name = name\n",
        "        self.__employee_id = employee_id\n",
        "        self.__salary = salary\n",
        "    \n",
        "    def get_name(self):\n",
        "        return self.__name\n",
        "    \n",
        "    def get_employee_id(self):\n",
        "        return self.__employee_id\n",
        "    \n",
        "    def get_salary(self):\n",
        "        return self.__salary\n",
        "    \n",
        "    def set_salary(self, salary):\n",
        "        if salary > 0:\n",
        "            self.__salary = salary\n",
        "        else:\n",
        "            raise ValueError(\"Salary must be positive\")\n",
        "    \n",
        "    def calculate_yearly_bonus(self, percentage=5):\n",
        "        return self.__salary * (percentage / 100)\n",
        "\n",
        "# Usage\n",
        "emp = Employee(\"John Smith\", \"E12345\", 50000)\n",
        "print(emp.get_name())         # John Smith\n",
        "print(emp.calculate_yearly_bonus())  # 2500 (5% default)\n",
        "print(emp.calculate_yearly_bonus(10))  # 5000 (10%)"
      ]
    },
    {
      "cell_type": "markdown",
      "metadata": {},
      "source": [
        "15. **Accessors and Mutators in Encapsulation**: Accessors (getters) and mutators (setters) help maintain control over attribute access by:\n",
        "- Providing controlled access to private attributes.\n",
        "- Validating input data before assignment.\n",
        "- Implementing computed values based on internal state.\n",
        "- Logging or tracking attribute access and changes.\n",
        "- Supporting lazy initialization of expensive resources.\n",
        "- They create a barrier between the internal representation and external code, making it possible to change the implementation while maintaining a consistent interface.\n",
        "\n",
        "16. **Potential Drawbacks of Encapsulation in Python**: While encapsulation offers many benefits, it also has some drawbacks:\n",
        "- Increased code verbosity: Writing getters and setters for many attributes.\n",
        "- Performance overhead: Method calls are slightly slower than direct attribute access.\n",
        "- Limited true privacy: Python's privacy is by convention, not enforced.\n",
        "- Over-encapsulation: Can make simple code more complex than necessary.\n",
        "- Learning curve: Less intuitive for developers from non-OOP backgrounds."
      ]
    },
    {
      "cell_type": "code",
      "execution_count": 49,
      "metadata": {},
      "outputs": [],
      "source": [
        "##17. Library System with Encapsulation\n",
        "class Book:\n",
        "    def __init__(self, title, author, isbn):\n",
        "        self.__title = title\n",
        "        self.__author = author\n",
        "        self.__isbn = isbn\n",
        "        self.__checked_out = False\n",
        "    \n",
        "    @property\n",
        "    def title(self):\n",
        "        return self.__title\n",
        "    \n",
        "    @property\n",
        "    def author(self):\n",
        "        return self.__author\n",
        "    \n",
        "    @property\n",
        "    def isbn(self):\n",
        "        return self.__isbn\n",
        "    \n",
        "    @property\n",
        "    def is_available(self):\n",
        "        return not self.__checked_out\n",
        "    \n",
        "    def check_out(self):\n",
        "        if not self.__checked_out:\n",
        "            self.__checked_out = True\n",
        "            return True\n",
        "        return False\n",
        "    \n",
        "    def return_book(self):\n",
        "        self.__checked_out = False\n",
        "\n",
        "class Library:\n",
        "    def __init__(self, name):\n",
        "        self.__name = name\n",
        "        self.__books = {}\n",
        "    \n",
        "    @property\n",
        "    def name(self):\n",
        "        return self.__name\n",
        "    \n",
        "    def add_book(self, book):\n",
        "        self.__books[book.isbn] = book\n",
        "    \n",
        "    def find_book_by_isbn(self, isbn):\n",
        "        return self.__books.get(isbn)\n",
        "    \n",
        "    def find_books_by_author(self, author):\n",
        "        return [book for book in self.__books.values() \n",
        "                if book.author.lower() == author.lower()]\n",
        "    \n",
        "    def check_out_book(self, isbn):\n",
        "        book = self.find_book_by_isbn(isbn)\n",
        "        if book and book.is_available:\n",
        "            return book.check_out()\n",
        "        return False"
      ]
    },
    {
      "cell_type": "markdown",
      "metadata": {},
      "source": [
        "18. **Encapsulation for Code Reusability and Modularity**: Encapsulation enhances code reusability and modularity by:\n",
        "- Creating well-defined interfaces: Classes expose only what's necessary.\n",
        "- Reducing dependencies: Code depends on interfaces, not implementations.\n",
        "- Simplifying reuse: Classes can be used as building blocks for larger systems.\n",
        "- Supporting composition: Encapsulated objects can be composed to create complex behavior.\n",
        "- Enabling polymorphism: Different implementations can share an interface.\n",
        "- This promotes a modular design where components can be developed, tested, and maintained independently.\n",
        "\n",
        "19. **Information Hiding in Encapsulation**: Information hiding is a core aspect of encapsulation that involves concealing implementation details while exposing a controlled interface. It's essential in software development because it:\n",
        "- Reduces complexity: Users only need to understand the interface, not the internal details.\n",
        "- Facilitates change: Internal implementations can be modified without affecting consumers.\n",
        "- Prevents dependencies: Code doesn't depend on specific implementations.\n",
        "- Improves maintenance: Changes are localized to a single component.\n",
        "- Enhances stability: Interface remains stable even as implementations evolve.\n",
        "- Information hiding is the principle that guided the development of modules, packages, and objects in modern programming languages."
      ]
    },
    {
      "cell_type": "code",
      "execution_count": 50,
      "metadata": {},
      "outputs": [],
      "source": [
        "## 20. Customer Class with Encapsulation\n",
        "class Customer:\n",
        "    def __init__(self, name, address, email, phone):\n",
        "        self.__name = name\n",
        "        self.__address = address\n",
        "        self.__email = email\n",
        "        self.__phone = phone\n",
        "        self.__purchase_history = []\n",
        "    \n",
        "    @property\n",
        "    def name(self):\n",
        "        return self.__name\n",
        "    \n",
        "    @property\n",
        "    def address(self):\n",
        "        return self.__address\n",
        "    \n",
        "    @address.setter\n",
        "    def address(self, value):\n",
        "        if isinstance(value, str) and value.strip():\n",
        "            self.__address = value\n",
        "        else:\n",
        "            raise ValueError(\"Address cannot be empty\")\n",
        "    \n",
        "    @property\n",
        "    def email(self):\n",
        "        return self.__email\n",
        "    \n",
        "    @email.setter\n",
        "    def email(self, value):\n",
        "        if isinstance(value, str) and '@' in value:\n",
        "            self.__email = value\n",
        "        else:\n",
        "            raise ValueError(\"Invalid email format\")\n",
        "    \n",
        "    @property\n",
        "    def phone(self):\n",
        "        return self.__phone\n",
        "    \n",
        "    @phone.setter\n",
        "    def phone(self, value):\n",
        "        # Simple validation, real code would be more complex\n",
        "        if isinstance(value, str) and value.strip():\n",
        "            self.__phone = value\n",
        "        else:\n",
        "            raise ValueError(\"Phone number cannot be empty\")\n",
        "    \n",
        "    def add_purchase(self, purchase):\n",
        "        self.__purchase_history.append(purchase)\n",
        "    \n",
        "    def get_purchase_history(self):\n",
        "        return self.__purchase_history.copy()\n",
        "    \n",
        "    def get_contact_info(self):\n",
        "        return {\n",
        "            \"name\": self.__name,\n",
        "            \"address\": self.__address,\n",
        "            \"email\": self.__email,\n",
        "            \"phone\": self.__phone\n",
        "        }"
      ]
    },
    {
      "cell_type": "code",
      "execution_count": null,
      "metadata": {},
      "outputs": [],
      "source": []
    }
  ],
  "metadata": {
    "colab": {
      "authorship_tag": "ABX9TyNj+PFOBGeHknBwgx8Q0w4J",
      "include_colab_link": true,
      "provenance": []
    },
    "kernelspec": {
      "display_name": "fenv",
      "language": "python",
      "name": "python3"
    },
    "language_info": {
      "codemirror_mode": {
        "name": "ipython",
        "version": 3
      },
      "file_extension": ".py",
      "mimetype": "text/x-python",
      "name": "python",
      "nbconvert_exporter": "python",
      "pygments_lexer": "ipython3",
      "version": "3.12.3"
    }
  },
  "nbformat": 4,
  "nbformat_minor": 0
}
