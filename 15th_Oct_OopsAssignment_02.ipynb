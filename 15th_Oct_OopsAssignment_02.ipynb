{
  "nbformat": 4,
  "nbformat_minor": 0,
  "metadata": {
    "colab": {
      "provenance": [],
      "authorship_tag": "ABX9TyNj+PFOBGeHknBwgx8Q0w4J",
      "include_colab_link": true
    },
    "kernelspec": {
      "name": "python3",
      "display_name": "Python 3"
    },
    "language_info": {
      "name": "python"
    }
  },
  "cells": [
    {
      "cell_type": "markdown",
      "metadata": {
        "id": "view-in-github",
        "colab_type": "text"
      },
      "source": [
        "<a href=\"https://colab.research.google.com/github/dishantgupta2004/Python_and_DSA_Notes_and_assignments/blob/main/15th_Oct_OopsAssignment_02.ipynb\" target=\"_parent\"><img src=\"https://colab.research.google.com/assets/colab-badge.svg\" alt=\"Open In Colab\"/></a>"
      ]
    },
    {
      "cell_type": "markdown",
      "source": [
        "# **CONSTRUCTORS (1 - 20)**"
      ],
      "metadata": {
        "id": "sQgnnL6WqqF3"
      }
    },
    {
      "cell_type": "markdown",
      "source": [
        "1. What is a constructor in Python? Explain its purpose and usage.\n",
        "2. Differentiate between a parameterless constructor and a parameterized constructor in Python.\n",
        "3. How do you define a constructor in a Python class? Provide an example.\n",
        "4. Explain the `__init__` method in Python and its role in constructors.\n",
        "5. In a class named `Person`, create a constructor that initializes the `name` and `age` attributes. Provide an\n",
        "example of creating an object of this class.\n",
        "6. How can you call a constructor explicitly in Python? Give an example.\n",
        "7. What is the significance of the `self` parameter in Python constructors? Explain with an example.\n",
        "8. Discuss the concept of default constructors in Python. When are they used?\n",
        "9. Create a Python class called `Rectangle` with a constructor that initializes the `width` and `height`\n",
        "attributes. Provide a method to calculate the area of the rectangle.\n",
        "10. How can you have multiple constructors in a Python class? Explain with an example.\n",
        "11. What is method overloading, and how is it related to constructors in Python?\n",
        "12. Explain the use of the `super()` function in Python constructors. Provide an example.\n",
        "13. Create a class called `Book` with a constructor that initializes the `title`, `author`, and `published_year`\n",
        "attributes. Provide a method to display book details.\n",
        "14. Discuss the differences between constructors and regular methods in Python classes.\n",
        "15. Explain the role of the `self` parameter in instance variable initialization within a constructor.\n",
        "16. How do you prevent a class from having multiple instances by using constructors in Python? Provide an\n",
        "example.\n",
        "17. Create a Python class called `Student` with a constructor that takes a list of subjects as a parameter and\n",
        "initializes the `subjects` attribute.\n",
        "18. What is the purpose of the `__del__` method in Python classes, and how does it relate to constructors?\n",
        "19. Explain the use of constructor chaining in Python. Provide a practical example.\n",
        "20. Create a Python class called `Car` with a default constructor that initializes the `make` and `model`\n",
        "attributes. Provide a method to display car information."
      ],
      "metadata": {
        "id": "uLRYddGAsbSS"
      }
    },
    {
      "cell_type": "markdown",
      "source": [
        "1. **Question-01**: A constructor is a special method that gets called automatically when an object of a class is created. Its primary purpose is to initialize the attributes of the object or perform any setup operations required when a new instance is created. In python, constructors help ensure that objects are properly initialized with the necessary attributes and in a valid state when they are created.\n",
        "\n",
        "2. **Question-02**\n",
        " - **Parameterless constructor** that does not accept any arguments (except self). It intilizes object attributes to default values.\n",
        " - **Parameterized constructors** that accepts parameters to initialize object attributes with specific values during object creation.\n",
        "\n",
        "3. **Question-03**:\n",
        " - In Python, constructors are defined using the special __init__ method:\n",
        ""
      ],
      "metadata": {
        "id": "T0DNN1RKvylL"
      }
    },
    {
      "cell_type": "code",
      "execution_count": 2,
      "metadata": {
        "id": "llHuLjIjbVOh"
      },
      "outputs": [],
      "source": [
        "import pandas as pd\n",
        "class StudentProfile:\n",
        "  def __init__(self, id, name):\n",
        "    self.id = id\n",
        "    self.name = name\n",
        "    self.records = pd.DataFrame(columns = ['id', 'name', 'Academic_Records', 'Status'])\n",
        "\n",
        "  def show_profile(self):\n",
        "    print(f\"student having {self.id} has {self.name} as name\")\n",
        "\n"
      ]
    },
    {
      "cell_type": "markdown",
      "source": [
        "4. **Question-04**: The __init__ method in Python serves as the constructor for a class. It's automatically called when a new instance of the class is created. Its primary roles are:\n",
        " - Initializing instance attributes.\n",
        " - Performing any setup operations required for new objects.\n",
        " - Setting the initial state of the object.\n",
        " - The first parameter of __init__ is always self, which refers to the instance being created."
      ],
      "metadata": {
        "id": "uxlspM93zptq"
      }
    },
    {
      "cell_type": "code",
      "source": [
        "## Question-05:\n",
        "class Person:\n",
        "    def __init__(self, name, age):\n",
        "        self.name = name\n",
        "        self.age = age\n",
        "\n",
        "\n",
        "person1 = Person(\"dishant\", 22)\n",
        "print(f\"Name: {person1.name}, Age: {person1.age}\")"
      ],
      "metadata": {
        "colab": {
          "base_uri": "https://localhost:8080/"
        },
        "id": "JFSahTiSyKIu",
        "outputId": "5aa0ff5c-3d8c-423a-c870-b69cef306487"
      },
      "execution_count": 3,
      "outputs": [
        {
          "output_type": "stream",
          "name": "stdout",
          "text": [
            "Name: dishant, Age: 22\n"
          ]
        }
      ]
    },
    {
      "cell_type": "code",
      "source": [
        "## Question-06: In Python, constructors are typically called implicitly when creating an object. However, you can explicitly call a parent class's constructor using super():\n",
        "class Parent:\n",
        "    def __init__(self, value):\n",
        "        self.value = value\n",
        "\n",
        "class Child(Parent):\n",
        "    def __init__(self, value, extra):\n",
        "        # Explicitly calling Parent's constructor\n",
        "        super().__init__(value)\n",
        "        self.extra = extra\n",
        "\n",
        "child = Child(10, \"extra data\")"
      ],
      "metadata": {
        "id": "jSmye6JJ0Wox"
      },
      "execution_count": 4,
      "outputs": []
    },
    {
      "cell_type": "code",
      "source": [
        "## Question-07: The self parameter in Python constructors refers to the instance being created. It allows the constructor to assign values to the specific instance's attributes.\n",
        "## Without self, there would be no way to reference the particular object being initialized:\n",
        "class Counter:\n",
        "    def __init__(self, start_value):\n",
        "        # self refers to the specific instance being created\n",
        "        self.count = start_value  # Assigns start_value to this instance's count\n",
        "\n",
        "c1 = Counter(5)  # c1.count becomes 5\n",
        "c2 = Counter(10)  # c2.count becomes 10"
      ],
      "metadata": {
        "id": "FkIbAJri0kLD"
      },
      "execution_count": 5,
      "outputs": []
    },
    {
      "cell_type": "markdown",
      "source": [
        "8. **Question-08**: In Python, a default constructor is provided automatically if no __init__ method is defined in a class. It takes no arguments except self and performs no specific initialization. Default constructors are used when:\n",
        " - Objects don't require specific initialization.\n",
        " - All attributes will be added after object creation.\n",
        " - The class inherits initialization from a parent class.\n",
        "\n",
        "9. **Question-09**:\n"
      ],
      "metadata": {
        "id": "72e6PdyS1vzY"
      }
    },
    {
      "cell_type": "code",
      "source": [
        "class Rectangle:\n",
        "    def __init__(self, width, height):\n",
        "        self.width = width\n",
        "        self.height = height\n",
        "\n",
        "    def calculate_area(self):\n",
        "        return self.width * self.height\n",
        "\n",
        "# Example usage\n",
        "rect = Rectangle(5, 3)\n",
        "print(f\"Rectangle area: {rect.calculate_area()}\")  # Output: Rectangle area: 15"
      ],
      "metadata": {
        "colab": {
          "base_uri": "https://localhost:8080/"
        },
        "id": "BM0crrpu1lWE",
        "outputId": "79f47f18-fd13-4a26-90cd-af8148afe59d"
      },
      "execution_count": 6,
      "outputs": [
        {
          "output_type": "stream",
          "name": "stdout",
          "text": [
            "Rectangle area: 15\n"
          ]
        }
      ]
    },
    {
      "cell_type": "code",
      "source": [
        "## Question-10: Python doesn't directly support multiple constructors like some other languages. However, you can simulate this behavior using class methods as alternative\n",
        "## constructors:\n",
        "\n",
        "class Date:\n",
        "    def __init__(self, year, month, day):\n",
        "        self.year = year\n",
        "        self.month = month\n",
        "        self.day = day\n",
        "\n",
        "    @classmethod\n",
        "    def from_string(cls, date_string):\n",
        "        # Alternative constructor that creates Date from a string\n",
        "        year, month, day = map(int, date_string.split('-'))\n",
        "        return cls(year, month, day)\n",
        "\n",
        "    @classmethod\n",
        "    def today(cls):\n",
        "        # Another alternative constructor\n",
        "        import datetime\n",
        "        today = datetime.date.today()\n",
        "        return cls(today.year, today.month, today.day)\n",
        "\n",
        "# Different ways to create Date objects\n",
        "d1 = Date(2023, 5, 15)  # Using the regular constructor\n",
        "d2 = Date.from_string(\"2023-05-15\")  # Using alternative constructor\n",
        "d3 = Date.today()  # Using another alternative constructor"
      ],
      "metadata": {
        "id": "x4AY7z6f2J09"
      },
      "execution_count": 9,
      "outputs": []
    },
    {
      "cell_type": "markdown",
      "source": [
        "11. **Question-11**: Method overloading is a concept where multiple methods can have the same name but different parameters. Python doesn't support traditional method overloading. For constructors, this means you can't have multiple __init__ methods with different parameter lists.\n",
        "Instead, Python developers use:\n",
        " - Default parameter values.\n",
        " - Variable-length argument lists.\n",
        " - Class methods as alternative constructors (as shown in the previous answer)"
      ],
      "metadata": {
        "id": "08-AozW62pFV"
      }
    },
    {
      "cell_type": "code",
      "source": [
        "class Product:\n",
        "    def __init__(self, name, price=0, quantity=1, category=None):\n",
        "        self.name = name\n",
        "        self.price = price\n",
        "        self.quantity = quantity\n",
        "        self.category = category\n",
        "\n",
        "# Can be called in different ways\n",
        "p1 = Product(\"Laptop\", 1000)\n",
        "p2 = Product(\"Mouse\", 25, 5)\n",
        "p3 = Product(\"Keyboard\", 50, 2, \"Peripherals\")"
      ],
      "metadata": {
        "id": "CT97RzY32e2L"
      },
      "execution_count": 10,
      "outputs": []
    },
    {
      "cell_type": "markdown",
      "source": [
        "12. **Question-12**: The super() function in Python constructors is used to call methods from the parent class, particularly the parent's constructor. It enables proper initialization of the parent class attributes before adding functionality in the child class:"
      ],
      "metadata": {
        "id": "TjCbKtqQ4YQa"
      }
    },
    {
      "cell_type": "code",
      "source": [
        "class Vehicle:\n",
        "    def __init__(self, brand, year):\n",
        "        self.brand = brand\n",
        "        self.year = year\n",
        "\n",
        "class Car(Vehicle):\n",
        "    def __init__(self, brand, year, model):\n",
        "        # Call parent constructor to initialize brand and year\n",
        "        super().__init__(brand, year)\n",
        "        # Add car-specific attribute\n",
        "        self.model = model\n",
        "\n",
        "my_car = Car(\"Toyota\", 2022, \"Corolla\")\n",
        "print(f\"Brand: {my_car.brand}, Year: {my_car.year}, Model: {my_car.model}\")"
      ],
      "metadata": {
        "colab": {
          "base_uri": "https://localhost:8080/"
        },
        "id": "DstjLr4p4UnU",
        "outputId": "e39ba097-655c-4e51-b546-5aa4151365c4"
      },
      "execution_count": 11,
      "outputs": [
        {
          "output_type": "stream",
          "name": "stdout",
          "text": [
            "Brand: Toyota, Year: 2022, Model: Corolla\n"
          ]
        }
      ]
    },
    {
      "cell_type": "code",
      "source": [
        "# 13-> Question-13:\n",
        "class Book:\n",
        "    def __init__(self, title, author, published_year):\n",
        "        self.title = title\n",
        "        self.author = author\n",
        "        self.published_year = published_year\n",
        "\n",
        "    def display_details(self):\n",
        "        return f\"'{self.title}' by {self.author} ({self.published_year})\"\n",
        "\n",
        "# Example usage\n",
        "book1 = Book(\"The Great Gatsby\", \"F. Scott Fitzgerald\", 1925)\n",
        "print(book1.display_details())  # Output: 'The Great Gatsby' by F. Scott Fitzgerald (1925)"
      ],
      "metadata": {
        "colab": {
          "base_uri": "https://localhost:8080/"
        },
        "id": "WyyMABXW4e31",
        "outputId": "000b8228-debc-4c2b-b172-99840992443b"
      },
      "execution_count": 12,
      "outputs": [
        {
          "output_type": "stream",
          "name": "stdout",
          "text": [
            "'The Great Gatsby' by F. Scott Fitzgerald (1925)\n"
          ]
        }
      ]
    },
    {
      "cell_type": "markdown",
      "source": [
        "14. **Question-14**: Constructors (__init__ method) differ from regular methods in several ways:\n",
        " - Constructors are automatically called when an object is created; regular methods must be explicitly called.\n",
        " - Constructors always have the name __init__; regular methods can have any valid identifier.\n",
        " - Constructors don't return values (return statements are ignored); regular methods can return values.\n",
        " - Constructors initialize object state; regular methods typically perform operations using that state.\n",
        " - Constructors run only once per object; regular methods can be called multiple times."
      ],
      "metadata": {
        "id": "1A7zBXPM4rdh"
      }
    },
    {
      "cell_type": "markdown",
      "source": [
        "15. **Question-15**: The self parameter in constructors is essential for instance variable initialization because:\n",
        " - It identifies which instance the variables belong to.\n",
        " - It differentiates instance variables from local variables.\n",
        " - It ensures each object gets its own set of attributes.\n",
        " - It allows the constructor to set up the object's namespace"
      ],
      "metadata": {
        "id": "J2X8VVRH4-jO"
      }
    },
    {
      "cell_type": "code",
      "source": [
        "class Student:\n",
        "    def __init__(self, name):\n",
        "        # self.name is an instance variable (belongs to the object)\n",
        "        self.name = name\n",
        "        # name is just a local parameter (temporary)\n",
        "\n",
        "        # Without self, this would be a local variable that disappears\n",
        "        # after the constructor finishes executing\n",
        "        grade = \"A\"  # This is NOT an instance variable\n",
        "        self.grade = \"A\"  # This IS an instance variable"
      ],
      "metadata": {
        "id": "jiZvi60n4lnv"
      },
      "execution_count": 13,
      "outputs": []
    },
    {
      "cell_type": "code",
      "source": [
        "#16:We can implement the Singleton pattern by tracking instance creation in the constructor:\n",
        "class Singleton:\n",
        "    _instance = None\n",
        "\n",
        "    def __new__(cls, *args, **kwargs):\n",
        "        if cls._instance is None:\n",
        "            cls._instance = super().__new__(cls)\n",
        "        return cls._instance\n",
        "\n",
        "    def __init__(self, value=None):\n",
        "        # This will only effectively run once for the first instance\n",
        "        if not hasattr(self, 'value'):\n",
        "            self.value = value\n",
        "\n",
        "# Testing\n",
        "s1 = Singleton(\"First\")\n",
        "s2 = Singleton(\"Second\")\n",
        "\n",
        "print(s1.value)  # Output: \"First\"\n",
        "print(s2.value)  # Output: \"First\" (not \"Second\"!)\n",
        "print(s1 is s2)  # Output: True (same instance)"
      ],
      "metadata": {
        "colab": {
          "base_uri": "https://localhost:8080/"
        },
        "id": "yCBcpBNv5Laq",
        "outputId": "eaa984c0-2514-4750-8ead-a6beb57491cf"
      },
      "execution_count": 18,
      "outputs": [
        {
          "output_type": "stream",
          "name": "stdout",
          "text": [
            "First\n",
            "First\n",
            "True\n"
          ]
        }
      ]
    },
    {
      "cell_type": "code",
      "source": [
        "## Question 17:\n",
        "class Student:\n",
        "    def __init__(self, name, subjects=None):\n",
        "        self.name = name\n",
        "        # Use empty list as default if no subjects provided\n",
        "        self.subjects = subjects if subjects is not None else []\n",
        "\n",
        "    def add_subject(self, subject):\n",
        "        self.subjects.append(subject)\n",
        "\n",
        "    def display_subjects(self):\n",
        "        if self.subjects:\n",
        "            return f\"{self.name}'s subjects: {', '.join(self.subjects)}\"\n",
        "        else:\n",
        "            return f\"{self.name} hasn't enrolled in any subjects yet\"\n",
        "\n",
        "# Example usage\n",
        "student1 = Student(\"Emma\", [\"Math\", \"Physics\", \"Chemistry\"])\n",
        "student2 = Student(\"Jack\")\n",
        "student2.add_subject(\"History\")\n",
        "\n",
        "print(student1.display_subjects())\n",
        "print(student2.display_subjects())"
      ],
      "metadata": {
        "colab": {
          "base_uri": "https://localhost:8080/"
        },
        "id": "N9vbMAS55aF2",
        "outputId": "6ba672f5-ba72-4c7c-bcb6-77ddb8919282"
      },
      "execution_count": 14,
      "outputs": [
        {
          "output_type": "stream",
          "name": "stdout",
          "text": [
            "Emma's subjects: Math, Physics, Chemistry\n",
            "Jack's subjects: History\n"
          ]
        }
      ]
    },
    {
      "cell_type": "markdown",
      "source": [
        "18. **Question-18**: The __del__ method in Python is a destructor that gets called when an object is about to be destroyed (when its reference count drops to zero). While constructors (__init__) initialize objects, destructors (__del__) clean them up. The relationship between them:\n",
        " - __init__ sets up resources; __del__ releases them.\n",
        " - __init__ is called at the beginning of an object's life; __del__ at the end.\n",
        " - Together they manage the complete lifecycle of an object."
      ],
      "metadata": {
        "id": "FmVK6cAX5WnT"
      }
    },
    {
      "cell_type": "code",
      "source": [
        "class ResourceManager:\n",
        "    def __init__(self, resource_name):\n",
        "        self.resource_name = resource_name\n",
        "        print(f\"Resource {resource_name} acquired\")\n",
        "\n",
        "    def __del__(self):\n",
        "        print(f\"Resource {self.resource_name} released\")\n",
        "\n",
        "# Example\n",
        "def test_resource():\n",
        "    r = ResourceManager(\"database_connection\")\n",
        "    # When r goes out of scope, __del__ will be called\n",
        "\n",
        "test_resource()  # Output: \"Resource database_connection acquired\" followed by \"Resource database_connection released\""
      ],
      "metadata": {
        "colab": {
          "base_uri": "https://localhost:8080/"
        },
        "id": "vpIE3gVe6G1N",
        "outputId": "3753199a-bf21-44c8-b586-d7e2ca97cf87"
      },
      "execution_count": 15,
      "outputs": [
        {
          "output_type": "stream",
          "name": "stdout",
          "text": [
            "Resource database_connection acquired\n",
            "Resource database_connection released\n"
          ]
        }
      ]
    },
    {
      "cell_type": "markdown",
      "source": [
        "19. Question 19: Constructor chaining in Python refers to calling one constructor from another, typically through inheritance hierarchies using super(). This allows code reuse and proper initialization of the inheritance chain:"
      ],
      "metadata": {
        "id": "uFAaXgDq6Pkm"
      }
    },
    {
      "cell_type": "code",
      "source": [
        "class Person:\n",
        "    def __init__(self, name, age):\n",
        "        self.name = name\n",
        "        self.age = age\n",
        "\n",
        "class Employee(Person):\n",
        "    def __init__(self, name, age, employee_id):\n",
        "        # Chain to the parent constructor\n",
        "        super().__init__(name, age)\n",
        "        self.employee_id = employee_id\n",
        "\n",
        "class Manager(Employee):\n",
        "    def __init__(self, name, age, employee_id, department):\n",
        "        # Chain to the parent constructor\n",
        "        super().__init__(name, age, employee_id)\n",
        "        self.department = department\n",
        "\n",
        "# Creating a manager chains through all constructors\n",
        "manager = Manager(\"Alice\", 40, \"E12345\", \"Engineering\")\n",
        "print(f\"Name: {manager.name}, Age: {manager.age}, ID: {manager.employee_id}, Dept: {manager.department}\")"
      ],
      "metadata": {
        "colab": {
          "base_uri": "https://localhost:8080/"
        },
        "id": "3_Y_PVbJ6K4L",
        "outputId": "c011a884-8673-4566-9e08-501dd58a88de"
      },
      "execution_count": 16,
      "outputs": [
        {
          "output_type": "stream",
          "name": "stdout",
          "text": [
            "Name: Alice, Age: 40, ID: E12345, Dept: Engineering\n"
          ]
        }
      ]
    },
    {
      "cell_type": "code",
      "source": [
        "## Question 20:\n",
        "class Car:\n",
        "    def __init__(self, make=\"Unknown\", model=\"Unknown\"):\n",
        "        self.make = make\n",
        "        self.model = model\n",
        "        self.year = None  # Optional attribute to be set later\n",
        "\n",
        "    def set_year(self, year):\n",
        "        self.year = year\n",
        "\n",
        "    def display_info(self):\n",
        "        year_info = f\", Year: {self.year}\" if self.year else \"\"\n",
        "        return f\"Car: {self.make} {self.model}{year_info}\"\n",
        "\n",
        "# Example usage\n",
        "car1 = Car(\"Toyota\", \"Camry\")\n",
        "car1.set_year(2023)\n",
        "print(car1.display_info())  # Output: Car: Toyota Camry, Year: 2023\n",
        "\n",
        "car2 = Car()  # Using default values\n",
        "print(car2.display_info())  # Output: Car: Unknown Unknown"
      ],
      "metadata": {
        "colab": {
          "base_uri": "https://localhost:8080/"
        },
        "id": "6Bup1duB6UwE",
        "outputId": "c0d2ee9a-9f98-45d4-bd4b-daa52124e87f"
      },
      "execution_count": 17,
      "outputs": [
        {
          "output_type": "stream",
          "name": "stdout",
          "text": [
            "Car: Toyota Camry, Year: 2023\n",
            "Car: Unknown Unknown\n"
          ]
        }
      ]
    },
    {
      "cell_type": "markdown",
      "source": [
        "# **INHERITENCE (1 - 20)**"
      ],
      "metadata": {
        "id": "o_OXnwsc6mQj"
      }
    },
    {
      "cell_type": "markdown",
      "source": [
        "1. **What is inheritance in Python? Explain its significance in object-oriented programming.**\n",
        " - Inheritance in Python is a mechanism where a class (child class) can inherit attributes and methods from another class (parent class). This allows for code reuse and the creation of hierarchical relationships between classes.\n",
        "The significance of inheritance in object-oriented programming includes:\n",
        "  - **Code reusability**: Avoids duplicating code by inheriting common functionality.\n",
        "  - **Extensibility**: Allows extending existing classes with new features.\n",
        "  - **Hierarchy**: Enables organizing classes in a logical parent-child relationship.\n",
        "  - **Polymorphism**: Permits using child class objects where parent class objects are expected.\n",
        "\n",
        "\n",
        "2. **Differentiate between single inheritance and multiple inheritance in Python. Provide examples for each.**\n",
        " - Single Inheritance: A class inherits from only one parent class.\n",
        " - Multiple Inheritance: A class inherits from multiple parent classes."
      ],
      "metadata": {
        "id": "_26cMq_564Xs"
      }
    },
    {
      "cell_type": "code",
      "source": [
        "## Single Inheritence:\n",
        "class Parent:\n",
        "    def method1(self):\n",
        "        print(\"Method from Parent\")\n",
        "\n",
        "class Child(Parent):  # Single inheritance\n",
        "    def method2(self):\n",
        "        print(\"Method from Child\")\n",
        "\n",
        "child = Child()\n",
        "child.method1()  # Inherited from Parent\n",
        "child.method2()  # Defined in Child\n",
        "\n",
        "## Multiple inheritence\n",
        "class Father:\n",
        "    def eye_color(self):\n",
        "        return \"Brown\"\n",
        "\n",
        "class Mother:\n",
        "    def hair_color(self):\n",
        "        return \"Black\"\n",
        "\n",
        "class Child(Father, Mother):  # Multiple inheritance\n",
        "    pass\n",
        "\n",
        "child = Child()\n",
        "print(f\"Eye color: {child.eye_color()}\")  # From Father\n",
        "print(f\"Hair color: {child.hair_color()}\")  # From Mother"
      ],
      "metadata": {
        "colab": {
          "base_uri": "https://localhost:8080/"
        },
        "id": "j6aRPL666Z9V",
        "outputId": "9e9ea382-5d0e-4793-aff1-86f09e538c41"
      },
      "execution_count": 19,
      "outputs": [
        {
          "output_type": "stream",
          "name": "stdout",
          "text": [
            "Method from Parent\n",
            "Method from Child\n",
            "Eye color: Brown\n",
            "Hair color: Black\n"
          ]
        }
      ]
    },
    {
      "cell_type": "markdown",
      "source": [
        "3. **Create a Python class called Vehicle with attributes color and speed. Then, create a child class called Car that inherits from Vehicle and adds a brand attribute. Provide an example of creating a Car object.**"
      ],
      "metadata": {
        "id": "T4NnfH7y7wTb"
      }
    },
    {
      "cell_type": "code",
      "source": [
        "class Vehicle:\n",
        "    def __init__(self, color, speed):\n",
        "        self.color = color\n",
        "        self.speed = speed\n",
        "\n",
        "    def display_info(self):\n",
        "        return f\"Vehicle: Color={self.color}, Speed={self.speed}km/h\"\n",
        "\n",
        "class Car(Vehicle):\n",
        "    def __init__(self, color, speed, brand):\n",
        "        super().__init__(color, speed)  # Initialize parent class attributes\n",
        "        self.brand = brand\n",
        "\n",
        "    def display_info(self):\n",
        "        return f\"Car: Brand={self.brand}, Color={self.color}, Speed={self.speed}km/h\"\n",
        "\n",
        "# Creating a Car object\n",
        "my_car = Car(\"Red\", 180, \"Toyota\")\n",
        "print(my_car.display_info())  # Output: Car: Brand=Toyota, Color=Red, Speed=180km/h"
      ],
      "metadata": {
        "colab": {
          "base_uri": "https://localhost:8080/"
        },
        "id": "aa7Ta3Qo7vmc",
        "outputId": "0817803f-97f7-4397-b987-67dae3e4ee68"
      },
      "execution_count": 20,
      "outputs": [
        {
          "output_type": "stream",
          "name": "stdout",
          "text": [
            "Car: Brand=Toyota, Color=Red, Speed=180km/h\n"
          ]
        }
      ]
    },
    {
      "cell_type": "markdown",
      "source": [
        "4. **Explain the concept of method overriding in inheritance. Provide a practical example.**\n",
        " - Method overriding occurs when a child class provides a specific implementation for a method that is already defined in its parent class. The child's implementation takes precedence over the parent's implementation when the method is called on the child object."
      ],
      "metadata": {
        "id": "13naRSLN74PU"
      }
    },
    {
      "cell_type": "code",
      "source": [
        "class Animal:\n",
        "    def make_sound(self):\n",
        "        return \"Some generic animal sound\"\n",
        "\n",
        "class Dog(Animal):\n",
        "    def make_sound(self):  # Overriding the parent class method\n",
        "        return \"Woof!\"\n",
        "\n",
        "class Cat(Animal):\n",
        "    def make_sound(self):  # Overriding the parent class method\n",
        "        return \"Meow!\"\n",
        "\n",
        "# Example usage\n",
        "generic_animal = Animal()\n",
        "dog = Dog()\n",
        "cat = Cat()\n",
        "\n",
        "print(generic_animal.make_sound())  # Output: Some generic animal sound\n",
        "print(dog.make_sound())  # Output: Woof!\n",
        "print(cat.make_sound())  # Output: Meow!"
      ],
      "metadata": {
        "colab": {
          "base_uri": "https://localhost:8080/"
        },
        "id": "Zw9WdkdB7q6c",
        "outputId": "b85778a0-a3dc-4930-de86-553de490f6b1"
      },
      "execution_count": 21,
      "outputs": [
        {
          "output_type": "stream",
          "name": "stdout",
          "text": [
            "Some generic animal sound\n",
            "Woof!\n",
            "Meow!\n"
          ]
        }
      ]
    },
    {
      "cell_type": "markdown",
      "source": [
        "5. **How can you access the methods and attributes of a parent class from a child class in Python? Give an example.**"
      ],
      "metadata": {
        "id": "FNF72DMo8Fu-"
      }
    },
    {
      "cell_type": "code",
      "source": [
        "class Parent:\n",
        "    def __init__(self):\n",
        "        self.value = 10\n",
        "\n",
        "    def method(self):\n",
        "        return \"Parent method\"\n",
        "\n",
        "class Child(Parent):\n",
        "    def __init__(self):\n",
        "        super().__init__()  # Access parent's __init__ using super()\n",
        "        self.child_value = 20\n",
        "\n",
        "    def child_method(self):\n",
        "        # Access parent's attributes and methods\n",
        "        parent_method_result = super().method()\n",
        "        return f\"Parent value: {self.value}, Parent method: {parent_method_result}\"\n",
        "\n",
        "    def alternative_access(self):\n",
        "        # Alternative way using direct parent class name\n",
        "        return Parent.method(self)\n",
        "child = Child()\n",
        "print(child.child_method())  # Output: Parent value: 10, Parent method: Parent method\n",
        "print(child.alternative_access())  # Output: Parent method"
      ],
      "metadata": {
        "colab": {
          "base_uri": "https://localhost:8080/"
        },
        "id": "yu-IVeWD8CKF",
        "outputId": "e9ff708f-0b9c-4caf-adf7-1b27b1f27856"
      },
      "execution_count": 23,
      "outputs": [
        {
          "output_type": "stream",
          "name": "stdout",
          "text": [
            "Parent value: 10, Parent method: Parent method\n",
            "Parent method\n"
          ]
        }
      ]
    },
    {
      "cell_type": "code",
      "source": [],
      "metadata": {
        "id": "SxUZTZrP8UoN"
      },
      "execution_count": null,
      "outputs": []
    }
  ]
}