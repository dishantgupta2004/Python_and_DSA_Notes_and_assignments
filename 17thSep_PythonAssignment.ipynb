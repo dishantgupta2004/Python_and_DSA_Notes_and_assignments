{
  "nbformat": 4,
  "nbformat_minor": 0,
  "metadata": {
    "colab": {
      "provenance": [],
      "authorship_tag": "ABX9TyMzeiUEr6964OkX2dUs38kE",
      "include_colab_link": true
    },
    "kernelspec": {
      "name": "python3",
      "display_name": "Python 3"
    },
    "language_info": {
      "name": "python"
    }
  },
  "cells": [
    {
      "cell_type": "markdown",
      "metadata": {
        "id": "view-in-github",
        "colab_type": "text"
      },
      "source": [
        "<a href=\"https://colab.research.google.com/github/dishantgupta2004/Python_and_DSA_Notes_and_assignments/blob/main/17thSep_PythonAssignment.ipynb\" target=\"_parent\"><img src=\"https://colab.research.google.com/assets/colab-badge.svg\" alt=\"Open In Colab\"/></a>"
      ]
    },
    {
      "cell_type": "markdown",
      "source": [
        "# **FOR LOOP (1 - 23 )**"
      ],
      "metadata": {
        "id": "71Wa2hWiu1Tk"
      }
    },
    {
      "cell_type": "code",
      "execution_count": null,
      "metadata": {
        "colab": {
          "base_uri": "https://localhost:8080/"
        },
        "id": "xMtYRy4WuWxt",
        "outputId": "5473e067-72b1-4713-e553-9c9ce6508093"
      },
      "outputs": [
        {
          "output_type": "stream",
          "name": "stdout",
          "text": [
            "1\n",
            "2\n",
            "3\n",
            "4\n",
            "5\n",
            "6\n",
            "7\n",
            "8\n",
            "9\n",
            "10\n"
          ]
        }
      ],
      "source": [
        "#1. print numbers 1 to 10\n",
        "for i in range(1, 11):\n",
        "    print(i, sep= \" \")\n"
      ]
    },
    {
      "cell_type": "markdown",
      "source": [
        "# **FOR LOOP (1 - 23)**"
      ],
      "metadata": {
        "id": "Ax8R34yX7lFG"
      }
    },
    {
      "cell_type": "code",
      "source": [
        "#1. write a program to print 1 to 10\n",
        "def printnum(num):\n",
        "  for i in range (1, num + 1):\n",
        "    print(i)\n",
        "\n",
        "#2 . Difference between FOR and WHILE\n"
      ],
      "metadata": {
        "id": "RT8yRLnCu97x"
      },
      "execution_count": 6,
      "outputs": []
    },
    {
      "cell_type": "code",
      "source": [
        "# For loop example\n",
        "print(\"For loop example:\")\n",
        "for i in range(5):\n",
        "    print(i)\n",
        "\n",
        "# While loop example\n",
        "print(\"\\nWhile loop example:\")\n",
        "i = 0\n",
        "while i < 5:\n",
        "    print(i)\n",
        "    i += 1\n",
        "\n",
        "\n",
        "#Key differences:\n",
        "#- For loops are used when the number of iterations is known in advance\n",
        "#- While loops are used when the number of iterations depends on a condition\n",
        "#- For loops in Python are typically used with iterables (lists, tuples, etc.)\n",
        "#- While loops continue until a condition becomes False\n",
        "#- For loops are generally more concise for simple iteration tasks\n"
      ],
      "metadata": {
        "colab": {
          "base_uri": "https://localhost:8080/"
        },
        "id": "Ejoygotz749L",
        "outputId": "89a692d7-d647-4b3f-8157-f2b2ecc77603"
      },
      "execution_count": 8,
      "outputs": [
        {
          "output_type": "stream",
          "name": "stdout",
          "text": [
            "For loop example:\n",
            "0\n",
            "1\n",
            "2\n",
            "3\n",
            "4\n",
            "\n",
            "While loop example:\n",
            "0\n",
            "1\n",
            "2\n",
            "3\n",
            "4\n"
          ]
        }
      ]
    },
    {
      "cell_type": "code",
      "source": [
        "#3. sum of numbers :\n",
        "# Program to calculate sum of numbers from 1 to 100\n",
        "total = 0\n",
        "for i in range(1, 101):\n",
        "    total += i\n",
        "print(f\"Sum of numbers from 1 to 100: {total}\")  # Should output 5050"
      ],
      "metadata": {
        "colab": {
          "base_uri": "https://localhost:8080/"
        },
        "id": "kHNnegLC8Q4e",
        "outputId": "51716486-e3c4-4317-94ed-0087e4015085"
      },
      "execution_count": 9,
      "outputs": [
        {
          "output_type": "stream",
          "name": "stdout",
          "text": [
            "Sum of numbers from 1 to 100: 5050\n"
          ]
        }
      ]
    },
    {
      "cell_type": "markdown",
      "source": [
        "4. How do you iterate through a list using a for loop in Python?\n",
        "5. Write a Python program to find the product of all elements in a list using a for loop.\n",
        "6. Create a Python program that prints all even numbers from 1 to 20 using a for loop.\n",
        "7. Write a Python program that calculates the factorial of a number using a for loop.\n",
        "8. How can you iterate through the characters of a string using a for loop in Python?\n",
        "9. Write a Python program to find the largest number in a list using a for loop.\n",
        "10. Create a Python program that prints the Fibonacci sequence up to a specified limit using a for loop.\n",
        "11. Write a Python program to count the number of vowels in a given string using a for loop.\n",
        "12. Create a Python program that generates a multiplication table for a given number using a for loop.\n",
        "13. Write a Python program to reverse a list using a for loop.\n",
        "14. Write a Python program to find the common elements between two lists using a for loop.\n",
        "15. Explain how to use a for loop to iterate through the keys and values of a dictionary in Python.\n",
        "16. Write a Python program to find the GCD (Greatest Common Divisor) of two numbers using a for loop.\n",
        "17. Create a Python program that checks if a string is a palindrome using a for loop.\n",
        "18. Write a Python program to remove duplicates from a list using a for loop.\n",
        "19. Create a Python program that counts the number of words in a sentence using a for loop.\n",
        "20. Write a Python program to find the sum of all odd numbers from 1 to 50 using a for loop.\n",
        "21. Write a Python program that checks if a given year is a leap year using a for loop.\n",
        "22. Create a Python program that calculates the square root of a number using a for loop.\n",
        "23. Write a Python program to find the LCM (Least Common Multiple) of two numbers using a for loop.\n"
      ],
      "metadata": {
        "id": "nMIiqIg98pJv"
      }
    },
    {
      "cell_type": "code",
      "source": [
        "#4.\n",
        "fruits = [\"apple\", \"banana\", \"cherry\", \"date\", \"elderberry\"]\n",
        "print(\"List of fruits:\")\n",
        "for fruit in fruits:\n",
        "    print(fruit)\n",
        "print(\"\\nUsing index:\")\n",
        "for i in range(len(fruits)):\n",
        "    print(f\"Index {i}: {fruits[i]}\")"
      ],
      "metadata": {
        "colab": {
          "base_uri": "https://localhost:8080/"
        },
        "id": "CKKGOD9M8ha6",
        "outputId": "a8a26e51-fdc9-451b-f79f-826ba218e410"
      },
      "execution_count": 10,
      "outputs": [
        {
          "output_type": "stream",
          "name": "stdout",
          "text": [
            "List of fruits:\n",
            "apple\n",
            "banana\n",
            "cherry\n",
            "date\n",
            "elderberry\n",
            "\n",
            "Using index:\n",
            "Index 0: apple\n",
            "Index 1: banana\n",
            "Index 2: cherry\n",
            "Index 3: date\n",
            "Index 4: elderberry\n"
          ]
        }
      ]
    },
    {
      "cell_type": "code",
      "source": [
        "#5.\n",
        "numbers = [2, 3, 4, 5]\n",
        "product = 1\n",
        "for num in numbers:\n",
        "    product *= num\n",
        "print(f\"Product of {numbers}: {product}\")"
      ],
      "metadata": {
        "colab": {
          "base_uri": "https://localhost:8080/"
        },
        "id": "yeZfA45w9EOj",
        "outputId": "70e8dbe3-ad07-4674-c75b-42e81693ed58"
      },
      "execution_count": 11,
      "outputs": [
        {
          "output_type": "stream",
          "name": "stdout",
          "text": [
            "Product of [2, 3, 4, 5]: 120\n"
          ]
        }
      ]
    },
    {
      "cell_type": "code",
      "source": [
        "#6.\n",
        "print(\"Even numbers from 1 to 20:\")\n",
        "for i in range(1, 21):\n",
        "    if i % 2 == 0:\n",
        "        print(i)\n",
        "\n",
        "print(\"\\nAlternative approach:\")\n",
        "for i in range(2, 21, 2):\n",
        "    print(i)"
      ],
      "metadata": {
        "colab": {
          "base_uri": "https://localhost:8080/"
        },
        "id": "_SDhL1xf9Jej",
        "outputId": "2f8470b1-c89a-4d9f-fe48-ea1fcccca190"
      },
      "execution_count": 12,
      "outputs": [
        {
          "output_type": "stream",
          "name": "stdout",
          "text": [
            "Even numbers from 1 to 20:\n",
            "2\n",
            "4\n",
            "6\n",
            "8\n",
            "10\n",
            "12\n",
            "14\n",
            "16\n",
            "18\n",
            "20\n",
            "\n",
            "Alternative approach:\n",
            "2\n",
            "4\n",
            "6\n",
            "8\n",
            "10\n",
            "12\n",
            "14\n",
            "16\n",
            "18\n",
            "20\n"
          ]
        }
      ]
    },
    {
      "cell_type": "code",
      "source": [
        "#7.\n",
        "num = 5\n",
        "factorial = 1\n",
        "for i in range(1, num + 1):\n",
        "    factorial *= i\n",
        "print(f\"Factorial of {num}: {factorial}\")"
      ],
      "metadata": {
        "colab": {
          "base_uri": "https://localhost:8080/"
        },
        "id": "zI6oHk6Z9PEK",
        "outputId": "bd83c2bc-c827-4c4b-ec71-e9b2b5584a88"
      },
      "execution_count": 13,
      "outputs": [
        {
          "output_type": "stream",
          "name": "stdout",
          "text": [
            "Factorial of 5: 120\n"
          ]
        }
      ]
    },
    {
      "cell_type": "code",
      "source": [
        "#8.\n",
        "text = \"Python\"\n",
        "print(\"Characters in 'Python':\")\n",
        "for char in text:\n",
        "    print(char)\n",
        "\n",
        "# Using index\n",
        "print(\"\\nUsing index:\")\n",
        "for i in range(len(text)):\n",
        "    print(f\"Index {i}: {text[i]}\")"
      ],
      "metadata": {
        "colab": {
          "base_uri": "https://localhost:8080/"
        },
        "id": "JKHBRhTk9UrK",
        "outputId": "86a69cb0-e481-4fff-ed30-dd163c08433d"
      },
      "execution_count": 14,
      "outputs": [
        {
          "output_type": "stream",
          "name": "stdout",
          "text": [
            "Characters in 'Python':\n",
            "P\n",
            "y\n",
            "t\n",
            "h\n",
            "o\n",
            "n\n",
            "\n",
            "Using index:\n",
            "Index 0: P\n",
            "Index 1: y\n",
            "Index 2: t\n",
            "Index 3: h\n",
            "Index 4: o\n",
            "Index 5: n\n"
          ]
        }
      ]
    },
    {
      "cell_type": "code",
      "source": [
        "#9.\n",
        "numbers = [34, 12, 89, 56, 45, 73, 21]\n",
        "largest = numbers[0]  # Initialize with first element\n",
        "for num in numbers:\n",
        "    if num > largest:\n",
        "        largest = num\n",
        "print(f\"Largest number in {numbers}: {largest}\")"
      ],
      "metadata": {
        "colab": {
          "base_uri": "https://localhost:8080/"
        },
        "id": "79dzSE9R9YS9",
        "outputId": "f96d9bf9-29c3-4ea9-b802-40045363c8b5"
      },
      "execution_count": 15,
      "outputs": [
        {
          "output_type": "stream",
          "name": "stdout",
          "text": [
            "Largest number in [34, 12, 89, 56, 45, 73, 21]: 89\n"
          ]
        }
      ]
    },
    {
      "cell_type": "code",
      "source": [
        "#10. Program to print Fibonacci sequence up to a specified limit\n",
        "limit = 100\n",
        "a, b = 0, 1\n",
        "print(\"Fibonacci sequence up to\", limit, \":\")\n",
        "print(a, end=\" \")\n",
        "print(b, end=\" \")\n",
        "for _ in range(10):\n",
        "    c = a + b\n",
        "    if c > limit:\n",
        "        break\n",
        "    print(c, end=\" \")\n",
        "    a, b = b, c\n",
        "print()  # New line after sequence"
      ],
      "metadata": {
        "colab": {
          "base_uri": "https://localhost:8080/"
        },
        "id": "Xr6ZBP6y9dD7",
        "outputId": "128544f9-8d13-4505-89e0-b1b779d48769"
      },
      "execution_count": 16,
      "outputs": [
        {
          "output_type": "stream",
          "name": "stdout",
          "text": [
            "Fibonacci sequence up to 100 :\n",
            "0 1 1 2 3 5 8 13 21 34 55 89 \n"
          ]
        }
      ]
    },
    {
      "cell_type": "code",
      "source": [
        "#11. Program to count vowels in a string\n",
        "text = \"Hello, how are you doing today?\"\n",
        "vowels = \"aeiouAEIOU\"\n",
        "count = 0\n",
        "for char in text:\n",
        "    if char in vowels:\n",
        "        count += 1\n",
        "print(f\"Number of vowels in '{text}': {count}\")"
      ],
      "metadata": {
        "colab": {
          "base_uri": "https://localhost:8080/"
        },
        "id": "Etp78urX9hAA",
        "outputId": "e1da9d0a-e6ce-442c-c120-265756aa0c9f"
      },
      "execution_count": 17,
      "outputs": [
        {
          "output_type": "stream",
          "name": "stdout",
          "text": [
            "Number of vowels in 'Hello, how are you doing today?': 11\n"
          ]
        }
      ]
    },
    {
      "cell_type": "code",
      "source": [
        "#12. Program to generate multiplication table\n",
        "num = 7\n",
        "print(f\"Multiplication table for {num}:\")\n",
        "for i in range(1, 11):\n",
        "    print(f\"{num} × {i} = {num * i}\")"
      ],
      "metadata": {
        "colab": {
          "base_uri": "https://localhost:8080/"
        },
        "id": "vCCvh58q9i6N",
        "outputId": "61f2c1ea-88d5-43c4-a051-ba1d7f1fc562"
      },
      "execution_count": 18,
      "outputs": [
        {
          "output_type": "stream",
          "name": "stdout",
          "text": [
            "Multiplication table for 7:\n",
            "7 × 1 = 7\n",
            "7 × 2 = 14\n",
            "7 × 3 = 21\n",
            "7 × 4 = 28\n",
            "7 × 5 = 35\n",
            "7 × 6 = 42\n",
            "7 × 7 = 49\n",
            "7 × 8 = 56\n",
            "7 × 9 = 63\n",
            "7 × 10 = 70\n"
          ]
        }
      ]
    },
    {
      "cell_type": "code",
      "source": [
        "#13. Program to reverse a list\n",
        "original_list = [1, 2, 3, 4, 5]\n",
        "reversed_list = []\n",
        "for i in range(len(original_list) - 1, -1, -1):\n",
        "    reversed_list.append(original_list[i])\n",
        "print(f\"Original list: {original_list}\")\n",
        "print(f\"Reversed list: {reversed_list}\")"
      ],
      "metadata": {
        "colab": {
          "base_uri": "https://localhost:8080/"
        },
        "id": "W0syXCa79lAL",
        "outputId": "d08d96fe-717b-4569-9839-b0bae86ec752"
      },
      "execution_count": 19,
      "outputs": [
        {
          "output_type": "stream",
          "name": "stdout",
          "text": [
            "Original list: [1, 2, 3, 4, 5]\n",
            "Reversed list: [5, 4, 3, 2, 1]\n"
          ]
        }
      ]
    },
    {
      "cell_type": "code",
      "source": [
        "#14.  Program to find common elements between two lists\n",
        "list1 = [1, 2, 3, 4, 5]\n",
        "list2 = [4, 5, 6, 7, 8]\n",
        "common_elements = []\n",
        "for item in list1:\n",
        "    if item in list2:\n",
        "        common_elements.append(item)\n",
        "print(f\"List 1: {list1}\")\n",
        "print(f\"List 2: {list2}\")\n",
        "print(f\"Common elements: {common_elements}\")"
      ],
      "metadata": {
        "colab": {
          "base_uri": "https://localhost:8080/"
        },
        "id": "NxjbqnQQ9nG5",
        "outputId": "824a65d3-baf6-4f52-a6b6-2f660ef42db1"
      },
      "execution_count": 20,
      "outputs": [
        {
          "output_type": "stream",
          "name": "stdout",
          "text": [
            "List 1: [1, 2, 3, 4, 5]\n",
            "List 2: [4, 5, 6, 7, 8]\n",
            "Common elements: [4, 5]\n"
          ]
        }
      ]
    },
    {
      "cell_type": "code",
      "source": [
        "#15. Program to iterate through keys and values of a dictionary\n",
        "student = {\n",
        "    \"name\": \"John\",\n",
        "    \"age\": 22,\n",
        "    \"major\": \"Computer Science\",\n",
        "    \"GPA\": 3.8\n",
        "}\n",
        "\n",
        "# Iterating through keys\n",
        "print(\"Dictionary keys:\")\n",
        "for key in student:\n",
        "    print(key)\n",
        "\n",
        "# Iterating through values\n",
        "print(\"\\nDictionary values:\")\n",
        "for value in student.values():\n",
        "    print(value)\n",
        "\n",
        "# Iterating through key-value pairs\n",
        "print(\"\\nDictionary key-value pairs:\")\n",
        "for key, value in student.items():\n",
        "    print(f\"{key}: {value}\")"
      ],
      "metadata": {
        "colab": {
          "base_uri": "https://localhost:8080/"
        },
        "id": "5wdOb3zC9o05",
        "outputId": "243b0fa8-2507-4ea8-fe75-a4092ba986c5"
      },
      "execution_count": 21,
      "outputs": [
        {
          "output_type": "stream",
          "name": "stdout",
          "text": [
            "Dictionary keys:\n",
            "name\n",
            "age\n",
            "major\n",
            "GPA\n",
            "\n",
            "Dictionary values:\n",
            "John\n",
            "22\n",
            "Computer Science\n",
            "3.8\n",
            "\n",
            "Dictionary key-value pairs:\n",
            "name: John\n",
            "age: 22\n",
            "major: Computer Science\n",
            "GPA: 3.8\n"
          ]
        }
      ]
    },
    {
      "cell_type": "code",
      "source": [
        "#16.  Program to find GCD of two numbers\n",
        "num1 = 48\n",
        "num2 = 18\n",
        "gcd = 1\n",
        "for i in range(1, min(num1, num2) + 1):\n",
        "    if num1 % i == 0 and num2 % i == 0:\n",
        "        gcd = i\n",
        "print(f\"GCD of {num1} and {num2}: {gcd}\")"
      ],
      "metadata": {
        "colab": {
          "base_uri": "https://localhost:8080/"
        },
        "id": "H2J5C95w9q-P",
        "outputId": "03101989-01b8-4499-81fc-5f176327ce7b"
      },
      "execution_count": 22,
      "outputs": [
        {
          "output_type": "stream",
          "name": "stdout",
          "text": [
            "GCD of 48 and 18: 6\n"
          ]
        }
      ]
    },
    {
      "cell_type": "code",
      "source": [
        "#17.  Program to check if a string is a palindrome\n",
        "text = \"racecar\"\n",
        "is_palindrome = True\n",
        "for i in range(len(text) // 2):\n",
        "    if text[i] != text[len(text) - 1 - i]:\n",
        "        is_palindrome = False\n",
        "        break\n",
        "print(f\"'{text}' is a palindrome: {is_palindrome}\")"
      ],
      "metadata": {
        "colab": {
          "base_uri": "https://localhost:8080/"
        },
        "id": "UIqfGWwC9vlO",
        "outputId": "1ca71bc6-87e9-4b54-d678-e42e807e1256"
      },
      "execution_count": 23,
      "outputs": [
        {
          "output_type": "stream",
          "name": "stdout",
          "text": [
            "'racecar' is a palindrome: True\n"
          ]
        }
      ]
    },
    {
      "cell_type": "code",
      "source": [
        "#18. Program to remove duplicates from a list\n",
        "original_list = [1, 2, 3, 2, 4, 5, 1, 6, 3]\n",
        "unique_list = []\n",
        "for item in original_list:\n",
        "    if item not in unique_list:\n",
        "        unique_list.append(item)\n",
        "print(f\"Original list: {original_list}\")\n",
        "print(f\"List with duplicates removed: {unique_list}\")"
      ],
      "metadata": {
        "colab": {
          "base_uri": "https://localhost:8080/"
        },
        "id": "BRNyf9BA9xIG",
        "outputId": "a7fe7df3-466c-45f6-e573-5957d4dfcd41"
      },
      "execution_count": 24,
      "outputs": [
        {
          "output_type": "stream",
          "name": "stdout",
          "text": [
            "Original list: [1, 2, 3, 2, 4, 5, 1, 6, 3]\n",
            "List with duplicates removed: [1, 2, 3, 4, 5, 6]\n"
          ]
        }
      ]
    },
    {
      "cell_type": "code",
      "source": [
        "#19. Program to count words in a sentence\n",
        "sentence = \"This is a sample sentence to count the number of words.\"\n",
        "word_count = 0\n",
        "# Initialize to 1 if the sentence is not empty (there's at least one word)\n",
        "if sentence.strip():\n",
        "    word_count = 1\n",
        "    for char in sentence:\n",
        "        if char == ' ' and sentence[sentence.index(char) + 1] != ' ':\n",
        "            word_count += 1\n",
        "print(f\"Number of words in '{sentence}': {word_count}\")\n",
        "\n",
        "# Alternative approach using split()\n",
        "words = sentence.split()\n",
        "print(f\"Number of words (using split): {len(words)}\")"
      ],
      "metadata": {
        "colab": {
          "base_uri": "https://localhost:8080/"
        },
        "id": "k16LHI779zGN",
        "outputId": "19de63b2-8c46-4071-e296-83f78fd0e1a3"
      },
      "execution_count": 25,
      "outputs": [
        {
          "output_type": "stream",
          "name": "stdout",
          "text": [
            "Number of words in 'This is a sample sentence to count the number of words.': 11\n",
            "Number of words (using split): 11\n"
          ]
        }
      ]
    },
    {
      "cell_type": "code",
      "source": [
        "#20. Program to find sum of odd numbers from 1 to 50\n",
        "total = 0\n",
        "for i in range(1, 51, 2):\n",
        "    total += i\n",
        "print(f\"Sum of odd numbers from 1 to 50: {total}\")"
      ],
      "metadata": {
        "colab": {
          "base_uri": "https://localhost:8080/"
        },
        "id": "tbGQA5BH91Pa",
        "outputId": "e0ede639-2ee1-4d6b-b2ca-08b147e6e51c"
      },
      "execution_count": 26,
      "outputs": [
        {
          "output_type": "stream",
          "name": "stdout",
          "text": [
            "Sum of odd numbers from 1 to 50: 625\n"
          ]
        }
      ]
    },
    {
      "cell_type": "markdown",
      "source": [
        "# **IF ELSE STATEMENT (1 - 24)**"
      ],
      "metadata": {
        "id": "yTUjT_tk-JUZ"
      }
    },
    {
      "cell_type": "markdown",
      "source": [
        "1. Write a Python program to check if a number is positive, negative, or zero using an if-else statement.\n",
        "2. Create a Python program that checks if a given number is even or odd using an if-else statement.\n",
        "3. How can you use nested if-else statements in Python, and provide an example?\n",
        "4. Write a Python program to determine the largest of three numbers using if-else.\n",
        "5. Write a Python program that calculates the absolute value of a number using if-else.\n",
        "6. Create a Python program that checks if a given character is a vowel or consonant using if-else.\n",
        "7. Write a Python program to determine if a user is eligible to vote based on their age using if-else.\n",
        "8. Create a Python program that calculates the discount amount based on the purchase amount using if-else.\n",
        "9. Write a Python program to check if a number is within a specified range using if-else.\n",
        "10. Create a Python program that determines the grade of a student based on their score using if-else.\n",
        "11. Write a Python program to check if a string is empty or not using if-else.\n",
        "12. Create a Python program that identifies the type of a triangle (e.g., equilateral, isosceles, or scalene) based on input values using if-else.\n",
        "13. Write a Python program to determine the day of the week based on a user-provided number using if-else.\n",
        "14. Create a Python program that checks if a given year is a leap year using both if-else and a function.\n",
        "15. How do you use the \"assert\" statement in Python to add debugging checks within if-else blocks?\n",
        "16. Create a Python program that determines the eligibility of a person for a senior citizen discount based on age using if-else.\n",
        "17. Write a Python program to categorize a given character as uppercase, lowercase, or neither using if-else.\n",
        "18. Write a Python program to determine the roots of a quadratic equation using if-else.\n",
        "19. Create a Python program that checks if a given year is a century year or not using if-else.\n",
        "20. Write a Python program to determine if a given number is a perfect square using if-else.\n",
        "21. Explain the purpose of the \"continue\" and \"break\" statements within if-else loops.\n",
        "22. Create a Python program that calculates the BMI (Body Mass Index) of a person based on their weight and height using if-else.\n",
        "23. How can you use the \"filter()\" function with if-else statements to filter elements from a list?\n",
        "24. Write a Python program to determine if a given number is prime or not using if-else.\n"
      ],
      "metadata": {
        "id": "mTAGriHN-z1t"
      }
    },
    {
      "cell_type": "code",
      "source": [
        "# Program to check if a number is positive, negative, or zero\n",
        "num = -7\n",
        "if num > 0:\n",
        "    print(f\"{num} is positive\")\n",
        "elif num < 0:\n",
        "    print(f\"{num} is negative\")\n",
        "else:\n",
        "    print(\"The number is zero\")"
      ],
      "metadata": {
        "colab": {
          "base_uri": "https://localhost:8080/"
        },
        "id": "yOEorRtK93pL",
        "outputId": "f7574eaa-8f1a-4fb6-9667-940098d33fef"
      },
      "execution_count": 27,
      "outputs": [
        {
          "output_type": "stream",
          "name": "stdout",
          "text": [
            "-7 is negative\n"
          ]
        }
      ]
    },
    {
      "cell_type": "code",
      "source": [
        "# Program to check if a number is even or odd\n",
        "num = 15\n",
        "if num % 2 == 0:\n",
        "    print(f\"{num} is even\")\n",
        "else:\n",
        "    print(f\"{num} is odd\")"
      ],
      "metadata": {
        "colab": {
          "base_uri": "https://localhost:8080/"
        },
        "id": "X_yR0j5Y_VO-",
        "outputId": "ac007c0b-06a3-4453-dec3-1f80dfe8f9c8"
      },
      "execution_count": 28,
      "outputs": [
        {
          "output_type": "stream",
          "name": "stdout",
          "text": [
            "15 is odd\n"
          ]
        }
      ]
    },
    {
      "cell_type": "code",
      "source": [
        "# Program demonstrating nested if-else statements\n",
        "age = 25\n",
        "income = 45000\n",
        "\n",
        "if age >= 18:\n",
        "    print(\"Person is an adult\")\n",
        "    if income < 30000:\n",
        "        print(\"Low income bracket\")\n",
        "    elif income < 60000:\n",
        "        print(\"Middle income bracket\")\n",
        "    else:\n",
        "        print(\"High income bracket\")\n",
        "else:\n",
        "    print(\"Person is a minor\")\n",
        "    if age < 13:\n",
        "        print(\"Child\")\n",
        "    else:\n",
        "        print(\"Teenager\")"
      ],
      "metadata": {
        "colab": {
          "base_uri": "https://localhost:8080/"
        },
        "id": "ILzKcZOM_eRK",
        "outputId": "3837dbe5-95fd-4f85-913f-84a7b4b88bdc"
      },
      "execution_count": 29,
      "outputs": [
        {
          "output_type": "stream",
          "name": "stdout",
          "text": [
            "Person is an adult\n",
            "Middle income bracket\n"
          ]
        }
      ]
    },
    {
      "cell_type": "code",
      "source": [
        "# Program to find largest of three numbers\n",
        "a, b, c = 12, 45, 23\n",
        "if a >= b and a >= c:\n",
        "    largest = a\n",
        "elif b >= a and b >= c:\n",
        "    largest = b\n",
        "else:\n",
        "    largest = c\n",
        "print(f\"The largest number among {a}, {b}, and {c} is {largest}\")"
      ],
      "metadata": {
        "colab": {
          "base_uri": "https://localhost:8080/"
        },
        "id": "bmddZ2fr_gJq",
        "outputId": "70947190-e791-4644-f2dd-14bfd5d8099e"
      },
      "execution_count": 30,
      "outputs": [
        {
          "output_type": "stream",
          "name": "stdout",
          "text": [
            "The largest number among 12, 45, and 23 is 45\n"
          ]
        }
      ]
    },
    {
      "cell_type": "code",
      "source": [
        "# Program to calculate absolute value\n",
        "num = -15\n",
        "if num < 0:\n",
        "    absolute = -num\n",
        "else:\n",
        "    absolute = num\n",
        "print(f\"The absolute value of {num} is {absolute}\")"
      ],
      "metadata": {
        "colab": {
          "base_uri": "https://localhost:8080/"
        },
        "id": "ZffBwiT7_iZS",
        "outputId": "c275a2c0-9615-4211-f044-fad579a58f1a"
      },
      "execution_count": 31,
      "outputs": [
        {
          "output_type": "stream",
          "name": "stdout",
          "text": [
            "The absolute value of -15 is 15\n"
          ]
        }
      ]
    },
    {
      "cell_type": "code",
      "source": [
        "# Program to check if a character is vowel or consonant\n",
        "char = 'e'\n",
        "if char.lower() in 'aeiou':\n",
        "    print(f\"'{char}' is a vowel\")\n",
        "else:\n",
        "    if char.isalpha():\n",
        "        print(f\"'{char}' is a consonant\")\n",
        "    else:\n",
        "        print(f\"'{char}' is not a letter\")"
      ],
      "metadata": {
        "colab": {
          "base_uri": "https://localhost:8080/"
        },
        "id": "kmS02nq7_kMy",
        "outputId": "fb03b7d1-6558-4ba9-a58c-da78a959ef76"
      },
      "execution_count": 32,
      "outputs": [
        {
          "output_type": "stream",
          "name": "stdout",
          "text": [
            "'e' is a vowel\n"
          ]
        }
      ]
    },
    {
      "cell_type": "code",
      "source": [
        "# Program to determine eligibility to vote\n",
        "age = 19\n",
        "if age >= 18:\n",
        "    print(\"Eligible to vote\")\n",
        "else:\n",
        "    print(\"Not eligible to vote\")\n",
        "    print(f\"You will be eligible to vote after {18 - age} years\")"
      ],
      "metadata": {
        "colab": {
          "base_uri": "https://localhost:8080/"
        },
        "id": "NVFhUaRw_l1a",
        "outputId": "f67ae9af-3178-4561-d0f7-7cc52d8ce23e"
      },
      "execution_count": 33,
      "outputs": [
        {
          "output_type": "stream",
          "name": "stdout",
          "text": [
            "Eligible to vote\n"
          ]
        }
      ]
    },
    {
      "cell_type": "code",
      "source": [
        "# Program to calculate discount amount\n",
        "purchase_amount = 1200\n",
        "\n",
        "if purchase_amount < 500:\n",
        "    discount_rate = 0\n",
        "elif purchase_amount < 1000:\n",
        "    discount_rate = 0.05  # 5%\n",
        "elif purchase_amount < 2000:\n",
        "    discount_rate = 0.1   # 10%\n",
        "else:\n",
        "    discount_rate = 0.15  # 15%\n",
        "\n",
        "discount_amount = purchase_amount * discount_rate\n",
        "final_price = purchase_amount - discount_amount\n",
        "\n",
        "print(f\"Purchase amount: ${purchase_amount}\")\n",
        "print(f\"Discount rate: {discount_rate*100}%\")\n",
        "print(f\"Discount amount: ${discount_amount}\")\n",
        "print(f\"Final price: ${final_price}\")"
      ],
      "metadata": {
        "colab": {
          "base_uri": "https://localhost:8080/"
        },
        "id": "v2-fMJFQ_oAE",
        "outputId": "c9d8f800-f64f-44d8-8a37-c5bda8009e4b"
      },
      "execution_count": 34,
      "outputs": [
        {
          "output_type": "stream",
          "name": "stdout",
          "text": [
            "Purchase amount: $1200\n",
            "Discount rate: 10.0%\n",
            "Discount amount: $120.0\n",
            "Final price: $1080.0\n"
          ]
        }
      ]
    },
    {
      "cell_type": "code",
      "source": [
        "# Program to check if a number is within a specified range\n",
        "num = 45\n",
        "lower_bound = 10\n",
        "upper_bound = 50\n",
        "\n",
        "if num >= lower_bound and num <= upper_bound:\n",
        "    print(f\"{num} is within the range of {lower_bound} to {upper_bound}\")\n",
        "else:\n",
        "    print(f\"{num} is outside the range of {lower_bound} to {upper_bound}\")"
      ],
      "metadata": {
        "colab": {
          "base_uri": "https://localhost:8080/"
        },
        "id": "dRm-pDz6_pxp",
        "outputId": "6ad5cf12-3893-41c6-cb9d-2d91d77c7e21"
      },
      "execution_count": 35,
      "outputs": [
        {
          "output_type": "stream",
          "name": "stdout",
          "text": [
            "45 is within the range of 10 to 50\n"
          ]
        }
      ]
    },
    {
      "cell_type": "code",
      "source": [
        "# Program to determine student grade based on score\n",
        "score = 85\n",
        "\n",
        "if score >= 90:\n",
        "    grade = 'A'\n",
        "elif score >= 80:\n",
        "    grade = 'B'\n",
        "elif score >= 70:\n",
        "    grade = 'C'\n",
        "elif score >= 60:\n",
        "    grade = 'D'\n",
        "else:\n",
        "    grade = 'F'\n",
        "\n",
        "print(f\"Score: {score}, Grade: {grade}\")"
      ],
      "metadata": {
        "colab": {
          "base_uri": "https://localhost:8080/"
        },
        "id": "kkB5H0X__r6D",
        "outputId": "fbf10289-0380-411d-c62e-c54cfe670e78"
      },
      "execution_count": 36,
      "outputs": [
        {
          "output_type": "stream",
          "name": "stdout",
          "text": [
            "Score: 85, Grade: B\n"
          ]
        }
      ]
    },
    {
      "cell_type": "code",
      "source": [
        "# Program to check if a string is empty\n",
        "text = \"\"\n",
        "\n",
        "if not text:\n",
        "    print(\"The string is empty\")\n",
        "else:\n",
        "    print(f\"The string is not empty: '{text}'\")"
      ],
      "metadata": {
        "colab": {
          "base_uri": "https://localhost:8080/"
        },
        "id": "80RIqgfT_ulz",
        "outputId": "bdd30d52-1da7-473b-b33b-84b3ea7dd13a"
      },
      "execution_count": 37,
      "outputs": [
        {
          "output_type": "stream",
          "name": "stdout",
          "text": [
            "The string is empty\n"
          ]
        }
      ]
    },
    {
      "cell_type": "code",
      "source": [
        "# Program to identify triangle type\n",
        "side1 = 5\n",
        "side2 = 5\n",
        "side3 = 5\n",
        "\n",
        "# First check if it's a valid triangle\n",
        "if side1 + side2 > side3 and side1 + side3 > side2 and side2 + side3 > side1:\n",
        "    if side1 == side2 == side3:\n",
        "        print(\"Equilateral triangle\")\n",
        "    elif side1 == side2 or side1 == side3 or side2 == side3:\n",
        "        print(\"Isosceles triangle\")\n",
        "    else:\n",
        "        print(\"Scalene triangle\")\n",
        "else:\n",
        "    print(\"Not a valid triangle\")"
      ],
      "metadata": {
        "colab": {
          "base_uri": "https://localhost:8080/"
        },
        "id": "syQ3FIKr_wTT",
        "outputId": "81f9f692-89f8-4464-d6db-7c770af82c42"
      },
      "execution_count": 38,
      "outputs": [
        {
          "output_type": "stream",
          "name": "stdout",
          "text": [
            "Equilateral triangle\n"
          ]
        }
      ]
    },
    {
      "cell_type": "code",
      "source": [
        "# Program to determine day of week based on number\n",
        "day_num = 3\n",
        "\n",
        "if day_num == 1:\n",
        "    day = \"Monday\"\n",
        "elif day_num == 2:\n",
        "    day = \"Tuesday\"\n",
        "elif day_num == 3:\n",
        "    day = \"Wednesday\"\n",
        "elif day_num == 4:\n",
        "    day = \"Thursday\"\n",
        "elif day_num == 5:\n",
        "    day = \"Friday\"\n",
        "elif day_num == 6:\n",
        "    day = \"Saturday\"\n",
        "elif day_num == 7:\n",
        "    day = \"Sunday\"\n",
        "else:\n",
        "    day = \"Invalid day number\"\n",
        "\n",
        "print(f\"Day {day_num} is {day}\")"
      ],
      "metadata": {
        "colab": {
          "base_uri": "https://localhost:8080/"
        },
        "id": "UA4jpiVT_yUC",
        "outputId": "62fbaa7f-80c9-4956-d19e-a95d8f1b723d"
      },
      "execution_count": 39,
      "outputs": [
        {
          "output_type": "stream",
          "name": "stdout",
          "text": [
            "Day 3 is Wednesday\n"
          ]
        }
      ]
    },
    {
      "cell_type": "code",
      "source": [
        "# Program to check if a year is a leap year\n",
        "def is_leap_year(year):\n",
        "    if (year % 4 == 0 and year % 100 != 0) or (year % 400 == 0):\n",
        "        return True\n",
        "    else:\n",
        "        return False\n",
        "\n",
        "# Test the function\n",
        "year = 2024\n",
        "if is_leap_year(year):\n",
        "    print(f\"{year} is a leap year\")\n",
        "else:\n",
        "    print(f\"{year} is not a leap year\")"
      ],
      "metadata": {
        "colab": {
          "base_uri": "https://localhost:8080/"
        },
        "id": "R0HFazDG_0CG",
        "outputId": "d3a377b3-51bf-4acf-cb75-9f815dd1a570"
      },
      "execution_count": 40,
      "outputs": [
        {
          "output_type": "stream",
          "name": "stdout",
          "text": [
            "2024 is a leap year\n"
          ]
        }
      ]
    },
    {
      "cell_type": "code",
      "source": [
        "# Program demonstrating the use of assert statement\n",
        "def divide(a, b):\n",
        "    # Assert that divisor is not zero\n",
        "    assert b != 0, \"Division by zero is not allowed\"\n",
        "    return a / b\n",
        "\n",
        "try:\n",
        "    result = divide(10, 2)\n",
        "    print(f\"10 / 2 = {result}\")\n",
        "\n",
        "    # This will trigger the assertion\n",
        "    result = divide(10, 0)\n",
        "except AssertionError as e:\n",
        "    print(f\"Assertion error: {e}\")"
      ],
      "metadata": {
        "colab": {
          "base_uri": "https://localhost:8080/"
        },
        "id": "OlZVYT1s_1xZ",
        "outputId": "08c8d54a-9bda-4230-ddfd-db2bccc6efc8"
      },
      "execution_count": 41,
      "outputs": [
        {
          "output_type": "stream",
          "name": "stdout",
          "text": [
            "10 / 2 = 5.0\n",
            "Assertion error: Division by zero is not allowed\n"
          ]
        }
      ]
    },
    {
      "cell_type": "code",
      "source": [
        "# Program to check eligibility for senior citizen discount\n",
        "age = 65\n",
        "senior_age = 60\n",
        "\n",
        "if age >= senior_age:\n",
        "    print(\"Eligible for senior citizen discount\")\n",
        "else:\n",
        "    print(\"Not eligible for senior citizen discount\")\n",
        "    print(f\"You will be eligible in {senior_age - age} years\")"
      ],
      "metadata": {
        "colab": {
          "base_uri": "https://localhost:8080/"
        },
        "id": "ijbNBZ8U_3uK",
        "outputId": "5a4fa057-94cc-46d7-e67c-4d09b5bb4b27"
      },
      "execution_count": 42,
      "outputs": [
        {
          "output_type": "stream",
          "name": "stdout",
          "text": [
            "Eligible for senior citizen discount\n"
          ]
        }
      ]
    },
    {
      "cell_type": "code",
      "source": [
        "# Program to categorize character case\n",
        "char = 'A'\n",
        "\n",
        "if char.isupper():\n",
        "    print(f\"'{char}' is uppercase\")\n",
        "elif char.islower():\n",
        "    print(f\"'{char}' is lowercase\")\n",
        "else:\n",
        "    print(f\"'{char}' is neither uppercase nor lowercase\")"
      ],
      "metadata": {
        "colab": {
          "base_uri": "https://localhost:8080/"
        },
        "id": "j80LFF4U_6jR",
        "outputId": "c3e66544-5db0-4ca2-9cd2-63d9cad05626"
      },
      "execution_count": 43,
      "outputs": [
        {
          "output_type": "stream",
          "name": "stdout",
          "text": [
            "'A' is uppercase\n"
          ]
        }
      ]
    },
    {
      "cell_type": "code",
      "source": [
        "# Program to find roots of a quadratic equation\n",
        "import math\n",
        "\n",
        "a = 1\n",
        "b = -3\n",
        "c = 2\n",
        "\n",
        "# Calculate the discriminant\n",
        "discriminant = b**2 - 4*a*c\n",
        "\n",
        "if discriminant > 0:\n",
        "    root1 = (-b + math.sqrt(discriminant)) / (2*a)\n",
        "    root2 = (-b - math.sqrt(discriminant)) / (2*a)\n",
        "    print(f\"Two distinct real roots: {root1} and {root2}\")\n",
        "elif discriminant == 0:\n",
        "    root = -b / (2*a)\n",
        "    print(f\"One real root (repeated): {root}\")\n",
        "else:\n",
        "    real_part = -b / (2*a)\n",
        "    imaginary_part = math.sqrt(abs(discriminant)) / (2*a)\n",
        "    print(f\"Complex roots: {real_part} + {imaginary_part}i and {real_part} - {imaginary_part}i\")"
      ],
      "metadata": {
        "colab": {
          "base_uri": "https://localhost:8080/"
        },
        "id": "mGSz9YRH_8Kn",
        "outputId": "4d1b3fe8-7530-474d-99d6-ba2b015eb8f7"
      },
      "execution_count": 44,
      "outputs": [
        {
          "output_type": "stream",
          "name": "stdout",
          "text": [
            "Two distinct real roots: 2.0 and 1.0\n"
          ]
        }
      ]
    },
    {
      "cell_type": "code",
      "source": [
        "# Program to check if a year is a century year\n",
        "year = 2000\n",
        "\n",
        "if year % 100 == 0:\n",
        "    print(f\"{year} is a century year\")\n",
        "else:\n",
        "    print(f\"{year} is not a century year\")"
      ],
      "metadata": {
        "colab": {
          "base_uri": "https://localhost:8080/"
        },
        "id": "y5-0y461_-2q",
        "outputId": "c1d673ec-1fa6-422d-8c02-86a6389b6da5"
      },
      "execution_count": 45,
      "outputs": [
        {
          "output_type": "stream",
          "name": "stdout",
          "text": [
            "2000 is a century year\n"
          ]
        }
      ]
    },
    {
      "cell_type": "code",
      "source": [
        "# Program to check if a number is a perfect square\n",
        "import math\n",
        "\n",
        "num = 25\n",
        "sqrt_num = math.sqrt(num)\n",
        "\n",
        "if sqrt_num.is_integer():\n",
        "    print(f\"{num} is a perfect square\")\n",
        "else:\n",
        "    print(f\"{num} is not a perfect square\")"
      ],
      "metadata": {
        "colab": {
          "base_uri": "https://localhost:8080/"
        },
        "id": "b3jM8xJ3AAoT",
        "outputId": "0e10bb0a-dc97-4d55-e98c-5fcc3c62795c"
      },
      "execution_count": 46,
      "outputs": [
        {
          "output_type": "stream",
          "name": "stdout",
          "text": [
            "25 is a perfect square\n"
          ]
        }
      ]
    },
    {
      "cell_type": "code",
      "source": [
        "# Program demonstrating break and continue statements\n",
        "print(\"Demonstration of break:\")\n",
        "for i in range(1, 10):\n",
        "    if i == 5:\n",
        "        print(\"Breaking the loop at i =\", i)\n",
        "        break\n",
        "    print(i, end=\" \")\n",
        "print()  # New line\n",
        "\n",
        "print(\"\\nDemonstration of continue:\")\n",
        "for i in range(1, 10):\n",
        "    if i % 2 == 0:\n",
        "        # Skip even numbers\n",
        "        continue\n",
        "    print(i, end=\" \")\n",
        "print()  # New line"
      ],
      "metadata": {
        "colab": {
          "base_uri": "https://localhost:8080/"
        },
        "id": "TvaiKA7HACji",
        "outputId": "2043750f-89ea-4293-a4a6-be6002ab67e2"
      },
      "execution_count": 47,
      "outputs": [
        {
          "output_type": "stream",
          "name": "stdout",
          "text": [
            "Demonstration of break:\n",
            "1 2 3 4 Breaking the loop at i = 5\n",
            "\n",
            "\n",
            "Demonstration of continue:\n",
            "1 3 5 7 9 \n"
          ]
        }
      ]
    },
    {
      "cell_type": "code",
      "source": [
        "# Program to calculate BMI\n",
        "weight = 70  # kg\n",
        "height = 1.75  # meters\n",
        "\n",
        "bmi = weight / (height ** 2)\n",
        "\n",
        "if bmi < 18.5:\n",
        "    category = \"Underweight\"\n",
        "elif bmi < 25:\n",
        "    category = \"Normal weight\"\n",
        "elif bmi < 30:\n",
        "    category = \"Overweight\"\n",
        "else:\n",
        "    category = \"Obese\"\n",
        "\n",
        "print(f\"Weight: {weight} kg, Height: {height} m\")\n",
        "print(f\"BMI: {bmi:.2f}\")\n",
        "print(f\"Category: {category}\")"
      ],
      "metadata": {
        "colab": {
          "base_uri": "https://localhost:8080/"
        },
        "id": "dHo-IRCnAEgH",
        "outputId": "4758cd5e-feda-4fda-8e6f-fe3563a06397"
      },
      "execution_count": 48,
      "outputs": [
        {
          "output_type": "stream",
          "name": "stdout",
          "text": [
            "Weight: 70 kg, Height: 1.75 m\n",
            "BMI: 22.86\n",
            "Category: Normal weight\n"
          ]
        }
      ]
    },
    {
      "cell_type": "code",
      "source": [
        "# Program using filter() with if-else\n",
        "numbers = [1, 2, 3, 4, 5, 6, 7, 8, 9, 10]\n",
        "\n",
        "def is_even(num):\n",
        "    if num % 2 == 0:\n",
        "        return True\n",
        "    else:\n",
        "        return False\n",
        "\n",
        "even_numbers = list(filter(is_even, numbers))\n",
        "print(f\"Original list: {numbers}\")\n",
        "print(f\"Even numbers: {even_numbers}\")"
      ],
      "metadata": {
        "colab": {
          "base_uri": "https://localhost:8080/"
        },
        "id": "Ac0cscsPAGLJ",
        "outputId": "8c53386c-da70-4dab-c29e-6f03e2f350b9"
      },
      "execution_count": 49,
      "outputs": [
        {
          "output_type": "stream",
          "name": "stdout",
          "text": [
            "Original list: [1, 2, 3, 4, 5, 6, 7, 8, 9, 10]\n",
            "Even numbers: [2, 4, 6, 8, 10]\n"
          ]
        }
      ]
    },
    {
      "cell_type": "code",
      "source": [
        "# Program to check if a number is prime\n",
        "num = 17\n",
        "is_prime = True\n",
        "\n",
        "if num <= 1:\n",
        "    is_prime = False\n",
        "else:\n",
        "    for i in range(2, int(num ** 0.5) + 1):\n",
        "        if num % i == 0:\n",
        "            is_prime = False\n",
        "            break\n",
        "\n",
        "if is_prime:\n",
        "    print(f\"{num} is a prime number\")\n",
        "else:\n",
        "    print(f\"{num} is not a prime number\")"
      ],
      "metadata": {
        "colab": {
          "base_uri": "https://localhost:8080/"
        },
        "id": "63I7lb9XAH-H",
        "outputId": "b2649a4e-30af-42b1-88e4-d794b099d4f2"
      },
      "execution_count": 50,
      "outputs": [
        {
          "output_type": "stream",
          "name": "stdout",
          "text": [
            "17 is a prime number\n"
          ]
        }
      ]
    },
    {
      "cell_type": "markdown",
      "source": [
        "# **MAP FUNCTION (1 - 8)**"
      ],
      "metadata": {
        "id": "MH8KHnH9ANT4"
      }
    },
    {
      "cell_type": "markdown",
      "source": [
        "1. Explain the purpose of the `map()` function in Python and provide an example of how it can be used to apply a function to each element of an iterable.\n",
        "2. Write a Python program that uses the `map()` function to square each element of a list of numbers.\n",
        "3. How does the `map()` function differ from a list comprehension in Python, and when would you choose one over the other?\n",
        "4. Create a Python program that uses the `map()` function to convert a list of names to uppercase.\n",
        "5. Write a Python program that uses the `map()` function to calculate the length of each word in a list of strings.\n",
        "6. How can you use the `map()` function to apply a custom function to elements of multiple lists simultaneously in Python?\n",
        "7. Create a Python program that uses `map()` to convert a list of temperatures from Celsius to Fahrenheit.\n",
        "8. Write a Python program that uses the `map()` function to round each element of a list of floating-point numbers to the nearest integer.\n",
        "\n"
      ],
      "metadata": {
        "id": "jCOKrBUDAYih"
      }
    },
    {
      "cell_type": "code",
      "source": [
        "# Program demonstrating the purpose of map() function\n",
        "def square(x):\n",
        "    return x ** 2\n",
        "\n",
        "numbers = [1, 2, 3, 4, 5]\n",
        "squared_numbers = map(square, numbers)\n",
        "\n",
        "# Convert map object to list\n",
        "squared_list = list(squared_numbers)\n",
        "print(f\"Original numbers: {numbers}\")\n",
        "print(f\"Squared numbers: {squared_list}\")\n",
        "\n",
        "\"\"\"\n",
        "Purpose of map():\n",
        "- Applies a given function to each item in an iterable\n",
        "- Returns a map object, which is an iterator\n",
        "- Processes items lazily (one at a time, only when needed)\n",
        "- More memory-efficient for large datasets compared to list comprehensions\n",
        "- Can be used with built-in functions, lambda functions, or user-defined functions\n",
        "\"\"\""
      ],
      "metadata": {
        "colab": {
          "base_uri": "https://localhost:8080/",
          "height": 88
        },
        "id": "ydVvuz3BAUQN",
        "outputId": "250d2b20-21d0-4821-f6e4-0461b5e07ab1"
      },
      "execution_count": 51,
      "outputs": [
        {
          "output_type": "stream",
          "name": "stdout",
          "text": [
            "Original numbers: [1, 2, 3, 4, 5]\n",
            "Squared numbers: [1, 4, 9, 16, 25]\n"
          ]
        },
        {
          "output_type": "execute_result",
          "data": {
            "text/plain": [
              "'\\nPurpose of map():\\n- Applies a given function to each item in an iterable\\n- Returns a map object, which is an iterator\\n- Processes items lazily (one at a time, only when needed)\\n- More memory-efficient for large datasets compared to list comprehensions\\n- Can be used with built-in functions, lambda functions, or user-defined functions\\n'"
            ],
            "application/vnd.google.colaboratory.intrinsic+json": {
              "type": "string"
            }
          },
          "metadata": {},
          "execution_count": 51
        }
      ]
    },
    {
      "cell_type": "code",
      "source": [
        "# Program to square each element in a list using map()\n",
        "numbers = [1, 2, 3, 4, 5]\n",
        "squared = list(map(lambda x: x**2, numbers))\n",
        "print(f\"Original numbers: {numbers}\")\n",
        "print(f\"Squared numbers: {squared}\")"
      ],
      "metadata": {
        "colab": {
          "base_uri": "https://localhost:8080/"
        },
        "id": "p8kUHXkFAuf9",
        "outputId": "57ec2307-1129-4b97-b31b-9227f6603a78"
      },
      "execution_count": 52,
      "outputs": [
        {
          "output_type": "stream",
          "name": "stdout",
          "text": [
            "Original numbers: [1, 2, 3, 4, 5]\n",
            "Squared numbers: [1, 4, 9, 16, 25]\n"
          ]
        }
      ]
    },
    {
      "cell_type": "code",
      "source": [
        "# Program comparing map() and list comprehension\n",
        "numbers = [1, 2, 3, 4, 5]\n",
        "\n",
        "# Using map() with lambda\n",
        "squared_map = list(map(lambda x: x**2, numbers))\n",
        "\n",
        "# Using list comprehension\n",
        "squared_comp = [x**2 for x in numbers]\n",
        "\n",
        "print(f\"Original numbers: {numbers}\")\n",
        "print(f\"Using map(): {squared_map}\")\n",
        "print(f\"Using list comprehension: {squared_comp}\")\n",
        "\n",
        "\"\"\"\n",
        "Differences between map() and list comprehension:\n",
        "1. Syntax:\n",
        "   - map() uses functional programming style\n",
        "   - List comprehensions use a more Python-specific syntax\n",
        "\n",
        "2. Readability:\n",
        "   - List comprehensions are often more readable for simple operations\n",
        "   - map() may be clearer for applying existing functions\n",
        "\n",
        "3. Filtering:\n",
        "   - List comprehensions can filter elements with an if clause\n",
        "   - map() needs to be combined with filter() for filtering\n",
        "\n",
        "4. Memory usage:\n",
        "   - In Python 3, map() returns an iterator (lazy evaluation)\n",
        "   - List comprehensions create the entire list at once\n",
        "\n",
        "5. Performance:\n",
        "   - For simple operations, list comprehensions may be slightly faster\n",
        "   - For complex operations or reusing functions, map() might be better\n",
        "\"\"\""
      ],
      "metadata": {
        "colab": {
          "base_uri": "https://localhost:8080/",
          "height": 157
        },
        "id": "NeBL7BVfAyHR",
        "outputId": "688f0a10-f79b-47af-cfd4-ef96e8c59aba"
      },
      "execution_count": 53,
      "outputs": [
        {
          "output_type": "stream",
          "name": "stdout",
          "text": [
            "Original numbers: [1, 2, 3, 4, 5]\n",
            "Using map(): [1, 4, 9, 16, 25]\n",
            "Using list comprehension: [1, 4, 9, 16, 25]\n"
          ]
        },
        {
          "output_type": "execute_result",
          "data": {
            "text/plain": [
              "'\\nDifferences between map() and list comprehension:\\n1. Syntax: \\n   - map() uses functional programming style\\n   - List comprehensions use a more Python-specific syntax\\n\\n2. Readability: \\n   - List comprehensions are often more readable for simple operations\\n   - map() may be clearer for applying existing functions\\n\\n3. Filtering: \\n   - List comprehensions can filter elements with an if clause\\n   - map() needs to be combined with filter() for filtering\\n\\n4. Memory usage: \\n   - In Python 3, map() returns an iterator (lazy evaluation)\\n   - List comprehensions create the entire list at once\\n\\n5. Performance: \\n   - For simple operations, list comprehensions may be slightly faster\\n   - For complex operations or reusing functions, map() might be better\\n'"
            ],
            "application/vnd.google.colaboratory.intrinsic+json": {
              "type": "string"
            }
          },
          "metadata": {},
          "execution_count": 53
        }
      ]
    },
    {
      "cell_type": "code",
      "source": [
        "# Program to convert names to uppercase using map()\n",
        "names = [\"john\", \"alice\", \"bob\", \"carol\", \"dave\"]\n",
        "uppercase_names = list(map(str.upper, names))\n",
        "print(f\"Original names: {names}\")\n",
        "print(f\"Uppercase names: {uppercase_names}\")"
      ],
      "metadata": {
        "colab": {
          "base_uri": "https://localhost:8080/"
        },
        "id": "UG8n1rP7BBjB",
        "outputId": "f7e6e579-fb6a-4af5-8850-4d3080329ef6"
      },
      "execution_count": 54,
      "outputs": [
        {
          "output_type": "stream",
          "name": "stdout",
          "text": [
            "Original names: ['john', 'alice', 'bob', 'carol', 'dave']\n",
            "Uppercase names: ['JOHN', 'ALICE', 'BOB', 'CAROL', 'DAVE']\n"
          ]
        }
      ]
    },
    {
      "cell_type": "code",
      "source": [
        "# Program to calculate length of each word using map()\n",
        "words = [\"apple\", \"banana\", \"cherry\", \"date\", \"elderberry\"]\n",
        "word_lengths = list(map(len, words))\n",
        "print(f\"Words: {words}\")\n",
        "print(f\"Word lengths: {word_lengths}\")"
      ],
      "metadata": {
        "colab": {
          "base_uri": "https://localhost:8080/"
        },
        "id": "K5oD3HpkBGdY",
        "outputId": "8b824756-1c9b-40ea-da04-c84c0b4d1dc0"
      },
      "execution_count": 55,
      "outputs": [
        {
          "output_type": "stream",
          "name": "stdout",
          "text": [
            "Words: ['apple', 'banana', 'cherry', 'date', 'elderberry']\n",
            "Word lengths: [5, 6, 6, 4, 10]\n"
          ]
        }
      ]
    },
    {
      "cell_type": "code",
      "source": [
        "# Program to apply function to multiple lists\n",
        "list1 = [1, 2, 3, 4]\n",
        "list2 = [10, 20, 30, 40]\n",
        "\n",
        "# Add corresponding elements from both lists\n",
        "sums = list(map(lambda x, y: x + y, list1, list2))\n",
        "print(f\"List 1: {list1}\")\n",
        "print(f\"List 2: {list2}\")\n",
        "print(f\"Sums: {sums}\")"
      ],
      "metadata": {
        "colab": {
          "base_uri": "https://localhost:8080/"
        },
        "id": "EBTCiQoJBIFq",
        "outputId": "200dc51c-304b-477f-eb28-349eba51db19"
      },
      "execution_count": 56,
      "outputs": [
        {
          "output_type": "stream",
          "name": "stdout",
          "text": [
            "List 1: [1, 2, 3, 4]\n",
            "List 2: [10, 20, 30, 40]\n",
            "Sums: [11, 22, 33, 44]\n"
          ]
        }
      ]
    },
    {
      "cell_type": "code",
      "source": [
        "# Program to convert temperatures from Celsius to Fahrenheit\n",
        "celsius_temps = [0, 10, 20, 30, 40]\n",
        "\n",
        "def celsius_to_fahrenheit(c):\n",
        "    return (c * 9/5) + 32\n",
        "\n",
        "fahrenheit_temps = list(map(celsius_to_fahrenheit, celsius_temps))\n",
        "print(f\"Celsius temperatures: {celsius_temps}\")\n",
        "print(f\"Fahrenheit temperatures: {fahrenheit_temps}\")"
      ],
      "metadata": {
        "colab": {
          "base_uri": "https://localhost:8080/"
        },
        "id": "1_IZqQa0BMLV",
        "outputId": "4143a190-94a0-4628-e44a-2513314d28ca"
      },
      "execution_count": 57,
      "outputs": [
        {
          "output_type": "stream",
          "name": "stdout",
          "text": [
            "Celsius temperatures: [0, 10, 20, 30, 40]\n",
            "Fahrenheit temperatures: [32.0, 50.0, 68.0, 86.0, 104.0]\n"
          ]
        }
      ]
    },
    {
      "cell_type": "code",
      "source": [
        "# Program to round floating-point numbers\n",
        "float_numbers = [3.14159, 2.71828, 1.41421, 1.73205, 2.50000]\n",
        "rounded_numbers = list(map(round, float_numbers))\n",
        "print(f\"Original floating-point numbers: {float_numbers}\")\n",
        "print(f\"Rounded numbers: {rounded_numbers}\")"
      ],
      "metadata": {
        "colab": {
          "base_uri": "https://localhost:8080/"
        },
        "id": "4bmffULhBOZD",
        "outputId": "f5842fb9-2639-4c8c-efbd-0ed0b5a6625a"
      },
      "execution_count": 58,
      "outputs": [
        {
          "output_type": "stream",
          "name": "stdout",
          "text": [
            "Original floating-point numbers: [3.14159, 2.71828, 1.41421, 1.73205, 2.5]\n",
            "Rounded numbers: [3, 3, 1, 2, 2]\n"
          ]
        }
      ]
    },
    {
      "cell_type": "markdown",
      "source": [
        "# **REDUCE FUNCTIONS (1 - 7)**"
      ],
      "metadata": {
        "id": "slVzJkIgBSI1"
      }
    },
    {
      "cell_type": "markdown",
      "source": [
        "1. What is the `reduce()` function in Python, and what module should you import to use it? Provide an example of its basic usage.\n",
        "2. Write a Python program that uses the `reduce()` function to find the product of all elements in a list.\n",
        "3. Create a Python program that uses `reduce()` to find the maximum element in a list of numbers.\n",
        "4. How can you use the `reduce()` function to concatenate a list of strings into a single string?\n",
        "5. Write a Python program that calculates the factorial of a number using the `reduce()` function.\n",
        "6. Create a Python program that uses `reduce()` to find the GCD (Greatest Common Divisor) of a list of numbers.\n",
        "7. Write a Python program that uses the `reduce()` function to find the sum of the digits of a given number.\n"
      ],
      "metadata": {
        "id": "HmDhCaJ7Bblq"
      }
    },
    {
      "cell_type": "code",
      "source": [
        "# Program demonstrating the reduce() function\n",
        "from functools import reduce\n",
        "\n",
        "numbers = [1, 2, 3, 4, 5]\n",
        "\n",
        "# Sum of all numbers using reduce()\n",
        "sum_result = reduce(lambda x, y: x + y, numbers)\n",
        "print(f\"Numbers: {numbers}\")\n",
        "print(f\"Sum using reduce(): {sum_result}\")\n",
        "\n",
        "\"\"\"\n",
        "About reduce():\n",
        "- Imported from the functools module\n",
        "- Applies a function of two arguments cumulatively to the items of an iterable\n",
        "- Reduces the iterable to a single value\n",
        "- The function should take two parameters and return a single value\n",
        "- First two items are processed, then the result and the next item, and so on\n",
        "\"\"\""
      ],
      "metadata": {
        "colab": {
          "base_uri": "https://localhost:8080/",
          "height": 88
        },
        "id": "Pn8Y5u6tBQPQ",
        "outputId": "a9f6ebfd-3a77-4e2d-da8a-6f55be1440ff"
      },
      "execution_count": 59,
      "outputs": [
        {
          "output_type": "stream",
          "name": "stdout",
          "text": [
            "Numbers: [1, 2, 3, 4, 5]\n",
            "Sum using reduce(): 15\n"
          ]
        },
        {
          "output_type": "execute_result",
          "data": {
            "text/plain": [
              "'\\nAbout reduce():\\n- Imported from the functools module\\n- Applies a function of two arguments cumulatively to the items of an iterable\\n- Reduces the iterable to a single value\\n- The function should take two parameters and return a single value\\n- First two items are processed, then the result and the next item, and so on\\n'"
            ],
            "application/vnd.google.colaboratory.intrinsic+json": {
              "type": "string"
            }
          },
          "metadata": {},
          "execution_count": 59
        }
      ]
    },
    {
      "cell_type": "code",
      "source": [
        "numbers = [1, 2, 3, 4, 5]\n",
        "product = reduce(lambda x, y: x * y, numbers)\n",
        "print(f\"Numbers: {numbers}\")\n",
        "print(f\"Product: {product}\")"
      ],
      "metadata": {
        "colab": {
          "base_uri": "https://localhost:8080/"
        },
        "id": "JRNw5LnbBm1g",
        "outputId": "723fdc95-aef0-4ce0-fce2-367394fcfdf4"
      },
      "execution_count": 60,
      "outputs": [
        {
          "output_type": "stream",
          "name": "stdout",
          "text": [
            "Numbers: [1, 2, 3, 4, 5]\n",
            "Product: 120\n"
          ]
        }
      ]
    },
    {
      "cell_type": "code",
      "source": [
        "numbers = [12, 45, 78, 34, 56, 23]\n",
        "maximum = reduce(lambda x, y: x if x > y else y, numbers)\n",
        "print(f\"Numbers: {numbers}\")\n",
        "print(f\"Maximum: {maximum}\")"
      ],
      "metadata": {
        "colab": {
          "base_uri": "https://localhost:8080/"
        },
        "id": "7GccQ0OnBsT5",
        "outputId": "6bc918a2-64ae-4a34-d740-4565e50f9659"
      },
      "execution_count": 61,
      "outputs": [
        {
          "output_type": "stream",
          "name": "stdout",
          "text": [
            "Numbers: [12, 45, 78, 34, 56, 23]\n",
            "Maximum: 78\n"
          ]
        }
      ]
    },
    {
      "cell_type": "code",
      "source": [
        "words = [\"Hello\", \", \", \"World\", \"!\"]\n",
        "sentence = reduce(lambda x, y: x + y, words)\n",
        "print(f\"Words: {words}\")\n",
        "print(f\"Concatenated: {sentence}\")"
      ],
      "metadata": {
        "colab": {
          "base_uri": "https://localhost:8080/"
        },
        "id": "I63CCNEWBynL",
        "outputId": "bc1f9f1e-dc7b-4550-bf72-effd0dd05ed7"
      },
      "execution_count": 63,
      "outputs": [
        {
          "output_type": "stream",
          "name": "stdout",
          "text": [
            "Words: ['Hello', ', ', 'World', '!']\n",
            "Concatenated: Hello, World!\n"
          ]
        }
      ]
    },
    {
      "cell_type": "code",
      "source": [
        "def multiply(x, y):\n",
        "    return x * y\n",
        "\n",
        "number = 5\n",
        "factorial = reduce(multiply, range(1, number + 1))\n",
        "print(f\"Factorial of {number}: {factorial}\")"
      ],
      "metadata": {
        "colab": {
          "base_uri": "https://localhost:8080/"
        },
        "id": "yAW6EvF-B377",
        "outputId": "e331e63c-9bb1-4a3f-ea8b-8007eb14e684"
      },
      "execution_count": 64,
      "outputs": [
        {
          "output_type": "stream",
          "name": "stdout",
          "text": [
            "Factorial of 5: 120\n"
          ]
        }
      ]
    },
    {
      "cell_type": "code",
      "source": [
        "import math\n",
        "def find_gcd(x, y):\n",
        "    return math.gcd(x, y)\n",
        "\n",
        "numbers = [24, 36, 48, 60]\n",
        "gcd = reduce(find_gcd, numbers)\n",
        "print(f\"Numbers: {numbers}\")\n",
        "print(f\"GCD: {gcd}\")"
      ],
      "metadata": {
        "colab": {
          "base_uri": "https://localhost:8080/"
        },
        "id": "Jf4bTCVnB80D",
        "outputId": "cf4cdd0b-dbf3-49ef-a80a-ba1cc3722b48"
      },
      "execution_count": 65,
      "outputs": [
        {
          "output_type": "stream",
          "name": "stdout",
          "text": [
            "Numbers: [24, 36, 48, 60]\n",
            "GCD: 12\n"
          ]
        }
      ]
    },
    {
      "cell_type": "code",
      "source": [
        "number = 12345\n",
        "# Convert number to string, then to list of integers\n",
        "digits = [int(digit) for digit in str(number)]\n",
        "digit_sum = reduce(lambda x, y: x + y, digits)\n",
        "print(f\"Number: {number}\")\n",
        "print(f\"Digits: {digits}\")\n",
        "print(f\"Sum of digits: {digit_sum}\")"
      ],
      "metadata": {
        "colab": {
          "base_uri": "https://localhost:8080/"
        },
        "id": "ZYJetW2bCDVZ",
        "outputId": "aa24d113-fb57-43ad-b2b3-41f9e9a7c548"
      },
      "execution_count": 66,
      "outputs": [
        {
          "output_type": "stream",
          "name": "stdout",
          "text": [
            "Number: 12345\n",
            "Digits: [1, 2, 3, 4, 5]\n",
            "Sum of digits: 15\n"
          ]
        }
      ]
    },
    {
      "cell_type": "markdown",
      "source": [
        "# **FILTER FUNCTION (1 - 7)**"
      ],
      "metadata": {
        "id": "LYN7heN7CKI1"
      }
    },
    {
      "cell_type": "markdown",
      "source": [
        "1. Explain the purpose of the `filter()` function in Python and provide an example of how it can be used to filter elements from an iterable.\n",
        "2. Write a Python program that uses the `filter()` function to select even numbers from a list of integers.\n",
        "3. Create a Python program that uses the `filter()` function to select names that start with a specific letter from a list of strings.\n",
        "4. Write a Python program that uses the `filter()` function to select prime numbers from a list of integers.\n",
        "5. How can you use the `filter()` function to remove None values from a list in Python?\n",
        "6. Create a Python program that uses `filter()` to select words longer than a certain length from a list of strings.\n",
        "7. Write a Python program that uses the `filter()` function to select elements greater than a specified threshold from a list of values.\n",
        "\n"
      ],
      "metadata": {
        "id": "T8ggtrj6COMI"
      }
    },
    {
      "cell_type": "code",
      "source": [
        "# Program demonstrating the purpose of filter() function\n",
        "numbers = [1, 2, 3, 4, 5, 6, 7, 8, 9, 10]\n",
        "\n",
        "def is_even(num):\n",
        "    return num % 2 == 0\n",
        "\n",
        "even_numbers = filter(is_even, numbers)\n",
        "even_list = list(even_numbers)\n",
        "print(f\"Original numbers: {numbers}\")\n",
        "print(f\"Even numbers: {even_list}\")\n",
        "\n",
        "\"\"\"\n",
        "Purpose of filter():\n",
        "- Filter() constructs an iterator from elements of an iterable for which a function returns true\n",
        "- Creates a subset of elements that meet a certain condition\n",
        "- Returns a filter object, which is an iterator\n",
        "- Can be used with built-in functions, lambda functions, or user-defined functions\n",
        "- Processes items lazily (one at a time, only when needed)\n",
        "\"\"\""
      ],
      "metadata": {
        "colab": {
          "base_uri": "https://localhost:8080/",
          "height": 105
        },
        "id": "4QH1RzbfCHOu",
        "outputId": "b11c5ee0-2c21-49b2-91d3-7083d516d344"
      },
      "execution_count": 67,
      "outputs": [
        {
          "output_type": "stream",
          "name": "stdout",
          "text": [
            "Original numbers: [1, 2, 3, 4, 5, 6, 7, 8, 9, 10]\n",
            "Even numbers: [2, 4, 6, 8, 10]\n"
          ]
        },
        {
          "output_type": "execute_result",
          "data": {
            "text/plain": [
              "'\\nPurpose of filter():\\n- Filter() constructs an iterator from elements of an iterable for which a function returns true\\n- Creates a subset of elements that meet a certain condition\\n- Returns a filter object, which is an iterator\\n- Can be used with built-in functions, lambda functions, or user-defined functions\\n- Processes items lazily (one at a time, only when needed)\\n'"
            ],
            "application/vnd.google.colaboratory.intrinsic+json": {
              "type": "string"
            }
          },
          "metadata": {},
          "execution_count": 67
        }
      ]
    },
    {
      "cell_type": "code",
      "source": [
        "numbers = [1, 2, 3, 4, 5, 6, 7, 8, 9, 10]\n",
        "even_numbers = list(filter(lambda x: x % 2 == 0, numbers))\n",
        "print(f\"Original numbers: {numbers}\")\n",
        "print(f\"Even numbers: {even_numbers}\")"
      ],
      "metadata": {
        "colab": {
          "base_uri": "https://localhost:8080/"
        },
        "id": "u7kV5S3pCd3U",
        "outputId": "38bb0fdb-6480-41a1-86bb-2a2eee942e97"
      },
      "execution_count": 68,
      "outputs": [
        {
          "output_type": "stream",
          "name": "stdout",
          "text": [
            "Original numbers: [1, 2, 3, 4, 5, 6, 7, 8, 9, 10]\n",
            "Even numbers: [2, 4, 6, 8, 10]\n"
          ]
        }
      ]
    },
    {
      "cell_type": "code",
      "source": [
        "names = [\"Alice\", \"Bob\", \"Charlie\", \"David\", \"Anna\", \"Alex\"]\n",
        "a_names = list(filter(lambda name: name.startswith('A'), names))\n",
        "print(f\"All names: {names}\")\n",
        "print(f\"Names starting with 'A': {a_names}\")"
      ],
      "metadata": {
        "colab": {
          "base_uri": "https://localhost:8080/"
        },
        "id": "sECFafGiCkmj",
        "outputId": "63c9965d-fe00-4445-a38a-ad7b7de13916"
      },
      "execution_count": 69,
      "outputs": [
        {
          "output_type": "stream",
          "name": "stdout",
          "text": [
            "All names: ['Alice', 'Bob', 'Charlie', 'David', 'Anna', 'Alex']\n",
            "Names starting with 'A': ['Alice', 'Anna', 'Alex']\n"
          ]
        }
      ]
    },
    {
      "cell_type": "code",
      "source": [
        "def is_prime(num):\n",
        "    if num <= 1:\n",
        "        return False\n",
        "    if num <= 3:\n",
        "        return True\n",
        "    if num % 2 == 0 or num % 3 == 0:\n",
        "        return False\n",
        "    i = 5\n",
        "    while i * i <= num:\n",
        "        if num % i == 0 or num % (i + 2) == 0:\n",
        "            return False\n",
        "        i += 6\n",
        "    return True\n",
        "\n",
        "numbers = list(range(1, 30))\n",
        "prime_numbers = list(filter(is_prime, numbers))\n",
        "print(f\"Numbers: {numbers}\")\n",
        "print(f\"Prime numbers: {prime_numbers}\")"
      ],
      "metadata": {
        "colab": {
          "base_uri": "https://localhost:8080/"
        },
        "id": "X1WkHWvVCoD_",
        "outputId": "bdc0c4e7-c170-4a97-dd49-5ba42a5ecddc"
      },
      "execution_count": 70,
      "outputs": [
        {
          "output_type": "stream",
          "name": "stdout",
          "text": [
            "Numbers: [1, 2, 3, 4, 5, 6, 7, 8, 9, 10, 11, 12, 13, 14, 15, 16, 17, 18, 19, 20, 21, 22, 23, 24, 25, 26, 27, 28, 29]\n",
            "Prime numbers: [2, 3, 5, 7, 11, 13, 17, 19, 23, 29]\n"
          ]
        }
      ]
    },
    {
      "cell_type": "code",
      "source": [
        "values = [1, None, 'hello', None, 3.14, None, True]\n",
        "non_none_values = list(filter(lambda x: x is not None, values))\n",
        "print(f\"Original values: {values}\")\n",
        "print(f\"Non-None values: {non_none_values}\")"
      ],
      "metadata": {
        "colab": {
          "base_uri": "https://localhost:8080/"
        },
        "id": "_ZXxalMKCrnD",
        "outputId": "8d57a19e-ce90-4525-d557-c11a00ac5034"
      },
      "execution_count": 71,
      "outputs": [
        {
          "output_type": "stream",
          "name": "stdout",
          "text": [
            "Original values: [1, None, 'hello', None, 3.14, None, True]\n",
            "Non-None values: [1, 'hello', 3.14, True]\n"
          ]
        }
      ]
    },
    {
      "cell_type": "code",
      "source": [
        "# Program to select words longer than a certain length\n",
        "words = [\"apple\", \"banana\", \"kiwi\", \"strawberry\", \"fig\", \"orange\", \"pear\"]\n",
        "min_length = 5\n",
        "long_words = list(filter(lambda word: len(word) > min_length, words))\n",
        "print(f\"All words: {words}\")\n",
        "print(f\"Words longer than {min_length} characters: {long_words}\")"
      ],
      "metadata": {
        "colab": {
          "base_uri": "https://localhost:8080/"
        },
        "id": "IGJX_pnaC11_",
        "outputId": "043763a7-c7ab-4387-817c-fe98dec71d32"
      },
      "execution_count": 72,
      "outputs": [
        {
          "output_type": "stream",
          "name": "stdout",
          "text": [
            "All words: ['apple', 'banana', 'kiwi', 'strawberry', 'fig', 'orange', 'pear']\n",
            "Words longer than 5 characters: ['banana', 'strawberry', 'orange']\n"
          ]
        }
      ]
    },
    {
      "cell_type": "code",
      "source": [
        "# Program to select elements greater than a threshold\n",
        "values = [10, 25, 3, 45, 12, 78, 30, 15]\n",
        "threshold = 20\n",
        "above_threshold = list(filter(lambda x: x > threshold, values))\n",
        "print(f\"All values: {values}\")\n",
        "print(f\"Values greater than {threshold}: {above_threshold}\")"
      ],
      "metadata": {
        "colab": {
          "base_uri": "https://localhost:8080/"
        },
        "id": "xF6V_cJDC5fC",
        "outputId": "318d94b1-76d8-4287-f6dc-77e43fb08ac6"
      },
      "execution_count": 73,
      "outputs": [
        {
          "output_type": "stream",
          "name": "stdout",
          "text": [
            "All values: [10, 25, 3, 45, 12, 78, 30, 15]\n",
            "Values greater than 20: [25, 45, 78, 30]\n"
          ]
        }
      ]
    },
    {
      "cell_type": "markdown",
      "source": [
        "# **RECURSION QUESTIONS (1 - 11)**"
      ],
      "metadata": {
        "id": "PJfcvGA0C-Pu"
      }
    },
    {
      "cell_type": "markdown",
      "source": [
        "1. Explain the concept of recursion in Python. How does it differ from iteration?\n",
        "2. Write a Python program to calculate the factorial of a number using recursion.\n",
        "3. Create a recursive Python function to find the nth Fibonacci number.\n",
        "4. Write a recursive Python function to calculate the sum of all elements in a list.\n",
        "5. How can you prevent a recursive function from running indefinitely, causing a stack overflow error?\n",
        "6. Create a recursive Python function to find the greatest common divisor (GCD)of two numbers using the Euclidean algorithm.\n",
        "7. Write a recursive Python function to reverse a string.\n",
        "8. Create a recursive Python function to calculate the power of a number (x^n).\n",
        "9. Write a recursive Python function to find all permutations of a given string.\n",
        "10. Write a recursive Python function to check if a string is a palindrome.\n",
        "11. Create a recursive Python function to generate all possible combinations of a list of elements.\n",
        "\n",
        "\n"
      ],
      "metadata": {
        "id": "f_4EmTx9DDhW"
      }
    },
    {
      "cell_type": "code",
      "source": [
        "\"\"\"\n",
        "Recursion is a programming technique where a function calls itself to solve a problem.\n",
        "\n",
        "Key aspects of recursion:\n",
        "1. Base case: A condition to terminate the recursion\n",
        "2. Recursive case: The function calling itself with a modified input\n",
        "\n",
        "Differences between recursion and iteration:\n",
        "1. Recursion uses function calls, iteration uses loops\n",
        "2. Recursion can be more elegant for certain problems (e.g., tree traversals)\n",
        "3. Recursion uses more memory due to stack frames\n",
        "4. Recursion has a risk of stack overflow for deeply nested calls\n",
        "5. Iteration is typically more efficient in terms of memory and speed\n",
        "\"\"\"\n",
        "\n",
        "# Simple example comparing recursive and iterative approaches\n",
        "def factorial_recursive(n):\n",
        "    # Base case\n",
        "    if n == 0 or n == 1:\n",
        "        return 1\n",
        "    # Recursive case\n",
        "    else:\n",
        "        return n * factorial_recursive(n - 1)\n",
        "\n",
        "def factorial_iterative(n):\n",
        "    result = 1\n",
        "    for i in range(1, n + 1):\n",
        "        result *= i\n",
        "    return result\n",
        "\n",
        "n = 5\n",
        "print(f\"Factorial of {n} (recursive): {factorial_recursive(n)}\")\n",
        "print(f\"Factorial of {n} (iterative): {factorial_iterative(n)}\")"
      ],
      "metadata": {
        "colab": {
          "base_uri": "https://localhost:8080/"
        },
        "id": "GoKMvuy5C8UB",
        "outputId": "9a2ea22c-2b7e-4db2-ffc9-ff5e4f97ff37"
      },
      "execution_count": 74,
      "outputs": [
        {
          "output_type": "stream",
          "name": "stdout",
          "text": [
            "Factorial of 5 (recursive): 120\n",
            "Factorial of 5 (iterative): 120\n"
          ]
        }
      ]
    },
    {
      "cell_type": "code",
      "source": [
        "# Program to calculate factorial using recursion\n",
        "def factorial(n):\n",
        "    # Base case\n",
        "    if n == 0 or n == 1:\n",
        "        return 1\n",
        "    # Recursive case\n",
        "    else:\n",
        "        return n * factorial(n - 1)\n",
        "\n",
        "num = 5\n",
        "print(f\"Factorial of {num}: {factorial(num)}\")"
      ],
      "metadata": {
        "colab": {
          "base_uri": "https://localhost:8080/"
        },
        "id": "voFkrxQ-Dqp4",
        "outputId": "0fbb40fa-5494-4673-da0b-80f1029be86e"
      },
      "execution_count": 75,
      "outputs": [
        {
          "output_type": "stream",
          "name": "stdout",
          "text": [
            "Factorial of 5: 120\n"
          ]
        }
      ]
    },
    {
      "cell_type": "code",
      "source": [
        "# Program to find nth Fibonacci number using recursion\n",
        "def fibonacci(n):\n",
        "    # Base cases\n",
        "    if n <= 0:\n",
        "        return 0\n",
        "    elif n == 1:\n",
        "        return 1\n",
        "    # Recursive case\n",
        "    else:\n",
        "        return fibonacci(n - 1) + fibonacci(n - 2)\n",
        "\n",
        "# Calculate first 10 Fibonacci numbers\n",
        "for i in range(10):\n",
        "    print(f\"Fibonacci({i}) = {fibonacci(i)}\")"
      ],
      "metadata": {
        "colab": {
          "base_uri": "https://localhost:8080/"
        },
        "id": "J-3ArVqODuXW",
        "outputId": "aeb1b342-4bdd-4963-f66a-66c4214d7c68"
      },
      "execution_count": 76,
      "outputs": [
        {
          "output_type": "stream",
          "name": "stdout",
          "text": [
            "Fibonacci(0) = 0\n",
            "Fibonacci(1) = 1\n",
            "Fibonacci(2) = 1\n",
            "Fibonacci(3) = 2\n",
            "Fibonacci(4) = 3\n",
            "Fibonacci(5) = 5\n",
            "Fibonacci(6) = 8\n",
            "Fibonacci(7) = 13\n",
            "Fibonacci(8) = 21\n",
            "Fibonacci(9) = 34\n"
          ]
        }
      ]
    },
    {
      "cell_type": "code",
      "source": [
        "# Program to calculate sum of all elements in a list using recursion\n",
        "def list_sum(lst):\n",
        "    # Base case\n",
        "    if not lst:  # Empty list\n",
        "        return 0\n",
        "    # Recursive case\n",
        "    else:\n",
        "        return lst[0] + list_sum(lst[1:])\n",
        "\n",
        "numbers = [1, 2, 3, 4, 5]\n",
        "print(f\"List: {numbers}\")\n",
        "print(f\"Sum of elements: {list_sum(numbers)}\")"
      ],
      "metadata": {
        "colab": {
          "base_uri": "https://localhost:8080/"
        },
        "id": "5q5B4arrD0Lu",
        "outputId": "b6050ba3-b8e8-4f1c-afcb-29b46cb60a89"
      },
      "execution_count": 77,
      "outputs": [
        {
          "output_type": "stream",
          "name": "stdout",
          "text": [
            "List: [1, 2, 3, 4, 5]\n",
            "Sum of elements: 15\n"
          ]
        }
      ]
    },
    {
      "cell_type": "code",
      "source": [
        "# Strategies to prevent stack overflow in recursive functions\n",
        "\n",
        "\"\"\"\n",
        "1. Use proper base cases to ensure termination:\n",
        "\"\"\"\n",
        "def factorial_safe(n):\n",
        "    # Proper base case\n",
        "    if n <= 1:\n",
        "        return 1\n",
        "    return n * factorial_safe(n - 1)\n",
        "\n",
        "\"\"\"\n",
        "2. Limit recursion depth:\n",
        "\"\"\"\n",
        "import sys\n",
        "print(f\"Default recursion limit: {sys.getrecursionlimit()}\")\n",
        "# You can set a custom limit:\n",
        "# sys.setrecursionlimit(3000)  # Increase limit (use with caution)\n",
        "\n",
        "\"\"\"\n",
        "3. Use tail recursion (though Python doesn't optimize it):\n",
        "\"\"\"\n",
        "def factorial_tail(n, accumulator=1):\n",
        "    if n <= 1:\n",
        "        return accumulator\n",
        "    return factorial_tail(n - 1, n * accumulator)\n",
        "\n",
        "\"\"\"\n",
        "4. Convert to iteration when possible:\n",
        "\"\"\"\n",
        "def fibonacci_iterative(n):\n",
        "    a, b = 0, 1\n",
        "    for _ in range(n):\n",
        "        a, b = b, a + b\n",
        "    return a\n",
        "\n",
        "print(f\"Fibonacci(10) iterative: {fibonacci_iterative(10)}\")\n",
        "\n",
        "\"\"\"\n",
        "5. Use memoization (caching results):\n",
        "\"\"\"\n",
        "def fibonacci_memo(n, memo={}):\n",
        "    if n in memo:\n",
        "        return memo[n]\n",
        "    if n <= 0:\n",
        "        return 0\n",
        "    elif n == 1:\n",
        "        return 1\n",
        "    memo[n] = fibonacci_memo(n - 1, memo) + fibonacci_memo(n - 2, memo)\n",
        "    return memo[n]\n",
        "\n",
        "print(f\"Fibonacci(10) with memoization: {fibonacci_memo(10)}\")"
      ],
      "metadata": {
        "colab": {
          "base_uri": "https://localhost:8080/"
        },
        "id": "peSV3pVdD5uw",
        "outputId": "0dfbb68c-31a2-4429-e63b-27b8adad715f"
      },
      "execution_count": 78,
      "outputs": [
        {
          "output_type": "stream",
          "name": "stdout",
          "text": [
            "Default recursion limit: 1000\n",
            "Fibonacci(10) iterative: 55\n",
            "Fibonacci(10) with memoization: 55\n"
          ]
        }
      ]
    },
    {
      "cell_type": "code",
      "source": [
        "# Program to find GCD using recursion (Euclidean algorithm)\n",
        "def gcd(a, b):\n",
        "    # Base case\n",
        "    if b == 0:\n",
        "        return a\n",
        "    # Recursive case\n",
        "    else:\n",
        "        return gcd(b, a % b)\n",
        "\n",
        "num1, num2 = 48, 18\n",
        "print(f\"GCD of {num1} and {num2}: {gcd(num1, num2)}\")"
      ],
      "metadata": {
        "colab": {
          "base_uri": "https://localhost:8080/"
        },
        "id": "ggKGMtgREJwO",
        "outputId": "58de161a-3d55-4d4b-ae60-41e5c416fd63"
      },
      "execution_count": 79,
      "outputs": [
        {
          "output_type": "stream",
          "name": "stdout",
          "text": [
            "GCD of 48 and 18: 6\n"
          ]
        }
      ]
    },
    {
      "cell_type": "code",
      "source": [
        "# Program to reverse a string using recursion\n",
        "def reverse_string(s):\n",
        "    # Base case\n",
        "    if len(s) <= 1:\n",
        "        return s\n",
        "    # Recursive case\n",
        "    else:\n",
        "        return reverse_string(s[1:]) + s[0]\n",
        "\n",
        "text = \"Python\"\n",
        "print(f\"Original string: {text}\")\n",
        "print(f\"Reversed string: {reverse_string(text)}\")"
      ],
      "metadata": {
        "colab": {
          "base_uri": "https://localhost:8080/"
        },
        "id": "BVLpviOVERQv",
        "outputId": "a3b98594-bdd1-41c6-cbb4-88d533b04046"
      },
      "execution_count": 80,
      "outputs": [
        {
          "output_type": "stream",
          "name": "stdout",
          "text": [
            "Original string: Python\n",
            "Reversed string: nohtyP\n"
          ]
        }
      ]
    },
    {
      "cell_type": "code",
      "source": [
        "# Program to calculate power using recursion\n",
        "def power(x, n):\n",
        "    # Base cases\n",
        "    if n == 0:\n",
        "        return 1\n",
        "    elif n < 0:\n",
        "        return 1 / power(x, -n)\n",
        "    # Recursive cases\n",
        "    elif n % 2 == 0:\n",
        "        return power(x * x, n // 2)  # Even power\n",
        "    else:\n",
        "        return x * power(x, n - 1)   # Odd power\n",
        "\n",
        "base, exponent = 2, 10\n",
        "print(f\"{base}^{exponent} = {power(base, exponent)}\")"
      ],
      "metadata": {
        "colab": {
          "base_uri": "https://localhost:8080/"
        },
        "id": "AH0fvlFIFOKh",
        "outputId": "aeaef8ee-e059-435e-b588-ec2d4bf61f18"
      },
      "execution_count": 81,
      "outputs": [
        {
          "output_type": "stream",
          "name": "stdout",
          "text": [
            "2^10 = 1024\n"
          ]
        }
      ]
    },
    {
      "cell_type": "code",
      "source": [
        "# Program to find all permutations of a string using recursion\n",
        "def get_permutations(s):\n",
        "    # Base case\n",
        "    if len(s) <= 1:\n",
        "        return [s]\n",
        "\n",
        "    # Recursive case\n",
        "    result = []\n",
        "    for i, char in enumerate(s):\n",
        "        for perm in get_permutations(s[:i] + s[i+1:]):\n",
        "            result.append(char + perm)\n",
        "\n",
        "    return result\n",
        "\n",
        "word = \"abc\"\n",
        "perms = get_permutations(word)\n",
        "print(f\"Permutations of '{word}': {perms}\")\n",
        "print(f\"Total number of permutations: {len(perms)}\")"
      ],
      "metadata": {
        "colab": {
          "base_uri": "https://localhost:8080/"
        },
        "id": "ORRXbFvbFVw7",
        "outputId": "b4c6377a-65d9-43d1-ece8-5ca58c08c40c"
      },
      "execution_count": 85,
      "outputs": [
        {
          "output_type": "stream",
          "name": "stdout",
          "text": [
            "Permutations of 'abc': ['abc', 'acb', 'bac', 'bca', 'cab', 'cba']\n",
            "Total number of permutations: 6\n"
          ]
        }
      ]
    },
    {
      "cell_type": "code",
      "source": [
        "# Program to check if a string is a palindrome using recursion\n",
        "def is_palindrome(s):\n",
        "    # Base cases\n",
        "    if len(s) <= 1:\n",
        "        return True\n",
        "    # Recursive case\n",
        "    if s[0] != s[-1]:\n",
        "        return False\n",
        "    return is_palindrome(s[1:-1])\n",
        "\n",
        "test_strings = [\"radar\", \"python\", \"madam\", \"level\", \"hello\"]\n",
        "for text in test_strings:\n",
        "    print(f\"'{text}' is a palindrome: {is_palindrome(text)}\")"
      ],
      "metadata": {
        "colab": {
          "base_uri": "https://localhost:8080/"
        },
        "id": "N_wCy-sKFfqq",
        "outputId": "cf61503d-44d0-4247-bd4e-35d2c1b6929a"
      },
      "execution_count": 86,
      "outputs": [
        {
          "output_type": "stream",
          "name": "stdout",
          "text": [
            "'radar' is a palindrome: True\n",
            "'python' is a palindrome: False\n",
            "'madam' is a palindrome: True\n",
            "'level' is a palindrome: True\n",
            "'hello' is a palindrome: False\n"
          ]
        }
      ]
    },
    {
      "cell_type": "code",
      "source": [
        "# Program to generate all possible combinations of a list\n",
        "def get_combinations(elements, k):\n",
        "    if k == 0:\n",
        "        return [[]]\n",
        "\n",
        "    if not elements:\n",
        "        return []\n",
        "\n",
        "    first = elements[0]\n",
        "    rest = elements[1:]\n",
        "\n",
        "    # Combinations that include the first element\n",
        "    include_first = [[first] + combo for combo in get_combinations(rest, k - 1)]\n",
        "\n",
        "    # Combinations that exclude the first element\n",
        "    exclude_first = get_combinations(rest, k)\n",
        "\n",
        "    return include_first + exclude_first\n",
        "\n",
        "elements = [1, 2, 3, 4]\n",
        "k = 2\n",
        "combos = get_combinations(elements, k)\n",
        "print(f\"All {k}-combinations of {elements}:\")\n",
        "for combo in combos:\n",
        "    print(combo)\n",
        "print(f\"Total number of combinations: {len(combos)}\")"
      ],
      "metadata": {
        "colab": {
          "base_uri": "https://localhost:8080/"
        },
        "id": "kk67IZbgGHiZ",
        "outputId": "eee1c043-6600-46e8-a067-7028c260a54e"
      },
      "execution_count": 87,
      "outputs": [
        {
          "output_type": "stream",
          "name": "stdout",
          "text": [
            "All 2-combinations of [1, 2, 3, 4]:\n",
            "[1, 2]\n",
            "[1, 3]\n",
            "[1, 4]\n",
            "[2, 3]\n",
            "[2, 4]\n",
            "[3, 4]\n",
            "Total number of combinations: 6\n"
          ]
        }
      ]
    },
    {
      "cell_type": "markdown",
      "source": [
        "# **BASICS OF FUNCTIONS**"
      ],
      "metadata": {
        "id": "uspYr4fzGN83"
      }
    },
    {
      "cell_type": "markdown",
      "source": [
        "1. What is a function in Python, and why is it used?\n",
        "2. How do you define a function in Python? Provide an example.\n",
        "3. Explain the difference between a function definition and a function call.\n",
        "4. Write a Python program that defines a function to calculate the sum of two numbers and then calls the function.\n",
        "5. What is a function signature, and what information does it typically include?\n",
        "Create a Python function that takes two arguments and returns their product.\n"
      ],
      "metadata": {
        "id": "gy5ILCOVGVMI"
      }
    },
    {
      "cell_type": "code",
      "source": [
        "\"\"\"\n",
        "A function in Python is a reusable block of code that performs a specific task.\n",
        "\n",
        "Why functions are used:\n",
        "1. Code organization: Breaking code into logical parts\n",
        "2. Reusability: Avoiding code duplication\n",
        "3. Modularity: Making code easier to maintain and debug\n",
        "4. Abstraction: Hiding complex implementation details\n",
        "5. Testability: Easier to test smaller, focused code units\n",
        "\"\"\"\n",
        "\n",
        "def add(x, y):\n",
        "  return x + y\n",
        "\n",
        "print(f\"5 + 3 = {add(5, 3)}\")\n",
        "print(f\"disha + ant + = {add('disha', 'ant')}\")"
      ],
      "metadata": {
        "colab": {
          "base_uri": "https://localhost:8080/"
        },
        "id": "ZLHJagUJGKw-",
        "outputId": "7fbff8bf-0759-41f8-d61c-eb74800fec78"
      },
      "execution_count": 88,
      "outputs": [
        {
          "output_type": "stream",
          "name": "stdout",
          "text": [
            "5 + 3 = 8\n",
            "disha + ant + = dishaant\n"
          ]
        }
      ]
    },
    {
      "cell_type": "code",
      "source": [
        "# Program with a simple function definition\n",
        "def calculate_area_rectangle(length, width):\n",
        "    area = length * width\n",
        "    return area\n",
        "\n",
        "# Calling the function\n",
        "length = 5\n",
        "width = 3\n",
        "area = calculate_area_rectangle(length, width)\n",
        "print(f\"The area of a rectangle with length {length} and width {width} is {area}\")"
      ],
      "metadata": {
        "colab": {
          "base_uri": "https://localhost:8080/"
        },
        "id": "dj4HivxeGsud",
        "outputId": "355995be-6d18-44be-de91-743cc991479f"
      },
      "execution_count": 89,
      "outputs": [
        {
          "output_type": "stream",
          "name": "stdout",
          "text": [
            "The area of a rectangle with length 5 and width 3 is 15\n"
          ]
        }
      ]
    },
    {
      "cell_type": "code",
      "source": [
        "\"\"\"\n",
        "Function Definition vs. Function Call:\n",
        "\n",
        "Function Definition:\n",
        "- Creates a function using the 'def' keyword\n",
        "- Specifies the function name and parameters\n",
        "- Contains the code to be executed\n",
        "- Done only once\n",
        "\n",
        "Function Call:\n",
        "- Executes the defined function\n",
        "- Passes actual values (arguments) to the function\n",
        "- Can be done multiple times\n",
        "- Returns control to the caller after execution\n",
        "\"\"\"\n",
        "\n",
        "# Function definition\n",
        "def square(x):\n",
        "    \"\"\"Return the square of a number.\"\"\"\n",
        "    return x * x\n",
        "\n",
        "# Function calls\n",
        "result1 = square(4)  # Call with argument 4\n",
        "result2 = square(5)  # Call with argument 5\n",
        "\n",
        "print(f\"Square of 4: {result1}\")\n",
        "print(f\"Square of 5: {result2}\")"
      ],
      "metadata": {
        "colab": {
          "base_uri": "https://localhost:8080/"
        },
        "id": "9JSMMddRGy-2",
        "outputId": "de09b5c8-fe8e-4977-d1e7-7b39489c4103"
      },
      "execution_count": 90,
      "outputs": [
        {
          "output_type": "stream",
          "name": "stdout",
          "text": [
            "Square of 4: 16\n",
            "Square of 5: 25\n"
          ]
        }
      ]
    },
    {
      "cell_type": "code",
      "source": [
        "# Program to calculate sum using a function\n",
        "def add_numbers(a, b):\n",
        "    return a + b\n",
        "\n",
        "# Function calls\n",
        "num1 = 10\n",
        "num2 = 20\n",
        "sum_result = add_numbers(num1, num2)\n",
        "print(f\"{num1} + {num2} = {sum_result}\")\n",
        "print(f\"15 + 25 = {add_numbers(15, 25)}\")"
      ],
      "metadata": {
        "colab": {
          "base_uri": "https://localhost:8080/"
        },
        "id": "IQrjo-LNG57n",
        "outputId": "161091dd-6f0b-4814-d082-fa20bffe3dab"
      },
      "execution_count": 93,
      "outputs": [
        {
          "output_type": "stream",
          "name": "stdout",
          "text": [
            "10 + 20 = 30\n",
            "15 + 25 = 40\n"
          ]
        }
      ]
    },
    {
      "cell_type": "code",
      "source": [
        "\"\"\"\n",
        "Function Signature:\n",
        "\n",
        "A function signature in Python includes:\n",
        "1. Function name: The identifier used to call the function\n",
        "2. Parameters: The inputs the function expects to receive\n",
        "3. Return type: Implied by the return statement (not explicitly declared as in some languages)\n",
        "4. Docstring: Documentation describing what the function does\n",
        "\n",
        "Python doesn't explicitly declare parameter or return types in the signature,\n",
        "but they can be indicated using type hints (Python 3.5+).\n",
        "\"\"\"\n",
        "\n",
        "# Function with type hints\n",
        "def multiply(a: int, b: int) -> int:\n",
        "    \"\"\"\n",
        "    Multiply two integers and return the result.\n",
        "\n",
        "    Args:\n",
        "        a: First integer\n",
        "        b: Second integer\n",
        "\n",
        "    Returns:\n",
        "        The product of a and b\n",
        "    \"\"\"\n",
        "    return a * b\n",
        "\n",
        "result = multiply(5, 6)\n",
        "print(f\"5 × 6 = {result}\")"
      ],
      "metadata": {
        "colab": {
          "base_uri": "https://localhost:8080/"
        },
        "id": "UFTnY1heG8db",
        "outputId": "3a4510b8-7096-4074-babe-9f7c93faa9d3"
      },
      "execution_count": 94,
      "outputs": [
        {
          "output_type": "stream",
          "name": "stdout",
          "text": [
            "5 × 6 = 30\n"
          ]
        }
      ]
    },
    {
      "cell_type": "code",
      "source": [
        "# Program with a function that returns a product\n",
        "def calculate_product(a, b):\n",
        "    \"\"\"\n",
        "    Calculate the product of two numbers.\n",
        "\n",
        "    Args:\n",
        "        a: First number\n",
        "        b: Second number\n",
        "\n",
        "    Returns:\n",
        "        The product of a and b\n",
        "    \"\"\"\n",
        "    product = a * b\n",
        "    return product\n",
        "\n",
        "# Test the function\n",
        "x = 12\n",
        "y = 5\n",
        "result = calculate_product(x, y)\n",
        "print(f\"The product of {x} and {y} is {result}\")"
      ],
      "metadata": {
        "colab": {
          "base_uri": "https://localhost:8080/"
        },
        "id": "q2oIB1AeHIGk",
        "outputId": "dd4a3f3a-f2d4-433e-cb7b-2addcfe7e5a5"
      },
      "execution_count": 95,
      "outputs": [
        {
          "output_type": "stream",
          "name": "stdout",
          "text": [
            "The product of 12 and 5 is 60\n"
          ]
        }
      ]
    },
    {
      "cell_type": "markdown",
      "source": [
        "# **Function Parameters and Arguments**"
      ],
      "metadata": {
        "id": "FNh1LuTfHTUd"
      }
    },
    {
      "cell_type": "markdown",
      "source": [
        "1. Explain the concepts of formal parameters and actual arguments in Python functions.\n",
        "2. Write a Python program that defines a function with default argument values.\n",
        "3. How do you use keyword arguments in Python function calls? Provide an example.\n",
        "4. Create a Python function that accepts a variable number of arguments and calculates their sum.\n",
        "5. What is the purpose of the `*args` and `**kwargs` syntax in function parameter lists?\n"
      ],
      "metadata": {
        "id": "BzTshlXUHcuM"
      }
    },
    {
      "cell_type": "code",
      "source": [
        "\"\"\"\n",
        "Function Parameters and Arguments:\n",
        "\n",
        "Parameters:\n",
        "- Variables listed in the function definition\n",
        "- Placeholders for the values the function expects to receive\n",
        "- Defined in the function header\n",
        "\n",
        "Arguments:\n",
        "- Actual values passed to the function when it's called\n",
        "- Assigned to the corresponding parameters\n",
        "- Can be passed in different ways (positional, keyword, etc.)\n",
        "\"\"\"\n",
        "\n",
        "def display_info(name, age, city):\n",
        "    \"\"\"Display information about a person.\"\"\"\n",
        "    print(f\"Name: {name}\")\n",
        "    print(f\"Age: {age}\")\n",
        "    print(f\"City: {city}\")\n",
        "\n",
        "# Calling with positional arguments (order matters)\n",
        "print(\"Using positional arguments:\")\n",
        "display_info(\"Alice\", 30, \"New York\")\n",
        "\n",
        "# Calling with keyword arguments (order doesn't matter)\n",
        "print(\"\\nUsing keyword arguments:\")\n",
        "display_info(city=\"Boston\", name=\"Bob\", age=25)\n",
        "\n",
        "# Mixing positional and keyword arguments\n",
        "print(\"\\nMixing positional and keyword arguments:\")\n",
        "display_info(\"Charlie\", city=\"Chicago\", age=35)"
      ],
      "metadata": {
        "colab": {
          "base_uri": "https://localhost:8080/"
        },
        "id": "bhD46I41HOTi",
        "outputId": "6a3ce4ef-6164-483f-e932-47bb01074973"
      },
      "execution_count": 96,
      "outputs": [
        {
          "output_type": "stream",
          "name": "stdout",
          "text": [
            "Using positional arguments:\n",
            "Name: Alice\n",
            "Age: 30\n",
            "City: New York\n",
            "\n",
            "Using keyword arguments:\n",
            "Name: Bob\n",
            "Age: 25\n",
            "City: Boston\n",
            "\n",
            "Mixing positional and keyword arguments:\n",
            "Name: Charlie\n",
            "Age: 35\n",
            "City: Chicago\n"
          ]
        }
      ]
    },
    {
      "cell_type": "code",
      "source": [
        "# Program with default argument values\n",
        "def greet(name, greeting=\"Hello\", punctuation=\"!\"):\n",
        "    \"\"\"\n",
        "    Generate a greeting message.\n",
        "\n",
        "    Args:\n",
        "        name: The name of the person to greet\n",
        "        greeting: The greeting word (default: \"Hello\")\n",
        "        punctuation: The punctuation mark (default: \"!\")\n",
        "\n",
        "    Returns:\n",
        "        A greeting message\n",
        "    \"\"\"\n",
        "    return f\"{greeting}, {name}{punctuation}\"\n",
        "\n",
        "# Using all default values\n",
        "message1 = greet(\"Alice\")\n",
        "print(message1)\n",
        "\n",
        "# Overriding the default greeting\n",
        "message2 = greet(\"Bob\", \"Hi\")\n",
        "print(message2)\n",
        "\n",
        "# Overriding both defaults\n",
        "message3 = greet(\"Charlie\", \"Hey\", \".\")\n",
        "print(message3)\n",
        "\n",
        "# Using keyword arguments\n",
        "message4 = greet(\"David\", punctuation=\"?\")\n",
        "print(message4)"
      ],
      "metadata": {
        "colab": {
          "base_uri": "https://localhost:8080/"
        },
        "id": "x4Gwj0X8HyE8",
        "outputId": "16acb88a-a59d-40e7-a7c4-126f388c735c"
      },
      "execution_count": 97,
      "outputs": [
        {
          "output_type": "stream",
          "name": "stdout",
          "text": [
            "Hello, Alice!\n",
            "Hi, Bob!\n",
            "Hey, Charlie.\n",
            "Hello, David?\n"
          ]
        }
      ]
    },
    {
      "cell_type": "code",
      "source": [
        "# Program demonstrating keyword arguments\n",
        "def create_profile(name, age, occupation, city):\n",
        "    \"\"\"Create a user profile with the given information.\"\"\"\n",
        "    profile = {\n",
        "        \"name\": name,\n",
        "        \"age\": age,\n",
        "        \"occupation\": occupation,\n",
        "        \"city\": city\n",
        "    }\n",
        "    return profile\n",
        "\n",
        "# Using positional arguments (must follow the correct order)\n",
        "profile1 = create_profile(\"Alice\", 28, \"Engineer\", \"Seattle\")\n",
        "print(\"Profile 1:\", profile1)\n",
        "\n",
        "# Using keyword arguments (order doesn't matter)\n",
        "profile2 = create_profile(\n",
        "    age=35,\n",
        "    city=\"Boston\",\n",
        "    name=\"Bob\",\n",
        "    occupation=\"Teacher\"\n",
        ")\n",
        "print(\"Profile 2:\", profile2)\n",
        "\n",
        "# Mixing positional and keyword arguments\n",
        "# Positional arguments must come before keyword arguments\n",
        "profile3 = create_profile(\"Charlie\", 42, city=\"New York\", occupation=\"Designer\")\n",
        "print(\"Profile 3:\", profile3)"
      ],
      "metadata": {
        "colab": {
          "base_uri": "https://localhost:8080/"
        },
        "id": "ogK7IicVH_kD",
        "outputId": "94cdf5cd-b10c-4f29-8a0f-9a9f33ada699"
      },
      "execution_count": 98,
      "outputs": [
        {
          "output_type": "stream",
          "name": "stdout",
          "text": [
            "Profile 1: {'name': 'Alice', 'age': 28, 'occupation': 'Engineer', 'city': 'Seattle'}\n",
            "Profile 2: {'name': 'Bob', 'age': 35, 'occupation': 'Teacher', 'city': 'Boston'}\n",
            "Profile 3: {'name': 'Charlie', 'age': 42, 'occupation': 'Designer', 'city': 'New York'}\n"
          ]
        }
      ]
    },
    {
      "cell_type": "code",
      "source": [
        "# Program with variable number of arguments\n",
        "def calculate_sum(*args):\n",
        "    \"\"\"\n",
        "    Calculate the sum of any number of arguments.\n",
        "\n",
        "    Args:\n",
        "        *args: Variable number of arguments\n",
        "\n",
        "    Returns:\n",
        "        The sum of all arguments\n",
        "    \"\"\"\n",
        "    total = 0\n",
        "    for num in args:\n",
        "        total += num\n",
        "    return total\n",
        "\n",
        "# Call with different numbers of arguments\n",
        "print(f\"Sum of 1, 2: {calculate_sum(1, 2)}\")\n",
        "print(f\"Sum of 1, 2, 3, 4, 5: {calculate_sum(1, 2, 3, 4, 5)}\")\n",
        "print(f\"Sum of no arguments: {calculate_sum()}\")\n",
        "\n",
        "# Using a list with unpacking\n",
        "numbers = [10, 20, 30, 40, 50]\n",
        "print(f\"Sum of {numbers}: {calculate_sum(*numbers)}\")"
      ],
      "metadata": {
        "colab": {
          "base_uri": "https://localhost:8080/"
        },
        "id": "QTzsQtTOIHVs",
        "outputId": "65227000-2faa-4834-c1a7-c97d597517e9"
      },
      "execution_count": 99,
      "outputs": [
        {
          "output_type": "stream",
          "name": "stdout",
          "text": [
            "Sum of 1, 2: 3\n",
            "Sum of 1, 2, 3, 4, 5: 15\n",
            "Sum of no arguments: 0\n",
            "Sum of [10, 20, 30, 40, 50]: 150\n"
          ]
        }
      ]
    },
    {
      "cell_type": "code",
      "source": [
        "# Program demonstrating *args and **kwargs\n",
        "def display_info(*args, **kwargs):\n",
        "    \"\"\"\n",
        "    Display all positional and keyword arguments.\n",
        "\n",
        "    Args:\n",
        "        *args: Variable positional arguments\n",
        "        **kwargs: Variable keyword arguments\n",
        "    \"\"\"\n",
        "    print(\"Positional arguments (args):\")\n",
        "    for i, arg in enumerate(args):\n",
        "        print(f\"  Arg {i+1}: {arg}\")\n",
        "\n",
        "    print(\"\\nKeyword arguments (kwargs):\")\n",
        "    for key, value in kwargs.items():\n",
        "        print(f\"  {key}: {value}\")\n",
        "\n",
        "# Call with various combinations of arguments\n",
        "display_info(\"apple\", \"banana\", \"cherry\", name=\"Alice\", age=30, city=\"New York\")\n",
        "\n",
        "# Using lists and dictionaries with unpacking\n",
        "fruits = [\"grape\", \"orange\"]\n",
        "info = {\"job\": \"Engineer\", \"salary\": 75000}\n",
        "display_info(*fruits, **info)"
      ],
      "metadata": {
        "colab": {
          "base_uri": "https://localhost:8080/"
        },
        "id": "sUsqtYWRIQ-e",
        "outputId": "7681814b-16be-4c81-a5f3-7ac6b7f32616"
      },
      "execution_count": 100,
      "outputs": [
        {
          "output_type": "stream",
          "name": "stdout",
          "text": [
            "Positional arguments (args):\n",
            "  Arg 1: apple\n",
            "  Arg 2: banana\n",
            "  Arg 3: cherry\n",
            "\n",
            "Keyword arguments (kwargs):\n",
            "  name: Alice\n",
            "  age: 30\n",
            "  city: New York\n",
            "Positional arguments (args):\n",
            "  Arg 1: grape\n",
            "  Arg 2: orange\n",
            "\n",
            "Keyword arguments (kwargs):\n",
            "  job: Engineer\n",
            "  salary: 75000\n"
          ]
        }
      ]
    },
    {
      "cell_type": "markdown",
      "source": [
        "# **RETURN VALUES AND SCOPING**"
      ],
      "metadata": {
        "id": "OJdTw9s8Igm4"
      }
    },
    {
      "cell_type": "markdown",
      "source": [
        "1. Describe the role of the `return` statement in Python functions and provide examples.\n",
        "2. Explain the concept of variable scope in Python, including local and global variables.\n",
        "3. Write a Python program that demonstrates the use of global variables within functions.\n",
        "4. Create a Python function that calculates the factorial of a number and returns it.\n",
        "5. How can you access variables defined outside a function from within the function?\n",
        "\n"
      ],
      "metadata": {
        "id": "BIJq0mjjIklf"
      }
    },
    {
      "cell_type": "code",
      "source": [
        "# Program demonstrating return statement\n",
        "def divide(a, b):\n",
        "    if b == 0:\n",
        "        print(\"Error: Division by zero\")\n",
        "        return None  # Early return\n",
        "\n",
        "    result = a / b\n",
        "    return result  # Normal return\n",
        "\n",
        "# Test with valid inputs\n",
        "print(f\"10 / 2 = {divide(10, 2)}\")\n",
        "\n",
        "# Test with division by zero\n",
        "result = divide(5, 0)\n",
        "if result is not None:\n",
        "    print(f\"5 / 0 = {result}\")\n",
        "\n",
        "# Multiple return values (using tuple packing/unpacking)\n",
        "def min_max(numbers):\n",
        "    \"\"\"Return both the minimum and maximum value in a list.\"\"\"\n",
        "    return min(numbers), max(numbers)\n",
        "\n",
        "nums = [3, 1, 5, 2, 4]\n",
        "minimum, maximum = min_max(nums)\n",
        "print(f\"List: {nums}\")\n",
        "print(f\"Minimum: {minimum}, Maximum: {maximum}\")"
      ],
      "metadata": {
        "colab": {
          "base_uri": "https://localhost:8080/"
        },
        "id": "7-GVF_6qIYgO",
        "outputId": "3ceb6015-5cbc-4355-c614-47350e1b513b"
      },
      "execution_count": 101,
      "outputs": [
        {
          "output_type": "stream",
          "name": "stdout",
          "text": [
            "10 / 2 = 5.0\n",
            "Error: Division by zero\n",
            "List: [3, 1, 5, 2, 4]\n",
            "Minimum: 1, Maximum: 5\n"
          ]
        }
      ]
    },
    {
      "cell_type": "code",
      "source": [
        "# Program demonstrating variable scope\n",
        "# Global variable\n",
        "global_var = \"I am global\"\n",
        "\n",
        "def demonstrate_scope():\n",
        "    \"\"\"Demonstrate local and global variable scope.\"\"\"\n",
        "    # Local variable\n",
        "    local_var = \"I am local\"\n",
        "\n",
        "    print(\"Inside the function:\")\n",
        "    print(f\"  Local variable: {local_var}\")\n",
        "    print(f\"  Global variable: {global_var}\")\n",
        "\n",
        "    # This creates a new local variable, not modifying the global one\n",
        "    # global_var = \"Modified inside function\"  # Uncomment to see the effect\n",
        "\n",
        "demonstrate_scope()\n",
        "\n",
        "print(\"\\nOutside the function:\")\n",
        "print(f\"  Global variable: {global_var}\")\n",
        "print(f\"  Local variable: {local_var}\")  # This would cause an error"
      ],
      "metadata": {
        "colab": {
          "base_uri": "https://localhost:8080/",
          "height": 280
        },
        "id": "T23-Ms_WI1YP",
        "outputId": "d8582ef4-e72f-4652-8dc9-663ad6c06c88"
      },
      "execution_count": 103,
      "outputs": [
        {
          "output_type": "stream",
          "name": "stdout",
          "text": [
            "Inside the function:\n",
            "  Local variable: I am local\n",
            "  Global variable: I am global\n",
            "\n",
            "Outside the function:\n",
            "  Global variable: I am global\n"
          ]
        },
        {
          "output_type": "error",
          "ename": "NameError",
          "evalue": "name 'local_var' is not defined",
          "traceback": [
            "\u001b[0;31m---------------------------------------------------------------------------\u001b[0m",
            "\u001b[0;31mNameError\u001b[0m                                 Traceback (most recent call last)",
            "\u001b[0;32m<ipython-input-103-fe73132e70dd>\u001b[0m in \u001b[0;36m<cell line: 0>\u001b[0;34m()\u001b[0m\n\u001b[1;32m     19\u001b[0m \u001b[0mprint\u001b[0m\u001b[0;34m(\u001b[0m\u001b[0;34m\"\\nOutside the function:\"\u001b[0m\u001b[0;34m)\u001b[0m\u001b[0;34m\u001b[0m\u001b[0;34m\u001b[0m\u001b[0m\n\u001b[1;32m     20\u001b[0m \u001b[0mprint\u001b[0m\u001b[0;34m(\u001b[0m\u001b[0;34mf\"  Global variable: {global_var}\"\u001b[0m\u001b[0;34m)\u001b[0m\u001b[0;34m\u001b[0m\u001b[0;34m\u001b[0m\u001b[0m\n\u001b[0;32m---> 21\u001b[0;31m \u001b[0mprint\u001b[0m\u001b[0;34m(\u001b[0m\u001b[0;34mf\"  Local variable: {local_var}\"\u001b[0m\u001b[0;34m)\u001b[0m  \u001b[0;31m# This would cause an error\u001b[0m\u001b[0;34m\u001b[0m\u001b[0;34m\u001b[0m\u001b[0m\n\u001b[0m",
            "\u001b[0;31mNameError\u001b[0m: name 'local_var' is not defined"
          ]
        }
      ]
    },
    {
      "cell_type": "code",
      "source": [
        "# Program to calculate factorial and return it\n",
        "def factorial(n):\n",
        "    if n < 0:\n",
        "        return None  # Factorial is not defined for negative numbers\n",
        "\n",
        "    result = 1\n",
        "    for i in range(1, n + 1):\n",
        "        result *= i\n",
        "\n",
        "    return result\n",
        "\n",
        "# Test the function\n",
        "for num in range(6):\n",
        "    print(f\"{num}! = {factorial(num)}\")"
      ],
      "metadata": {
        "colab": {
          "base_uri": "https://localhost:8080/"
        },
        "id": "lmQd_kB9I9BZ",
        "outputId": "b33763c0-132c-4115-a103-80e57d9a412c"
      },
      "execution_count": 104,
      "outputs": [
        {
          "output_type": "stream",
          "name": "stdout",
          "text": [
            "0! = 1\n",
            "1! = 1\n",
            "2! = 2\n",
            "3! = 6\n",
            "4! = 24\n",
            "5! = 120\n"
          ]
        }
      ]
    },
    {
      "cell_type": "code",
      "source": [
        "# Program to access variables defined outside a function\n",
        "message = \"Hello, World!\"\n",
        "count = 5\n",
        "\n",
        "def modify_globals():\n",
        "    \"\"\"Access and modify global variables.\"\"\"\n",
        "    global count  # Declare that we want to use the global variable\n",
        "\n",
        "    # This will access the global message variable (read-only)\n",
        "    print(f\"Inside function, message = '{message}'\")\n",
        "\n",
        "    # This will modify the global count variable\n",
        "    count = count + 1\n",
        "    print(f\"Inside function, count = {count}\")\n",
        "\n",
        "print(f\"Before function call, count = {count}\")\n",
        "modify_globals()\n",
        "print(f\"After function call, count = {count}\")\n",
        "\n",
        "# Accessing variables from enclosing scope (closure)\n",
        "def outer_function(x):\n",
        "    \"\"\"Demonstrate closure with nested functions.\"\"\"\n",
        "\n",
        "    def inner_function(y):\n",
        "        # This can access variables from the outer function\n",
        "        return x + y\n",
        "\n",
        "    return inner_function\n",
        "\n",
        "# Create a function that adds 10 to its argument\n",
        "add_10 = outer_function(10)\n",
        "print(f\"add_10(5) = {add_10(5)}\")"
      ],
      "metadata": {
        "colab": {
          "base_uri": "https://localhost:8080/"
        },
        "id": "tXqZfLQLJLFs",
        "outputId": "a7afd8ed-59ae-49dc-ac1a-d512c264fcc4"
      },
      "execution_count": 105,
      "outputs": [
        {
          "output_type": "stream",
          "name": "stdout",
          "text": [
            "Before function call, count = 5\n",
            "Inside function, message = 'Hello, World!'\n",
            "Inside function, count = 6\n",
            "After function call, count = 6\n",
            "add_10(5) = 15\n"
          ]
        }
      ]
    },
    {
      "cell_type": "markdown",
      "source": [
        "# **Lambda functions and Higher Order functions**"
      ],
      "metadata": {
        "id": "yB46it6SJaNO"
      }
    },
    {
      "cell_type": "markdown",
      "source": [
        "1. What are lambda functions in Python, and when are they typically used?\n",
        "2. Write a Python program that uses lambda functions to sort a list of tuples based on the second element.\n",
        "3. Explain the concept of higher-order functions in Python, and provide an example.\n",
        "4. Create a Python function that takes a list of numbers and a function as arguments, applying the function to each element in the list.\n"
      ],
      "metadata": {
        "id": "Vd_DNe4XJiMN"
      }
    },
    {
      "cell_type": "code",
      "source": [
        "# Program demonstrating lambda functions\n",
        "# Regular function\n",
        "def square(x):\n",
        "    return x ** 2\n",
        "\n",
        "# Equivalent lambda function\n",
        "square_lambda = lambda x: x ** 2\n",
        "\n",
        "print(f\"Using regular function: {square(5)}\")\n",
        "print(f\"Using lambda function: {square_lambda(5)}\")\n",
        "\n",
        "# Lambda functions are often used with map, filter, and sorted\n",
        "numbers = [3, 1, 5, 2, 4]\n",
        "\n",
        "# Sort a list of tuples based on the second element\n",
        "pairs = [(1, 'one'), (3, 'three'), (2, 'two'), (4, 'four')]\n",
        "sorted_pairs = sorted(pairs, key=lambda pair: pair[1])\n",
        "\n",
        "print(f\"Original pairs: {pairs}\")\n",
        "print(f\"Sorted by second element: {sorted_pairs}\")"
      ],
      "metadata": {
        "colab": {
          "base_uri": "https://localhost:8080/"
        },
        "id": "CAGx7lEDJXCJ",
        "outputId": "47f335cb-b7d6-4120-8785-db641f083e40"
      },
      "execution_count": 106,
      "outputs": [
        {
          "output_type": "stream",
          "name": "stdout",
          "text": [
            "Using regular function: 25\n",
            "Using lambda function: 25\n",
            "Original pairs: [(1, 'one'), (3, 'three'), (2, 'two'), (4, 'four')]\n",
            "Sorted by second element: [(4, 'four'), (1, 'one'), (3, 'three'), (2, 'two')]\n"
          ]
        }
      ]
    },
    {
      "cell_type": "code",
      "source": [
        "# Program to sort a list of tuples using lambda\n",
        "students = [\n",
        "    ('Alice', 85),\n",
        "    ('Bob', 92),\n",
        "    ('Charlie', 78),\n",
        "    ('David', 95),\n",
        "    ('Eve', 88)\n",
        "]\n",
        "\n",
        "# Sort by name (first element)\n",
        "sorted_by_name = sorted(students, key=lambda student: student[0])\n",
        "\n",
        "# Sort by score (second element)\n",
        "sorted_by_score = sorted(students, key=lambda student: student[1])\n",
        "\n",
        "# Sort by score in descending order\n",
        "sorted_by_score_desc = sorted(students, key=lambda student: student[1], reverse=True)\n",
        "\n",
        "print(\"Original list of students:\")\n",
        "for student in students:\n",
        "    print(f\"  {student[0]}: {student[1]}\")\n",
        "\n",
        "print(\"\\nSorted by name:\")\n",
        "for student in sorted_by_name:\n",
        "    print(f\"  {student[0]}: {student[1]}\")\n",
        "\n",
        "print(\"\\nSorted by score (ascending):\")\n",
        "for student in sorted_by_score:\n",
        "    print(f\"  {student[0]}: {student[1]}\")\n",
        "\n",
        "print(\"\\nSorted by score (descending):\")\n",
        "for student in sorted_by_score_desc:\n",
        "    print(f\"  {student[0]}: {student[1]}\")"
      ],
      "metadata": {
        "colab": {
          "base_uri": "https://localhost:8080/"
        },
        "id": "JXyo_0cbJrc3",
        "outputId": "8f015b6a-c096-4b2f-d23a-c447a8bfdb76"
      },
      "execution_count": 108,
      "outputs": [
        {
          "output_type": "stream",
          "name": "stdout",
          "text": [
            "Original list of students:\n",
            "  Alice: 85\n",
            "  Bob: 92\n",
            "  Charlie: 78\n",
            "  David: 95\n",
            "  Eve: 88\n",
            "\n",
            "Sorted by name:\n",
            "  Alice: 85\n",
            "  Bob: 92\n",
            "  Charlie: 78\n",
            "  David: 95\n",
            "  Eve: 88\n",
            "\n",
            "Sorted by score (ascending):\n",
            "  Charlie: 78\n",
            "  Alice: 85\n",
            "  Eve: 88\n",
            "  Bob: 92\n",
            "  David: 95\n",
            "\n",
            "Sorted by score (descending):\n",
            "  David: 95\n",
            "  Bob: 92\n",
            "  Eve: 88\n",
            "  Alice: 85\n",
            "  Charlie: 78\n"
          ]
        }
      ]
    },
    {
      "cell_type": "code",
      "source": [
        "# Program demonstrating higher-order functions\n",
        "\"\"\"\n",
        "Higher-order functions are functions that:\n",
        "1. Take one or more functions as arguments\n",
        "2. Return a function as a result\n",
        "3. Or both\n",
        "\"\"\"\n",
        "\n",
        "# Function that takes a function as an argument\n",
        "def apply_operation(func, x, y):\n",
        "    \"\"\"Apply a given operation to two numbers.\"\"\"\n",
        "    return func(x, y)\n",
        "\n",
        "# Some operations\n",
        "def add(a, b):\n",
        "    return a + b\n",
        "\n",
        "def multiply(a, b):\n",
        "    return a * b\n",
        "\n",
        "# Using the higher-order function\n",
        "result1 = apply_operation(add, 5, 3)\n",
        "result2 = apply_operation(multiply, 5, 3)\n",
        "\n",
        "print(f\"5 + 3 = {result1}\")\n",
        "print(f\"5 × 3 = {result2}\")\n",
        "\n",
        "# Using lambda functions\n",
        "result3 = apply_operation(lambda a, b: a - b, 5, 3)\n",
        "print(f\"5 - 3 = {result3}\")\n",
        "\n",
        "# Function that returns a function\n",
        "def create_multiplier(factor):\n",
        "    \"\"\"Create a function that multiplies its input by a given factor.\"\"\"\n",
        "    def multiplier(x):\n",
        "        return x * factor\n",
        "    return multiplier\n",
        "\n",
        "# Create specific multiplier functions\n",
        "double = create_multiplier(2)\n",
        "triple = create_multiplier(3)\n",
        "\n",
        "print(f\"Double 5: {double(5)}\")\n",
        "print(f\"Triple 5: {triple(5)}\")"
      ],
      "metadata": {
        "colab": {
          "base_uri": "https://localhost:8080/"
        },
        "id": "YKnvaM4bJ2pl",
        "outputId": "095f643f-f161-4dd8-c452-268e55082179"
      },
      "execution_count": 109,
      "outputs": [
        {
          "output_type": "stream",
          "name": "stdout",
          "text": [
            "5 + 3 = 8\n",
            "5 × 3 = 15\n",
            "5 - 3 = 2\n",
            "Double 5: 10\n",
            "Triple 5: 15\n"
          ]
        }
      ]
    },
    {
      "cell_type": "code",
      "source": [
        "# Program to apply a function to each list element\n",
        "def apply_to_each(func, lst):\n",
        "    \"\"\"\n",
        "    Apply a function to each element in a list.\n",
        "\n",
        "    Args:\n",
        "        func: Function to apply\n",
        "        lst: List of elements\n",
        "\n",
        "    Returns:\n",
        "        A new list with the function applied to each element\n",
        "    \"\"\"\n",
        "    result = []\n",
        "    for item in lst:\n",
        "        result.append(func(item))\n",
        "    return result\n",
        "\n",
        "# Test functions\n",
        "def square(x):\n",
        "    return x ** 2\n",
        "\n",
        "def add_five(x):\n",
        "    return x + 5\n",
        "\n",
        "# Test list\n",
        "numbers = [1, 2, 3, 4, 5]\n",
        "\n",
        "# Apply square function\n",
        "squared = apply_to_each(square, numbers)\n",
        "print(f\"Original numbers: {numbers}\")\n",
        "print(f\"After squaring: {squared}\")\n",
        "\n",
        "# Apply add_five function\n",
        "added_five = apply_to_each(add_five, numbers)\n",
        "print(f\"After adding five: {added_five}\")\n",
        "\n",
        "# Using a lambda function\n",
        "doubled = apply_to_each(lambda x: x * 2, numbers)\n",
        "print(f\"After doubling: {doubled}\")"
      ],
      "metadata": {
        "colab": {
          "base_uri": "https://localhost:8080/"
        },
        "id": "o_zFFfKXKCWe",
        "outputId": "11235b4d-cbff-44c0-bdbc-8d40a9674864"
      },
      "execution_count": 110,
      "outputs": [
        {
          "output_type": "stream",
          "name": "stdout",
          "text": [
            "Original numbers: [1, 2, 3, 4, 5]\n",
            "After squaring: [1, 4, 9, 16, 25]\n",
            "After adding five: [6, 7, 8, 9, 10]\n",
            "After doubling: [2, 4, 6, 8, 10]\n"
          ]
        }
      ]
    },
    {
      "cell_type": "markdown",
      "source": [
        "# **BUILT-IN FUNCTIONS**"
      ],
      "metadata": {
        "id": "QAEs56cYKKT-"
      }
    },
    {
      "cell_type": "markdown",
      "source": [
        "1. Describe the role of built-in functions like `len()`, `max()`, and `min()` in Python.\n",
        "2. Write a Python program that uses the `map()` function to apply a function to each element of a list.\n",
        "3. How does the `filter()` function work in Python, and when would you use it?\n",
        "4. Create a Python program that uses the `reduce()` function to find the product of all elements in a list.\n"
      ],
      "metadata": {
        "id": "CaW_wLq3KO8O"
      }
    },
    {
      "cell_type": "code",
      "source": [
        "# Program demonstrating built-in functions\n",
        "numbers = [5, 2, 8, 1, 9, 3]\n",
        "names = [\"Alice\", \"Bob\", \"Charlie\", \"David\", \"Eve\"]\n",
        "\n",
        "# len() - Returns the length of an object\n",
        "print(f\"Length of numbers list: {len(numbers)}\")\n",
        "print(f\"Length of 'Python': {len('Python')}\")\n",
        "\n",
        "# max() - Returns the largest item\n",
        "print(f\"Maximum value in numbers: {max(numbers)}\")\n",
        "print(f\"Alphabetically last name: {max(names)}\")\n",
        "\n",
        "# min() - Returns the smallest item\n",
        "print(f\"Minimum value in numbers: {min(numbers)}\")\n",
        "print(f\"Alphabetically first name: {min(names)}\")\n",
        "\n",
        "# sum() - Returns the sum of items\n",
        "print(f\"Sum of numbers: {sum(numbers)}\")\n",
        "print(f\"Sum of numbers with start value 100: {sum(numbers, 100)}\")\n",
        "\n",
        "# sorted() - Returns a new sorted list\n",
        "print(f\"Sorted numbers: {sorted(numbers)}\")\n",
        "print(f\"Sorted numbers (descending): {sorted(numbers, reverse=True)}\")\n",
        "print(f\"Names sorted by length: {sorted(names, key=len)}\")\n",
        "\n",
        "# any() and all() - Boolean checks\n",
        "print(f\"Any number > 5? {any(x > 5 for x in numbers)}\")\n",
        "print(f\"All numbers > 0? {all(x > 0 for x in numbers)}\")"
      ],
      "metadata": {
        "colab": {
          "base_uri": "https://localhost:8080/"
        },
        "id": "-EOucx-3KISS",
        "outputId": "6e65a83f-a7a3-4ac1-8b5b-bf54c554ca4a"
      },
      "execution_count": 111,
      "outputs": [
        {
          "output_type": "stream",
          "name": "stdout",
          "text": [
            "Length of numbers list: 6\n",
            "Length of 'Python': 6\n",
            "Maximum value in numbers: 9\n",
            "Alphabetically last name: Eve\n",
            "Minimum value in numbers: 1\n",
            "Alphabetically first name: Alice\n",
            "Sum of numbers: 28\n",
            "Sum of numbers with start value 100: 128\n",
            "Sorted numbers: [1, 2, 3, 5, 8, 9]\n",
            "Sorted numbers (descending): [9, 8, 5, 3, 2, 1]\n",
            "Names sorted by length: ['Bob', 'Eve', 'Alice', 'David', 'Charlie']\n",
            "Any number > 5? True\n",
            "All numbers > 0? True\n"
          ]
        }
      ]
    },
    {
      "cell_type": "markdown",
      "source": [
        "# **Function Documentation and Best practices**"
      ],
      "metadata": {
        "id": "hwGeXcRlKdpD"
      }
    },
    {
      "cell_type": "markdown",
      "source": [
        "1. Explain the purpose of docstrings in Python functions and how to write them.\n",
        "2. Describe some best practices for naming functions and variables in Python, including naming conventions and guidelines.\n",
        "\n"
      ],
      "metadata": {
        "id": "rvcZT7tAKjbn"
      }
    },
    {
      "cell_type": "code",
      "source": [
        "def calculate_rectangle_area(length, width):\n",
        "    \"\"\"\n",
        "    Calculate the area of a rectangle.\n",
        "\n",
        "    This function takes the length and width of a rectangle and\n",
        "    returns its area using the formula: area = length * width.\n",
        "\n",
        "    Args:\n",
        "        length (float): The length of the rectangle.\n",
        "        width (float): The width of the rectangle.\n",
        "\n",
        "    Returns:\n",
        "        float: The area of the rectangle.\n",
        "\n",
        "    Raises:\n",
        "        ValueError: If length or width is negative.\n",
        "\n",
        "    Examples:\n",
        "        >>> calculate_rectangle_area(5, 3)\n",
        "        15.0\n",
        "        >>> calculate_rectangle_area(2.5, 4)\n",
        "        10.0\n",
        "    \"\"\"\n",
        "    # Input validation\n",
        "    if length < 0 or width < 0:\n",
        "        raise ValueError(\"Length and width must be non-negative\")\n",
        "\n",
        "    # Calculate area\n",
        "    area = length * width\n",
        "\n",
        "    return area\n",
        "\n",
        "\"\"\"\n",
        "Best practices for naming functions and variables:\n",
        "\n",
        "1. Use descriptive names that indicate purpose\n",
        "   - Good: calculate_area, get_user_info\n",
        "   - Bad: calc, process\n",
        "\n",
        "2. Use snake_case for functions and variables\n",
        "   - Good: user_age, calculate_total_price\n",
        "   - Bad: userAge, CalculateTotalPrice\n",
        "\n",
        "3. Use UPPER_CASE for constants\n",
        "   - Good: MAX_SIZE, PI, DEFAULT_CONFIG\n",
        "   - Bad: maxSize, pi\n",
        "\n",
        "4. Use verb phrases for functions (they do something)\n",
        "   - Good: get_name(), calculate_total(), validate_input()\n",
        "   - Bad: name(), total(), validation()\n",
        "\n",
        "5. Use noun phrases for variables (they store something)\n",
        "   - Good: user_name, total_price, input_data\n",
        "   - Bad: process(), calculate, validate\n",
        "\n",
        "6. Be consistent with naming conventions throughout your code\n",
        "\n",
        "7. Avoid single-letter names except for simple counters or coordinates\n",
        "   - Acceptable: for i in range(10):, point(x, y)\n",
        "   - Avoid for important variables\n",
        "\n",
        "8. Avoid abbreviations unless widely understood\n",
        "   - Good: temp for temperature, num for number\n",
        "   - Bad: cstmr for customer, val for validation\n",
        "\n",
        "9. Keep names reasonably short but clear\n",
        "   - Good: calculate_area()\n",
        "   - Bad: calculate_the_area_of_the_shape()\n",
        "\"\"\""
      ],
      "metadata": {
        "colab": {
          "base_uri": "https://localhost:8080/",
          "height": 123
        },
        "id": "BKieQ3e6KVDi",
        "outputId": "44457470-6eae-45bc-96f7-b4384ff3602f"
      },
      "execution_count": 112,
      "outputs": [
        {
          "output_type": "execute_result",
          "data": {
            "text/plain": [
              "'\\nBest practices for naming functions and variables:\\n\\n1. Use descriptive names that indicate purpose\\n   - Good: calculate_area, get_user_info\\n   - Bad: calc, process\\n\\n2. Use snake_case for functions and variables\\n   - Good: user_age, calculate_total_price\\n   - Bad: userAge, CalculateTotalPrice\\n\\n3. Use UPPER_CASE for constants\\n   - Good: MAX_SIZE, PI, DEFAULT_CONFIG\\n   - Bad: maxSize, pi\\n\\n4. Use verb phrases for functions (they do something)\\n   - Good: get_name(), calculate_total(), validate_input()\\n   - Bad: name(), total(), validation()\\n\\n5. Use noun phrases for variables (they store something)\\n   - Good: user_name, total_price, input_data\\n   - Bad: process(), calculate, validate\\n\\n6. Be consistent with naming conventions throughout your code\\n\\n7. Avoid single-letter names except for simple counters or coordinates\\n   - Acceptable: for i in range(10):, point(x, y)\\n   - Avoid for important variables\\n\\n8. Avoid abbreviations unless widely understood\\n   - Good: temp for temperature, num for number\\n   - Bad: cstmr for customer, val for validation\\n\\n9. Keep names reasonably short but clear\\n   - Good: calculate_area()\\n   - Bad: calculate_the_area_of_the_shape()\\n'"
            ],
            "application/vnd.google.colaboratory.intrinsic+json": {
              "type": "string"
            }
          },
          "metadata": {},
          "execution_count": 112
        }
      ]
    },
    {
      "cell_type": "code",
      "source": [],
      "metadata": {
        "id": "zI2fCn4oKrK4"
      },
      "execution_count": null,
      "outputs": []
    }
  ]
}