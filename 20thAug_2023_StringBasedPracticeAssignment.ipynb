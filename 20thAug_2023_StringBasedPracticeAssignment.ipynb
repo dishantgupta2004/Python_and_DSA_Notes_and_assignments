{
  "nbformat": 4,
  "nbformat_minor": 0,
  "metadata": {
    "colab": {
      "provenance": [],
      "authorship_tag": "ABX9TyPMnFG8FctZhHIEWOqiFYsv",
      "include_colab_link": true
    },
    "kernelspec": {
      "name": "python3",
      "display_name": "Python 3"
    },
    "language_info": {
      "name": "python"
    }
  },
  "cells": [
    {
      "cell_type": "markdown",
      "metadata": {
        "id": "view-in-github",
        "colab_type": "text"
      },
      "source": [
        "<a href=\"https://colab.research.google.com/github/dishantgupta2004/Python_and_DSA_Notes_and_assignments/blob/main/20thAug_2023_StringBasedPracticeAssignment.ipynb\" target=\"_parent\"><img src=\"https://colab.research.google.com/assets/colab-badge.svg\" alt=\"Open In Colab\"/></a>"
      ]
    },
    {
      "cell_type": "code",
      "source": [
        "\"\"\"\n",
        "Python solutions for String-Based Practice Questions (1 - 50)\n",
        "\"\"\"\n",
        "# 1. Write a program to reverse a string.\n",
        "def reverse_string(string):\n",
        "    return string[::-1]\n",
        "print(\"1. Reverse string 'Hello World':\", reverse_string(\"Hello World\"))\n",
        "\n"
      ],
      "metadata": {
        "colab": {
          "base_uri": "https://localhost:8080/"
        },
        "id": "lvAdWOL9YYOz",
        "outputId": "9b078194-c6b5-41f8-b97a-7ebf89efcf09"
      },
      "execution_count": 1,
      "outputs": [
        {
          "output_type": "stream",
          "name": "stdout",
          "text": [
            "1. Reverse string 'Hello World': dlroW olleH\n"
          ]
        }
      ]
    },
    {
      "cell_type": "code",
      "source": [
        "# 2. Check if a string is a palindrome.\n",
        "def is_palindrome(string):\n",
        "    # Convert to lowercase and remove spaces for better comparison\n",
        "    clean_string = ''.join(string.lower().split())\n",
        "    return clean_string == clean_string[::-1]\n",
        "\n",
        "print(\"2. Is 'racecar' a palindrome?\", is_palindrome(\"racecar\"))\n",
        "print(\"   Is 'hello' a palindrome?\", is_palindrome(\"hello\"))\n",
        "print(\"   Is 'A man a plan a canal Panama' a palindrome?\", is_palindrome(\"A man a plan a canal Panama\"))\n"
      ],
      "metadata": {
        "colab": {
          "base_uri": "https://localhost:8080/"
        },
        "id": "fXBIl3SbYg2O",
        "outputId": "182b99eb-7fd2-45b5-ccc0-2aa967a5c743"
      },
      "execution_count": 2,
      "outputs": [
        {
          "output_type": "stream",
          "name": "stdout",
          "text": [
            "2. Is 'racecar' a palindrome? True\n",
            "   Is 'hello' a palindrome? False\n",
            "   Is 'A man a plan a canal Panama' a palindrome? True\n"
          ]
        }
      ]
    },
    {
      "cell_type": "code",
      "source": [
        "# 3. Convert a string to uppercase.\n",
        "def to_uppercase(string):\n",
        "    return string.upper()\n",
        "print(\"3. 'hello world' in uppercase:\", to_uppercase(\"hello world\"))"
      ],
      "metadata": {
        "colab": {
          "base_uri": "https://localhost:8080/"
        },
        "id": "bS157QCHYgyM",
        "outputId": "f469beb6-75fa-4858-a5a1-340cd5fd316d"
      },
      "execution_count": 3,
      "outputs": [
        {
          "output_type": "stream",
          "name": "stdout",
          "text": [
            "3. 'hello world' in uppercase: HELLO WORLD\n"
          ]
        }
      ]
    },
    {
      "cell_type": "code",
      "source": [
        "# 4. Convert a string to lowercase.\n",
        "def to_lowercase(string):\n",
        "    return string.lower()\n",
        "\n",
        "print(\"4. 'HELLO WORLD' in lowercase:\", to_lowercase(\"HELLO WORLD\"))\n"
      ],
      "metadata": {
        "colab": {
          "base_uri": "https://localhost:8080/"
        },
        "id": "D9sCVEXZYguL",
        "outputId": "1056d74d-efe6-4e7c-f4fa-5becd50dfc99"
      },
      "execution_count": 6,
      "outputs": [
        {
          "output_type": "stream",
          "name": "stdout",
          "text": [
            "4. 'HELLO WORLD' in lowercase: hello world\n"
          ]
        }
      ]
    },
    {
      "cell_type": "code",
      "source": [
        "# 5. Count the number of vowels in a string.\n",
        "def count_vowels(string):\n",
        "    vowels = \"aeiouAEIOU\"\n",
        "    count = 0\n",
        "    for char in string:\n",
        "        if char in vowels:\n",
        "            count += 1\n",
        "    return count\n",
        "\n",
        "print(\"5. Number of vowels in 'Hello World':\", count_vowels(\"Hello World\"))\n",
        "\n"
      ],
      "metadata": {
        "colab": {
          "base_uri": "https://localhost:8080/"
        },
        "id": "Ttcp_4hRY8zP",
        "outputId": "ac02afc2-f6eb-4b3d-87ab-e9b3071e6da3"
      },
      "execution_count": 7,
      "outputs": [
        {
          "output_type": "stream",
          "name": "stdout",
          "text": [
            "5. Number of vowels in 'Hello World': 3\n"
          ]
        }
      ]
    },
    {
      "cell_type": "code",
      "source": [
        "# 6. Count the number of consonants in a string.\n",
        "def count_consonants(string):\n",
        "    vowels = \"aeiouAEIOU\"\n",
        "    count = 0\n",
        "    for char in string:\n",
        "        if char.isalpha() and char not in vowels:\n",
        "            count += 1\n",
        "    return count\n",
        "\n",
        "# Test\n",
        "print(\"6. Number of consonants in 'Hello World':\", count_consonants(\"Hello World\"))"
      ],
      "metadata": {
        "colab": {
          "base_uri": "https://localhost:8080/"
        },
        "id": "yxBKwdzLY8vr",
        "outputId": "ac0e01d6-d0ff-4101-b1d7-998b2751a979"
      },
      "execution_count": 8,
      "outputs": [
        {
          "output_type": "stream",
          "name": "stdout",
          "text": [
            "6. Number of consonants in 'Hello World': 7\n"
          ]
        }
      ]
    },
    {
      "cell_type": "code",
      "source": [
        "\n",
        "# 7. Remove all whitespaces from a string.\n",
        "def remove_whitespace(string):\n",
        "    return ''.join(string.split())\n",
        "\n",
        "# Test\n",
        "print(\"7. 'Hello World' without whitespace:\", remove_whitespace(\"Hello World\"))\n",
        "\n",
        "\n",
        "# 8. Find the length of a string without using the `len()` function.\n",
        "def string_length(string):\n",
        "    count = 0\n",
        "    for _ in string:\n",
        "        count += 1\n",
        "    return count\n",
        "\n",
        "# Test\n",
        "print(\"8. Length of 'Hello World' without len():\", string_length(\"Hello World\"))\n"
      ],
      "metadata": {
        "colab": {
          "base_uri": "https://localhost:8080/"
        },
        "id": "e3ujRhYXY8sQ",
        "outputId": "526c53ac-0e33-4971-a8b4-dd9c67afadb6"
      },
      "execution_count": 9,
      "outputs": [
        {
          "output_type": "stream",
          "name": "stdout",
          "text": [
            "7. 'Hello World' without whitespace: HelloWorld\n",
            "8. Length of 'Hello World' without len(): 11\n"
          ]
        }
      ]
    },
    {
      "cell_type": "code",
      "source": [
        "\n",
        "# 9. Check if a string contains a specific word.\n",
        "def contains_word(string, word):\n",
        "    return word in string.lower().split()\n",
        "\n",
        "# Test\n",
        "print(\"9. Does 'Hello World' contain 'world'?\", contains_word(\"Hello World\", \"world\"))\n",
        "print(\"   Does 'Hello World' contain 'python'?\", contains_word(\"Hello World\", \"python\"))\n",
        "\n"
      ],
      "metadata": {
        "colab": {
          "base_uri": "https://localhost:8080/"
        },
        "id": "RTuRNh6LY8o1",
        "outputId": "d35415ea-0a07-4ab7-cd72-be9100ce135f"
      },
      "execution_count": 10,
      "outputs": [
        {
          "output_type": "stream",
          "name": "stdout",
          "text": [
            "9. Does 'Hello World' contain 'world'? True\n",
            "   Does 'Hello World' contain 'python'? False\n"
          ]
        }
      ]
    },
    {
      "cell_type": "code",
      "source": [
        "\n",
        "# 10. Replace a word in a string with another word.\n",
        "def replace_word(string, old_word, new_word):\n",
        "    return string.replace(old_word, new_word)\n",
        "\n",
        "# Test\n",
        "print(\"10. Replace 'World' with 'Python' in 'Hello World':\", replace_word(\"Hello World\", \"World\", \"Python\"))\n",
        "\n",
        "\n"
      ],
      "metadata": {
        "colab": {
          "base_uri": "https://localhost:8080/"
        },
        "id": "MiPulJvwY8lV",
        "outputId": "add4ce1d-7055-46e7-cc0d-775b73c8b292"
      },
      "execution_count": 11,
      "outputs": [
        {
          "output_type": "stream",
          "name": "stdout",
          "text": [
            "10. Replace 'World' with 'Python' in 'Hello World': Hello Python\n"
          ]
        }
      ]
    },
    {
      "cell_type": "code",
      "source": [
        "# 11. Count the occurrences of a word in a string.\n",
        "def count_word_occurrences(string, word):\n",
        "    return string.lower().split().count(word.lower())\n",
        "\n",
        "# Test\n",
        "print(\"11. Count occurrences of 'world' in 'Hello world world':\", count_word_occurrences(\"Hello world world\", \"world\"))\n",
        "\n"
      ],
      "metadata": {
        "colab": {
          "base_uri": "https://localhost:8080/"
        },
        "id": "RqKx1O77Y8cQ",
        "outputId": "9c071acc-69a0-4ce6-83ac-e94983040eac"
      },
      "execution_count": 12,
      "outputs": [
        {
          "output_type": "stream",
          "name": "stdout",
          "text": [
            "11. Count occurrences of 'world' in 'Hello world world': 2\n"
          ]
        }
      ]
    },
    {
      "cell_type": "code",
      "source": [
        "# 12. Find the first occurrence of a word in a string.\n",
        "def find_first_occurrence(string, word):\n",
        "    words = string.split()\n",
        "    for i, w in enumerate(words):\n",
        "        if w.lower() == word.lower():\n",
        "            return i\n",
        "    return -1\n",
        "\n",
        "# Test\n",
        "print(\"12. First occurrence of 'world' in 'Hello world, welcome to the world':\",\n",
        "      find_first_occurrence(\"Hello world, welcome to the world\", \"world\"))\n",
        "\n"
      ],
      "metadata": {
        "colab": {
          "base_uri": "https://localhost:8080/"
        },
        "id": "R_anEaaTZYCY",
        "outputId": "cec6bc41-ff3e-4818-bd3a-2e91ea3575b2"
      },
      "execution_count": 13,
      "outputs": [
        {
          "output_type": "stream",
          "name": "stdout",
          "text": [
            "12. First occurrence of 'world' in 'Hello world, welcome to the world': 5\n"
          ]
        }
      ]
    },
    {
      "cell_type": "code",
      "source": [
        "\n",
        "# 13. Find the last occurrence of a word in a string.\n",
        "def find_last_occurrence(string, word):\n",
        "    words = string.split()\n",
        "    for i in range(len(words)-1, -1, -1):\n",
        "        if words[i].lower() == word.lower():\n",
        "            return i\n",
        "    return -1\n",
        "\n",
        "# Test\n",
        "print(\"13. Last occurrence of 'world' in 'Hello world, welcome to the world':\",\n",
        "      find_last_occurrence(\"Hello world, welcome to the world\", \"world\"))\n",
        "\n"
      ],
      "metadata": {
        "colab": {
          "base_uri": "https://localhost:8080/"
        },
        "id": "FETX3O88Za9F",
        "outputId": "29209040-bdcc-4f3f-9226-a7660730da95"
      },
      "execution_count": 14,
      "outputs": [
        {
          "output_type": "stream",
          "name": "stdout",
          "text": [
            "13. Last occurrence of 'world' in 'Hello world, welcome to the world': 5\n"
          ]
        }
      ]
    },
    {
      "cell_type": "code",
      "source": [
        "\n",
        "# 14. Split a string into a list of words.\n",
        "def split_to_words(string):\n",
        "    return string.split()\n",
        "\n",
        "# Test\n",
        "print(\"14. Split 'Hello world, how are you?' into words:\", split_to_words(\"Hello world, how are you?\"))\n",
        "\n"
      ],
      "metadata": {
        "colab": {
          "base_uri": "https://localhost:8080/"
        },
        "id": "tJOvarEEZd1e",
        "outputId": "68094aaf-9a75-4b2c-b0da-94952f2da803"
      },
      "execution_count": 15,
      "outputs": [
        {
          "output_type": "stream",
          "name": "stdout",
          "text": [
            "14. Split 'Hello world, how are you?' into words: ['Hello', 'world,', 'how', 'are', 'you?']\n"
          ]
        }
      ]
    },
    {
      "cell_type": "code",
      "execution_count": 16,
      "metadata": {
        "colab": {
          "base_uri": "https://localhost:8080/"
        },
        "id": "CQ34WydNXwDs",
        "outputId": "dacf118c-ef1b-4c18-8c87-5e6e629d2ecd"
      },
      "outputs": [
        {
          "output_type": "stream",
          "name": "stdout",
          "text": [
            "15. Join words list with space: Hello world how are you?\n",
            "    Join words list with hyphen: Hello-world-how-are-you?\n"
          ]
        }
      ],
      "source": [
        "# 15. Join a list of words into a string.\n",
        "def join_words(words, separator=\" \"):\n",
        "    return separator.join(words)\n",
        "\n",
        "# Test\n",
        "words_list = [\"Hello\", \"world\", \"how\", \"are\", \"you?\"]\n",
        "print(\"15. Join words list with space:\", join_words(words_list))\n",
        "print(\"    Join words list with hyphen:\", join_words(words_list, \"-\"))"
      ]
    },
    {
      "cell_type": "code",
      "source": [
        "# 16. Convert a string where words are separated by spaces to one where words are separated by underscores.\n",
        "def spaces_to_underscores(string):\n",
        "    return string.replace(\" \", \"_\")\n",
        "\n",
        "# Test\n",
        "print(\"16. 'Hello World' with underscores:\", spaces_to_underscores(\"Hello World\"))\n"
      ],
      "metadata": {
        "colab": {
          "base_uri": "https://localhost:8080/"
        },
        "id": "r7-gNtWOZ5L7",
        "outputId": "32a517e1-0bbd-43d4-9ffd-5320fd2db0d0"
      },
      "execution_count": 17,
      "outputs": [
        {
          "output_type": "stream",
          "name": "stdout",
          "text": [
            "16. 'Hello World' with underscores: Hello_World\n"
          ]
        }
      ]
    },
    {
      "cell_type": "code",
      "source": [
        "# 17. Check if a string starts with a specific word or phrase.\n",
        "def starts_with(string, prefix):\n",
        "    return string.startswith(prefix)\n",
        "\n",
        "# Test\n",
        "print(\"17. Does 'Hello World' start with 'Hello'?\", starts_with(\"Hello World\", \"Hello\"))\n",
        "print(\"    Does 'Hello World' start with 'World'?\", starts_with(\"Hello World\", \"World\"))"
      ],
      "metadata": {
        "colab": {
          "base_uri": "https://localhost:8080/"
        },
        "id": "m25KoMXQZ-Jk",
        "outputId": "97361d3d-80ac-485b-e677-f6ceb0ab7861"
      },
      "execution_count": 18,
      "outputs": [
        {
          "output_type": "stream",
          "name": "stdout",
          "text": [
            "17. Does 'Hello World' start with 'Hello'? True\n",
            "    Does 'Hello World' start with 'World'? False\n"
          ]
        }
      ]
    },
    {
      "cell_type": "code",
      "source": [
        "# 18. Check if a string ends with a specific word or phrase.\n",
        "def ends_with(string, suffix):\n",
        "    return string.endswith(suffix)\n",
        "\n",
        "# Test\n",
        "print(\"18. Does 'Hello World' end with 'World'?\", ends_with(\"Hello World\", \"World\"))\n",
        "print(\"    Does 'Hello World' end with 'Hello'?\", ends_with(\"Hello World\", \"Hello\"))\n"
      ],
      "metadata": {
        "colab": {
          "base_uri": "https://localhost:8080/"
        },
        "id": "IDmtl6b9aBe6",
        "outputId": "0f08988e-227e-4069-ccce-daab33fba106"
      },
      "execution_count": 19,
      "outputs": [
        {
          "output_type": "stream",
          "name": "stdout",
          "text": [
            "18. Does 'Hello World' end with 'World'? True\n",
            "    Does 'Hello World' end with 'Hello'? False\n"
          ]
        }
      ]
    },
    {
      "cell_type": "code",
      "source": [
        "# 19. Convert a string to title case (e.g., \"hello world\" to \"Hello World\").\n",
        "def to_title_case(string):\n",
        "    return string.title()\n",
        "\n",
        "# Test\n",
        "print(\"19. 'hello world' in title case:\", to_title_case(\"hello world\"))\n"
      ],
      "metadata": {
        "colab": {
          "base_uri": "https://localhost:8080/"
        },
        "id": "59laENhbaEOB",
        "outputId": "a56b80a4-4e18-4596-8846-fc8161f43cfd"
      },
      "execution_count": 20,
      "outputs": [
        {
          "output_type": "stream",
          "name": "stdout",
          "text": [
            "19. 'hello world' in title case: Hello World\n"
          ]
        }
      ]
    },
    {
      "cell_type": "code",
      "source": [
        "# 20. Find the longest word in a string.\n",
        "def find_longest_word(string):\n",
        "    words = string.split()\n",
        "    longest_word = \"\"\n",
        "    for word in words:\n",
        "        if len(word) > len(longest_word):\n",
        "            longest_word = word\n",
        "    return longest_word\n",
        "\n",
        "# Test\n",
        "print(\"20. Longest word in 'The quick brown fox jumps over the lazy dog':\",\n",
        "      find_longest_word(\"The quick brown fox jumps over the lazy dog\"))\n"
      ],
      "metadata": {
        "colab": {
          "base_uri": "https://localhost:8080/"
        },
        "id": "eFkUAqMca1TM",
        "outputId": "3a26c0cd-9396-4ac7-969e-e93b2d60b254"
      },
      "execution_count": 21,
      "outputs": [
        {
          "output_type": "stream",
          "name": "stdout",
          "text": [
            "20. Longest word in 'The quick brown fox jumps over the lazy dog': quick\n"
          ]
        }
      ]
    },
    {
      "cell_type": "code",
      "source": [
        "# 21. Find the shortest word in a string.\n",
        "def find_shortest_word(string):\n",
        "    words = string.split()\n",
        "    if not words:\n",
        "        return \"\"\n",
        "\n",
        "    shortest_word = words[0]\n",
        "    for word in words:\n",
        "        if len(word) < len(shortest_word):\n",
        "            shortest_word = word\n",
        "    return shortest_word\n",
        "\n",
        "# Test\n",
        "print(\"21. Shortest word in 'The quick brown fox jumps over the lazy dog':\",\n",
        "      find_shortest_word(\"The quick brown fox jumps over the lazy dog\"))\n"
      ],
      "metadata": {
        "colab": {
          "base_uri": "https://localhost:8080/"
        },
        "id": "Jn78HuLOa3nc",
        "outputId": "fe4764d1-451a-4bab-a0c2-9b5ca887c37b"
      },
      "execution_count": 22,
      "outputs": [
        {
          "output_type": "stream",
          "name": "stdout",
          "text": [
            "21. Shortest word in 'The quick brown fox jumps over the lazy dog': The\n"
          ]
        }
      ]
    },
    {
      "cell_type": "code",
      "source": [
        "# 22. Reverse the order of words in a string.\n",
        "def reverse_words_order(string):\n",
        "    words = string.split()\n",
        "    reversed_words = words[::-1]\n",
        "    return ' '.join(reversed_words)\n",
        "\n",
        "# Test\n",
        "print(\"22. Reverse order of words in 'Hello World Python':\",\n",
        "      reverse_words_order(\"Hello World Python\"))\n"
      ],
      "metadata": {
        "colab": {
          "base_uri": "https://localhost:8080/"
        },
        "id": "Cx2JdXOha6Nc",
        "outputId": "a3a475fe-b108-4eef-bc2a-ef8db60d6097"
      },
      "execution_count": 23,
      "outputs": [
        {
          "output_type": "stream",
          "name": "stdout",
          "text": [
            "22. Reverse order of words in 'Hello World Python': Python World Hello\n"
          ]
        }
      ]
    },
    {
      "cell_type": "code",
      "source": [
        "\n",
        "# 23. Check if a string is alphanumeric.\n",
        "def is_alphanumeric(string):\n",
        "    return string.isalnum()\n",
        "\n",
        "# Test\n",
        "print(\"23. Is 'Hello123' alphanumeric?\", is_alphanumeric(\"Hello123\"))\n",
        "print(\"    Is 'Hello 123' alphanumeric?\", is_alphanumeric(\"Hello 123\"))\n",
        "\n"
      ],
      "metadata": {
        "colab": {
          "base_uri": "https://localhost:8080/"
        },
        "id": "lndPdY5Ba8i1",
        "outputId": "a89ec0c5-cfa9-480c-922a-23ec05a4bc13"
      },
      "execution_count": 24,
      "outputs": [
        {
          "output_type": "stream",
          "name": "stdout",
          "text": [
            "23. Is 'Hello123' alphanumeric? True\n",
            "    Is 'Hello 123' alphanumeric? False\n"
          ]
        }
      ]
    },
    {
      "cell_type": "code",
      "source": [
        "\n",
        "# 24. Extract all digits from a string.\n",
        "def extract_digits(string):\n",
        "    return ''.join(char for char in string if char.isdigit())\n",
        "\n",
        "# Test\n",
        "print(\"24. Extract digits from 'Hello123World456':\", extract_digits(\"Hello123World456\"))\n",
        "\n"
      ],
      "metadata": {
        "colab": {
          "base_uri": "https://localhost:8080/"
        },
        "id": "6S_lN-3xa-mC",
        "outputId": "abc48304-1564-41c7-d737-3168cfff8b55"
      },
      "execution_count": 25,
      "outputs": [
        {
          "output_type": "stream",
          "name": "stdout",
          "text": [
            "24. Extract digits from 'Hello123World456': 123456\n"
          ]
        }
      ]
    },
    {
      "cell_type": "code",
      "source": [
        "# 25. Extract all alphabets from a string.\n",
        "def extract_alphabets(string):\n",
        "    return ''.join(char for char in string if char.isalpha())\n",
        "\n",
        "# Test\n",
        "print(\"25. Extract alphabets from 'Hello123World456':\", extract_alphabets(\"Hello123World456\"))\n",
        "\n"
      ],
      "metadata": {
        "colab": {
          "base_uri": "https://localhost:8080/"
        },
        "id": "HR-Fu7c1bA3Q",
        "outputId": "b023f9c9-85d8-4c6b-f809-55e3a2e9126b"
      },
      "execution_count": 26,
      "outputs": [
        {
          "output_type": "stream",
          "name": "stdout",
          "text": [
            "25. Extract alphabets from 'Hello123World456': HelloWorld\n"
          ]
        }
      ]
    },
    {
      "cell_type": "code",
      "source": [
        "# 26. Count the number of uppercase letters in a string.\n",
        "def count_uppercase(string):\n",
        "    return sum(1 for char in string if char.isupper())\n",
        "\n",
        "# Test\n",
        "print(\"26. Number of uppercase letters in 'Hello World':\", count_uppercase(\"Hello World\"))\n",
        "\n"
      ],
      "metadata": {
        "colab": {
          "base_uri": "https://localhost:8080/"
        },
        "id": "bPXxFyhvbC_r",
        "outputId": "1db332f3-5c0f-49a7-c24c-4673169cf7e1"
      },
      "execution_count": 27,
      "outputs": [
        {
          "output_type": "stream",
          "name": "stdout",
          "text": [
            "26. Number of uppercase letters in 'Hello World': 2\n"
          ]
        }
      ]
    },
    {
      "cell_type": "code",
      "source": [
        "# 27. Count the number of lowercase letters in a string.\n",
        "def count_lowercase(string):\n",
        "    return sum(1 for char in string if char.islower())\n",
        "\n",
        "# Test\n",
        "print(\"27. Number of lowercase letters in 'Hello World':\", count_lowercase(\"Hello World\"))\n"
      ],
      "metadata": {
        "colab": {
          "base_uri": "https://localhost:8080/"
        },
        "id": "NRMP1n1ibFbY",
        "outputId": "4f42d6c3-13b8-48b7-8101-76d403b651e3"
      },
      "execution_count": 28,
      "outputs": [
        {
          "output_type": "stream",
          "name": "stdout",
          "text": [
            "27. Number of lowercase letters in 'Hello World': 8\n"
          ]
        }
      ]
    },
    {
      "cell_type": "code",
      "source": [
        "# 28. Swap the case of each character in a string.\n",
        "def swap_case(string):\n",
        "    return string.swapcase()\n",
        "\n",
        "# Test\n",
        "print(\"28. Swap case of 'Hello World':\", swap_case(\"Hello World\"))\n"
      ],
      "metadata": {
        "colab": {
          "base_uri": "https://localhost:8080/"
        },
        "id": "J3iKSGhzbHYI",
        "outputId": "0a1288b2-92c5-46c0-9279-2f8a845746b5"
      },
      "execution_count": 29,
      "outputs": [
        {
          "output_type": "stream",
          "name": "stdout",
          "text": [
            "28. Swap case of 'Hello World': hELLO wORLD\n"
          ]
        }
      ]
    },
    {
      "cell_type": "code",
      "source": [
        "# 29. Remove a specific word from a string.\n",
        "def remove_word(string, word):\n",
        "    words = string.split()\n",
        "    return ' '.join(w for w in words if w.lower() != word.lower())\n",
        "\n",
        "# Test\n",
        "print(\"29. Remove 'World' from 'Hello World Python':\",\n",
        "      remove_word(\"Hello World Python\", \"World\"))\n",
        "\n"
      ],
      "metadata": {
        "colab": {
          "base_uri": "https://localhost:8080/"
        },
        "id": "1pYQhFzwbJNP",
        "outputId": "428090c7-716d-451e-d74c-331df17f3854"
      },
      "execution_count": 30,
      "outputs": [
        {
          "output_type": "stream",
          "name": "stdout",
          "text": [
            "29. Remove 'World' from 'Hello World Python': Hello Python\n"
          ]
        }
      ]
    },
    {
      "cell_type": "code",
      "source": [
        "# 30. Check if a string is a valid email address.\n",
        "def is_valid_email(email):\n",
        "    import re\n",
        "    # Basic email validation pattern\n",
        "    pattern = r'^[a-zA-Z0-9._%+-]+@[a-zA-Z0-9.-]+\\.[a-zA-Z]{2,}$'\n",
        "    return bool(re.match(pattern, email))\n",
        "\n",
        "# Test\n",
        "print(\"30. Is 'test@example.com' a valid email?\", is_valid_email(\"test@example.com\"))\n",
        "print(\"    Is 'invalid-email' a valid email?\", is_valid_email(\"invalid-email\"))"
      ],
      "metadata": {
        "colab": {
          "base_uri": "https://localhost:8080/"
        },
        "id": "7R47K_BdbLbi",
        "outputId": "4ea186dc-0b0b-459e-d5c4-63fcfdd43f4e"
      },
      "execution_count": 31,
      "outputs": [
        {
          "output_type": "stream",
          "name": "stdout",
          "text": [
            "30. Is 'test@example.com' a valid email? True\n",
            "    Is 'invalid-email' a valid email? False\n"
          ]
        }
      ]
    },
    {
      "cell_type": "code",
      "source": [
        "# 31. Extract the username from an email address string.\n",
        "def extract_username(email):\n",
        "    if '@' in email:\n",
        "        return email.split('@')[0]\n",
        "    return \"\"\n",
        "\n",
        "# Test\n",
        "print(\"31. Username from 'test@example.com':\", extract_username(\"test@example.com\"))"
      ],
      "metadata": {
        "colab": {
          "base_uri": "https://localhost:8080/"
        },
        "id": "SKs7RtJ5bOu1",
        "outputId": "f18c331b-da51-484e-a9cd-2908578f103f"
      },
      "execution_count": 32,
      "outputs": [
        {
          "output_type": "stream",
          "name": "stdout",
          "text": [
            "31. Username from 'test@example.com': test\n"
          ]
        }
      ]
    },
    {
      "cell_type": "code",
      "source": [
        "\n",
        "# 32. Extract the domain name from an email address string.\n",
        "def extract_domain(email):\n",
        "    if '@' in email:\n",
        "        return email.split('@')[1]\n",
        "    return \"\"\n",
        "\n",
        "# Test\n",
        "print(\"32. Domain from 'test@example.com':\", extract_domain(\"test@example.com\"))\n"
      ],
      "metadata": {
        "colab": {
          "base_uri": "https://localhost:8080/"
        },
        "id": "I6ZaA6afbVsr",
        "outputId": "1b99b614-0d69-439f-989b-9d331403d225"
      },
      "execution_count": 33,
      "outputs": [
        {
          "output_type": "stream",
          "name": "stdout",
          "text": [
            "32. Domain from 'test@example.com': example.com\n"
          ]
        }
      ]
    },
    {
      "cell_type": "code",
      "source": [
        "# 33. Replace multiple spaces in a string with a single space.\n",
        "def normalize_spaces(string):\n",
        "    import re\n",
        "    return re.sub(r'\\s+', ' ', string).strip()\n",
        "\n",
        "# Test\n",
        "print(\"33. Normalize spaces in '  Hello    World  ':\", normalize_spaces(\"  Hello    World  \"))\n"
      ],
      "metadata": {
        "colab": {
          "base_uri": "https://localhost:8080/"
        },
        "id": "QL57vcH5bYCy",
        "outputId": "7aeafcdc-a1d3-4d22-a797-d19164dacdd1"
      },
      "execution_count": 34,
      "outputs": [
        {
          "output_type": "stream",
          "name": "stdout",
          "text": [
            "33. Normalize spaces in '  Hello    World  ': Hello World\n"
          ]
        }
      ]
    },
    {
      "cell_type": "code",
      "source": [
        "# 34. Check if a string is a valid URL.\n",
        "def is_valid_url(url):\n",
        "    import re\n",
        "    # Basic URL validation pattern\n",
        "    pattern = r'^(http|https)://[a-zA-Z0-9.-]+\\.[a-zA-Z]{2,}(/.*)?$'\n",
        "    return bool(re.match(pattern, url))\n",
        "\n",
        "# Test\n",
        "print(\"34. Is 'https://example.com' a valid URL?\", is_valid_url(\"https://example.com\"))\n",
        "print(\"    Is 'invalid-url' a valid URL?\", is_valid_url(\"invalid-url\"))\n"
      ],
      "metadata": {
        "colab": {
          "base_uri": "https://localhost:8080/"
        },
        "id": "pw_azujzba4c",
        "outputId": "f41e4321-2cff-4108-e534-9f3f8fed7c41"
      },
      "execution_count": 35,
      "outputs": [
        {
          "output_type": "stream",
          "name": "stdout",
          "text": [
            "34. Is 'https://example.com' a valid URL? True\n",
            "    Is 'invalid-url' a valid URL? False\n"
          ]
        }
      ]
    },
    {
      "cell_type": "code",
      "source": [
        "# 35. Extract the protocol (http or https) from a URL string.\n",
        "def extract_protocol(url):\n",
        "    if '://' in url:\n",
        "        return url.split('://')[0]\n",
        "    return \"\"\n",
        "\n",
        "# Test\n",
        "print(\"35. Protocol from 'https://example.com':\", extract_protocol(\"https://example.com\"))\n"
      ],
      "metadata": {
        "colab": {
          "base_uri": "https://localhost:8080/"
        },
        "id": "VyMKS7lsb2Y_",
        "outputId": "5e8873cd-e32c-43b5-f321-17b53e9a4f00"
      },
      "execution_count": 36,
      "outputs": [
        {
          "output_type": "stream",
          "name": "stdout",
          "text": [
            "35. Protocol from 'https://example.com': https\n"
          ]
        }
      ]
    },
    {
      "cell_type": "code",
      "source": [
        "# 36. Find the frequency of each character in a string.\n",
        "def character_frequency(string):\n",
        "    freq = {}\n",
        "    for char in string:\n",
        "        if char in freq:\n",
        "            freq[char] += 1\n",
        "        else:\n",
        "            freq[char] = 1\n",
        "    return freq\n",
        "\n",
        "# Test\n",
        "print(\"36. Character frequency in 'hello':\", character_frequency(\"hello\"))"
      ],
      "metadata": {
        "colab": {
          "base_uri": "https://localhost:8080/"
        },
        "id": "WTtb3lpeb4w1",
        "outputId": "49d9de39-68c2-41c8-bf3c-c9f86d30ed99"
      },
      "execution_count": 37,
      "outputs": [
        {
          "output_type": "stream",
          "name": "stdout",
          "text": [
            "36. Character frequency in 'hello': {'h': 1, 'e': 1, 'l': 2, 'o': 1}\n"
          ]
        }
      ]
    },
    {
      "cell_type": "code",
      "source": [
        "# 37. Remove all punctuation from a string.\n",
        "def remove_punctuation(string):\n",
        "    import string as str_module\n",
        "    translator = str.maketrans('', '', str_module.punctuation)\n",
        "    return string.translate(translator)\n",
        "\n",
        "# Test\n",
        "print(\"37. Remove punctuation from 'Hello, World!':\", remove_punctuation(\"Hello, World!\"))\n",
        "\n"
      ],
      "metadata": {
        "colab": {
          "base_uri": "https://localhost:8080/"
        },
        "id": "wkEgl3vNb6yX",
        "outputId": "7f7b2f63-be73-4b39-e988-683270b005d3"
      },
      "execution_count": 38,
      "outputs": [
        {
          "output_type": "stream",
          "name": "stdout",
          "text": [
            "37. Remove punctuation from 'Hello, World!': Hello World\n"
          ]
        }
      ]
    },
    {
      "cell_type": "code",
      "source": [
        "\n",
        "# 38. Check if a string contains only digits.\n",
        "def contains_only_digits(string):\n",
        "    return string.isdigit()\n",
        "\n",
        "# Test\n",
        "print(\"38. Does '12345' contain only digits?\", contains_only_digits(\"12345\"))\n",
        "print(\"    Does '123abc' contain only digits?\", contains_only_digits(\"123abc\"))\n"
      ],
      "metadata": {
        "colab": {
          "base_uri": "https://localhost:8080/"
        },
        "id": "6Gfr4nRyb-mY",
        "outputId": "b103f4cf-e65d-4d86-8275-bd4f2f7f5634"
      },
      "execution_count": 39,
      "outputs": [
        {
          "output_type": "stream",
          "name": "stdout",
          "text": [
            "38. Does '12345' contain only digits? True\n",
            "    Does '123abc' contain only digits? False\n"
          ]
        }
      ]
    },
    {
      "cell_type": "code",
      "source": [
        "\n",
        "# 39. Check if a string contains only alphabets.\n",
        "def contains_only_alphabets(string):\n",
        "    return string.isalpha()\n",
        "\n",
        "# Test\n",
        "print(\"39. Does 'HelloWorld' contain only alphabets?\", contains_only_alphabets(\"HelloWorld\"))\n",
        "print(\"    Does 'Hello123' contain only alphabets?\", contains_only_alphabets(\"Hello123\"))\n"
      ],
      "metadata": {
        "colab": {
          "base_uri": "https://localhost:8080/"
        },
        "id": "aEX67nnGcBLn",
        "outputId": "bd0f5108-717d-4b73-e00a-1f4d8ea0c8ad"
      },
      "execution_count": 40,
      "outputs": [
        {
          "output_type": "stream",
          "name": "stdout",
          "text": [
            "39. Does 'HelloWorld' contain only alphabets? True\n",
            "    Does 'Hello123' contain only alphabets? False\n"
          ]
        }
      ]
    },
    {
      "cell_type": "code",
      "source": [
        "# 40. Convert a string to a list of characters.\n",
        "def string_to_chars(string):\n",
        "    return list(string)\n",
        "\n",
        "# Test\n",
        "print(\"40. Convert 'hello' to list of characters:\", string_to_chars(\"hello\"))\n"
      ],
      "metadata": {
        "colab": {
          "base_uri": "https://localhost:8080/"
        },
        "id": "oUeedonBcDh0",
        "outputId": "656d35bc-c1b0-4070-9f36-fb5a1acf5dee"
      },
      "execution_count": 41,
      "outputs": [
        {
          "output_type": "stream",
          "name": "stdout",
          "text": [
            "40. Convert 'hello' to list of characters: ['h', 'e', 'l', 'l', 'o']\n"
          ]
        }
      ]
    },
    {
      "cell_type": "code",
      "source": [
        "\n",
        "# 41. Check if two strings are anagrams.\n",
        "def are_anagrams(str1, str2):\n",
        "    # Remove spaces and convert to lowercase\n",
        "    str1 = str1.lower().replace(\" \", \"\")\n",
        "    str2 = str2.lower().replace(\" \", \"\")\n",
        "\n",
        "    # Check if the sorted strings are equal\n",
        "    return sorted(str1) == sorted(str2)\n",
        "\n",
        "# Test\n",
        "print(\"41. Are 'listen' and 'silent' anagrams?\", are_anagrams(\"listen\", \"silent\"))\n",
        "print(\"    Are 'hello' and 'world' anagrams?\", are_anagrams(\"hello\", \"world\"))\n",
        "\n"
      ],
      "metadata": {
        "colab": {
          "base_uri": "https://localhost:8080/"
        },
        "id": "VC_5xaHBcFtb",
        "outputId": "0a60395e-abd1-4cdb-b35d-1acdf98b26b8"
      },
      "execution_count": 42,
      "outputs": [
        {
          "output_type": "stream",
          "name": "stdout",
          "text": [
            "41. Are 'listen' and 'silent' anagrams? True\n",
            "    Are 'hello' and 'world' anagrams? False\n"
          ]
        }
      ]
    },
    {
      "cell_type": "code",
      "source": [
        "# 42. Encode a string using a Caesar cipher.\n",
        "def caesar_cipher_encode(string, shift):\n",
        "    result = \"\"\n",
        "    for char in string:\n",
        "        if char.isalpha():\n",
        "            ascii_offset = ord('A') if char.isupper() else ord('a')\n",
        "            encoded_char = chr((ord(char) - ascii_offset + shift) % 26 + ascii_offset)\n",
        "            result += encoded_char\n",
        "        else:\n",
        "            result += char\n",
        "    return result\n",
        "\n",
        "# Test\n",
        "print(\"42. Encode 'Hello' with Caesar cipher (shift=3):\", caesar_cipher_encode(\"Hello\", 3))\n",
        "\n"
      ],
      "metadata": {
        "colab": {
          "base_uri": "https://localhost:8080/"
        },
        "id": "1Li-HvvjcIbd",
        "outputId": "9066742a-3bc7-4249-e241-dc312a6c9c73"
      },
      "execution_count": 43,
      "outputs": [
        {
          "output_type": "stream",
          "name": "stdout",
          "text": [
            "42. Encode 'Hello' with Caesar cipher (shift=3): Khoor\n"
          ]
        }
      ]
    },
    {
      "cell_type": "code",
      "source": [
        "# 43. Decode a Caesar cipher encoded string.\n",
        "def caesar_cipher_decode(encoded_string, shift):\n",
        "    return caesar_cipher_encode(encoded_string, -shift)\n",
        "\n",
        "# Test\n",
        "encoded = caesar_cipher_encode(\"Hello\", 3)\n",
        "print(\"43. Decode Caesar cipher:\", encoded, \"->\", caesar_cipher_decode(encoded, 3))\n"
      ],
      "metadata": {
        "colab": {
          "base_uri": "https://localhost:8080/"
        },
        "id": "_k7p_Tw0cK11",
        "outputId": "a39dd5e3-fec8-4fd6-dd64-e7a639351421"
      },
      "execution_count": 44,
      "outputs": [
        {
          "output_type": "stream",
          "name": "stdout",
          "text": [
            "43. Decode Caesar cipher: Khoor -> Hello\n"
          ]
        }
      ]
    },
    {
      "cell_type": "code",
      "source": [
        "# 44. Find the most frequent word in a string.\n",
        "def most_frequent_word(string):\n",
        "    import re\n",
        "    words = re.findall(r'\\b\\w+\\b', string.lower())\n",
        "    if not words:\n",
        "        return None\n",
        "\n",
        "    word_counts = {}\n",
        "    for word in words:\n",
        "        word_counts[word] = word_counts.get(word, 0) + 1\n",
        "\n",
        "    return max(word_counts.items(), key=lambda x: x[1])[0]\n",
        "\n",
        "# Test\n",
        "print(\"44. Most frequent word in 'the quick brown fox jumps over the lazy dog':\",\n",
        "      most_frequent_word(\"the quick brown fox jumps over the lazy dog\"))\n"
      ],
      "metadata": {
        "colab": {
          "base_uri": "https://localhost:8080/"
        },
        "id": "-K0jyMulcN-Q",
        "outputId": "d0c7b38d-9266-48bf-aedc-4f535f6421b8"
      },
      "execution_count": 45,
      "outputs": [
        {
          "output_type": "stream",
          "name": "stdout",
          "text": [
            "44. Most frequent word in 'the quick brown fox jumps over the lazy dog': the\n"
          ]
        }
      ]
    },
    {
      "cell_type": "code",
      "source": [
        "\n",
        "# 45. Find all unique words in a string.\n",
        "def unique_words(string):\n",
        "    import re\n",
        "    words = re.findall(r'\\b\\w+\\b', string.lower())\n",
        "    return list(set(words))\n",
        "\n",
        "# Test\n",
        "print(\"45. Unique words in 'the quick brown fox jumps over the lazy dog':\",\n",
        "      unique_words(\"the quick brown fox jumps over the lazy dog\"))"
      ],
      "metadata": {
        "colab": {
          "base_uri": "https://localhost:8080/"
        },
        "id": "DjSUyLt2cReF",
        "outputId": "a05cd0c7-d047-4a23-9242-e9b0b5142a16"
      },
      "execution_count": 46,
      "outputs": [
        {
          "output_type": "stream",
          "name": "stdout",
          "text": [
            "45. Unique words in 'the quick brown fox jumps over the lazy dog': ['lazy', 'jumps', 'dog', 'the', 'brown', 'fox', 'quick', 'over']\n"
          ]
        }
      ]
    },
    {
      "cell_type": "code",
      "source": [
        "# 46. Count the number of syllables in a string (simplified approach).\n",
        "def count_syllables(string):\n",
        "    # This is a simplified approach that counts vowel groups\n",
        "    import re\n",
        "    # Convert to lowercase\n",
        "    string = string.lower()\n",
        "    # Count vowel groups (a vowel or consecutive vowels)\n",
        "    vowel_groups = re.findall(r'[aeiouy]+', string)\n",
        "    # Handle specific cases like silent 'e' at the end of words\n",
        "    words = string.split()\n",
        "    silent_e_count = sum(1 for word in words if len(word) > 2 and word.endswith('e')\n",
        "                         and word[-2] not in 'aeiouy')\n",
        "    return len(vowel_groups) - silent_e_count\n",
        "\n",
        "# Test\n",
        "print(\"46. Approximate syllables in 'beautiful':\", count_syllables(\"beautiful\"))\n",
        "print(\"    Approximate syllables in 'complicated':\", count_syllables(\"complicated\"))"
      ],
      "metadata": {
        "colab": {
          "base_uri": "https://localhost:8080/"
        },
        "id": "eSwpzKcAcT4B",
        "outputId": "bf9b6cc6-368d-4743-dd50-4897574de07a"
      },
      "execution_count": 47,
      "outputs": [
        {
          "output_type": "stream",
          "name": "stdout",
          "text": [
            "46. Approximate syllables in 'beautiful': 3\n",
            "    Approximate syllables in 'complicated': 4\n"
          ]
        }
      ]
    },
    {
      "cell_type": "code",
      "source": [
        "# 47. Check if a string contains any special characters.\n",
        "def contains_special_chars(string):\n",
        "    import re\n",
        "    # Check for any character that is not alphanumeric or whitespace\n",
        "    return bool(re.search(r'[^a-zA-Z0-9\\s]', string))\n",
        "\n",
        "# Test\n",
        "print(\"47. Does 'Hello!' contain special characters?\", contains_special_chars(\"Hello!\"))\n",
        "print(\"    Does 'HelloWorld' contain special characters?\", contains_special_chars(\"HelloWorld\"))\n"
      ],
      "metadata": {
        "colab": {
          "base_uri": "https://localhost:8080/"
        },
        "id": "a7qI4kLpcXc4",
        "outputId": "72fcbf92-3554-40f1-87d7-ba5163b44e38"
      },
      "execution_count": 48,
      "outputs": [
        {
          "output_type": "stream",
          "name": "stdout",
          "text": [
            "47. Does 'Hello!' contain special characters? True\n",
            "    Does 'HelloWorld' contain special characters? False\n"
          ]
        }
      ]
    },
    {
      "cell_type": "code",
      "source": [
        "\n",
        "# 48. Remove the nth word from a string.\n",
        "def remove_nth_word(string, n):\n",
        "    words = string.split()\n",
        "    if 0 <= n < len(words):\n",
        "        words.pop(n)\n",
        "    return ' '.join(words)\n",
        "\n",
        "# Test\n",
        "print(\"48. Remove the 2nd word from 'The quick brown fox':\", remove_nth_word(\"The quick brown fox\", 1))\n"
      ],
      "metadata": {
        "colab": {
          "base_uri": "https://localhost:8080/"
        },
        "id": "9eaZCRkvcbej",
        "outputId": "261ab240-bcca-43f7-92ec-1e76e26ea981"
      },
      "execution_count": 49,
      "outputs": [
        {
          "output_type": "stream",
          "name": "stdout",
          "text": [
            "48. Remove the 2nd word from 'The quick brown fox': The brown fox\n"
          ]
        }
      ]
    },
    {
      "cell_type": "code",
      "source": [
        "\n",
        "# 49. Insert a word at the nth position in a string.\n",
        "def insert_word_at_position(string, word, n):\n",
        "    words = string.split()\n",
        "    if 0 <= n <= len(words):\n",
        "        words.insert(n, word)\n",
        "    return ' '.join(words)\n",
        "\n",
        "# Test\n",
        "print(\"49. Insert 'very' at position 1 in 'The quick brown fox':\",\n",
        "      insert_word_at_position(\"The quick brown fox\", \"very\", 1))\n",
        "\n"
      ],
      "metadata": {
        "colab": {
          "base_uri": "https://localhost:8080/"
        },
        "id": "64JESxZfcere",
        "outputId": "12c4744e-cf44-4865-c1e7-06a879b59efe"
      },
      "execution_count": 50,
      "outputs": [
        {
          "output_type": "stream",
          "name": "stdout",
          "text": [
            "49. Insert 'very' at position 1 in 'The quick brown fox': The very quick brown fox\n"
          ]
        }
      ]
    },
    {
      "cell_type": "code",
      "source": [
        "# 50. Convert a CSV string to a list of lists.\n",
        "def csv_to_list(csv_string):\n",
        "    lines = csv_string.strip().split('\\n')\n",
        "    return [line.split(',') for line in lines]\n",
        "\n",
        "# Test\n",
        "csv_data = \"name,age,city\\nJohn,25,New York\\nJane,30,Boston\"\n",
        "print(\"50. Convert CSV string to list of lists:\")\n",
        "for row in csv_to_list(csv_data):\n",
        "    print(\"   \", row)"
      ],
      "metadata": {
        "colab": {
          "base_uri": "https://localhost:8080/"
        },
        "id": "cviCg1sfcg4D",
        "outputId": "a83558de-842b-4d61-e5ad-39c41cd5e3a1"
      },
      "execution_count": 51,
      "outputs": [
        {
          "output_type": "stream",
          "name": "stdout",
          "text": [
            "50. Convert CSV string to list of lists:\n",
            "    ['name', 'age', 'city']\n",
            "    ['John', '25', 'New York']\n",
            "    ['Jane', '30', 'Boston']\n"
          ]
        }
      ]
    },
    {
      "cell_type": "markdown",
      "source": [
        "# **List Based Practice Problems (1 - 50 )**\n"
      ],
      "metadata": {
        "id": "PvkptD5ecpe7"
      }
    },
    {
      "cell_type": "code",
      "source": [
        "\n",
        "# 1. Create a list with integers from 1 to 10.\n",
        "def create_list_1_to_10():\n",
        "    return list(range(1, 11))\n",
        "\n",
        "# Test\n",
        "print(\"\\n1. List with integers from 1 to 10:\", create_list_1_to_10())\n"
      ],
      "metadata": {
        "colab": {
          "base_uri": "https://localhost:8080/"
        },
        "id": "QgPFYdm3ckDY",
        "outputId": "8ee43e06-79b8-42c6-8ed7-46617793fd90"
      },
      "execution_count": 52,
      "outputs": [
        {
          "output_type": "stream",
          "name": "stdout",
          "text": [
            "\n",
            "1. List with integers from 1 to 10: [1, 2, 3, 4, 5, 6, 7, 8, 9, 10]\n"
          ]
        }
      ]
    },
    {
      "cell_type": "code",
      "source": [
        "# 2. Find the length of a list without using the `len()` function.\n",
        "def list_length(lst):\n",
        "    count = 0\n",
        "    for _ in lst:\n",
        "        count += 1\n",
        "    return count\n",
        "\n",
        "# Test\n",
        "print(\"2. Length of [1, 2, 3, 4, 5] without len():\", list_length([1, 2, 3, 4, 5]))\n",
        "\n"
      ],
      "metadata": {
        "colab": {
          "base_uri": "https://localhost:8080/"
        },
        "id": "rPAm3-CDczaX",
        "outputId": "87ddbd64-2857-4e93-85d9-b2bb0d561cad"
      },
      "execution_count": 53,
      "outputs": [
        {
          "output_type": "stream",
          "name": "stdout",
          "text": [
            "2. Length of [1, 2, 3, 4, 5] without len(): 5\n"
          ]
        }
      ]
    },
    {
      "cell_type": "code",
      "source": [
        "\n",
        "# 3. Append an element to the end of a list.\n",
        "def append_to_list(lst, element):\n",
        "    lst.append(element)\n",
        "    return lst\n",
        "\n",
        "# Test\n",
        "print(\"3. Append 6 to [1, 2, 3, 4, 5]:\", append_to_list([1, 2, 3, 4, 5], 6))\n"
      ],
      "metadata": {
        "colab": {
          "base_uri": "https://localhost:8080/"
        },
        "id": "UX_EMsfWc8c8",
        "outputId": "2bf150fc-c791-4e4c-e866-3751093fecfe"
      },
      "execution_count": 54,
      "outputs": [
        {
          "output_type": "stream",
          "name": "stdout",
          "text": [
            "3. Append 6 to [1, 2, 3, 4, 5]: [1, 2, 3, 4, 5, 6]\n"
          ]
        }
      ]
    },
    {
      "cell_type": "code",
      "source": [
        "# 4. Insert an element at a specific index in a list.\n",
        "def insert_at_index(lst, index, element):\n",
        "    lst.insert(index, element)\n",
        "    return lst\n",
        "\n",
        "# Test\n",
        "print(\"4. Insert 10 at index 2 in [1, 2, 3, 4, 5]:\", insert_at_index([1, 2, 3, 4, 'This line is incorrect', 'it should be 5'], 2, 10))\n"
      ],
      "metadata": {
        "colab": {
          "base_uri": "https://localhost:8080/"
        },
        "id": "hhXtbJW2c_5A",
        "outputId": "417aa578-5265-41c1-ce5d-406c5350c7da"
      },
      "execution_count": 56,
      "outputs": [
        {
          "output_type": "stream",
          "name": "stdout",
          "text": [
            "4. Insert 10 at index 2 in [1, 2, 3, 4, 5]: [1, 2, 10, 3, 4, 'This line is incorrect', 'it should be 5']\n"
          ]
        }
      ]
    },
    {
      "cell_type": "code",
      "source": [
        "# 5. Remove an element from a list by its value.\n",
        "def remove_by_value(lst, value):\n",
        "    if value in lst:\n",
        "        lst.remove(value)\n",
        "    return lst\n",
        "\n",
        "# Test\n",
        "print(\"5. Remove 3 from [1, 2, 3, 4, 5]:\", remove_by_value([1, 2, 3, 4, 5], 3))\n",
        "\n"
      ],
      "metadata": {
        "colab": {
          "base_uri": "https://localhost:8080/"
        },
        "id": "63pj7HdkdCa3",
        "outputId": "4c945fe5-477e-4dd1-f459-4756df087a81"
      },
      "execution_count": 57,
      "outputs": [
        {
          "output_type": "stream",
          "name": "stdout",
          "text": [
            "5. Remove 3 from [1, 2, 3, 4, 5]: [1, 2, 4, 5]\n"
          ]
        }
      ]
    },
    {
      "cell_type": "code",
      "source": [
        "# 6. Remove an element from a list by its index.\n",
        "def remove_by_index(lst, index):\n",
        "    if 0 <= index < len(lst):\n",
        "        lst.pop(index)\n",
        "    return lst\n",
        "\n",
        "# Test\n",
        "print(\"6. Remove element at index 2 from [1, 2, 3, 4, 5]:\", remove_by_index([1, 2, 3, 4, 5], 2))\n"
      ],
      "metadata": {
        "colab": {
          "base_uri": "https://localhost:8080/"
        },
        "id": "CcHFyWYBdW0f",
        "outputId": "6bd2f47b-d837-4f2a-f75c-4b0aa695fa72"
      },
      "execution_count": 58,
      "outputs": [
        {
          "output_type": "stream",
          "name": "stdout",
          "text": [
            "6. Remove element at index 2 from [1, 2, 3, 4, 5]: [1, 2, 4, 5]\n"
          ]
        }
      ]
    },
    {
      "cell_type": "code",
      "source": [
        "# 7. Check if an element exists in a list.\n",
        "def element_exists(lst, element):\n",
        "    return element in lst\n",
        "\n",
        "# Test\n",
        "print(\"7. Does 3 exist in [1, 2, 3, 4, 5]?\", element_exists([1, 2, 3, 4, 5], 3))\n",
        "print(\"   Does 10 exist in [1, 2, 3, 4, 5]?\", element_exists([1, 2, 3, 4, 5], 10))\n"
      ],
      "metadata": {
        "colab": {
          "base_uri": "https://localhost:8080/"
        },
        "id": "xGx8IpRfdc_p",
        "outputId": "d1dbe883-1fc9-48c3-cff1-80a2c1a20670"
      },
      "execution_count": 59,
      "outputs": [
        {
          "output_type": "stream",
          "name": "stdout",
          "text": [
            "7. Does 3 exist in [1, 2, 3, 4, 5]? True\n",
            "   Does 10 exist in [1, 2, 3, 4, 5]? False\n"
          ]
        }
      ]
    },
    {
      "cell_type": "code",
      "source": [
        "# 8. Find the index of the first occurrence of an element in a list.\n",
        "def find_first_occurrence_in_list(lst, element):\n",
        "    try:\n",
        "        return lst.index(element)\n",
        "    except ValueError:\n",
        "        return -1\n",
        "\n",
        "# Test\n",
        "print(\"8. Index of first occurrence of 3 in [1, 2, 3, 4, 3, 5]:\",\n",
        "      find_first_occurrence_in_list([1, 2, 3, 4, 3, 5], 3))\n",
        "print(\"   Index of first occurrence of 10 in [1, 2, 3, 4, 5]:\",\n",
        "      find_first_occurrence_in_list([1, 2, 3, 4, 5], 10))\n"
      ],
      "metadata": {
        "colab": {
          "base_uri": "https://localhost:8080/"
        },
        "id": "bQGnEuHGdgeX",
        "outputId": "c16ad0da-1657-4bd8-9667-144e7ea6ab16"
      },
      "execution_count": 60,
      "outputs": [
        {
          "output_type": "stream",
          "name": "stdout",
          "text": [
            "8. Index of first occurrence of 3 in [1, 2, 3, 4, 3, 5]: 2\n",
            "   Index of first occurrence of 10 in [1, 2, 3, 4, 5]: -1\n"
          ]
        }
      ]
    },
    {
      "cell_type": "code",
      "source": [
        "\n",
        "# 9. Count the occurrences of an element in a list.\n",
        "def count_occurrences(lst, element):\n",
        "    return lst.count(element)\n",
        "\n",
        "# Test\n",
        "print(\"9. Count occurrences of 3 in [1, 2, 3, 4, 3, 5]:\", count_occurrences([1, 2, 3, 4, 3, 5], 3))\n"
      ],
      "metadata": {
        "colab": {
          "base_uri": "https://localhost:8080/"
        },
        "id": "tqaISGJ1di98",
        "outputId": "6ba2aaf1-7201-4842-9b4a-c8f7ccab6aef"
      },
      "execution_count": 61,
      "outputs": [
        {
          "output_type": "stream",
          "name": "stdout",
          "text": [
            "9. Count occurrences of 3 in [1, 2, 3, 4, 3, 5]: 2\n"
          ]
        }
      ]
    },
    {
      "cell_type": "code",
      "source": [
        "# 10. Reverse the order of elements in a list.\n",
        "def reverse_list(lst):\n",
        "    return lst[::-1]\n",
        "\n",
        "# Test\n",
        "print(\"10. Reverse [1, 2, 3, 4, 5]:\", reverse_list([1, 2, 3, 4, 5]))\n",
        "\n"
      ],
      "metadata": {
        "colab": {
          "base_uri": "https://localhost:8080/"
        },
        "id": "F8QAsccgdmZt",
        "outputId": "7ae209ad-441f-4c8c-9fcd-610d3b15d476"
      },
      "execution_count": 62,
      "outputs": [
        {
          "output_type": "stream",
          "name": "stdout",
          "text": [
            "10. Reverse [1, 2, 3, 4, 5]: [5, 4, 3, 2, 1]\n"
          ]
        }
      ]
    },
    {
      "cell_type": "code",
      "source": [
        "\n",
        "# 11. Sort a list in ascending order.\n",
        "def sort_ascending(lst):\n",
        "    return sorted(lst)\n",
        "\n",
        "# Test\n",
        "print(\"11. Sort [5, 3, 1, 4, 2] in ascending order:\", sort_ascending([5, 3, 1, 4, 2]))\n"
      ],
      "metadata": {
        "colab": {
          "base_uri": "https://localhost:8080/"
        },
        "id": "AsU_QdqGdoJY",
        "outputId": "fa634d0e-7e5b-49dc-c920-59fb8da2c175"
      },
      "execution_count": 63,
      "outputs": [
        {
          "output_type": "stream",
          "name": "stdout",
          "text": [
            "11. Sort [5, 3, 1, 4, 2] in ascending order: [1, 2, 3, 4, 5]\n"
          ]
        }
      ]
    },
    {
      "cell_type": "code",
      "source": [
        "# 12. Sort a list in descending order.\n",
        "def sort_descending(lst):\n",
        "    return sorted(lst, reverse=True)\n",
        "\n",
        "# Test\n",
        "print(\"12. Sort [5, 3, 1, 4, 2] in descending order:\", sort_descending([5, 3, 1, 4, 2]))\n"
      ],
      "metadata": {
        "colab": {
          "base_uri": "https://localhost:8080/"
        },
        "id": "zWwqb5oedqDM",
        "outputId": "92d4586d-218e-4a49-c876-f157b9ce5499"
      },
      "execution_count": 64,
      "outputs": [
        {
          "output_type": "stream",
          "name": "stdout",
          "text": [
            "12. Sort [5, 3, 1, 4, 2] in descending order: [5, 4, 3, 2, 1]\n"
          ]
        }
      ]
    },
    {
      "cell_type": "code",
      "source": [
        "\n",
        "# 13. Create a list of even numbers from 1 to 20.\n",
        "def even_numbers_1_to_20():\n",
        "    return list(range(2, 21, 2))\n",
        "\n",
        "# Test\n",
        "print(\"13. Even numbers from 1 to 20:\", even_numbers_1_to_20())\n"
      ],
      "metadata": {
        "colab": {
          "base_uri": "https://localhost:8080/"
        },
        "id": "gMEwqBYYdsZR",
        "outputId": "efe38839-7be7-4377-b8ed-f0b920cc9931"
      },
      "execution_count": 65,
      "outputs": [
        {
          "output_type": "stream",
          "name": "stdout",
          "text": [
            "13. Even numbers from 1 to 20: [2, 4, 6, 8, 10, 12, 14, 16, 18, 20]\n"
          ]
        }
      ]
    },
    {
      "cell_type": "code",
      "source": [
        "# 14. Create a list of odd numbers from 1 to 20.\n",
        "def odd_numbers_1_to_20():\n",
        "    return list(range(1, 21, 2))\n",
        "\n",
        "# Test\n",
        "print(\"14. Odd numbers from 1 to 20:\", odd_numbers_1_to_20())\n"
      ],
      "metadata": {
        "colab": {
          "base_uri": "https://localhost:8080/"
        },
        "id": "5NFzVHkOduB4",
        "outputId": "0ce8ac74-6ee4-4f48-c8b2-fdde854f4899"
      },
      "execution_count": 66,
      "outputs": [
        {
          "output_type": "stream",
          "name": "stdout",
          "text": [
            "14. Odd numbers from 1 to 20: [1, 3, 5, 7, 9, 11, 13, 15, 17, 19]\n"
          ]
        }
      ]
    },
    {
      "cell_type": "code",
      "source": [
        "# 15. Find the sum of all elements in a list.\n",
        "def sum_list(lst):\n",
        "    return sum(lst)\n",
        "\n",
        "# Test\n",
        "print(\"15. Sum of [1, 2, 3, 4, 5]:\", sum_list([1, 2, 3, 4, 5]))"
      ],
      "metadata": {
        "colab": {
          "base_uri": "https://localhost:8080/"
        },
        "id": "0pWh2uAndwbj",
        "outputId": "41bc3afc-08b7-4f79-f0cd-35d046f74ff8"
      },
      "execution_count": 67,
      "outputs": [
        {
          "output_type": "stream",
          "name": "stdout",
          "text": [
            "15. Sum of [1, 2, 3, 4, 5]: 15\n"
          ]
        }
      ]
    },
    {
      "cell_type": "code",
      "source": [
        "# 16. Find the maximum value in a list.\n",
        "def find_max(lst):\n",
        "    if not lst:\n",
        "        return None\n",
        "    return max(lst)\n",
        "\n",
        "# Test\n",
        "print(\"16. Maximum value in [5, 3, 9, 1, 7]:\", find_max([5, 3, 9, 1, 7]))"
      ],
      "metadata": {
        "colab": {
          "base_uri": "https://localhost:8080/"
        },
        "id": "5J65F0TMdzRi",
        "outputId": "5a056729-ad9e-4959-82e0-21174379dd31"
      },
      "execution_count": 68,
      "outputs": [
        {
          "output_type": "stream",
          "name": "stdout",
          "text": [
            "16. Maximum value in [5, 3, 9, 1, 7]: 9\n"
          ]
        }
      ]
    },
    {
      "cell_type": "code",
      "source": [
        "# 17. Find the minimum value in a list.\n",
        "def find_min(lst):\n",
        "    if not lst:\n",
        "        return None\n",
        "    return min(lst)\n",
        "\n",
        "# Test\n",
        "print(\"17. Minimum value in [5, 3, 9, 1, 7]:\", find_min([5, 3, 9, 1, 7]))"
      ],
      "metadata": {
        "colab": {
          "base_uri": "https://localhost:8080/"
        },
        "id": "QmaBLpe0d7Be",
        "outputId": "befa5dcb-8542-4bed-ca63-4091bcda603a"
      },
      "execution_count": 69,
      "outputs": [
        {
          "output_type": "stream",
          "name": "stdout",
          "text": [
            "17. Minimum value in [5, 3, 9, 1, 7]: 1\n"
          ]
        }
      ]
    },
    {
      "cell_type": "code",
      "source": [
        "# 18. Create a list of squares of numbers from 1 to 10.\n",
        "def squares_1_to_10():\n",
        "    return [i**2 for i in range(1, 11)]\n",
        "\n",
        "# Test\n",
        "print(\"18. Squares of numbers from 1 to 10:\", squares_1_to_10())\n"
      ],
      "metadata": {
        "colab": {
          "base_uri": "https://localhost:8080/"
        },
        "id": "LkHvhRe5d-sa",
        "outputId": "df227679-6d2f-4545-dc19-d8ad67883499"
      },
      "execution_count": 70,
      "outputs": [
        {
          "output_type": "stream",
          "name": "stdout",
          "text": [
            "18. Squares of numbers from 1 to 10: [1, 4, 9, 16, 25, 36, 49, 64, 81, 100]\n"
          ]
        }
      ]
    },
    {
      "cell_type": "code",
      "source": [
        "\n",
        "# 19. Create a list of random numbers.\n",
        "def random_numbers(length=10, min_val=1, max_val=100):\n",
        "    import random\n",
        "    return [random.randint(min_val, max_val) for _ in range(length)]\n",
        "\n",
        "# Test\n",
        "print(\"19. List of 5 random numbers:\", random_numbers(5))\n"
      ],
      "metadata": {
        "colab": {
          "base_uri": "https://localhost:8080/"
        },
        "id": "YPTdzprdeApM",
        "outputId": "4aa314dc-075e-4f43-e555-fa4bc30cb496"
      },
      "execution_count": 71,
      "outputs": [
        {
          "output_type": "stream",
          "name": "stdout",
          "text": [
            "19. List of 5 random numbers: [90, 11, 40, 77, 52]\n"
          ]
        }
      ]
    },
    {
      "cell_type": "code",
      "source": [
        "\n",
        "# 20. Remove duplicates from a list.\n",
        "def remove_duplicates(lst):\n",
        "    return list(dict.fromkeys(lst))  # Preserves order\n",
        "\n",
        "# Test\n",
        "print(\"20. Remove duplicates from [1, 2, 2, 3, 4, 3, 5]:\", remove_duplicates([1, 2, 2, 3, 4, 3, 5]))\n",
        "\n"
      ],
      "metadata": {
        "colab": {
          "base_uri": "https://localhost:8080/"
        },
        "id": "ljE6fajbeDcw",
        "outputId": "bde5422f-d8ae-4fde-ff5e-e30224c1d49f"
      },
      "execution_count": 72,
      "outputs": [
        {
          "output_type": "stream",
          "name": "stdout",
          "text": [
            "20. Remove duplicates from [1, 2, 2, 3, 4, 3, 5]: [1, 2, 3, 4, 5]\n"
          ]
        }
      ]
    },
    {
      "cell_type": "code",
      "source": [
        "# 21. Find the common elements between two lists.\n",
        "def common_elements(lst1, lst2):\n",
        "    return list(set(lst1) & set(lst2))\n",
        "\n",
        "# Test\n",
        "print(\"21. Common elements between [1, 2, 3, 4] and [3, 4, 5, 6]:\",\n",
        "      common_elements([1, 2, 3, 4], [3, 4, 5, 6]))\n",
        "\n"
      ],
      "metadata": {
        "colab": {
          "base_uri": "https://localhost:8080/"
        },
        "id": "XSl7YpKDeGcj",
        "outputId": "81488c5b-56cb-4436-b8ea-85cf189be057"
      },
      "execution_count": 73,
      "outputs": [
        {
          "output_type": "stream",
          "name": "stdout",
          "text": [
            "21. Common elements between [1, 2, 3, 4] and [3, 4, 5, 6]: [3, 4]\n"
          ]
        }
      ]
    },
    {
      "cell_type": "code",
      "source": [
        "\n",
        "# 22. Find the difference between two lists.\n",
        "def list_difference(lst1, lst2):\n",
        "    return list(set(lst1) - set(lst2))\n",
        "\n",
        "# Test\n",
        "print(\"22. Difference between [1, 2, 3, 4] and [3, 4, 5, 6]:\",\n",
        "      list_difference([1, 2, 3, 4], [3, 4, 5, 6]))\n",
        "\n"
      ],
      "metadata": {
        "colab": {
          "base_uri": "https://localhost:8080/"
        },
        "id": "mYtfz3J2eIKz",
        "outputId": "7246a662-8398-4ddb-ee74-a1acccd561fb"
      },
      "execution_count": 74,
      "outputs": [
        {
          "output_type": "stream",
          "name": "stdout",
          "text": [
            "22. Difference between [1, 2, 3, 4] and [3, 4, 5, 6]: [1, 2]\n"
          ]
        }
      ]
    },
    {
      "cell_type": "code",
      "source": [
        "\n",
        "# 23. Merge two lists.\n",
        "def merge_lists(lst1, lst2):\n",
        "    return lst1 + lst2\n",
        "\n",
        "# Test\n",
        "print(\"23. Merge [1, 2, 3] and [4, 5, 6]:\", merge_lists([1, 2, 3], [4, 5, 6]))\n"
      ],
      "metadata": {
        "colab": {
          "base_uri": "https://localhost:8080/"
        },
        "id": "G1tE4791eJwE",
        "outputId": "6f161c22-4605-43d3-eca6-63783ed2056e"
      },
      "execution_count": 75,
      "outputs": [
        {
          "output_type": "stream",
          "name": "stdout",
          "text": [
            "23. Merge [1, 2, 3] and [4, 5, 6]: [1, 2, 3, 4, 5, 6]\n"
          ]
        }
      ]
    },
    {
      "cell_type": "code",
      "source": [
        "\n",
        "# 24. Multiply all elements in a list by 2.\n",
        "def multiply_by_two(lst):\n",
        "    return [item * 2 for item in lst]\n",
        "\n",
        "# Test\n",
        "print(\"24. Multiply all elements in [1, 2, 3, 4, 5] by 2:\", multiply_by_two([1, 2, 3, 4, 5]))\n"
      ],
      "metadata": {
        "colab": {
          "base_uri": "https://localhost:8080/"
        },
        "id": "c8eqvQ9NeL_t",
        "outputId": "c8ccfd1b-f3c3-4e80-f76b-46bdea974f93"
      },
      "execution_count": 76,
      "outputs": [
        {
          "output_type": "stream",
          "name": "stdout",
          "text": [
            "24. Multiply all elements in [1, 2, 3, 4, 5] by 2: [2, 4, 6, 8, 10]\n"
          ]
        }
      ]
    },
    {
      "cell_type": "code",
      "source": [
        "# 25. Filter out all even numbers from a list.\n",
        "def filter_out_even(lst):\n",
        "    return [num for num in lst if num % 2 != 0]\n",
        "\n",
        "# Test\n",
        "print(\"25. Filter out even numbers from [1, 2, 3, 4, 5, 6]:\", filter_out_even([1, 2, 3, 4, 5, 6]))\n",
        "\n"
      ],
      "metadata": {
        "colab": {
          "base_uri": "https://localhost:8080/"
        },
        "id": "lM2MXgnleNxu",
        "outputId": "4646d6df-4c7d-4fbb-e845-79a1089aaba2"
      },
      "execution_count": 77,
      "outputs": [
        {
          "output_type": "stream",
          "name": "stdout",
          "text": [
            "25. Filter out even numbers from [1, 2, 3, 4, 5, 6]: [1, 3, 5]\n"
          ]
        }
      ]
    },
    {
      "cell_type": "code",
      "source": [
        "\n",
        "# 26. Convert a list of strings to a list of integers.\n",
        "def strings_to_integers(lst):\n",
        "    result = []\n",
        "    for item in lst:\n",
        "        try:\n",
        "            result.append(int(item))\n",
        "        except ValueError:\n",
        "            # Skip items that can't be converted to int\n",
        "            pass\n",
        "    return result\n",
        "\n",
        "\n",
        "# Test\n",
        "print(\"26. Convert ['1', '2', '3', '4', '5'] to integers:\", strings_to_integers(['1', '2', '3', '4', '5']))\n"
      ],
      "metadata": {
        "colab": {
          "base_uri": "https://localhost:8080/"
        },
        "id": "-36-GoWWePf5",
        "outputId": "4bfbad48-217c-4ad0-f4e7-422a4de04687"
      },
      "execution_count": 79,
      "outputs": [
        {
          "output_type": "stream",
          "name": "stdout",
          "text": [
            "26. Convert ['1', '2', '3', '4', '5'] to integers: [1, 2, 3, 4, 5]\n"
          ]
        }
      ]
    },
    {
      "cell_type": "code",
      "source": [
        "# 27. Convert a list of integers to a list of strings.\n",
        "def integers_to_strings(lst):\n",
        "    return [str(num) for num in lst]\n",
        "\n",
        "# Test\n",
        "print(\"27. Convert [1, 2, 3, 4, 5] to strings:\", integers_to_strings([1, 2, 3, 4, 5]))\n",
        "\n",
        "\n",
        "# 28. Flatten a nested list.\n",
        "def flatten_list(nested_list):\n",
        "    flat_list = []\n",
        "    for item in nested_list:\n",
        "        if isinstance(item, list):\n",
        "            flat_list.extend(flatten_list(item))  # Recursive call for nested lists\n",
        "        else:\n",
        "            flat_list.append(item)\n",
        "    return flat_list\n",
        "\n",
        "# Test\n",
        "print(\"28. Flatten [1, [2, 3], [4, [5, 6]]]:\", flatten_list([1, [2, 3], [4, [5, 6]]]))\n"
      ],
      "metadata": {
        "colab": {
          "base_uri": "https://localhost:8080/"
        },
        "id": "V3qS68A5eRUn",
        "outputId": "4e156384-c8a9-4d6f-ce90-ad0967b4d29a"
      },
      "execution_count": 80,
      "outputs": [
        {
          "output_type": "stream",
          "name": "stdout",
          "text": [
            "27. Convert [1, 2, 3, 4, 5] to strings: ['1', '2', '3', '4', '5']\n",
            "28. Flatten [1, [2, 3], [4, [5, 6]]]: [1, 2, 3, 4, 5, 6]\n"
          ]
        }
      ]
    },
    {
      "cell_type": "code",
      "source": [
        "# 29. Create a list of the first 10 Fibonacci numbers.\n",
        "def fibonacci_10():\n",
        "    fib = [0, 1]\n",
        "    for i in range(2, 10):\n",
        "        fib.append(fib[i-1] + fib[i-2])\n",
        "    return fib\n",
        "\n",
        "# Test\n",
        "print(\"29. First 10 Fibonacci numbers:\", fibonacci_10())\n",
        "\n",
        "\n",
        "# 30. Check if a list is sorted.\n",
        "def is_sorted(lst):\n",
        "    return lst == sorted(lst)\n",
        "\n",
        "# Test\n",
        "print(\"30. Is [1, 2, 3, 4, 5] sorted?\", is_sorted([1, 2, 3, 4, 5]))\n",
        "print(\"    Is [1, 3, 2, 4, 5] sorted?\", is_sorted([1, 3, 2, 4, 5]))"
      ],
      "metadata": {
        "colab": {
          "base_uri": "https://localhost:8080/"
        },
        "id": "0ThTfCuweYDx",
        "outputId": "ae022aec-870f-454e-f663-c5913835a2db"
      },
      "execution_count": 81,
      "outputs": [
        {
          "output_type": "stream",
          "name": "stdout",
          "text": [
            "29. First 10 Fibonacci numbers: [0, 1, 1, 2, 3, 5, 8, 13, 21, 34]\n",
            "30. Is [1, 2, 3, 4, 5] sorted? True\n",
            "    Is [1, 3, 2, 4, 5] sorted? False\n"
          ]
        }
      ]
    },
    {
      "cell_type": "code",
      "source": [
        "\n",
        "# 31. Rotate a list to the left by `n` positions.\n",
        "def rotate_left(lst, n):\n",
        "    n = n % len(lst) if lst else 0  # Handle edge cases\n",
        "    return lst[n:] + lst[:n]\n",
        "\n",
        "# Test\n",
        "print(\"31. Rotate [1, 2, 3, 4, 5] to the left by 2 positions:\", rotate_left([1, 2, 3, 4, 5], 2))\n",
        "\n",
        "\n",
        "# 32. Rotate a list to the right by `n` positions.\n",
        "def rotate_right(lst, n):\n",
        "    n = n % len(lst) if lst else 0  # Handle edge cases\n",
        "    return lst[-n:] + lst[:-n]\n",
        "\n",
        "# Test\n",
        "print(\"32. Rotate [1, 2, 3, 4, 5] to the right by 2 positions:\", rotate_right([1, 2, 3, 4, 5], 2))\n",
        "\n",
        "\n",
        "# 33. Create a list of prime numbers up to 50.\n",
        "def primes_up_to_50():\n",
        "    def is_prime(num):\n",
        "        if num <= 1:\n",
        "            return False\n",
        "        if num <= 3:\n",
        "            return True\n",
        "        if num % 2 == 0 or num % 3 == 0:\n",
        "            return False\n",
        "        i = 5\n",
        "        while i * i <= num:\n",
        "            if num % i == 0 or num % (i + 2) == 0:\n",
        "                return False\n",
        "            i += 6\n",
        "        return True\n",
        "\n",
        "    return [num for num in range(2, 51) if is_prime(num)]\n",
        "\n",
        "# Test\n",
        "print(\"33. Prime numbers up to 50:\", primes_up_to_50())\n",
        "\n",
        "\n",
        "# 34. Split a list into chunks of size `n`.\n",
        "def split_into_chunks(lst, chunk_size):\n",
        "    chunks = []\n",
        "    for i in range(0, len(lst), chunk_size):\n",
        "        chunks.append(lst[i:i + chunk_size])\n",
        "    return chunks\n",
        "\n",
        "# Test\n",
        "print(\"34. Split [1, 2, 3, 4, 5, 6, 7, 8, 9, 10] into chunks of size 3:\",\n",
        "      split_into_chunks([1, 2, 3, 4, 5, 6, 7, 8, 9, 10], 3))\n",
        "\n",
        "\n",
        "# 35. Find the second largest number in a list.\n",
        "def second_largest(lst):\n",
        "    if len(lst) < 2:\n",
        "        return None\n",
        "\n",
        "    unique_sorted = sorted(set(lst), reverse=True)\n",
        "    return unique_sorted[1] if len(unique_sorted) >= 2 else None\n",
        "\n",
        "# Test\n",
        "print(\"35. Second largest number in [5, 1, 9, 3, 7, 9]:\", second_largest([5, 1, 9, 3, 7, 9]))\n",
        "\n",
        "\n",
        "# 36. Replace every element in a list with its square.\n",
        "def square_elements(lst):\n",
        "    return [x**2 for x in lst]\n",
        "\n",
        "# Test\n",
        "print(\"36. Square elements in [1, 2, 3, 4, 5]:\", square_elements([1, 2, 3, 4, 5]))\n",
        "\n",
        "\n",
        "# 37. Convert a list to a dictionary where list elements become keys and their indices become values.\n",
        "def list_to_dict(lst):\n",
        "    return {item: index for index, item in enumerate(lst)}\n",
        "\n",
        "# Test\n",
        "print(\"37. Convert ['a', 'b', 'c', 'd'] to dictionary:\", list_to_dict(['a', 'b', 'c', 'd']))\n",
        "\n",
        "\n",
        "# 38. Shuffle the elements of a list randomly.\n",
        "def shuffle_list(lst):\n",
        "    import random\n",
        "    shuffled = lst.copy()\n",
        "    random.shuffle(shuffled)\n",
        "    return shuffled\n",
        "\n",
        "# Test\n",
        "original = [1, 2, 3, 4, 5]\n",
        "print(\"38. Shuffle\", original, \"->\", shuffle_list(original))\n",
        "\n",
        "\n",
        "# 39. Create a list of the first 10 factorial numbers.\n",
        "def factorial_list(n):\n",
        "    result = []\n",
        "    factorial = 1\n",
        "    for i in range(1, n+1):\n",
        "        factorial *= i\n",
        "        result.append(factorial)\n",
        "    return result\n",
        "\n",
        "# Test\n",
        "print(\"39. First 10 factorial numbers:\", factorial_list(10))\n",
        "\n",
        "\n",
        "# 40. Check if two lists have at least one element in common.\n",
        "def have_common_element(lst1, lst2):\n",
        "    return bool(set(lst1) & set(lst2))\n",
        "\n",
        "# Test\n",
        "print(\"40. Do [1, 2, 3] and [3, 4, 5] have elements in common?\",\n",
        "      have_common_element([1, 2, 3], [3, 4, 5]))\n",
        "print(\"    Do [1, 2, 3] and [4, 5, 6] have elements in common?\",\n",
        "      have_common_element([1, 2, 3], [4, 5, 6]))\n",
        "\n",
        "\n",
        "# 41. Remove all elements from a list.\n",
        "def clear_list(lst):\n",
        "    lst.clear()\n",
        "    return lst\n",
        "\n",
        "# Test\n",
        "test_list = [1, 2, 3, 4, 5]\n",
        "print(\"41. Clear\", test_list, \"->\", clear_list(test_list))\n",
        "\n",
        "\n",
        "# 42. Replace negative numbers in a list with 0.\n",
        "def replace_negatives(lst):\n",
        "    return [0 if x < 0 else x for x in lst]\n",
        "\n",
        "# Test\n",
        "print(\"42. Replace negatives in [1, -2, 3, -4, 5] with 0:\", replace_negatives([1, -2, 3, -4, 5]))\n",
        "\n",
        "\n",
        "# 43. Convert a string into a list of words.\n",
        "def string_to_words(string):\n",
        "    return string.split()\n",
        "\n",
        "# Test\n",
        "print(\"43. Convert 'The quick brown fox' to words:\", string_to_words(\"The quick brown fox\"))\n",
        "\n",
        "\n",
        "# 44. Convert a list of words into a string.\n",
        "def words_to_string(words, separator=\" \"):\n",
        "    return separator.join(words)\n",
        "\n",
        "# Test\n",
        "print(\"44. Convert ['The', 'quick', 'brown', 'fox'] to string:\",\n",
        "      words_to_string(['The', 'quick', 'brown', 'fox']))\n",
        "\n",
        "\n",
        "# 45. Create a list of the first `n` powers of 2.\n",
        "def powers_of_two(n):\n",
        "    return [2**i for i in range(n)]\n",
        "\n",
        "# Test\n",
        "print(\"45. First 5 powers of 2:\", powers_of_two(5))"
      ],
      "metadata": {
        "colab": {
          "base_uri": "https://localhost:8080/"
        },
        "id": "23ivDPyKebbF",
        "outputId": "1518c44e-0c1a-43a2-e597-2ceee839401e"
      },
      "execution_count": 82,
      "outputs": [
        {
          "output_type": "stream",
          "name": "stdout",
          "text": [
            "31. Rotate [1, 2, 3, 4, 5] to the left by 2 positions: [3, 4, 5, 1, 2]\n",
            "32. Rotate [1, 2, 3, 4, 5] to the right by 2 positions: [4, 5, 1, 2, 3]\n",
            "33. Prime numbers up to 50: [2, 3, 5, 7, 11, 13, 17, 19, 23, 29, 31, 37, 41, 43, 47]\n",
            "34. Split [1, 2, 3, 4, 5, 6, 7, 8, 9, 10] into chunks of size 3: [[1, 2, 3], [4, 5, 6], [7, 8, 9], [10]]\n",
            "35. Second largest number in [5, 1, 9, 3, 7, 9]: 7\n",
            "36. Square elements in [1, 2, 3, 4, 5]: [1, 4, 9, 16, 25]\n",
            "37. Convert ['a', 'b', 'c', 'd'] to dictionary: {'a': 0, 'b': 1, 'c': 2, 'd': 3}\n",
            "38. Shuffle [1, 2, 3, 4, 5] -> [5, 2, 4, 3, 1]\n",
            "39. First 10 factorial numbers: [1, 2, 6, 24, 120, 720, 5040, 40320, 362880, 3628800]\n",
            "40. Do [1, 2, 3] and [3, 4, 5] have elements in common? True\n",
            "    Do [1, 2, 3] and [4, 5, 6] have elements in common? False\n",
            "41. Clear [] -> []\n",
            "42. Replace negatives in [1, -2, 3, -4, 5] with 0: [1, 0, 3, 0, 5]\n",
            "43. Convert 'The quick brown fox' to words: ['The', 'quick', 'brown', 'fox']\n",
            "44. Convert ['The', 'quick', 'brown', 'fox'] to string: The quick brown fox\n",
            "45. First 5 powers of 2: [1, 2, 4, 8, 16]\n"
          ]
        }
      ]
    },
    {
      "cell_type": "code",
      "source": [
        "\n",
        "# 46. Find the longest string in a list of strings.\n",
        "def longest_string(lst):\n",
        "    if not lst:\n",
        "        return None\n",
        "    return max(lst, key=len)\n",
        "\n",
        "# Test\n",
        "print(\"46. Longest string in ['apple', 'banana', 'kiwi', 'strawberry']:\",\n",
        "      longest_string(['apple', 'banana', 'kiwi', 'strawberry']))\n",
        "\n",
        "\n",
        "# 47. Find the shortest string in a list of strings.\n",
        "def shortest_string(lst):\n",
        "    if not lst:\n",
        "        return None\n",
        "    return min(lst, key=len)\n",
        "\n",
        "# Test\n",
        "print(\"47. Shortest string in ['apple', 'banana', 'kiwi', 'strawberry']:\",\n",
        "      shortest_string(['apple', 'banana', 'kiwi', 'strawberry']))\n",
        "\n",
        "# 48. Create a list of the first `n` triangular numbers.\n",
        "def triangular_numbers(n):\n",
        "    return [sum(range(1, i + 1)) for i in range(1, n + 1)]\n",
        "\n",
        "# Test\n",
        "print(\"48. First 5 triangular numbers:\", triangular_numbers(5))\n",
        "\n",
        "\n",
        "# 49. Check if a list contains another list as a subsequence.\n",
        "def contains_subsequence(lst, subseq):\n",
        "    # Empty subsequence is always contained\n",
        "    if not subseq:\n",
        "        return True\n",
        "\n",
        "    # Find first element of subsequence\n",
        "    for i in range(len(lst) - len(subseq) + 1):\n",
        "        if lst[i] == subseq[0]:\n",
        "            # Check if subsequence matches from this position\n",
        "            match = True\n",
        "            for j in range(1, len(subseq)):\n",
        "                if i + j >= len(lst) or lst[i + j] != subseq[j]:\n",
        "                    match = False\n",
        "                    break\n",
        "            if match:\n",
        "                return True\n",
        "    return False\n",
        "\n",
        "# Test\n",
        "print(\"49. Does [1, 2, 3, 4, 5] contain [2, 3, 4] as a subsequence?\",\n",
        "      contains_subsequence([1, 2, 3, 4, 5], [2, 3, 4]))\n",
        "print(\"    Does [1, 2, 3, 4, 5] contain [2, 4] as a subsequence?\",\n",
        "      contains_subsequence([1, 2, 3, 4, 5], [2, 4]))\n",
        "\n",
        "\n",
        "# 50. Swap two elements in a list by their indices.\n",
        "def swap_elements(lst, index1, index2):\n",
        "    if 0 <= index1 < len(lst) and 0 <= index2 < len(lst):\n",
        "        lst[index1], lst[index2] = lst[index2], lst[index1]\n",
        "    return lst\n",
        "\n",
        "# Test\n",
        "print(\"50. Swap elements at indices 0 and 3 in [1, 2, 3, 4, 5]:\",\n",
        "      swap_elements([1, 2, 3, 4, 5], 0, 3))\n"
      ],
      "metadata": {
        "colab": {
          "base_uri": "https://localhost:8080/"
        },
        "id": "EEanwsvHemaD",
        "outputId": "5de14212-792c-4099-9d9e-6eb5a7c2d076"
      },
      "execution_count": 83,
      "outputs": [
        {
          "output_type": "stream",
          "name": "stdout",
          "text": [
            "46. Longest string in ['apple', 'banana', 'kiwi', 'strawberry']: strawberry\n",
            "47. Shortest string in ['apple', 'banana', 'kiwi', 'strawberry']: kiwi\n",
            "48. First 5 triangular numbers: [1, 3, 6, 10, 15]\n",
            "49. Does [1, 2, 3, 4, 5] contain [2, 3, 4] as a subsequence? True\n",
            "    Does [1, 2, 3, 4, 5] contain [2, 4] as a subsequence? False\n",
            "50. Swap elements at indices 0 and 3 in [1, 2, 3, 4, 5]: [4, 2, 3, 1, 5]\n"
          ]
        }
      ]
    },
    {
      "cell_type": "markdown",
      "source": [
        "# **Tuple Based Practice Problems** (1- 50)"
      ],
      "metadata": {
        "id": "Hg-ao44Ae3lc"
      }
    },
    {
      "cell_type": "code",
      "source": [
        "\n",
        "# 1. Create a tuple with integers from 1 to 5.\n",
        "def create_tuple_1_to_5():\n",
        "    return tuple(range(1, 6))\n",
        "\n",
        "# Test\n",
        "print(\"\\n1. Tuple with integers from 1 to 5:\", create_tuple_1_to_5())\n",
        "\n",
        "\n",
        "# 2. Access the third element of a tuple.\n",
        "def access_third_element(tup):\n",
        "    return tup[2] if len(tup) > 2 else None\n",
        "\n",
        "# Test\n",
        "print(\"2. Third element of (1, 2, 3, 4, 5):\", access_third_element((1, 2, 3, 4, 5)))\n",
        "\n",
        "\n",
        "# 3. Find the length of a tuple without using the `len()` function.\n",
        "def tuple_length(tup):\n",
        "    count = 0\n",
        "    for _ in tup:\n",
        "        count += 1\n",
        "    return count\n",
        "\n",
        "# Test\n",
        "print(\"3. Length of (1, 2, 3, 4, 5) without len():\", tuple_length((1, 2, 3, 4, 5)))\n",
        "\n",
        "\n",
        "# 4. Count the occurrences of an element in a tuple.\n",
        "def count_element_in_tuple(tup, element):\n",
        "    return tup.count(element)\n",
        "\n",
        "# Test\n",
        "print(\"4. Count occurrences of 3 in (1, 2, 3, 3, 4, 5):\", count_element_in_tuple((1, 2, 3, 3, 4, 5), 3))\n",
        "\n",
        "\n",
        "# 5. Find the index of the first occurrence of an element in a tuple.\n",
        "def find_index_in_tuple(tup, element):\n",
        "    try:\n",
        "        return tup.index(element)\n",
        "    except ValueError:\n",
        "        return -1\n",
        "\n",
        "# Test\n",
        "print(\"5. Index of first occurrence of 3 in (1, 2, 3, 4, 3):\", find_index_in_tuple((1, 2, 3, 4, 3), 3))\n",
        "\n",
        "\n",
        "# 6. Check if an element exists in a tuple.\n",
        "def element_exists_in_tuple(tup, element):\n",
        "    return element in tup\n",
        "\n",
        "# Test\n",
        "print(\"6. Does 3 exist in (1, 2, 3, 4, 5)?\", element_exists_in_tuple((1, 2, 3, 4, 5), 3))\n",
        "print(\"   Does 10 exist in (1, 2, 3, 4, 5)?\", element_exists_in_tuple((1, 2, 3, 4, 5), 10))\n",
        "\n",
        "\n",
        "# 7. Convert a tuple to a list.\n",
        "def tuple_to_list(tup):\n",
        "    return list(tup)\n",
        "\n",
        "# Test\n",
        "print(\"7. Convert (1, 2, 3, 4, 5) to a list:\", tuple_to_list((1, 2, 3, 4, 5)))\n",
        "\n",
        "\n",
        "# 8. Convert a list to a tuple.\n",
        "def list_to_tuple(lst):\n",
        "    return tuple(lst)\n",
        "\n",
        "# Test\n",
        "print(\"8. Convert [1, 2, 3, 4, 5] to a tuple:\", list_to_tuple([1, 2, 3, 4, 5]))\n",
        "\n",
        "\n",
        "# 9. Unpack the elements of a tuple into variables.\n",
        "def unpack_tuple_demo():\n",
        "    tup = (1, 2, 3)\n",
        "    a, b, c = tup\n",
        "    return f\"Unpacked {tup} into variables a={a}, b={b}, c={c}\"\n",
        "\n",
        "# Test\n",
        "print(\"9. Unpacking a tuple:\")\n",
        "print(\"  \", unpack_tuple_demo())\n",
        "\n",
        "\n",
        "# 10. Create a tuple of even numbers from 1 to 10.\n",
        "def even_tuple_1_to_10():\n",
        "    return tuple(range(2, 11, 2))\n",
        "\n",
        "# Test\n",
        "print(\"10. Tuple of even numbers from 1 to 10:\", even_tuple_1_to_10())\n",
        "\n",
        "\n",
        "# 11. Create a tuple of odd numbers from 1 to 10.\n",
        "def odd_tuple_1_to_10():\n",
        "    return tuple(range(1, 11, 2))\n",
        "\n",
        "# Test\n",
        "print(\"11. Tuple of odd numbers from 1 to 10:\", odd_tuple_1_to_10())\n",
        "\n",
        "\n",
        "# 12. Concatenate two tuples.\n",
        "def concatenate_tuples(tup1, tup2):\n",
        "    return tup1 + tup2\n",
        "\n",
        "# Test\n",
        "print(\"12. Concatenate (1, 2, 3) and (4, 5, 6):\", concatenate_tuples((1, 2, 3), (4, 5, 6)))\n",
        "\n",
        "\n",
        "# 13. Repeat a tuple three times.\n",
        "def repeat_tuple(tup, times=3):\n",
        "    return tup * times\n",
        "\n",
        "# Test\n",
        "print(\"13. Repeat (1, 2, 3) three times:\", repeat_tuple((1, 2, 3)))\n",
        "\n",
        "\n",
        "# 14. Check if a tuple is empty.\n",
        "def is_tuple_empty(tup):\n",
        "    return len(tup) == 0\n",
        "\n",
        "# Test\n",
        "print(\"14. Is () empty?\", is_tuple_empty(()))\n",
        "print(\"    Is (1, 2, 3) empty?\", is_tuple_empty((1, 2, 3)))\n",
        "\n",
        "\n",
        "# 15. Create a nested tuple.\n",
        "def create_nested_tuple():\n",
        "    return (1, 2, (3, 4, 5), 6)\n",
        "\n",
        "# Test\n",
        "print(\"15. A nested tuple:\", create_nested_tuple())"
      ],
      "metadata": {
        "colab": {
          "base_uri": "https://localhost:8080/"
        },
        "id": "yiInPFBXev1e",
        "outputId": "3db80fc3-0480-4da2-f8f8-cb77cad200e4"
      },
      "execution_count": 84,
      "outputs": [
        {
          "output_type": "stream",
          "name": "stdout",
          "text": [
            "\n",
            "1. Tuple with integers from 1 to 5: (1, 2, 3, 4, 5)\n",
            "2. Third element of (1, 2, 3, 4, 5): 3\n",
            "3. Length of (1, 2, 3, 4, 5) without len(): 5\n",
            "4. Count occurrences of 3 in (1, 2, 3, 3, 4, 5): 2\n",
            "5. Index of first occurrence of 3 in (1, 2, 3, 4, 3): 2\n",
            "6. Does 3 exist in (1, 2, 3, 4, 5)? True\n",
            "   Does 10 exist in (1, 2, 3, 4, 5)? False\n",
            "7. Convert (1, 2, 3, 4, 5) to a list: [1, 2, 3, 4, 5]\n",
            "8. Convert [1, 2, 3, 4, 5] to a tuple: (1, 2, 3, 4, 5)\n",
            "9. Unpacking a tuple:\n",
            "   Unpacked (1, 2, 3) into variables a=1, b=2, c=3\n",
            "10. Tuple of even numbers from 1 to 10: (2, 4, 6, 8, 10)\n",
            "11. Tuple of odd numbers from 1 to 10: (1, 3, 5, 7, 9)\n",
            "12. Concatenate (1, 2, 3) and (4, 5, 6): (1, 2, 3, 4, 5, 6)\n",
            "13. Repeat (1, 2, 3) three times: (1, 2, 3, 1, 2, 3, 1, 2, 3)\n",
            "14. Is () empty? True\n",
            "    Is (1, 2, 3) empty? False\n",
            "15. A nested tuple: (1, 2, (3, 4, 5), 6)\n"
          ]
        }
      ]
    },
    {
      "cell_type": "code",
      "source": [
        "\n",
        "# 16. Access the first element of a nested tuple.\n",
        "def access_nested_element(nested_tup):\n",
        "    if len(nested_tup) > 2 and isinstance(nested_tup[2], tuple):\n",
        "        return nested_tup[2][0]\n",
        "    return None\n",
        "\n",
        "# Test\n",
        "print(\"16. First element of the nested tuple in (1, 2, (3, 4, 5), 6):\",\n",
        "      access_nested_element((1, 2, (3, 4, 5), 6)))\n",
        "\n",
        "\n",
        "# 17. Create a tuple with a single element.\n",
        "def single_element_tuple(element):\n",
        "    return (element,)  # Note the comma\n",
        "\n",
        "# Test\n",
        "print(\"17. A tuple with a single element 42:\", single_element_tuple(42))\n",
        "print(\"    Type of result:\", type(single_element_tuple(42)))\n",
        "\n",
        "\n",
        "# 18. Compare two tuples.\n",
        "def compare_tuples(tup1, tup2):\n",
        "    if tup1 == tup2:\n",
        "        return \"Tuples are equal\"\n",
        "    elif tup1 < tup2:\n",
        "        return \"First tuple is less than second tuple\"\n",
        "    else:\n",
        "        return \"First tuple is greater than second tuple\"\n",
        "\n",
        "# Test\n",
        "print(\"18. Compare (1, 2, 3) and (1, 2, 3):\", compare_tuples((1, 2, 3), (1, 2, 3)))\n",
        "print(\"    Compare (1, 2, 3) and (1, 2, 4):\", compare_tuples((1, 2, 3), (1, 2, 4)))\n",
        "print(\"    Compare (1, 2, 4) and (1, 2, 3):\", compare_tuples((1, 2, 4), (1, 2, 3)))\n",
        "\n",
        "\n",
        "# 19. Delete a tuple.\n",
        "def delete_tuple_demo():\n",
        "    tup = (1, 2, 3)\n",
        "    result = f\"Before deletion: {tup}\"\n",
        "    del tup\n",
        "    try:\n",
        "        result += f\", After deletion: {tup}\"\n",
        "    except NameError:\n",
        "        result += \", After deletion: NameError (tuple no longer exists)\"\n",
        "    return result\n",
        "\n",
        "# Test\n",
        "print(\"19. Deleting a tuple:\", delete_tuple_demo())\n",
        "\n",
        "\n",
        "# 20. Slice a tuple.\n",
        "def slice_tuple(tup, start, end):\n",
        "    return tup[start:end]\n",
        "\n",
        "# Test\n",
        "print(\"20. Slice (1, 2, 3, 4, 5) from index 1 to 4:\", slice_tuple((1, 2, 3, 4, 5), 1, 4))\n",
        "\n",
        "\n",
        "# 21. Find the maximum value in a tuple.\n",
        "def max_in_tuple(tup):\n",
        "    return max(tup) if tup else None\n",
        "\n",
        "# Test\n",
        "print(\"21. Maximum value in (5, 3, 9, 1, 7):\", max_in_tuple((5, 3, 9, 1, 7)))\n",
        "\n",
        "\n",
        "# 22. Find the minimum value in a tuple.\n",
        "def min_in_tuple(tup):\n",
        "    return min(tup) if tup else None\n",
        "\n",
        "# Test\n",
        "print(\"22. Minimum value in (5, 3, 9, 1, 7):\", min_in_tuple((5, 3, 9, 1, 7)))\n",
        "\n",
        "\n",
        "# 23. Convert a string to a tuple of characters.\n",
        "def string_to_char_tuple(string):\n",
        "    return tuple(string)\n",
        "\n",
        "# Test\n",
        "print(\"23. Convert 'hello' to a tuple of characters:\", string_to_char_tuple(\"hello\"))\n",
        "\n",
        "\n",
        "# 24. Convert a tuple of characters to a string.\n",
        "def char_tuple_to_string(char_tuple):\n",
        "    return ''.join(char_tuple)\n",
        "\n",
        "# Test\n",
        "print(\"24. Convert ('h', 'e', 'l', 'l', 'o') to a string:\",\n",
        "      char_tuple_to_string(('h', 'e', 'l', 'l', 'o')))\n",
        "\n",
        "\n",
        "# 25. Create a tuple from multiple data types.\n",
        "def mixed_data_type_tuple():\n",
        "    return (1, \"hello\", 3.14, True, None)\n",
        "\n",
        "# Test\n",
        "print(\"25. Tuple with multiple data types:\", mixed_data_type_tuple())\n",
        "\n",
        "\n",
        "# 26. Check if two tuples are identical.\n",
        "def are_tuples_identical(tup1, tup2):\n",
        "    return tup1 == tup2\n",
        "\n",
        "# Test\n",
        "print(\"26. Are (1, 2, 3) and (1, 2, 3) identical?\", are_tuples_identical((1, 2, 3), (1, 2, 3)))\n",
        "print(\"    Are (1, 2, 3) and (1, 2, 4) identical?\", are_tuples_identical((1, 2, 3), (1, 2, 4)))\n",
        "\n",
        "\n",
        "# 27. Sort the elements of a tuple.\n",
        "def sort_tuple(tup):\n",
        "    return tuple(sorted(tup))\n",
        "\n",
        "# Test\n",
        "print(\"27. Sort (5, 3, 1, 4, 2):\", sort_tuple((5, 3, 1, 4, 2)))\n",
        "\n",
        "\n",
        "# 28. Convert a tuple of integers to a tuple of strings.\n",
        "def tuple_int_to_str(tup):\n",
        "    return tuple(str(item) for item in tup)\n",
        "\n",
        "# Test\n",
        "print(\"28. Convert (1, 2, 3, 4, 5) to tuple of strings:\", tuple_int_to_str((1, 2, 3, 4, 5)))\n",
        "\n",
        "\n",
        "# 29. Convert a tuple of strings to a tuple of integers.\n",
        "def tuple_str_to_int(tup):\n",
        "    try:\n",
        "        return tuple(int(item) for item in tup)\n",
        "    except ValueError:\n",
        "        return \"Error: Not all items can be converted to integers\"\n",
        "\n",
        "# Test\n",
        "print(\"29. Convert ('1', '2', '3', '4', '5') to tuple of integers:\",\n",
        "      tuple_str_to_int(('1', '2', '3', '4', '5')))\n",
        "print(\"    Convert ('1', 'two', '3') to tuple of integers:\",\n",
        "      tuple_str_to_int(('1', 'two', '3')))\n",
        "\n",
        "\n",
        "# 30. Merge two tuples.\n",
        "def merge_tuples(tup1, tup2):\n",
        "    return tup1 + tup2\n",
        "\n",
        "# Test\n",
        "print(\"30. Merge (1, 2, 3) and (4, 5, 6):\", merge_tuples((1, 2, 3), (4, 5, 6)))"
      ],
      "metadata": {
        "colab": {
          "base_uri": "https://localhost:8080/"
        },
        "id": "FJLr9TDifF9T",
        "outputId": "dcbeb798-9a5b-4340-e487-877568f3405e"
      },
      "execution_count": 85,
      "outputs": [
        {
          "output_type": "stream",
          "name": "stdout",
          "text": [
            "16. First element of the nested tuple in (1, 2, (3, 4, 5), 6): 3\n",
            "17. A tuple with a single element 42: (42,)\n",
            "    Type of result: <class 'tuple'>\n",
            "18. Compare (1, 2, 3) and (1, 2, 3): Tuples are equal\n",
            "    Compare (1, 2, 3) and (1, 2, 4): First tuple is less than second tuple\n",
            "    Compare (1, 2, 4) and (1, 2, 3): First tuple is greater than second tuple\n",
            "19. Deleting a tuple: Before deletion: (1, 2, 3), After deletion: NameError (tuple no longer exists)\n",
            "20. Slice (1, 2, 3, 4, 5) from index 1 to 4: (2, 3, 4)\n",
            "21. Maximum value in (5, 3, 9, 1, 7): 9\n",
            "22. Minimum value in (5, 3, 9, 1, 7): 1\n",
            "23. Convert 'hello' to a tuple of characters: ('h', 'e', 'l', 'l', 'o')\n",
            "24. Convert ('h', 'e', 'l', 'l', 'o') to a string: hello\n",
            "25. Tuple with multiple data types: (1, 'hello', 3.14, True, None)\n",
            "26. Are (1, 2, 3) and (1, 2, 3) identical? True\n",
            "    Are (1, 2, 3) and (1, 2, 4) identical? False\n",
            "27. Sort (5, 3, 1, 4, 2): (1, 2, 3, 4, 5)\n",
            "28. Convert (1, 2, 3, 4, 5) to tuple of strings: ('1', '2', '3', '4', '5')\n",
            "29. Convert ('1', '2', '3', '4', '5') to tuple of integers: (1, 2, 3, 4, 5)\n",
            "    Convert ('1', 'two', '3') to tuple of integers: Error: Not all items can be converted to integers\n",
            "30. Merge (1, 2, 3) and (4, 5, 6): (1, 2, 3, 4, 5, 6)\n"
          ]
        }
      ]
    },
    {
      "cell_type": "code",
      "source": [
        "# 31. Flatten a nested tuple.\n",
        "def flatten_tuple(nested_tuple):\n",
        "    flat_list = []\n",
        "    for item in nested_tuple:\n",
        "        if isinstance(item, tuple):\n",
        "            flat_list.extend(flatten_tuple(item))  # Recursive call for nested tuples\n",
        "        else:\n",
        "            flat_list.append(item)\n",
        "    return tuple(flat_list)\n",
        "\n",
        "# Test\n",
        "print(\"31. Flatten (1, (2, 3), (4, (5, 6))):\",\n",
        "      flatten_tuple((1, (2, 3), (4, (5, 6)))))\n",
        "\n",
        "\n",
        "# 32. Create a tuple of the first 5 prime numbers.\n",
        "def first_5_primes_tuple():\n",
        "    def is_prime(n):\n",
        "        if n <= 1:\n",
        "            return False\n",
        "        if n <= 3:\n",
        "            return True\n",
        "        if n % 2 == 0 or n % 3 == 0:\n",
        "            return False\n",
        "        i = 5\n",
        "        while i * i <= n:\n",
        "            if n % i == 0 or n % (i + 2) == 0:\n",
        "                return False\n",
        "            i += 6\n",
        "        return True\n",
        "\n",
        "    primes = []\n",
        "    num = 2\n",
        "    while len(primes) < 5:\n",
        "        if is_prime(num):\n",
        "            primes.append(num)\n",
        "        num += 1\n",
        "\n",
        "    return tuple(primes)\n",
        "\n",
        "# Test\n",
        "print(\"32. First 5 prime numbers as a tuple:\", first_5_primes_tuple())\n",
        "\n",
        "\n",
        "# 33. Check if a tuple is a palindrome.\n",
        "def is_tuple_palindrome(tup):\n",
        "    return tup == tup[::-1]\n",
        "\n",
        "# Test\n",
        "print(\"33. Is (1, 2, 3, 2, 1) a palindrome?\", is_tuple_palindrome((1, 2, 3, 2, 1)))\n",
        "print(\"    Is (1, 2, 3, 4, 5) a palindrome?\", is_tuple_palindrome((1, 2, 3, 4, 5)))\n",
        "\n",
        "\n",
        "# 34. Create a tuple of squares of numbers from 1 to 5.\n",
        "def squares_tuple_1_to_5():\n",
        "    return tuple(i**2 for i in range(1, 6))\n",
        "\n",
        "# Test\n",
        "print(\"34. Tuple of squares from 1 to 5:\", squares_tuple_1_to_5())\n",
        "\n",
        "\n",
        "# 35. Filter out all even numbers from a tuple.\n",
        "def filter_even_from_tuple(tup):\n",
        "    return tuple(x for x in tup if x % 2 != 0)\n",
        "\n",
        "# Test\n",
        "print(\"35. Filter even numbers from (1, 2, 3, 4, 5, 6):\",\n",
        "      filter_even_from_tuple((1, 2, 3, 4, 5, 6)))\n",
        "\n",
        "\n",
        "# 36. Multiply all elements in a tuple by 2.\n",
        "def multiply_tuple_by_2(tup):\n",
        "    return tuple(x * 2 for x in tup)\n",
        "\n",
        "# Test\n",
        "print(\"36. Multiply all elements in (1, 2, 3, 4, 5) by 2:\",\n",
        "      multiply_tuple_by_2((1, 2, 3, 4, 5)))\n",
        "\n",
        "\n",
        "# 37. Create a tuple of random numbers.\n",
        "def random_tuple(length=5, min_val=1, max_val=100):\n",
        "    import random\n",
        "    return tuple(random.randint(min_val, max_val) for _ in range(length))\n",
        "\n",
        "# Test\n",
        "print(\"37. A tuple of 5 random numbers:\", random_tuple())\n",
        "\n",
        "\n",
        "# 38. Check if a tuple is sorted.\n",
        "def is_tuple_sorted(tup):\n",
        "    return tup == tuple(sorted(tup))\n",
        "\n",
        "# Test\n",
        "print(\"38. Is (1, 2, 3, 4, 5) sorted?\", is_tuple_sorted((1, 2, 3, 4, 5)))\n",
        "print(\"    Is (5, 3, 1, 4, 2) sorted?\", is_tuple_sorted((5, 3, 1, 4, 2)))\n",
        "\n",
        "\n",
        "# 39. Rotate a tuple to the left by `n` positions.\n",
        "def rotate_tuple_left(tup, n):\n",
        "    n = n % len(tup) if tup else 0  # Handle edge cases\n",
        "    return tup[n:] + tup[:n]\n",
        "\n",
        "# Test\n",
        "print(\"39. Rotate (1, 2, 3, 4, 5) left by 2 positions:\",\n",
        "      rotate_tuple_left((1, 2, 3, 4, 5), 2))\n",
        "\n",
        "\n",
        "# 40. Rotate a tuple to the right by `n` positions.\n",
        "def rotate_tuple_right(tup, n):\n",
        "    n = n % len(tup) if tup else 0  # Handle edge cases\n",
        "    return tup[-n:] + tup[:-n]\n",
        "\n",
        "# Test\n",
        "print(\"40. Rotate (1, 2, 3, 4, 5) right by 2 positions:\",\n",
        "      rotate_tuple_right((1, 2, 3, 4, 5), 2))\n",
        "\n",
        "\n",
        "# 41. Create a tuple of the first 5 Fibonacci numbers.\n",
        "def first_5_fibonacci_tuple():\n",
        "    fib = [0, 1]\n",
        "    for i in range(2, 5):\n",
        "        fib.append(fib[i-1] + fib[i-2])\n",
        "    return tuple(fib)\n",
        "\n",
        "# Test\n",
        "print(\"41. First 5 Fibonacci numbers as a tuple:\", first_5_fibonacci_tuple())\n",
        "\n",
        "\n",
        "# 42. Create a tuple from user input.\n",
        "def create_tuple_from_input():\n",
        "    # Since we can't actually get user input in this environment, we'll simulate it\n",
        "    simulated_input = \"1 2 3 4 5\"\n",
        "    print(f\"Simulated user input: {simulated_input}\")\n",
        "\n",
        "    # In a real program, you'd use this:\n",
        "    # user_input = input(\"Enter values separated by spaces: \")\n",
        "    # return tuple(map(int, user_input.split()))\n",
        "\n",
        "    return tuple(map(int, simulated_input.split()))\n",
        "\n",
        "# Test\n",
        "print(\"42. Create tuple from simulated user input:\", create_tuple_from_input())\n",
        "\n",
        "\n",
        "# 43. Swap two elements in a tuple.\n",
        "def swap_tuple_elements(tup, index1, index2):\n",
        "    # Convert to list to swap elements (tuples are immutable)\n",
        "    lst = list(tup)\n",
        "    lst[index1], lst[index2] = lst[index2], lst[index1]\n",
        "    return tuple(lst)\n",
        "\n",
        "# Test\n",
        "print(\"43. Swap elements at indices 0 and 3 in (1, 2, 3, 4, 5):\",\n",
        "      swap_tuple_elements((1, 2, 3, 4, 5), 0, 3))\n",
        "\n",
        "\n",
        "# 44. Reverse the elements of a tuple.\n",
        "def reverse_tuple(tup):\n",
        "    return tup[::-1]\n",
        "\n",
        "# Test\n",
        "print(\"44. Reverse (1, 2, 3, 4, 5):\", reverse_tuple((1, 2, 3, 4, 5)))\n",
        "\n",
        "\n",
        "# 45. Create a tuple of the first `n` powers of 2.\n",
        "def powers_of_2_tuple(n):\n",
        "    return tuple(2**i for i in range(n))\n",
        "\n",
        "# Test\n",
        "print(\"45. First 5 powers of 2 as a tuple:\", powers_of_2_tuple(5))\n",
        "\n",
        "\n",
        "# 46. Find the longest string in a tuple of strings.\n",
        "def longest_string_in_tuple(string_tuple):\n",
        "    if not string_tuple:\n",
        "        return None\n",
        "\n",
        "    return max(string_tuple, key=len)\n",
        "\n",
        "# Test\n",
        "print(\"46. Longest string in ('apple', 'banana', 'kiwi', 'strawberry'):\",\n",
        "      longest_string_in_tuple(('apple', 'banana', 'kiwi', 'strawberry')))\n",
        "\n",
        "\n",
        "# 47. Find the shortest string in a tuple of strings.\n",
        "def shortest_string_in_tuple(string_tuple):\n",
        "    if not string_tuple:\n",
        "        return None\n",
        "\n",
        "    return min(string_tuple, key=len)\n",
        "\n",
        "# Test\n",
        "print(\"47. Shortest string in ('apple', 'banana', 'kiwi', 'strawberry'):\",\n",
        "      shortest_string_in_tuple(('apple', 'banana', 'kiwi', 'strawberry')))\n",
        "\n",
        "\n",
        "# 48. Create a tuple of the first `n` triangular numbers.\n",
        "def triangular_numbers_tuple(n):\n",
        "    \"\"\"\n",
        "    Create a tuple of the first n triangular numbers.\n",
        "    A triangular number is the sum of the natural numbers from 1 to n.\n",
        "    \"\"\"\n",
        "    return tuple(sum(range(1, i + 1)) for i in range(1, n + 1))\n",
        "\n",
        "# Test\n",
        "print(\"48. First 5 triangular numbers as a tuple:\", triangular_numbers_tuple(5))\n",
        "\n",
        "\n",
        "# 49. Check if a tuple contains another tuple as a subsequence.\n",
        "def contains_subsequence_tuple(main_tuple, sub_tuple):\n",
        "    \"\"\"\n",
        "    Check if sub_tuple appears as a contiguous subsequence within main_tuple.\n",
        "    \"\"\"\n",
        "    # Empty subsequence is always contained\n",
        "    if not sub_tuple:\n",
        "        return True\n",
        "\n",
        "    # If sub_tuple is longer than main_tuple, it can't be a subsequence\n",
        "    if len(sub_tuple) > len(main_tuple):\n",
        "        return False\n",
        "\n",
        "    # Check for subsequence\n",
        "    for i in range(len(main_tuple) - len(sub_tuple) + 1):\n",
        "        if main_tuple[i:i+len(sub_tuple)] == sub_tuple:\n",
        "            return True\n",
        "\n",
        "    return False\n",
        "\n",
        "# Test\n",
        "print(\"49. Does (1, 2, 3, 4, 5) contain (2, 3, 4) as a subsequence?\",\n",
        "      contains_subsequence_tuple((1, 2, 3, 4, 5), (2, 3, 4)))\n",
        "print(\"    Does (1, 2, 3, 4, 5) contain (2, 4) as a subsequence?\",\n",
        "      contains_subsequence_tuple((1, 2, 3, 4, 5), (2, 4)))\n",
        "\n",
        "\n",
        "# 50. Create a tuple of alternating 1s and 0s of length `n`.\n",
        "def alternating_tuple(n):\n",
        "    \"\"\"\n",
        "    Create a tuple of alternating 1s and 0s with the specified length.\n",
        "    \"\"\"\n",
        "    return tuple(i % 2 for i in range(n))\n",
        "\n",
        "# Test\n",
        "print(\"50. Tuple of alternating 1s and 0s of length 10:\", alternating_tuple(10))"
      ],
      "metadata": {
        "colab": {
          "base_uri": "https://localhost:8080/"
        },
        "id": "ur7Gf9n0fKhi",
        "outputId": "8267576b-a41c-4c33-ec19-b2c17cc368b3"
      },
      "execution_count": 90,
      "outputs": [
        {
          "output_type": "stream",
          "name": "stdout",
          "text": [
            "31. Flatten (1, (2, 3), (4, (5, 6))): (1, 2, 3, 4, 5, 6)\n",
            "32. First 5 prime numbers as a tuple: (2, 3, 5, 7, 11)\n",
            "33. Is (1, 2, 3, 2, 1) a palindrome? True\n",
            "    Is (1, 2, 3, 4, 5) a palindrome? False\n",
            "34. Tuple of squares from 1 to 5: (1, 4, 9, 16, 25)\n",
            "35. Filter even numbers from (1, 2, 3, 4, 5, 6): (1, 3, 5)\n",
            "36. Multiply all elements in (1, 2, 3, 4, 5) by 2: (2, 4, 6, 8, 10)\n",
            "37. A tuple of 5 random numbers: (68, 1, 11, 99, 7)\n",
            "38. Is (1, 2, 3, 4, 5) sorted? True\n",
            "    Is (5, 3, 1, 4, 2) sorted? False\n",
            "39. Rotate (1, 2, 3, 4, 5) left by 2 positions: (3, 4, 5, 1, 2)\n",
            "40. Rotate (1, 2, 3, 4, 5) right by 2 positions: (4, 5, 1, 2, 3)\n",
            "41. First 5 Fibonacci numbers as a tuple: (0, 1, 1, 2, 3)\n",
            "Simulated user input: 1 2 3 4 5\n",
            "42. Create tuple from simulated user input: (1, 2, 3, 4, 5)\n",
            "43. Swap elements at indices 0 and 3 in (1, 2, 3, 4, 5): (4, 2, 3, 1, 5)\n",
            "44. Reverse (1, 2, 3, 4, 5): (5, 4, 3, 2, 1)\n",
            "45. First 5 powers of 2 as a tuple: (1, 2, 4, 8, 16)\n",
            "46. Longest string in ('apple', 'banana', 'kiwi', 'strawberry'): strawberry\n",
            "47. Shortest string in ('apple', 'banana', 'kiwi', 'strawberry'): kiwi\n",
            "48. First 5 triangular numbers as a tuple: (1, 3, 6, 10, 15)\n",
            "49. Does (1, 2, 3, 4, 5) contain (2, 3, 4) as a subsequence? True\n",
            "    Does (1, 2, 3, 4, 5) contain (2, 4) as a subsequence? False\n",
            "50. Tuple of alternating 1s and 0s of length 10: (0, 1, 0, 1, 0, 1, 0, 1, 0, 1)\n"
          ]
        }
      ]
    },
    {
      "cell_type": "markdown",
      "source": [
        "# **Set based Questions (1 - 50)**"
      ],
      "metadata": {
        "id": "yfNz1I_Lfnwp"
      }
    },
    {
      "cell_type": "code",
      "source": [
        "# 1. Create a set with integers from 1 to 5.\n",
        "def create_set_1_to_5():\n",
        "    return set(range(1, 6))\n",
        "\n",
        "# Test\n",
        "print(\"\\n1. Set with integers from 1 to 5:\", create_set_1_to_5())\n",
        "\n",
        "\n",
        "# 2. Add an element to a set.\n",
        "def add_to_set(s, element):\n",
        "    s.add(element)\n",
        "    return s\n",
        "\n",
        "# Test\n",
        "print(\"2. Add 6 to {1, 2, 3, 4, 5}:\", add_to_set({1, 2, 3, 4, 5}, 6))\n",
        "\n",
        "\n",
        "# 3. Remove an element from a set.\n",
        "def remove_from_set(s, element):\n",
        "    if element in s:\n",
        "        s.remove(element)\n",
        "    return s\n",
        "\n",
        "# Test\n",
        "print(\"3. Remove 3 from {1, 2, 3, 4, 5}:\", remove_from_set({1, 2, 3, 4, 5}, 3))\n",
        "\n",
        "\n",
        "# 4. Check if an element exists in a set.\n",
        "def element_in_set(s, element):\n",
        "    return element in s\n",
        "\n",
        "# Test\n",
        "print(\"4. Does 3 exist in {1, 2, 3, 4, 5}?\", element_in_set({1, 2, 3, 4, 5}, 3))\n",
        "print(\"   Does 10 exist in {1, 2, 3, 4, 5}?\", element_in_set({1, 2, 3, 4, 5}, 10))\n",
        "\n",
        "\n",
        "# 5. Find the length of a set without using the `len()` function.\n",
        "def set_length(s):\n",
        "    count = 0\n",
        "    for _ in s:\n",
        "        count += 1\n",
        "    return count\n",
        "\n",
        "# Test\n",
        "print(\"5. Length of {1, 2, 3, 4, 5} without len():\", set_length({1, 2, 3, 4, 5}))\n",
        "\n",
        "\n",
        "# 6. Clear all elements from a set.\n",
        "def clear_set(s):\n",
        "    s.clear()\n",
        "    return s\n",
        "\n",
        "# Test\n",
        "print(\"6. Clear {1, 2, 3, 4, 5}:\", clear_set({1, 2, 3, 4, 5}))\n",
        "\n",
        "\n",
        "# 7. Create a set of even numbers from 1 to 10.\n",
        "def even_set_1_to_10():\n",
        "    return set(range(2, 11, 2))\n",
        "\n",
        "# Test\n",
        "print(\"7. Set of even numbers from 1 to 10:\", even_set_1_to_10())\n",
        "\n",
        "\n",
        "# 8. Create a set of odd numbers from 1 to 10.\n",
        "def odd_set_1_to_10():\n",
        "    return set(range(1, 11, 2))\n",
        "\n",
        "# Test\n",
        "print(\"8. Set of odd numbers from 1 to 10:\", odd_set_1_to_10())\n",
        "\n",
        "\n",
        "# 9. Find the union of two sets.\n",
        "def union_of_sets(set1, set2):\n",
        "    return set1 | set2\n",
        "\n",
        "# Test\n",
        "print(\"9. Union of {1, 2, 3} and {3, 4, 5}:\", union_of_sets({1, 2, 3}, {3, 4, 5}))\n",
        "\n",
        "\n",
        "# 10. Find the intersection of two sets.\n",
        "def intersection_of_sets(set1, set2):\n",
        "    return set1 & set2\n",
        "\n",
        "# Test\n",
        "print(\"10. Intersection of {1, 2, 3} and {3, 4, 5}:\", intersection_of_sets({1, 2, 3}, {3, 4, 5}))\n",
        "\n",
        "\n",
        "# 11. Find the difference between two sets.\n",
        "def difference_of_sets(set1, set2):\n",
        "    return set1 - set2\n",
        "\n",
        "# Test\n",
        "print(\"11. Difference of {1, 2, 3} and {3, 4, 5}:\", difference_of_sets({1, 2, 3}, {3, 4, 5}))\n",
        "\n",
        "\n",
        "# 12. Check if a set is a subset of another set.\n",
        "def is_subset(set1, set2):\n",
        "    return set1.issubset(set2)\n",
        "\n",
        "# Test\n",
        "print(\"12. Is {1, 2} a subset of {1, 2, 3, 4, 5}?\", is_subset({1, 2}, {1, 2, 3, 4, 5}))\n",
        "print(\"    Is {1, 6} a subset of {1, 2, 3, 4, 5}?\", is_subset({1, 6}, {1, 2, 3, 4, 5}))\n",
        "\n",
        "\n",
        "# 13. Check if a set is a superset of another set.\n",
        "def is_superset(set1, set2):\n",
        "    return set1.issuperset(set2)\n",
        "\n",
        "# Test\n",
        "print(\"13. Is {1, 2, 3, 4, 5} a superset of {1, 2}?\", is_superset({1, 2, 3, 4, 5}, {1, 2}))\n",
        "print(\"    Is {1, 2, 3, 4, 5} a superset of {1, 6}?\", is_superset({1, 2, 3, 4, 5}, {1, 6}))\n",
        "\n",
        "\n",
        "# 14. Create a set from a list.\n",
        "def list_to_set(lst):\n",
        "    return set(lst)\n",
        "\n",
        "# Test\n",
        "print(\"14. Convert [1, 2, 2, 3, 4, 3, 5] to a set:\", list_to_set([1, 2, 2, 3, 4, 3, 5]))\n",
        "\n",
        "\n",
        "# 15. Convert a set to a list.\n",
        "def set_to_list(s):\n",
        "    return list(s)\n",
        "\n",
        "# Test\n",
        "print(\"15. Convert {1, 2, 3, 4, 5} to a list:\", set_to_list({1, 2, 3, 4, 5}))"
      ],
      "metadata": {
        "colab": {
          "base_uri": "https://localhost:8080/"
        },
        "id": "jgafLt1FftX8",
        "outputId": "af6b1e1c-7f84-437b-e636-bb8e04a34bc5"
      },
      "execution_count": 87,
      "outputs": [
        {
          "output_type": "stream",
          "name": "stdout",
          "text": [
            "\n",
            "1. Set with integers from 1 to 5: {1, 2, 3, 4, 5}\n",
            "2. Add 6 to {1, 2, 3, 4, 5}: {1, 2, 3, 4, 5, 6}\n",
            "3. Remove 3 from {1, 2, 3, 4, 5}: {1, 2, 4, 5}\n",
            "4. Does 3 exist in {1, 2, 3, 4, 5}? True\n",
            "   Does 10 exist in {1, 2, 3, 4, 5}? False\n",
            "5. Length of {1, 2, 3, 4, 5} without len(): 5\n",
            "6. Clear {1, 2, 3, 4, 5}: set()\n",
            "7. Set of even numbers from 1 to 10: {2, 4, 6, 8, 10}\n",
            "8. Set of odd numbers from 1 to 10: {1, 3, 5, 7, 9}\n",
            "9. Union of {1, 2, 3} and {3, 4, 5}: {1, 2, 3, 4, 5}\n",
            "10. Intersection of {1, 2, 3} and {3, 4, 5}: {3}\n",
            "11. Difference of {1, 2, 3} and {3, 4, 5}: {1, 2}\n",
            "12. Is {1, 2} a subset of {1, 2, 3, 4, 5}? True\n",
            "    Is {1, 6} a subset of {1, 2, 3, 4, 5}? False\n",
            "13. Is {1, 2, 3, 4, 5} a superset of {1, 2}? True\n",
            "    Is {1, 2, 3, 4, 5} a superset of {1, 6}? False\n",
            "14. Convert [1, 2, 2, 3, 4, 3, 5] to a set: {1, 2, 3, 4, 5}\n",
            "15. Convert {1, 2, 3, 4, 5} to a list: [1, 2, 3, 4, 5]\n"
          ]
        }
      ]
    },
    {
      "cell_type": "code",
      "source": [
        "\n",
        "# 16. Remove a random element from a set.\n",
        "def remove_random_element(s):\n",
        "    if s:\n",
        "        # pop() removes and returns an arbitrary element\n",
        "        removed = s.pop()\n",
        "        return (s, removed)\n",
        "    return (s, None)\n",
        "\n",
        "# Test\n",
        "test_set = {1, 2, 3, 4, 5}\n",
        "result, removed = remove_random_element(test_set.copy())\n",
        "print(f\"16. Remove a random element from {test_set}:\")\n",
        "print(f\"    Removed element: {removed}, Resulting set: {result}\")\n",
        "\n",
        "\n",
        "# 17. Pop an element from a set.\n",
        "def pop_from_set(s):\n",
        "    try:\n",
        "        popped = s.pop()\n",
        "        return (s, popped)\n",
        "    except KeyError:\n",
        "        return (s, None)\n",
        "\n",
        "# Test\n",
        "test_set = {1, 2, 3, 4, 5}\n",
        "result, popped = pop_from_set(test_set.copy())\n",
        "print(f\"17. Pop an element from {test_set}:\")\n",
        "print(f\"    Popped element: {popped}, Resulting set: {result}\")\n",
        "\n",
        "\n",
        "# 18. Check if two sets have no elements in common.\n",
        "def are_disjoint(set1, set2):\n",
        "    return set1.isdisjoint(set2)\n",
        "\n",
        "# Test\n",
        "print(\"18. Are {1, 2, 3} and {4, 5, 6} disjoint?\", are_disjoint({1, 2, 3}, {4, 5, 6}))\n",
        "print(\"    Are {1, 2, 3} and {3, 4, 5} disjoint?\", are_disjoint({1, 2, 3}, {3, 4, 5}))\n",
        "\n",
        "\n",
        "# 19. Find the symmetric difference between two sets.\n",
        "def symmetric_difference(set1, set2):\n",
        "    return set1 ^ set2\n",
        "\n",
        "# Test\n",
        "print(\"19. Symmetric difference of {1, 2, 3} and {3, 4, 5}:\",\n",
        "      symmetric_difference({1, 2, 3}, {3, 4, 5}))\n",
        "\n",
        "\n",
        "# 20. Update a set with elements from another set.\n",
        "def update_set(set1, set2):\n",
        "    set1.update(set2)\n",
        "    return set1\n",
        "\n",
        "# Test\n",
        "print(\"20. Update {1, 2, 3} with elements from {3, 4, 5}:\",\n",
        "      update_set({1, 2, 3}, {3, 4, 5}))\n",
        "\n",
        "\n",
        "# 21. Create a set of the first 5 prime numbers.\n",
        "def first_5_primes_set():\n",
        "    def is_prime(n):\n",
        "        if n <= 1:\n",
        "            return False\n",
        "        if n <= 3:\n",
        "            return True\n",
        "        if n % 2 == 0 or n % 3 == 0:\n",
        "            return False\n",
        "        i = 5\n",
        "        while i * i <= n:\n",
        "            if n % i == 0 or n % (i + 2) == 0:\n",
        "                return False\n",
        "            i += 6\n",
        "        return True\n",
        "\n",
        "    primes = set()\n",
        "    num = 2\n",
        "    while len(primes) < 5:\n",
        "        if is_prime(num):\n",
        "            primes.add(num)\n",
        "        num += 1\n",
        "\n",
        "    return primes\n",
        "\n",
        "# Test\n",
        "print(\"21. Set of first 5 prime numbers:\", first_5_primes_set())\n",
        "\n",
        "\n",
        "# 22. Check if two sets are identical.\n",
        "def are_identical_sets(set1, set2):\n",
        "    return set1 == set2\n",
        "\n",
        "# Test\n",
        "print(\"22. Are {1, 2, 3} and {1, 2, 3} identical?\", are_identical_sets({1, 2, 3}, {1, 2, 3}))\n",
        "print(\"    Are {1, 2, 3} and {1, 2, 4} identical?\", are_identical_sets({1, 2, 3}, {1, 2, 4}))\n",
        "\n",
        "\n",
        "# 23. Create a frozen set.\n",
        "def create_frozen_set(items):\n",
        "    return frozenset(items)\n",
        "\n",
        "# Test\n",
        "print(\"23. Create a frozen set from [1, 2, 3, 4, 5]:\", create_frozen_set([1, 2, 3, 4, 5]))\n",
        "\n",
        "\n",
        "# 24. Check if a set is disjoint with another set.\n",
        "def is_disjoint(set1, set2):\n",
        "    return set1.isdisjoint(set2)\n",
        "\n",
        "# Test\n",
        "print(\"24. Is {1, 2, 3} disjoint with {4, 5, 6}?\", is_disjoint({1, 2, 3}, {4, 5, 6}))\n",
        "print(\"    Is {1, 2, 3} disjoint with {3, 4, 5}?\", is_disjoint({1, 2, 3}, {3, 4, 5}))\n",
        "\n",
        "\n",
        "# 25. Create a set of squares of numbers from 1 to 5.\n",
        "def squares_set_1_to_5():\n",
        "    return {i**2 for i in range(1, 6)}\n",
        "\n",
        "# Test\n",
        "print(\"25. Set of squares from 1 to 5:\", squares_set_1_to_5())\n",
        "\n",
        "\n",
        "# 26. Filter out all even numbers from a set.\n",
        "def filter_even_from_set(s):\n",
        "    return {x for x in s if x % 2 != 0}\n",
        "\n",
        "# Test\n",
        "print(\"26. Filter even numbers from {1, 2, 3, 4, 5, 6}:\",\n",
        "      filter_even_from_set({1, 2, 3, 4, 5, 6}))\n",
        "\n",
        "\n",
        "# 27. Multiply all elements in a set by 2.\n",
        "def multiply_set_by_2(s):\n",
        "    return {x * 2 for x in s}\n",
        "\n",
        "# Test\n",
        "print(\"27. Multiply all elements in {1, 2, 3, 4, 5} by 2:\",\n",
        "      multiply_set_by_2({1, 2, 3, 4, 5}))\n",
        "\n",
        "\n",
        "# 28. Create a set of random numbers.\n",
        "def random_set(size=5, min_val=1, max_val=100):\n",
        "    import random\n",
        "    return {random.randint(min_val, max_val) for _ in range(size)}\n",
        "\n",
        "# Test\n",
        "print(\"28. A set of 5 random numbers:\", random_set())\n",
        "\n",
        "\n",
        "# 29. Check if a set is empty.\n",
        "def is_set_empty(s):\n",
        "    return len(s) == 0\n",
        "\n",
        "# Test\n",
        "print(\"29. Is {} empty?\", is_set_empty(set()))\n",
        "print(\"    Is {1, 2, 3} empty?\", is_set_empty({1, 2, 3}))\n",
        "\n",
        "\n",
        "# 30. Create a nested set (hint: use frozenset).\n",
        "def create_nested_set():\n",
        "    inner_set = frozenset([1, 2, 3])\n",
        "    outer_set = {inner_set, 4, 5}\n",
        "    return outer_set\n",
        "\n",
        "# Test\n",
        "print(\"30. A nested set:\", create_nested_set())"
      ],
      "metadata": {
        "colab": {
          "base_uri": "https://localhost:8080/"
        },
        "id": "8sANVmqufx9f",
        "outputId": "7b35767e-a5e6-40a5-81e2-f6673028bfbc"
      },
      "execution_count": 88,
      "outputs": [
        {
          "output_type": "stream",
          "name": "stdout",
          "text": [
            "16. Remove a random element from {1, 2, 3, 4, 5}:\n",
            "    Removed element: 1, Resulting set: {2, 3, 4, 5}\n",
            "17. Pop an element from {1, 2, 3, 4, 5}:\n",
            "    Popped element: 1, Resulting set: {2, 3, 4, 5}\n",
            "18. Are {1, 2, 3} and {4, 5, 6} disjoint? True\n",
            "    Are {1, 2, 3} and {3, 4, 5} disjoint? False\n",
            "19. Symmetric difference of {1, 2, 3} and {3, 4, 5}: {1, 2, 4, 5}\n",
            "20. Update {1, 2, 3} with elements from {3, 4, 5}: {1, 2, 3, 4, 5}\n",
            "21. Set of first 5 prime numbers: {2, 3, 5, 7, 11}\n",
            "22. Are {1, 2, 3} and {1, 2, 3} identical? True\n",
            "    Are {1, 2, 3} and {1, 2, 4} identical? False\n",
            "23. Create a frozen set from [1, 2, 3, 4, 5]: frozenset({1, 2, 3, 4, 5})\n",
            "24. Is {1, 2, 3} disjoint with {4, 5, 6}? True\n",
            "    Is {1, 2, 3} disjoint with {3, 4, 5}? False\n",
            "25. Set of squares from 1 to 5: {1, 4, 9, 16, 25}\n",
            "26. Filter even numbers from {1, 2, 3, 4, 5, 6}: {1, 3, 5}\n",
            "27. Multiply all elements in {1, 2, 3, 4, 5} by 2: {2, 4, 6, 8, 10}\n",
            "28. A set of 5 random numbers: {4, 5, 82, 30, 95}\n",
            "29. Is {} empty? True\n",
            "    Is {1, 2, 3} empty? False\n",
            "30. A nested set: {frozenset({1, 2, 3}), 4, 5}\n"
          ]
        }
      ]
    },
    {
      "cell_type": "code",
      "source": [
        "# 31. Remove an element from a set using the discard method.\n",
        "def discard_from_set(s, element):\n",
        "    s.discard(element)  # Doesn't raise an error if element is not present\n",
        "    return s\n",
        "\n",
        "# Test\n",
        "print(\"31. Discard 3 from {1, 2, 3, 4, 5}:\", discard_from_set({1, 2, 3, 4, 5}, 3))\n",
        "print(\"    Discard 10 from {1, 2, 3, 4, 5}:\", discard_from_set({1, 2, 3, 4, 5}, 10))\n",
        "\n",
        "\n",
        "# 32. Compare two sets.\n",
        "def compare_sets(set1, set2):\n",
        "    if set1 == set2:\n",
        "        return \"Sets are equal\"\n",
        "    elif set1 < set2:  # Proper subset\n",
        "        return \"First set is a proper subset of second set\"\n",
        "    elif set1 > set2:  # Proper superset\n",
        "        return \"First set is a proper superset of second set\"\n",
        "    else:\n",
        "        return \"Sets are not comparable (they have some elements in common but neither is a subset of the other)\"\n",
        "\n",
        "# Test\n",
        "print(\"32. Compare {1, 2} and {1, 2, 3}:\", compare_sets({1, 2}, {1, 2, 3}))\n",
        "print(\"    Compare {1, 2, 3} and {1, 2}:\", compare_sets({1, 2, 3}, {1, 2}))\n",
        "print(\"    Compare {1, 2, 3} and {1, 2, 3}:\", compare_sets({1, 2, 3}, {1, 2, 3}))\n",
        "print(\"    Compare {1, 2, 3} and {3, 4, 5}:\", compare_sets({1, 2, 3}, {3, 4, 5}))\n",
        "\n",
        "\n",
        "# 33. Create a set from a string.\n",
        "def string_to_set(string):\n",
        "    return set(string)\n",
        "\n",
        "# Test\n",
        "print(\"33. Convert 'hello' to a set:\", string_to_set(\"hello\"))\n",
        "\n",
        "\n",
        "# 34. Convert a set of strings to a set of integers.\n",
        "def set_of_strings_to_integers(string_set):\n",
        "    result = set()\n",
        "    for s in string_set:\n",
        "        try:\n",
        "            result.add(int(s))\n",
        "        except ValueError:\n",
        "            # Skip strings that can't be converted to int\n",
        "            pass\n",
        "    return result\n",
        "\n",
        "# Test\n",
        "print(\"34. Convert {'1', '2', '3', '4', '5'} to a set of integers:\",\n",
        "      set_of_strings_to_integers({'1', '2', '3', '4', '5'}))\n",
        "print(\"    Convert {'1', 'two', '3'} to a set of integers:\",\n",
        "      set_of_strings_to_integers({'1', 'two', '3'}))\n",
        "\n",
        "\n",
        "# 35. Convert a set of integers to a set of strings.\n",
        "def set_of_integers_to_strings(int_set):\n",
        "    return {str(i) for i in int_set}\n",
        "\n",
        "# Test\n",
        "print(\"35. Convert {1, 2, 3, 4, 5} to a set of strings:\",\n",
        "      set_of_integers_to_strings({1, 2, 3, 4, 5}))\n",
        "\n",
        "\n",
        "# 36. Create a set from a tuple.\n",
        "def tuple_to_set(tup):\n",
        "    return set(tup)\n",
        "\n",
        "# Test\n",
        "print(\"36. Convert (1, 2, 3, 3, 4, 5) to a set:\", tuple_to_set((1, 2, 3, 3, 4, 5)))\n",
        "\n",
        "\n",
        "# 37. Convert a set to a tuple.\n",
        "def set_to_tuple(s):\n",
        "    return tuple(s)\n",
        "\n",
        "# Test\n",
        "print(\"37. Convert {1, 2, 3, 4, 5} to a tuple:\", set_to_tuple({1, 2, 3, 4, 5}))\n",
        "\n",
        "\n",
        "# 38. Find the maximum value in a set.\n",
        "def max_in_set(s):\n",
        "    if not s:\n",
        "        return None\n",
        "    return max(s)\n",
        "\n",
        "# Test\n",
        "print(\"38. Maximum value in {5, 3, 9, 1, 7}:\", max_in_set({5, 3, 9, 1, 7}))\n",
        "\n",
        "\n",
        "# 39. Find the minimum value in a set.\n",
        "def min_in_set(s):\n",
        "    if not s:\n",
        "        return None\n",
        "    return min(s)\n",
        "\n",
        "# Test\n",
        "print(\"39. Minimum value in {5, 3, 9, 1, 7}:\", min_in_set({5, 3, 9, 1, 7}))\n",
        "\n",
        "\n",
        "# 40. Create a set from user input.\n",
        "def set_from_input():\n",
        "    # Since we can't actually get user input in this environment, we'll simulate it\n",
        "    simulated_input = \"1 2 3 4 5\"\n",
        "    print(f\"Simulated user input: {simulated_input}\")\n",
        "\n",
        "    # In a real program, you'd use this:\n",
        "    # user_input = input(\"Enter values separated by spaces: \")\n",
        "    # return set(map(int, user_input.split()))\n",
        "\n",
        "    return set(map(int, simulated_input.split()))\n",
        "\n",
        "# Test\n",
        "print(\"40. Create set from simulated user input:\", set_from_input())\n",
        "\n",
        "\n",
        "# 41. Check if the intersection of two sets is empty.\n",
        "def is_intersection_empty(set1, set2):\n",
        "    return len(set1.intersection(set2)) == 0\n",
        "\n",
        "# Test\n",
        "print(\"41. Is intersection of {1, 2, 3} and {4, 5, 6} empty?\",\n",
        "      is_intersection_empty({1, 2, 3}, {4, 5, 6}))\n",
        "print(\"    Is intersection of {1, 2, 3} and {3, 4, 5} empty?\",\n",
        "      is_intersection_empty({1, 2, 3}, {3, 4, 5}))\n",
        "\n",
        "\n",
        "# 42. Create a set of the first 5 Fibonacci numbers.\n",
        "def fibonacci_set(n=5):\n",
        "    if n <= 0:\n",
        "        return set()\n",
        "\n",
        "    fib = [0, 1]\n",
        "    for i in range(2, n):\n",
        "        fib.append(fib[i-1] + fib[i-2])\n",
        "\n",
        "    return set(fib)\n",
        "\n",
        "# Test\n",
        "print(\"42. Set of first 5 Fibonacci numbers:\", fibonacci_set())\n",
        "\n",
        "\n",
        "# 43. Remove duplicates from a list using sets.\n",
        "def remove_duplicates_using_set(lst):\n",
        "    return list(set(lst))\n",
        "\n",
        "# Test\n",
        "print(\"43. Remove duplicates from [1, 2, 2, 3, 4, 3, 5]:\",\n",
        "      remove_duplicates_using_set([1, 2, 2, 3, 4, 3, 5]))\n",
        "\n",
        "\n",
        "# 44. Check if two sets have the same elements, regardless of their count.\n",
        "def same_elements(collection1, collection2):\n",
        "    return set(collection1) == set(collection2)\n",
        "\n",
        "# Test\n",
        "print(\"44. Do [1, 2, 2, 3] and [3, 1, 2] have the same elements?\",\n",
        "      same_elements([1, 2, 2, 3], [3, 1, 2]))\n",
        "print(\"    Do [1, 2, 3] and [1, 2, 4] have the same elements?\",\n",
        "      same_elements([1, 2, 3], [1, 2, 4]))\n",
        "\n",
        "\n",
        "# 45. Create a set of the first `n` powers of 2.\n",
        "def powers_of_2_set(n):\n",
        "    return {2**i for i in range(n)}\n",
        "\n",
        "# Test\n",
        "print(\"45. Set of first 5 powers of 2:\", powers_of_2_set(5))\n",
        "\n",
        "\n",
        "# 46. Find the common elements between a set and a list.\n",
        "def common_elements_set_list(s, lst):\n",
        "    return s.intersection(set(lst))\n",
        "\n",
        "# Test\n",
        "print(\"46. Common elements between {1, 2, 3, 4} and [3, 4, 5, 6]:\",\n",
        "      common_elements_set_list({1, 2, 3, 4}, [3, 4, 5, 6]))\n",
        "\n",
        "\n",
        "# 47. Create a set of the first `n` triangular numbers.\n",
        "def triangular_numbers_set(n):\n",
        "    return {sum(range(1, i + 1)) for i in range(1, n + 1)}\n",
        "\n",
        "# Test\n",
        "print(\"47. Set of first 5 triangular numbers:\", triangular_numbers_set(5))\n",
        "\n",
        "\n",
        "# 48. Check if a set contains another set as a subset.\n",
        "def contains_subset(superset, subset):\n",
        "    return subset.issubset(superset)\n",
        "\n",
        "# Test\n",
        "print(\"48. Does {1, 2, 3, 4, 5} contain {1, 2, 3} as a subset?\",\n",
        "      contains_subset({1, 2, 3, 4, 5}, {1, 2, 3}))\n",
        "print(\"    Does {1, 2, 3} contain {1, 2, 3, 4, 5} as a subset?\",\n",
        "      contains_subset({1, 2, 3}, {1, 2, 3, 4, 5}))\n",
        "\n",
        "\n",
        "# 49. Create a set of alternating 1s and 0s of length `n`.\n",
        "def alternating_set(n):\n",
        "    return {i % 2 for i in range(n)}  # This will only have 0 and 1 since sets contain unique elements\n",
        "\n",
        "# Test\n",
        "print(\"49. Set of alternating 1s and 0s of length 10:\", alternating_set(10))\n",
        "print(\"    Note: Sets only contain unique elements, so this will always be {0, 1} for n >= 2\")\n",
        "\n",
        "\n",
        "# 50. Merge multiple sets into one.\n",
        "def merge_sets(*sets):\n",
        "    result = set()\n",
        "    for s in sets:\n",
        "        result.update(s)\n",
        "    return result\n",
        "\n",
        "# Test\n",
        "print(\"50. Merge {1, 2, 3}, {3, 4, 5}, and {5, 6, 7}:\",\n",
        "      merge_sets({1, 2, 3}, {3, 4, 5}, {5, 6, 7}))"
      ],
      "metadata": {
        "colab": {
          "base_uri": "https://localhost:8080/"
        },
        "id": "G6VooN-mf1sN",
        "outputId": "c15ab0e6-48e2-413f-d9bc-2893d899930c"
      },
      "execution_count": 89,
      "outputs": [
        {
          "output_type": "stream",
          "name": "stdout",
          "text": [
            "31. Discard 3 from {1, 2, 3, 4, 5}: {1, 2, 4, 5}\n",
            "    Discard 10 from {1, 2, 3, 4, 5}: {1, 2, 3, 4, 5}\n",
            "32. Compare {1, 2} and {1, 2, 3}: First set is a proper subset of second set\n",
            "    Compare {1, 2, 3} and {1, 2}: First set is a proper superset of second set\n",
            "    Compare {1, 2, 3} and {1, 2, 3}: Sets are equal\n",
            "    Compare {1, 2, 3} and {3, 4, 5}: Sets are not comparable (they have some elements in common but neither is a subset of the other)\n",
            "33. Convert 'hello' to a set: {'h', 'e', 'o', 'l'}\n",
            "34. Convert {'1', '2', '3', '4', '5'} to a set of integers: {1, 2, 3, 4, 5}\n",
            "    Convert {'1', 'two', '3'} to a set of integers: {1, 3}\n",
            "35. Convert {1, 2, 3, 4, 5} to a set of strings: {'5', '2', '4', '3', '1'}\n",
            "36. Convert (1, 2, 3, 3, 4, 5) to a set: {1, 2, 3, 4, 5}\n",
            "37. Convert {1, 2, 3, 4, 5} to a tuple: (1, 2, 3, 4, 5)\n",
            "38. Maximum value in {5, 3, 9, 1, 7}: 9\n",
            "39. Minimum value in {5, 3, 9, 1, 7}: 1\n",
            "Simulated user input: 1 2 3 4 5\n",
            "40. Create set from simulated user input: {1, 2, 3, 4, 5}\n",
            "41. Is intersection of {1, 2, 3} and {4, 5, 6} empty? True\n",
            "    Is intersection of {1, 2, 3} and {3, 4, 5} empty? False\n",
            "42. Set of first 5 Fibonacci numbers: {0, 1, 2, 3}\n",
            "43. Remove duplicates from [1, 2, 2, 3, 4, 3, 5]: [1, 2, 3, 4, 5]\n",
            "44. Do [1, 2, 2, 3] and [3, 1, 2] have the same elements? True\n",
            "    Do [1, 2, 3] and [1, 2, 4] have the same elements? False\n",
            "45. Set of first 5 powers of 2: {1, 2, 4, 8, 16}\n",
            "46. Common elements between {1, 2, 3, 4} and [3, 4, 5, 6]: {3, 4}\n",
            "47. Set of first 5 triangular numbers: {1, 3, 6, 10, 15}\n",
            "48. Does {1, 2, 3, 4, 5} contain {1, 2, 3} as a subset? True\n",
            "    Does {1, 2, 3} contain {1, 2, 3, 4, 5} as a subset? False\n",
            "49. Set of alternating 1s and 0s of length 10: {0, 1}\n",
            "    Note: Sets only contain unique elements, so this will always be {0, 1} for n >= 2\n",
            "50. Merge {1, 2, 3}, {3, 4, 5}, and {5, 6, 7}: {1, 2, 3, 4, 5, 6, 7}\n"
          ]
        }
      ]
    },
    {
      "cell_type": "code",
      "source": [],
      "metadata": {
        "id": "XAucH42xgNyf"
      },
      "execution_count": null,
      "outputs": []
    }
  ]
}