{
 "cells": [
  {
   "cell_type": "markdown",
   "id": "063af449",
   "metadata": {},
   "source": [
    "#### **Sorting Practice Questions**\n",
    "\n",
    "1.**Given an array of n numbers, give an algorithm which gives the element appearing maximum number of times?**"
   ]
  },
  {
   "cell_type": "code",
   "execution_count": 1,
   "id": "1dcc2b44",
   "metadata": {},
   "outputs": [
    {
     "name": "stdout",
     "output_type": "stream",
     "text": [
      "Most frequent element is: 1\n"
     ]
    }
   ],
   "source": [
    "### Algorithn:\n",
    "### 1. use a hash map (dictionary) to count the frequencies.\n",
    "### 2. track the element with highest freqency.\n",
    "\n",
    "from collections import defaultdict\n",
    "\n",
    "def most_frequent_element(arr):\n",
    "    \"\"\"\n",
    "    Function to find the most frequent element in an array.\n",
    "    :param arr: List of integers\n",
    "    :return: The most frequent element in the array\n",
    "    \"\"\"\n",
    "    frequency = defaultdict(int)  # Initialize a dictionary to count frequencies\n",
    "    max_freq = 0  # Variable to track the maximum frequency\n",
    "    most_frequent = None  # Variable to track the most frequent element\n",
    "\n",
    "    for num in arr:\n",
    "        frequency[num] += 1  # Increment the count for this number\n",
    "        if frequency[num] > max_freq:  # Check if this is the highest frequency so far\n",
    "            max_freq = frequency[num]\n",
    "            most_frequent = num  # Update the most frequent element\n",
    "\n",
    "    return most_frequent  # Return the most frequent element found\n",
    "\n",
    "\n",
    "arr = [1, 2, 3, 4, 5, 1, 2, 1, 3, 1]\n",
    "print(\"Most frequent element is:\", most_frequent_element(arr))  # Output: 1"
   ]
  },
  {
   "cell_type": "markdown",
   "id": "6e84bdca",
   "metadata": {},
   "source": [
    "2. **We are given a list of n-1 integers and these integers are in the range of 1 to n . There are no duplicates in the list. One of the integers is missing in the list. Give an algorithm to find that element Ex: [1,2,4,6,3,7,8] 5 is the missing num.**"
   ]
  },
  {
   "cell_type": "code",
   "execution_count": 2,
   "id": "5bb4847e",
   "metadata": {},
   "outputs": [
    {
     "name": "stdout",
     "output_type": "stream",
     "text": [
      "5\n"
     ]
    }
   ],
   "source": [
    "### algorithm:\n",
    "### 1. use formula sum = n * (n + 1) / 2 to find the sum of first n natural numbers.\n",
    "### 2. substract actual sum of array from expected sum\n",
    "\n",
    "def missing_number(arr):\n",
    "    n = len(arr) + 1\n",
    "    total = n * (n + 1) // 2\n",
    "    return total - sum(arr)\n",
    "\n",
    "arr = [1, 2, 4, 6, 3, 7, 8]\n",
    "print(missing_number(arr))  # Output: 5"
   ]
  },
  {
   "cell_type": "markdown",
   "id": "84200b69",
   "metadata": {},
   "source": [
    "3. **Given an array of n positive numbers. All numbers occurs even number of times except 1 which occurs odd number of times. Find that number in O(n) time and O(1) space. Ex: [1,2,3,2,3,1,3]. 3 is repeats odd times.**"
   ]
  },
  {
   "cell_type": "code",
   "execution_count": 3,
   "id": "f19fc4cc",
   "metadata": {},
   "outputs": [
    {
     "name": "stdout",
     "output_type": "stream",
     "text": [
      "Element with odd occurrences is: 3\n"
     ]
    }
   ],
   "source": [
    "### Algorithm:\n",
    "### 1. use XOR : x ^ x = 0, x ^ 0 = x\n",
    "\n",
    "def find_odd_occurrences(arr):\n",
    "    result = 0\n",
    "    for num in arr:\n",
    "        result ^= num  # XOR all elements together\n",
    "    return result  # The result will be the element with odd occurrences\n",
    "\n",
    "arr = [1, 2, 3, 2, 3, 1, 3]\n",
    "print(\"Element with odd occurrences is:\", find_odd_occurrences(arr))  # Output: 3"
   ]
  },
  {
   "cell_type": "markdown",
   "id": "7f652b24",
   "metadata": {},
   "source": [
    "4. **Given an array of n elements. Find two elements in the array such that their sum is equal to given element K.**\n",
    "\n"
   ]
  },
  {
   "cell_type": "code",
   "execution_count": 4,
   "id": "8414296c",
   "metadata": {},
   "outputs": [
    {
     "name": "stdout",
     "output_type": "stream",
     "text": [
      "(7, 10)\n"
     ]
    }
   ],
   "source": [
    "### Algorithm:\n",
    "### 1. use a set to store visited numbers.\n",
    "### 2. for each number, check if k - num exists in set.\n",
    "\n",
    "def two_sum(arr, K):\n",
    "    seen = set()\n",
    "    for num in arr:\n",
    "        if K - num in seen:\n",
    "            return (num, K - num)\n",
    "        seen.add(num)\n",
    "    return None\n",
    "\n",
    "arr = [10, 15, 3, 7]\n",
    "k = 17\n",
    "print(two_sum(arr, k))  # Output: (7, 10)"
   ]
  },
  {
   "cell_type": "markdown",
   "id": "dbd476ed",
   "metadata": {},
   "source": [
    "5. **Given an array of both positive and negative numbers, find two numbers such that their sum is closest to 0. Ex: [ 1 ,60 ,-10, 70, -80,85]. Ans : -80,85.**"
   ]
  },
  {
   "cell_type": "code",
   "execution_count": 5,
   "id": "7b54b93b",
   "metadata": {},
   "outputs": [
    {
     "name": "stdout",
     "output_type": "stream",
     "text": [
      "(-80, 85)\n"
     ]
    }
   ],
   "source": [
    "### algorithm:\n",
    "## 1. sort the array, use two pointers.\n",
    "def closest_to_zero(arr):\n",
    "    arr.sort()\n",
    "    left, right = 0, len(arr) - 1\n",
    "    min_sum = float('inf')\n",
    "    result = (0, 0)\n",
    "    while left < right:\n",
    "        s = arr[left] + arr[right]\n",
    "        if abs(s) < abs(min_sum):\n",
    "            min_sum = s\n",
    "            result = (arr[left], arr[right])\n",
    "        if s < 0:\n",
    "            left += 1\n",
    "        else:\n",
    "            right -= 1\n",
    "    return result\n",
    "\n",
    "\n",
    "arr = [1, 60, -10, 70, -80, 85]\n",
    "print(closest_to_zero(arr))  # Output: (-80, 70)"
   ]
  },
  {
   "cell_type": "markdown",
   "id": "77375d13",
   "metadata": {},
   "source": [
    "6. **Given an array of n elements . Find three elements such that their sum is equal to the given number.**"
   ]
  },
  {
   "cell_type": "code",
   "execution_count": 6,
   "id": "90abda30",
   "metadata": {},
   "outputs": [
    {
     "name": "stdout",
     "output_type": "stream",
     "text": [
      "(-2, -1, 3)\n"
     ]
    }
   ],
   "source": [
    "def three_sum(arr, target):\n",
    "    arr.sort()\n",
    "    for i in range(len(arr) - 2):\n",
    "        left, right = i + 1, len(arr) - 1\n",
    "        while left < right:\n",
    "            s = arr[i] + arr[left] + arr[right]\n",
    "            if s == target:\n",
    "                return (arr[i], arr[left], arr[right])\n",
    "            elif s < target:\n",
    "                left += 1\n",
    "            else:\n",
    "                right -= 1\n",
    "    return None\n",
    "\n",
    "\n",
    "arr = [1, 2, -2, -1, 0, 3]\n",
    "target = 0\n",
    "print(three_sum(arr, target))  # Output: (0, -1, 1)"
   ]
  },
  {
   "cell_type": "markdown",
   "id": "9ca1ec7b",
   "metadata": {},
   "source": [
    "7. **: Given an array of n elements . Find three elements i, j, k in the array such that i * i + j * j = k*k.**"
   ]
  },
  {
   "cell_type": "code",
   "execution_count": 7,
   "id": "74b3a583",
   "metadata": {},
   "outputs": [
    {
     "name": "stdout",
     "output_type": "stream",
     "text": [
      "(3, 4)\n"
     ]
    }
   ],
   "source": [
    "### Algorithm:\n",
    "### 1. square all elements and store in set.\n",
    "### 2. check for all pairs if their sum exists in the set.\n",
    "\n",
    "def find_pythagorean_triplet(arr):\n",
    "    squares = set([x * x for x in arr])\n",
    "    n = len(arr)\n",
    "    for i in range(n):\n",
    "        for j in range(i + 1, n):\n",
    "            if arr[i]**2 + arr[j]**2 in squares:\n",
    "                return (arr[i], arr[j])\n",
    "    return None\n",
    "\n",
    "\n",
    "arr = [3, 1, 4, 6, 5]\n",
    "print(find_pythagorean_triplet(arr))  # Output: (3, 1) or\\"
   ]
  },
  {
   "cell_type": "markdown",
   "id": "3c9f502c",
   "metadata": {},
   "source": [
    "8. **An element is a majority if it appears more than n/2 times. Give an algorithm takes an array of n element as argument and identifies a majority (if it exists).**"
   ]
  },
  {
   "cell_type": "code",
   "execution_count": 8,
   "id": "0e3297c2",
   "metadata": {},
   "outputs": [],
   "source": [
    "### use Boyer-moore majority vote algorithm\n",
    "def find_majority_element(arr):\n",
    "    count = 0\n",
    "    candidate = None\n",
    "    for num in arr:\n",
    "        if count == 0:\n",
    "            candidate = num\n",
    "        count += 1 if num == candidate else -1\n",
    "\n",
    "    # Optional validation step\n",
    "    if arr.count(candidate) > len(arr) // 2:\n",
    "        return candidate\n",
    "    return None\n"
   ]
  },
  {
   "cell_type": "markdown",
   "id": "94f02dbb",
   "metadata": {},
   "source": [
    "9. **Given n × n matrix, and in each row all 1’s are followed by 0’s. Find the row with the maximum number of 0’s.**"
   ]
  },
  {
   "cell_type": "code",
   "execution_count": null,
   "id": "2111f154",
   "metadata": {},
   "outputs": [
    {
     "name": "stdout",
     "output_type": "stream",
     "text": [
      "Row with max zeros: 0\n"
     ]
    }
   ],
   "source": [
    "def row_with_max_zeros(matrix):\n",
    "    n = len(matrix)\n",
    "    row = 0\n",
    "    col = n - 1\n",
    "    max_row = -1\n",
    "    while row < n and col >= 0:\n",
    "        if matrix[row][col] == 0:\n",
    "            max_row = row\n",
    "            col -= 1\n",
    "        else:\n",
    "            row += 1\n",
    "    return max_row\n",
    "\n",
    "\n"
   ]
  },
  {
   "cell_type": "markdown",
   "id": "4bf84a11",
   "metadata": {},
   "source": [
    "10. Sort an array of 0’s, 1’s and 2’s [or R’s, G’s and B’s]: Given an array A[] consisting of 0’s, 1’s and 2’s, give an algorithm for sorting A[].The algorithm should put all 0’s first, then all 1’s and finally all 2’s at the\n",
    "end. Example Input = {0,1,1,0,1,2,1,2,0,0,0,1}, Output = {0,0,0,0,0,1,1,1,1,1,2,2}."
   ]
  },
  {
   "cell_type": "code",
   "execution_count": 12,
   "id": "57de4c9e",
   "metadata": {},
   "outputs": [],
   "source": [
    "def sort_colors(arr):\n",
    "    low = mid = 0\n",
    "    high = len(arr) - 1\n",
    "    while mid <= high:\n",
    "        if arr[mid] == 0:\n",
    "            arr[low], arr[mid] = arr[mid], arr[low]\n",
    "            low += 1\n",
    "            mid += 1\n",
    "        elif arr[mid] == 1:\n",
    "            mid += 1\n",
    "        else:\n",
    "            arr[mid], arr[high] = arr[high], arr[mid]\n",
    "            high -= 1\n",
    "    return arr\n"
   ]
  },
  {
   "cell_type": "code",
   "execution_count": null,
   "id": "f2c15bf1",
   "metadata": {},
   "outputs": [],
   "source": []
  }
 ],
 "metadata": {
  "kernelspec": {
   "display_name": "fenv",
   "language": "python",
   "name": "python3"
  },
  "language_info": {
   "codemirror_mode": {
    "name": "ipython",
    "version": 3
   },
   "file_extension": ".py",
   "mimetype": "text/x-python",
   "name": "python",
   "nbconvert_exporter": "python",
   "pygments_lexer": "ipython3",
   "version": "3.12.3"
  }
 },
 "nbformat": 4,
 "nbformat_minor": 5
}
