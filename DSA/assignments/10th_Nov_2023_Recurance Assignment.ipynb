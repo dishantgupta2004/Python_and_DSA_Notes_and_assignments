{
 "cells": [
  {
   "cell_type": "markdown",
   "id": "1f61ff50",
   "metadata": {},
   "source": []
  },
  {
   "cell_type": "markdown",
   "id": "a4011dee",
   "metadata": {},
   "source": []
  },
  {
   "cell_type": "code",
   "execution_count": null,
   "id": "a24c927e",
   "metadata": {},
   "outputs": [],
   "source": []
  },
  {
   "cell_type": "code",
   "execution_count": null,
   "id": "da65f258",
   "metadata": {},
   "outputs": [],
   "source": []
  }
 ],
 "metadata": {
  "kernelspec": {
   "display_name": "fenv",
   "language": "python",
   "name": "python3"
  },
  "language_info": {
   "name": "python",
   "version": "3.12.3"
  }
 },
 "nbformat": 4,
 "nbformat_minor": 5
}
