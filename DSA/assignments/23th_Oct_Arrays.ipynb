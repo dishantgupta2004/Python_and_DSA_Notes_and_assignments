{
 "cells": [
  {
   "cell_type": "code",
   "execution_count": 1,
   "id": "cc0748ba",
   "metadata": {},
   "outputs": [
    {
     "name": "stdout",
     "output_type": "stream",
     "text": [
      "True\n"
     ]
    }
   ],
   "source": [
    "## 1. Given an array, check if it contains any duplicates or not.\n",
    "## arr = [1, 2, 4, 2, 5, 9]\n",
    "## Output = True\n",
    "\n",
    "import numpy as np\n",
    "\n",
    "def check_duplicates(arr):\n",
    "    ## use a set to track seen elements\n",
    "    seen = set()\n",
    "    \n",
    "    for num in arr:\n",
    "        if num in seen:\n",
    "            return True\n",
    "        seen.add(num)\n",
    "        \n",
    "    return False\n",
    "\n",
    "## test on given array:\n",
    "arr = [1, 2, 4, 2, 5, 9]\n",
    "print(check_duplicates(arr)) ## Output = True"
   ]
  },
  {
   "cell_type": "code",
   "execution_count": 2,
   "id": "c6d44d37",
   "metadata": {},
   "outputs": [],
   "source": [
    "### Question-02: Rotation array to right by k-steps\n",
    "\n",
    "def rotate(arr, k):\n",
    "    n = len(arr)\n",
    "    k = k % n\n",
    "    result = arr.copy()\n",
    "    \n",
    "    for i in range(n):\n",
    "        result[(i + k) % n] = arr[i]\n",
    "    return result\n"
   ]
  },
  {
   "cell_type": "code",
   "execution_count": null,
   "id": "3d56a0a0",
   "metadata": {},
   "outputs": [
    {
     "name": "stdout",
     "output_type": "stream",
     "text": [
      "Question 2: Rotate [1, 2, 3, 4, 5, 6, 7] to the right by 3 steps\n",
      "Output (with extra space): [5, 6, 7, 1, 2, 3, 4]\n",
      "Output (in-place): [5, 6, 7, 1, 2, 3, 4]\n",
      "\n",
      "--------------------------------------------------\n",
      "\n"
     ]
    }
   ],
   "source": [
    "def reverse(arr, start, end):\n",
    "    while start < end:\n",
    "        arr[start], arr[end] = arr[end], arr[start]\n",
    "        start += 1\n",
    "        end -= 1\n",
    "            \n",
    "    return arr\n",
    "\n",
    "def rotate_array_in_place(arr, k):\n",
    "    n = len(arr)\n",
    "    k = k % n\n",
    "    \n",
    "    # Reverse the entire array\n",
    "    reverse(arr, 0, n - 1)\n",
    "    \n",
    "    # Reverse the first k elements\n",
    "    reverse(arr, 0, k - 1)\n",
    "    \n",
    "    # Reverse the remaining\n",
    "    reverse(arr, k, n - 1)\n",
    "    \n",
    "    return arr\n",
    "\n",
    "## test on given array:\n",
    "arr = [1,2,3,4,5,6,7]\n",
    "k = 3\n",
    "print(f\"Question 2: Rotate {arr} to the right by {k} steps\")\n",
    "print(f\"Output (with extra space): {rotate(arr, k)}\")\n",
    "print(f\"Output (in-place): {rotate_array_in_place(arr.copy(), k)}\")\n",
    "print(\"\\n\" + \"-\"*50 + \"\\n\")\n",
    "\n"
   ]
  },
  {
   "cell_type": "code",
   "execution_count": 5,
   "id": "d0b640d4",
   "metadata": {},
   "outputs": [],
   "source": [
    "## 3. Reverse the given array in-place, means without using any extra data structure.\n",
    "## arr = [2, 4, 5, 7, 9, 12]\n",
    "##Output = [12, 9, 7, 5, 4, 2]"
   ]
  },
  {
   "cell_type": "code",
   "execution_count": 6,
   "id": "7444f8d8",
   "metadata": {},
   "outputs": [
    {
     "name": "stdout",
     "output_type": "stream",
     "text": [
      "Question 3: Reverse [2, 4, 5, 7, 9, 12] in-place\n",
      "Output: [12, 9, 7, 5, 4, 2]\n",
      "\n",
      "--------------------------------------------------\n",
      "\n"
     ]
    }
   ],
   "source": [
    "def reverse_array(arr):\n",
    "    \"\"\"\n",
    "    Function to reverse an array in-place\n",
    "    Time Complexity: O(n)\n",
    "    Space Complexity: O(1)\n",
    "    \"\"\"\n",
    "    left = 0\n",
    "    right = len(arr) - 1\n",
    "    \n",
    "    while left < right:\n",
    "        # Swap elements at left and right pointers\n",
    "        arr[left], arr[right] = arr[right], arr[left]\n",
    "        \n",
    "        # Move pointers inward\n",
    "        left += 1\n",
    "        right -= 1\n",
    "    \n",
    "    return arr\n",
    "\n",
    "arr3 = [2, 4, 5, 7, 9, 12]\n",
    "print(f\"Question 3: Reverse {arr3} in-place\")\n",
    "print(f\"Output: {reverse_array(arr3.copy())}\")\n",
    "print(\"\\n\" + \"-\"*50 + \"\\n\")"
   ]
  },
  {
   "cell_type": "code",
   "execution_count": 7,
   "id": "5b00aae0",
   "metadata": {},
   "outputs": [],
   "source": [
    "#4. Given an array of integers, find the maximum element in an array\n",
    "#arr = [10, 5, 20, 8, 15]\n",
    "#Output = 20"
   ]
  },
  {
   "cell_type": "code",
   "execution_count": 8,
   "id": "be17033c",
   "metadata": {},
   "outputs": [
    {
     "name": "stdout",
     "output_type": "stream",
     "text": [
      "Question 4: Find maximum element in [10, 5, 20, 8, 15]\n",
      "Output: 20\n",
      "\n",
      "--------------------------------------------------\n",
      "\n"
     ]
    }
   ],
   "source": [
    "def find_max(arr):\n",
    "    \"\"\"\n",
    "    Function to find the maximum element in an array\n",
    "    Time Complexity: O(n)\n",
    "    Space Complexity: O(1)\n",
    "    \"\"\"\n",
    "    if not arr:\n",
    "        return None\n",
    "    \n",
    "    max_val = arr[0]\n",
    "    \n",
    "    for num in arr:\n",
    "        if num > max_val:\n",
    "            max_val = num\n",
    "    \n",
    "    return max_val\n",
    "\n",
    "arr4 = [10, 5, 20, 8, 15]\n",
    "print(f\"Question 4: Find maximum element in {arr4}\")\n",
    "print(f\"Output: {find_max(arr4)}\")\n",
    "print(\"\\n\" + \"-\"*50 + \"\\n\")"
   ]
  },
  {
   "cell_type": "code",
   "execution_count": 9,
   "id": "c3d42379",
   "metadata": {},
   "outputs": [],
   "source": [
    "#5. Given a sorted array, remove the duplicate element without using any extra data structure.\n",
    "#arr = [1, 1, 2, 2, 2, 3, 3, 4, 4, 4, 5, 5]\n",
    "#Output = [1, 2, 3, 4, 5]"
   ]
  },
  {
   "cell_type": "code",
   "execution_count": 11,
   "id": "14ea2ffe",
   "metadata": {},
   "outputs": [
    {
     "name": "stdout",
     "output_type": "stream",
     "text": [
      "Question 5: Remove duplicates from sorted array [1, 1, 2, 2, 2, 3, 3, 4, 4, 4, 5, 5]\n",
      "Output: [1, 2, 3, 4, 5]\n",
      "\n",
      "--------------------------------------------------\n",
      "\n"
     ]
    }
   ],
   "source": [
    "def remove_duplicates(arr):\n",
    "    \"\"\"\n",
    "    Function to remove duplicates from a sorted array in-place\n",
    "    Time Complexity: O(n)\n",
    "    Space Complexity: O(1)\n",
    "    \n",
    "    Returns the array with duplicates removed\n",
    "    \"\"\"\n",
    "    if not arr:\n",
    "        return []\n",
    "    \n",
    "    # Index to place the next unique element\n",
    "    next_unique = 1\n",
    "    \n",
    "    # Iterate starting from the second element\n",
    "    for i in range(1, len(arr)):\n",
    "        # If current element is different from the previous one\n",
    "        if arr[i] != arr[i-1]:\n",
    "            # Place it at the next_unique position\n",
    "            arr[next_unique] = arr[i]\n",
    "            next_unique += 1\n",
    "    \n",
    "    # Return the subarray with only unique elements\n",
    "    return arr[:next_unique]\n",
    "\n",
    "\n",
    "# Test question 5\n",
    "arr5 = [1, 1, 2, 2, 2, 3, 3, 4, 4, 4, 5, 5]\n",
    "print(f\"Question 5: Remove duplicates from sorted array {arr5}\")\n",
    "print(f\"Output: {remove_duplicates(arr5.copy())}\")\n",
    "print(\"\\n\" + \"-\"*50 + \"\\n\")"
   ]
  },
  {
   "cell_type": "code",
   "execution_count": null,
   "id": "4f4e7565",
   "metadata": {},
   "outputs": [],
   "source": []
  }
 ],
 "metadata": {
  "kernelspec": {
   "display_name": "fenv",
   "language": "python",
   "name": "python3"
  },
  "language_info": {
   "codemirror_mode": {
    "name": "ipython",
    "version": 3
   },
   "file_extension": ".py",
   "mimetype": "text/x-python",
   "name": "python",
   "nbconvert_exporter": "python",
   "pygments_lexer": "ipython3",
   "version": "3.12.3"
  }
 },
 "nbformat": 4,
 "nbformat_minor": 5
}
