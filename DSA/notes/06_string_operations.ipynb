{
 "cells": [
  {
   "cell_type": "markdown",
   "id": "a2261c67",
   "metadata": {},
   "source": [
    "# String Operations and Manipulations\n",
    "\n",
    "## Table of Contents\n",
    "1. [Introduction](#introduction)\n",
    "2. [Strings in Python](#strings-in-python)\n",
    "3. [Basic String Operations](#basic-string-operations)\n",
    "   - [String Creation](#string-creation)\n",
    "   - [Accessing Characters](#accessing-characters)\n",
    "   - [String Traversal](#string-traversal)\n",
    "   - [String Immutability](#string-immutability)\n",
    "4. [String Methods](#string-methods)\n",
    "   - [Search and Replace](#search-and-replace)\n",
    "   - [Case Conversion](#case-conversion)\n",
    "   - [Validation Methods](#validation-methods)\n",
    "   - [Split and Join](#split-and-join)\n",
    "   - [Stripping and Padding](#stripping-and-padding)\n",
    "5. [String Formatting](#string-formatting)\n",
    "6. [String Slicing](#string-slicing)\n",
    "7. [String Algorithms](#string-algorithms)\n",
    "   - [Palindrome Check](#palindrome-check)\n",
    "   - [Anagram Check](#anagram-check)\n",
    "   - [String Matching](#string-matching)\n",
    "   - [Longest Common Substring](#longest-common-substring)\n",
    "   - [Edit Distance](#edit-distance)\n",
    "8. [Regular Expressions](#regular-expressions)\n",
    "9. [String Performance](#string-performance)\n",
    "10. [Summary](#summary)\n",
    "11. [Practice Exercises](#practice-exercises)\n",
    "\n",
    "## Learning Objectives\n",
    "By the end of this notebook, you will be able to:\n",
    "- Understand how strings are implemented in Python\n",
    "- Perform basic and advanced string operations\n",
    "- Apply common string algorithms\n",
    "- Use regular expressions for pattern matching\n",
    "- Analyze time and space complexity of string operations\n",
    "- Implement efficient string manipulation techniques\n",
    "\n",
    "## Introduction\n",
    "Strings are sequences of characters and are one of the most common data types in programming. They are used to represent text, such as names, addresses, sentences, paragraphs, and even entire documents.\n",
    "\n",
    "String manipulation is a fundamental skill for programmers, especially in fields like text processing, data cleaning, natural language processing, and web development. In this notebook, we'll explore the various operations and algorithms related to strings, with a focus on their implementation and complexity analysis.\n"
   ]
  },
  {
   "cell_type": "markdown",
   "id": "569654d9",
   "metadata": {},
   "source": [
    "## Strings in Python\n",
    "\n",
    "In Python, strings are immutable sequences of Unicode characters. Let's start by understanding the implementation details of strings in Python.\n"
   ]
  },
  {
   "cell_type": "code",
   "execution_count": 1,
   "id": "5d2ebd01",
   "metadata": {},
   "outputs": [
    {
     "name": "stdout",
     "output_type": "stream",
     "text": [
      "Type: <class 'str'>\n",
      "ID: 1802922018864\n",
      "Length: 13\n",
      "First character: H\n",
      "Last character: !\n",
      "Error: 'str' object does not support item assignment\n",
      "Character 'H' (index 0): Unicode 72, Hex: 0x48\n",
      "Character 'e' (index 1): Unicode 101, Hex: 0x65\n",
      "Character 'l' (index 2): Unicode 108, Hex: 0x6c\n",
      "Character 'l' (index 3): Unicode 108, Hex: 0x6c\n",
      "Character 'o' (index 4): Unicode 111, Hex: 0x6f\n",
      "Character ',' (index 5): Unicode 44, Hex: 0x2c\n",
      "Character ' ' (index 6): Unicode 32, Hex: 0x20\n",
      "Character 'W' (index 7): Unicode 87, Hex: 0x57\n",
      "Character 'o' (index 8): Unicode 111, Hex: 0x6f\n",
      "Character 'r' (index 9): Unicode 114, Hex: 0x72\n",
      "Character 'l' (index 10): Unicode 108, Hex: 0x6c\n",
      "Character 'd' (index 11): Unicode 100, Hex: 0x64\n",
      "Character '!' (index 12): Unicode 33, Hex: 0x21\n"
     ]
    }
   ],
   "source": [
    "# Strings are objects of the str class\n",
    "text = \"Hello, World!\"\n",
    "print(f\"Type: {type(text)}\")\n",
    "print(f\"ID: {id(text)}\")  # Memory address\n",
    "\n",
    "# Strings are sequences\n",
    "print(f\"Length: {len(text)}\")\n",
    "print(f\"First character: {text[0]}\")\n",
    "print(f\"Last character: {text[-1]}\")\n",
    "\n",
    "# Strings are immutable\n",
    "try:\n",
    "    text[0] = 'h'  # This will raise an error\n",
    "except TypeError as e:\n",
    "    print(f\"Error: {e}\")\n",
    "    \n",
    "# Memory representation\n",
    "# Each character in Python 3 is a Unicode code point\n",
    "for i, char in enumerate(text):\n",
    "    print(f\"Character '{char}' (index {i}): Unicode {ord(char)}, Hex: {hex(ord(char))}\")"
   ]
  },
  {
   "cell_type": "markdown",
   "id": "7e69627f",
   "metadata": {},
   "source": [
    "### Internal Implementation\n",
    "\n",
    "Python strings are implemented as arrays of characters with the following characteristics:\n",
    "- They're immutable (cannot be changed after creation)\n",
    "- In Python 3, they store Unicode code points\n",
    "- They have an explicit length counter\n",
    "- They use reference counting for memory management\n"
   ]
  },
  {
   "cell_type": "code",
   "execution_count": 2,
   "id": "f301083a",
   "metadata": {},
   "outputs": [
    {
     "name": "stdout",
     "output_type": "stream",
     "text": [
      "String '': 0 chars, 41 bytes\n",
      "String 'a': 1 chars, 42 bytes\n",
      "String 'ab': 2 chars, 43 bytes\n",
      "String 'abc': 3 chars, 44 bytes\n",
      "String 'abcd': 4 chars, 45 bytes\n",
      "String 'abcde': 5 chars, 46 bytes\n",
      "String 'aaaaaaaaaa': 10 chars, 51 bytes\n",
      "String 'aaaaaaaaaa...': 100 chars, 141 bytes\n",
      "String 'aaaaaaaaaa...': 1000 chars, 1041 bytes\n"
     ]
    }
   ],
   "source": [
    "# String memory usage\n",
    "import sys\n",
    "\n",
    "# Different string sizes\n",
    "strings = ['', 'a', 'ab', 'abc', 'abcd', 'abcde',\n",
    "           'a' * 10, 'a' * 100, 'a' * 1000]\n",
    "\n",
    "# Print memory usage\n",
    "for s in strings:\n",
    "    print(f\"String '{s[:10]}{'...' if len(s) > 10 else ''}': \"\n",
    "          f\"{len(s)} chars, {sys.getsizeof(s)} bytes\")\n"
   ]
  },
  {
   "cell_type": "markdown",
   "id": "9e113947",
   "metadata": {},
   "source": [
    "## Basic String Operations\n",
    "\n",
    "### String Creation\n",
    "\n",
    "There are multiple ways to create strings in Python:"
   ]
  },
  {
   "cell_type": "code",
   "execution_count": 3,
   "id": "737dd684",
   "metadata": {},
   "outputs": [
    {
     "name": "stdout",
     "output_type": "stream",
     "text": [
      "s1: Hello, type: <class 'str'>\n",
      "s2: World, type: <class 'str'>\n",
      "s3: This is a\n",
      "multiline string, type: <class 'str'>\n",
      "s4: Another\n",
      "multiline string, type: <class 'str'>\n",
      "s5: 42, type: <class 'str'>\n",
      "s6: [1, 2, 3], type: <class 'str'>\n"
     ]
    }
   ],
   "source": [
    "# Single and double quotes\n",
    "s1 = 'Hello'\n",
    "s2 = \"World\"\n",
    "\n",
    "# Triple quotes for multiline strings\n",
    "s3 = '''This is a\n",
    "multiline string'''\n",
    "\n",
    "s4 = \"\"\"Another\n",
    "multiline string\"\"\"\n",
    "\n",
    "# String conversion\n",
    "s5 = str(42)  # Convert integer to string\n",
    "s6 = str([1, 2, 3])  # Convert list to string\n",
    "\n",
    "print(f\"s1: {s1}, type: {type(s1)}\")\n",
    "print(f\"s2: {s2}, type: {type(s2)}\")\n",
    "print(f\"s3: {s3}, type: {type(s3)}\")\n",
    "print(f\"s4: {s4}, type: {type(s4)}\")\n",
    "print(f\"s5: {s5}, type: {type(s5)}\")\n",
    "print(f\"s6: {s6}, type: {type(s6)}\")"
   ]
  },
  {
   "cell_type": "markdown",
   "id": "c7b471a2",
   "metadata": {},
   "source": [
    "\n",
    "### Accessing Characters\n",
    "\n",
    "Characters in a string can be accessed using indexing:\n"
   ]
  },
  {
   "cell_type": "code",
   "execution_count": 4,
   "id": "d242d95e",
   "metadata": {},
   "outputs": [
    {
     "name": "stdout",
     "output_type": "stream",
     "text": [
      "First character: P\n",
      "Second character: y\n",
      "Last character: n\n",
      "Second to last character: o\n"
     ]
    }
   ],
   "source": [
    "text = \"Python\"\n",
    "\n",
    "# Positive indexing (from left)\n",
    "print(f\"First character: {text[0]}\")\n",
    "print(f\"Second character: {text[1]}\")\n",
    "\n",
    "# Negative indexing (from right)\n",
    "print(f\"Last character: {text[-1]}\")\n",
    "print(f\"Second to last character: {text[-2]}\")\n",
    "\n",
    "# Time complexity of string indexing: O(1)"
   ]
  },
  {
   "cell_type": "markdown",
   "id": "b7891f38",
   "metadata": {},
   "source": [
    "### String Traversal\n",
    "There are several ways to iterate through a string:\n"
   ]
  },
  {
   "cell_type": "code",
   "execution_count": 5,
   "id": "35de734e",
   "metadata": {},
   "outputs": [
    {
     "name": "stdout",
     "output_type": "stream",
     "text": [
      "Traversal using for-each:\n",
      "P y t h o n \n",
      "Traversal using indices:\n",
      "P at index 0\n",
      "y at index 1\n",
      "t at index 2\n",
      "h at index 3\n",
      "o at index 4\n",
      "n at index 5\n",
      "Traversal using enumerate:\n",
      "P at index 0\n",
      "y at index 1\n",
      "t at index 2\n",
      "h at index 3\n",
      "o at index 4\n",
      "n at index 5\n",
      "Traversal using while loop:\n",
      "P y t h o n \n"
     ]
    }
   ],
   "source": [
    "text = \"Python\"\n",
    "\n",
    "# Method 1: Using a for loop with characters\n",
    "print(\"Traversal using for-each:\")\n",
    "for char in text:\n",
    "    print(char, end=' ')\n",
    "print()  # Newline\n",
    "\n",
    "# Method 2: Using a for loop with indices\n",
    "print(\"Traversal using indices:\")\n",
    "for i in range(len(text)):\n",
    "    print(f\"{text[i]} at index {i}\")\n",
    "\n",
    "# Method 3: Using enumerate\n",
    "print(\"Traversal using enumerate:\")\n",
    "for i, char in enumerate(text):\n",
    "    print(f\"{char} at index {i}\")\n",
    "\n",
    "# Method 4: Using while loop\n",
    "print(\"Traversal using while loop:\")\n",
    "i = 0\n",
    "while i < len(text):\n",
    "    print(text[i], end=' ')\n",
    "    i += 1\n",
    "print()  # Newline\n",
    "\n",
    "# Time complexity of string traversal: O(n)"
   ]
  },
  {
   "cell_type": "markdown",
   "id": "a2129d9b",
   "metadata": {},
   "source": [
    "### String Immutability\n",
    "\n",
    "Strings in Python are immutable, which means they cannot be changed after creation:\n"
   ]
  },
  {
   "cell_type": "code",
   "execution_count": 6,
   "id": "9d2d5f2f",
   "metadata": {},
   "outputs": [
    {
     "name": "stdout",
     "output_type": "stream",
     "text": [
      "Original string: Python, ID: 140729505222208\n",
      "New string: Python Programming, ID: 1802922140080\n",
      "Uppercase: PYTHON PROGRAMMING, ID: 1802922134896\n",
      "a ID: 1802918035296, b ID: 1802918035296\n"
     ]
    }
   ],
   "source": [
    "text = \"Python\"\n",
    "print(f\"Original string: {text}, ID: {id(text)}\")\n",
    "\n",
    "# To modify a string, you must create a new one\n",
    "text = text + \" Programming\"\n",
    "print(f\"New string: {text}, ID: {id(text)}\")  # Note the different ID\n",
    "\n",
    "# String operations return new strings\n",
    "uppercase = text.upper()\n",
    "print(f\"Uppercase: {uppercase}, ID: {id(uppercase)}\")  # Another new string\n",
    "\n",
    "# Immutability allows for string interning (memory optimization)\n",
    "a = \"hello\"\n",
    "b = \"hello\"\n",
    "print(f\"a ID: {id(a)}, b ID: {id(b)}\")  # Same ID due to interning"
   ]
  },
  {
   "cell_type": "markdown",
   "id": "038b9caf",
   "metadata": {},
   "source": [
    "String immutability has several implications:\n",
    "- Strings are thread-safe\n",
    "- Can be used as dictionary keys\n",
    "- String operations always create new strings\n",
    "- Memory can't be released for partial strings\n"
   ]
  },
  {
   "cell_type": "markdown",
   "id": "15fe3261",
   "metadata": {},
   "source": [
    "\n",
    "## String Methods\n",
    "\n",
    "Python provides numerous built-in methods to manipulate strings. Let's explore the most commonly used ones.\n",
    "\n",
    "### Search and Replace"
   ]
  },
  {
   "cell_type": "code",
   "execution_count": 7,
   "id": "577324e5",
   "metadata": {},
   "outputs": [
    {
     "name": "stdout",
     "output_type": "stream",
     "text": [
      "'is' first occurs at index: 7\n",
      "'is' first occurs at index (with start): 26\n",
      "'not_found' occurs at index: -1\n",
      "Count of 'Python': 2\n",
      "Starts with 'Python': True\n",
      "Ends with 'powerful.': True\n",
      "After replace: Java is amazing. Java is powerful.\n",
      "After limited replace: Java is amazing. Python is powerful.\n"
     ]
    }
   ],
   "source": [
    "text = \"Python is amazing. Python is powerful.\"\n",
    "\n",
    "# Finding substrings\n",
    "print(f\"'is' first occurs at index: {text.find('is')}\")\n",
    "print(f\"'is' first occurs at index (with start): {text.find('is', 10)}\")\n",
    "print(f\"'not_found' occurs at index: {text.find('not_found')}\")  # Returns -1 if not found\n",
    "\n",
    "# Count occurrences\n",
    "print(f\"Count of 'Python': {text.count('Python')}\")\n",
    "\n",
    "# Checking if string starts/ends with substring\n",
    "print(f\"Starts with 'Python': {text.startswith('Python')}\")\n",
    "print(f\"Ends with 'powerful.': {text.endswith('powerful.')}\")\n",
    "\n",
    "# Replace substrings\n",
    "new_text = text.replace('Python', 'Java')\n",
    "print(f\"After replace: {new_text}\")\n",
    "\n",
    "# Replace with limit\n",
    "limited_replace = text.replace('Python', 'Java', 1)  # Replace only first occurrence\n",
    "print(f\"After limited replace: {limited_replace}\")\n",
    "\n",
    "# Time complexity notes:\n",
    "# find(), count(): O(n) - must scan through the string\n",
    "# startswith(), endswith(): O(k) - k is length of substring\n",
    "# replace(): O(n) - must create a new string"
   ]
  },
  {
   "cell_type": "markdown",
   "id": "f5c37c71",
   "metadata": {},
   "source": [
    "### Case Conversion"
   ]
  },
  {
   "cell_type": "code",
   "execution_count": 8,
   "id": "4c4660c8",
   "metadata": {},
   "outputs": [
    {
     "name": "stdout",
     "output_type": "stream",
     "text": [
      "Lowercase: python programming\n",
      "Uppercase: PYTHON PROGRAMMING\n",
      "Title case: Python Programming\n",
      "Swap case: pYTHON pROGRAMMING\n",
      "Capitalize: Hello world\n",
      "Is lowercase: True\n",
      "Is uppercase: True\n",
      "Is title case: True\n"
     ]
    }
   ],
   "source": [
    "\n",
    "text = \"Python Programming\"\n",
    "\n",
    "# Case conversion\n",
    "print(f\"Lowercase: {text.lower()}\")\n",
    "print(f\"Uppercase: {text.upper()}\")\n",
    "print(f\"Title case: {text.title()}\")\n",
    "print(f\"Swap case: {text.swapcase()}\")\n",
    "print(f\"Capitalize: {'hello world'.capitalize()}\")\n",
    "\n",
    "# Checking case\n",
    "print(f\"Is lowercase: {'python'.islower()}\")\n",
    "print(f\"Is uppercase: {'PYTHON'.isupper()}\")\n",
    "print(f\"Is title case: {'Python Programming'.istitle()}\")\n",
    "\n",
    "# Time complexity of case operations: O(n)"
   ]
  },
  {
   "cell_type": "markdown",
   "id": "5e5a5a2d",
   "metadata": {},
   "source": [
    "### Validation Methods"
   ]
  },
  {
   "cell_type": "code",
   "execution_count": 9,
   "id": "32d52b1d",
   "metadata": {},
   "outputs": [
    {
     "name": "stdout",
     "output_type": "stream",
     "text": [
      "'abc123'.isalnum(): True\n",
      "'abc'.isalpha(): True\n",
      "'123'.isdigit(): True\n",
      "'   '.isspace(): True\n",
      "'123.45'.isdecimal(): False\n",
      "is_valid_username('user123'): True\n",
      "is_valid_username('user@123'): False\n",
      "is_valid_username('ab'): False\n"
     ]
    }
   ],
   "source": [
    "# Character validation methods\n",
    "print(f\"'abc123'.isalnum(): {'abc123'.isalnum()}\")  # Alphanumeric\n",
    "print(f\"'abc'.isalpha(): {'abc'.isalpha()}\")  # Alphabetic\n",
    "print(f\"'123'.isdigit(): {'123'.isdigit()}\")  # Digits\n",
    "print(f\"'   '.isspace(): {'   '.isspace()}\")  # Whitespace\n",
    "print(f\"'123.45'.isdecimal(): {'123.45'.isdecimal()}\")  # Decimal (0-9 only)\n",
    "\n",
    "# Practical validation\n",
    "def is_valid_username(username):\n",
    "    \"\"\"Check if username is valid (alphanumeric and between 3-20 chars)\"\"\"\n",
    "    return username.isalnum() and 3 <= len(username) <= 20\n",
    "\n",
    "print(f\"is_valid_username('user123'): {is_valid_username('user123')}\")\n",
    "print(f\"is_valid_username('user@123'): {is_valid_username('user@123')}\")\n",
    "print(f\"is_valid_username('ab'): {is_valid_username('ab')}\")\n",
    "\n",
    "# Time complexity of validation methods: O(n)"
   ]
  },
  {
   "cell_type": "markdown",
   "id": "e10a4bd1",
   "metadata": {},
   "source": [
    "### Split and Join"
   ]
  },
  {
   "cell_type": "code",
   "execution_count": 10,
   "id": "54b10d49",
   "metadata": {},
   "outputs": [
    {
     "name": "stdout",
     "output_type": "stream",
     "text": [
      "Split result: ['apple', 'banana', 'cherry', 'date']\n",
      "Limited split: ['apple', 'banana', 'cherry,date']\n",
      "Words: ['This', 'is', 'a', 'sample', 'sentence.']\n",
      "Mixed split: ['apple', 'banana', 'cherry', 'date']\n",
      "Joined: apple, banana, cherry, date\n",
      "Joined numbers: 1-2-3-4-5\n"
     ]
    }
   ],
   "source": [
    "# Splitting strings\n",
    "text = \"apple,banana,cherry,date\"\n",
    "fruits = text.split(',')\n",
    "print(f\"Split result: {fruits}\")\n",
    "\n",
    "# Split with limit\n",
    "limited_split = text.split(',', 2)  # Split into at most 3 parts\n",
    "print(f\"Limited split: {limited_split}\")\n",
    "\n",
    "# Split by whitespace\n",
    "sentence = \"This is a sample sentence.\"\n",
    "words = sentence.split()\n",
    "print(f\"Words: {words}\")\n",
    "\n",
    "# Split by multiple delimiters\n",
    "import re\n",
    "mixed_delimiters = \"apple,banana;cherry|date\"\n",
    "mixed_split = re.split(r'[,;|]', mixed_delimiters)\n",
    "print(f\"Mixed split: {mixed_split}\")\n",
    "\n",
    "# Join strings\n",
    "joined = ', '.join(fruits)\n",
    "print(f\"Joined: {joined}\")\n",
    "\n",
    "# Joining different types (must be converted to strings)\n",
    "numbers = [1, 2, 3, 4, 5]\n",
    "joined_numbers = '-'.join(map(str, numbers))\n",
    "print(f\"Joined numbers: {joined_numbers}\")\n",
    "\n",
    "# Time complexity:\n",
    "# split(): O(n) where n is the length of the string\n",
    "# join(): O(n) where n is the total length of all strings"
   ]
  },
  {
   "cell_type": "markdown",
   "id": "3a8ded22",
   "metadata": {},
   "source": [
    "### Stripping and Padding"
   ]
  },
  {
   "cell_type": "code",
   "execution_count": 11,
   "id": "0bceb2c8",
   "metadata": {},
   "outputs": [
    {
     "name": "stdout",
     "output_type": "stream",
     "text": [
      "Original: '   Hello, World!   '\n",
      "Stripped left: 'Hello, World!   '\n",
      "Stripped right: '   Hello, World!'\n",
      "Stripped both: 'Hello, World!'\n",
      "Original: '###Hello, World!***'\n",
      "Stripped symbols left: 'Hello, World!***'\n",
      "Stripped symbols right: '###Hello, World!'\n",
      "Stripped symbols both: 'Hello, World!'\n",
      "Left padded: 'Python    '\n",
      "Right padded: '    Python'\n",
      "Center padded: '  Python  '\n",
      "Zero-padded: '0000Python'\n",
      "Star-padded: '**Python**'\n",
      "Zero-filled: '00042'\n"
     ]
    }
   ],
   "source": [
    "# Stripping whitespace\n",
    "text = \"   Hello, World!   \"\n",
    "print(f\"Original: '{text}'\")\n",
    "print(f\"Stripped left: '{text.lstrip()}'\")\n",
    "print(f\"Stripped right: '{text.rstrip()}'\")\n",
    "print(f\"Stripped both: '{text.strip()}'\")\n",
    "\n",
    "# Stripping specific characters\n",
    "text_with_symbols = \"###Hello, World!***\"\n",
    "print(f\"Original: '{text_with_symbols}'\")\n",
    "print(f\"Stripped symbols left: '{text_with_symbols.lstrip('#')}'\")\n",
    "print(f\"Stripped symbols right: '{text_with_symbols.rstrip('*')}'\")\n",
    "print(f\"Stripped symbols both: '{text_with_symbols.strip('#*')}'\")\n",
    "\n",
    "# Padding strings\n",
    "word = \"Python\"\n",
    "print(f\"Left padded: '{word.ljust(10)}'\")\n",
    "print(f\"Right padded: '{word.rjust(10)}'\")\n",
    "print(f\"Center padded: '{word.center(10)}'\")\n",
    "\n",
    "# Padding with specific character\n",
    "print(f\"Zero-padded: '{word.rjust(10, '0')}'\")\n",
    "print(f\"Star-padded: '{word.center(10, '*')}'\")\n",
    "\n",
    "# zfill for zero padding (often used for numbers)\n",
    "number = \"42\"\n",
    "print(f\"Zero-filled: '{number.zfill(5)}'\")  # 00042\n",
    "\n",
    "# Time complexity of stripping/padding: O(n)\n"
   ]
  },
  {
   "cell_type": "markdown",
   "id": "50cac76d",
   "metadata": {},
   "source": [
    "## String Formatting\n",
    "Python offers several ways to format strings:\n"
   ]
  },
  {
   "cell_type": "code",
   "execution_count": 12,
   "id": "f3c6c36d",
   "metadata": {},
   "outputs": [
    {
     "name": "stdout",
     "output_type": "stream",
     "text": [
      "Name: Alice, Age: 30\n",
      "Name: Alice, Age: 30\n",
      "Name: Alice, Age: 30\n",
      "Pi with 2 decimal places: 3.14\n",
      "Pi with width 10 and 2 decimal places:       3.14\n",
      "Pi with zero padding: 00003.14\n",
      "Left aligned: Alice     \n",
      "Right aligned:      Alice\n",
      "Center aligned:   Alice   \n",
      "Center aligned with stars: **Alice***\n",
      "Integer with comma separator: 1,000,000\n",
      "Percentage: 25%\n",
      "Date: 2025-05-05\n",
      "Time: 09:47:40\n",
      "Date and time: 2025-05-05 09:47:40\n"
     ]
    }
   ],
   "source": [
    "name = \"Alice\"\n",
    "age = 30\n",
    "\n",
    "# Method 1: % operator (old style)\n",
    "formatted1 = \"Name: %s, Age: %d\" % (name, age)\n",
    "print(formatted1)\n",
    "\n",
    "# Method 2: str.format() method\n",
    "formatted2 = \"Name: {}, Age: {}\".format(name, age)\n",
    "print(formatted2)\n",
    "\n",
    "# Method 3: f-strings (Python 3.6+, recommended)\n",
    "formatted3 = f\"Name: {name}, Age: {age}\"\n",
    "print(formatted3)\n",
    "\n",
    "# Advanced formatting\n",
    "pi = 3.14159265359\n",
    "\n",
    "# Width and precision\n",
    "print(f\"Pi with 2 decimal places: {pi:.2f}\")\n",
    "print(f\"Pi with width 10 and 2 decimal places: {pi:10.2f}\")\n",
    "\n",
    "# Zero padding\n",
    "print(f\"Pi with zero padding: {pi:08.2f}\")\n",
    "\n",
    "# Alignment\n",
    "print(f\"Left aligned: {name:<10}\")\n",
    "print(f\"Right aligned: {name:>10}\")\n",
    "print(f\"Center aligned: {name:^10}\")\n",
    "\n",
    "# Combining alignment with fillers\n",
    "print(f\"Center aligned with stars: {name:*^10}\")\n",
    "\n",
    "# Number formatting\n",
    "print(f\"Integer with comma separator: {1000000:,}\")\n",
    "print(f\"Percentage: {0.25:.0%}\")\n",
    "\n",
    "# Dates and times\n",
    "import datetime\n",
    "now = datetime.datetime.now()\n",
    "print(f\"Date: {now:%Y-%m-%d}\")\n",
    "print(f\"Time: {now:%H:%M:%S}\")\n",
    "print(f\"Date and time: {now:%Y-%m-%d %H:%M:%S}\")\n"
   ]
  },
  {
   "cell_type": "markdown",
   "id": "6c4d21ba",
   "metadata": {},
   "source": [
    "\n",
    "## String Slicing'\n",
    "String slicing allows you to extract portions of a string:\n",
    "\n",
    "```python"
   ]
  },
  {
   "cell_type": "code",
   "execution_count": 13,
   "id": "2850c712",
   "metadata": {},
   "outputs": [
    {
     "name": "stdout",
     "output_type": "stream",
     "text": [
      "First word: 'Python'\n",
      "Second word: 'Programming'\n",
      "Last five characters: 'mming'\n",
      "Every second character: 'Pto rgamn'\n",
      "Reversed text: 'gnimmargorP nohtyP'\n",
      "Substring (full copy): 'Python Programming'\n"
     ]
    }
   ],
   "source": [
    "text = \"Python Programming\"\n",
    "\n",
    "# Basic slicing: string[start:end:step]\n",
    "# Note: end index is exclusive\n",
    "first_word = text[0:6]  # or text[:6]\n",
    "second_word = text[7:]\n",
    "print(f\"First word: '{first_word}'\")\n",
    "print(f\"Second word: '{second_word}'\")\n",
    "\n",
    "# Negative indices\n",
    "last_five = text[-5:]\n",
    "print(f\"Last five characters: '{last_five}'\")\n",
    "\n",
    "# Step parameter\n",
    "every_second = text[::2]\n",
    "print(f\"Every second character: '{every_second}'\")\n",
    "\n",
    "# Negative step for reverse\n",
    "reversed_text = text[::-1]\n",
    "print(f\"Reversed text: '{reversed_text}'\")\n",
    "\n",
    "# Using slicing to create a substring copy\n",
    "substring = text[:]\n",
    "print(f\"Substring (full copy): '{substring}'\")\n",
    "\n",
    "# Time complexity of slicing: O(k) where k is the slice size\n"
   ]
  },
  {
   "cell_type": "markdown",
   "id": "a1581dea",
   "metadata": {},
   "source": [
    "## String Algorithms\n",
    "\n",
    "Let's look at some common string algorithms and their implementations.\n",
    "### Palindrome Check\n",
    "\n",
    "A palindrome is a string that reads the same forward and backward."
   ]
  },
  {
   "cell_type": "code",
   "execution_count": 14,
   "id": "b1b45745",
   "metadata": {},
   "outputs": [
    {
     "name": "stdout",
     "output_type": "stream",
     "text": [
      "'racecar': True\n",
      "'A man, a plan, a canal: Panama': True\n",
      "'No 'x' in Nixon': True\n",
      "'': True\n",
      "'hello': False\n",
      "'Python': False\n",
      "'algorithm': False\n"
     ]
    }
   ],
   "source": [
    "def is_palindrome(s):\n",
    "    \"\"\"Check if string is a palindrome (ignore case and non-alphanumeric chars)\"\"\"\n",
    "    # Convert to lowercase and keep only alphanumeric characters\n",
    "    s = ''.join(c.lower() for c in s if c.isalnum())\n",
    "    \n",
    "    # Compare with reversed version\n",
    "    return s == s[::-1]\n",
    "\n",
    "# Test cases\n",
    "palindromes = [\n",
    "    \"racecar\",\n",
    "    \"A man, a plan, a canal: Panama\",\n",
    "    \"No 'x' in Nixon\",\n",
    "    \"\"  # Empty string is a palindrome\n",
    "]\n",
    "\n",
    "non_palindromes = [\n",
    "    \"hello\",\n",
    "    \"Python\",\n",
    "    \"algorithm\"\n",
    "]\n",
    "\n",
    "for p in palindromes:\n",
    "    print(f\"'{p}': {is_palindrome(p)}\")\n",
    "    \n",
    "for np in non_palindromes:\n",
    "    print(f\"'{np}': {is_palindrome(np)}\")\n",
    "\n",
    "# Time Complexity: O(n)\n",
    "# Space Complexity: O(n) for the cleaned string\n"
   ]
  },
  {
   "cell_type": "markdown",
   "id": "1db84474",
   "metadata": {},
   "source": [
    "### Two-pointer approach for Palindrome Check"
   ]
  },
  {
   "cell_type": "code",
   "execution_count": 15,
   "id": "f45d152d",
   "metadata": {},
   "outputs": [
    {
     "name": "stdout",
     "output_type": "stream",
     "text": [
      "Two-pointer approach - 'racecar': True\n",
      "Two-pointer approach - 'A man, a plan, a canal: Panama': True\n",
      "Two-pointer approach - 'No 'x' in Nixon': True\n",
      "Two-pointer approach - '': True\n"
     ]
    }
   ],
   "source": [
    "def is_palindrome_two_pointers(s):\n",
    "    \"\"\"Check if string is a palindrome using two pointers (more space efficient)\"\"\"\n",
    "    # Convert to lowercase and filter out non-alphanumeric characters\n",
    "    s = ''.join(c.lower() for c in s if c.isalnum())\n",
    "    \n",
    "    # Use two pointers approach\n",
    "    left, right = 0, len(s) - 1\n",
    "    \n",
    "    while left < right:\n",
    "        if s[left] != s[right]:\n",
    "            return False\n",
    "        left += 1\n",
    "        right -= 1\n",
    "    \n",
    "    return True\n",
    "\n",
    "# Test with the same examples\n",
    "for p in palindromes:\n",
    "    print(f\"Two-pointer approach - '{p}': {is_palindrome_two_pointers(p)}\")\n",
    "\n",
    "# Time Complexity: O(n)\n",
    "# Space Complexity: O(n) for the cleaned string\n",
    "# Note: We could further reduce space by skipping non-alphanumeric chars on the fly"
   ]
  },
  {
   "cell_type": "markdown",
   "id": "02cda7f1",
   "metadata": {},
   "source": [
    "### Anagram Check\n",
    "\n",
    "An anagram is a word or phrase formed by rearranging the letters of another."
   ]
  },
  {
   "cell_type": "code",
   "execution_count": 16,
   "id": "b8e862be",
   "metadata": {},
   "outputs": [
    {
     "name": "stdout",
     "output_type": "stream",
     "text": [
      "'listen' and 'silent': True (Sort method)\n",
      "'listen' and 'silent': True (Counter method)\n",
      "'funeral' and 'real fun': True (Sort method)\n",
      "'funeral' and 'real fun': True (Counter method)\n",
      "'a gentleman' and 'elegant man': True (Sort method)\n",
      "'a gentleman' and 'elegant man': True (Counter method)\n",
      "'eleven plus two' and 'twelve plus one': True (Sort method)\n",
      "'eleven plus two' and 'twelve plus one': True (Counter method)\n"
     ]
    }
   ],
   "source": [
    "def is_anagram(s1, s2):\n",
    "    \"\"\"Check if two strings are anagrams of each other\"\"\"\n",
    "    # Remove spaces and convert to lowercase\n",
    "    s1 = s1.replace(\" \", \"\").lower()\n",
    "    s2 = s2.replace(\" \", \"\").lower()\n",
    "    \n",
    "    # If lengths are different, they can't be anagrams\n",
    "    if len(s1) != len(s2):\n",
    "        return False\n",
    "    \n",
    "    # Method 1: Sort both strings and compare\n",
    "    return sorted(s1) == sorted(s2)\n",
    "\n",
    "# Method 2: Count characters\n",
    "def is_anagram_counter(s1, s2):\n",
    "    \"\"\"Check if two strings are anagrams using character counting\"\"\"\n",
    "    # Remove spaces and convert to lowercase\n",
    "    s1 = s1.replace(\" \", \"\").lower()\n",
    "    s2 = s2.replace(\" \", \"\").lower()\n",
    "    \n",
    "    # If lengths are different, they can't be anagrams\n",
    "    if len(s1) != len(s2):\n",
    "        return False\n",
    "    \n",
    "    # Count characters in first string\n",
    "    char_count = {}\n",
    "    for char in s1:\n",
    "        char_count[char] = char_count.get(char, 0) + 1\n",
    "    \n",
    "    # Check against second string\n",
    "    for char in s2:\n",
    "        if char not in char_count or char_count[char] == 0:\n",
    "            return False\n",
    "        char_count[char] -= 1\n",
    "    \n",
    "    return True\n",
    "\n",
    "# Test cases\n",
    "anagram_pairs = [\n",
    "    (\"listen\", \"silent\"),\n",
    "    (\"funeral\", \"real fun\"),\n",
    "    (\"a gentleman\", \"elegant man\"),\n",
    "    (\"eleven plus two\", \"twelve plus one\")\n",
    "]\n",
    "\n",
    "for s1, s2 in anagram_pairs:\n",
    "    print(f\"'{s1}' and '{s2}': {is_anagram(s1, s2)} (Sort method)\")\n",
    "    print(f\"'{s1}' and '{s2}': {is_anagram_counter(s1, s2)} (Counter method)\")\n",
    "\n",
    "# Time Complexity:\n",
    "# is_anagram: O(n log n) due to sorting\n",
    "# is_anagram_counter: O(n) where n is the length of the strings"
   ]
  },
  {
   "cell_type": "markdown",
   "id": "6a837bda",
   "metadata": {},
   "source": [
    "### String Matching\n",
    "\n",
    "String matching algorithms find occurrences of a pattern within a text.\n",
    "\n",
    "#### Naive String Matching"
   ]
  },
  {
   "cell_type": "code",
   "execution_count": 17,
   "id": "5884e800",
   "metadata": {},
   "outputs": [
    {
     "name": "stdout",
     "output_type": "stream",
     "text": [
      "Pattern 'ABABC' occurs at positions: [10]\n"
     ]
    }
   ],
   "source": [
    "def naive_string_match(text, pattern):\n",
    "    \"\"\"Find all occurrences of pattern in text using naive approach\"\"\"\n",
    "    n, m = len(text), len(pattern)\n",
    "    occurrences = []\n",
    "    \n",
    "    # Check pattern at each possible position\n",
    "    for i in range(n - m + 1):\n",
    "        match = True\n",
    "        \n",
    "        # Check if pattern matches at this position\n",
    "        for j in range(m):\n",
    "            if text[i + j] != pattern[j]:\n",
    "                match = False\n",
    "                break\n",
    "        \n",
    "        if match:\n",
    "            occurrences.append(i)\n",
    "    \n",
    "    return occurrences\n",
    "\n",
    "# Test\n",
    "text = \"ABABDABACDABABCABAB\"\n",
    "pattern = \"ABABC\"\n",
    "occurrences = naive_string_match(text, pattern)\n",
    "print(f\"Pattern '{pattern}' occurs at positions: {occurrences}\")\n",
    "\n",
    "# Time Complexity: O(n*m) in the worst case\n",
    "# n is length of text, m is length of pattern"
   ]
  },
  {
   "cell_type": "markdown",
   "id": "0323aba6",
   "metadata": {},
   "source": [
    "#### Rabin-Karp Algorithm\n",
    "\n",
    "The Rabin-Karp algorithm uses hashing to find patterns in text."
   ]
  },
  {
   "cell_type": "code",
   "execution_count": 18,
   "id": "075e3a6f",
   "metadata": {},
   "outputs": [
    {
     "name": "stdout",
     "output_type": "stream",
     "text": [
      "Pattern 'ABABC' occurs at positions: [10]\n"
     ]
    }
   ],
   "source": [
    "def rabin_karp(text, pattern):\n",
    "    \"\"\"Find all occurrences of pattern in text using Rabin-Karp algorithm\"\"\"\n",
    "    n, m = len(text), len(pattern)\n",
    "    occurrences = []\n",
    "    \n",
    "    # Base for hash calculation (use a prime number)\n",
    "    base = 256  # Number of possible characters\n",
    "    prime = 101  # A prime number for modulo\n",
    "    \n",
    "    # Calculate hash for pattern and first window of text\n",
    "    pattern_hash = 0\n",
    "    text_hash = 0\n",
    "    \n",
    "    # Calculate hash for pattern and first window\n",
    "    for i in range(m):\n",
    "        pattern_hash = (pattern_hash * base + ord(pattern[i])) % prime\n",
    "        text_hash = (text_hash * base + ord(text[i])) % prime\n",
    "    \n",
    "    # Calculate base^(m-1) % prime for rolling hash\n",
    "    h = 1\n",
    "    for i in range(m - 1):\n",
    "        h = (h * base) % prime\n",
    "    \n",
    "    # Slide pattern over text\n",
    "    for i in range(n - m + 1):\n",
    "        # Check if hashes match\n",
    "        if pattern_hash == text_hash:\n",
    "            # Verify the match (to handle hash collisions)\n",
    "            match = True\n",
    "            for j in range(m):\n",
    "                if text[i + j] != pattern[j]:\n",
    "                    match = False\n",
    "                    break\n",
    "            \n",
    "            if match:\n",
    "                occurrences.append(i)\n",
    "        \n",
    "        # Calculate hash for next window\n",
    "        if i < n - m:\n",
    "            # Remove leading digit, add trailing digit\n",
    "            text_hash = ((text_hash - ord(text[i]) * h) * base + ord(text[i + m])) % prime\n",
    "            # Handle negative hash\n",
    "            if text_hash < 0:\n",
    "                text_hash += prime\n",
    "    \n",
    "    return occurrences\n",
    "\n",
    "# Test\n",
    "text = \"ABABDABACDABABCABAB\"\n",
    "pattern = \"ABABC\"\n",
    "occurrences = rabin_karp(text, pattern)\n",
    "print(f\"Pattern '{pattern}' occurs at positions: {occurrences}\")\n",
    "\n",
    "# Time Complexity:\n",
    "# Average case: O(n + m) where n is text length and m is pattern length\n",
    "# Worst case: O(n*m) if many hash collisions occur"
   ]
  },
  {
   "cell_type": "markdown",
   "id": "60abe4f6",
   "metadata": {},
   "source": [
    "### Longest Common Substring\n",
    "\n",
    "The longest common substring of two strings is the longest string that is a substring of both strings.\n",
    "\n"
   ]
  },
  {
   "cell_type": "code",
   "execution_count": 19,
   "id": "5d687fe8",
   "metadata": {},
   "outputs": [
    {
     "name": "stdout",
     "output_type": "stream",
     "text": [
      "Longest common substring of 'abcdefgh' and 'xyzabcde': 'abcde'\n"
     ]
    }
   ],
   "source": [
    "def longest_common_substring(s1, s2):\n",
    "    \"\"\"Find the longest common substring between two strings using dynamic programming\"\"\"\n",
    "    m, n = len(s1), len(s2)\n",
    "    \n",
    "    # Create DP table\n",
    "    dp = [[0 for _ in range(n+1)] for _ in range(m+1)]\n",
    "    \n",
    "    # Variables to store maximum length and ending position\n",
    "    max_length = 0\n",
    "    end_pos = 0\n",
    "    \n",
    "    # Fill the DP table\n",
    "    for i in range(1, m+1):\n",
    "        for j in range(1, n+1):\n",
    "            if s1[i-1] == s2[j-1]:\n",
    "                dp[i][j] = dp[i-1][j-1] + 1\n",
    "                \n",
    "                if dp[i][j] > max_length:\n",
    "                    max_length = dp[i][j]\n",
    "                    end_pos = i\n",
    "    \n",
    "    # Extract the substring\n",
    "    start_pos = end_pos - max_length\n",
    "    return s1[start_pos:end_pos]\n",
    "\n",
    "# Test\n",
    "str1 = \"abcdefgh\"\n",
    "str2 = \"xyzabcde\"\n",
    "lcs = longest_common_substring(str1, str2)\n",
    "print(f\"Longest common substring of '{str1}' and '{str2}': '{lcs}'\")\n",
    "\n",
    "# Time Complexity: O(m*n) where m and n are the lengths of the strings\n",
    "# Space Complexity: O(m*n) for the DP table"
   ]
  },
  {
   "cell_type": "markdown",
   "id": "07329bcb",
   "metadata": {},
   "source": [
    "### Edit Distance\n",
    "\n",
    "The edit distance (Levenshtein distance) between two strings is the minimum number of operations (insertions, deletions, or substitutions) required to transform one string into another.\n"
   ]
  },
  {
   "cell_type": "code",
   "execution_count": 20,
   "id": "cf5420e6",
   "metadata": {},
   "outputs": [
    {
     "name": "stdout",
     "output_type": "stream",
     "text": [
      "Edit distance between 'kitten' and 'sitting': 3\n",
      "Edit distance between 'algorithm' and 'logarithm': 3\n",
      "Edit distance between 'python' and 'typhon': 2\n",
      "Edit distance between 'saturday' and 'sunday': 3\n"
     ]
    }
   ],
   "source": [
    "def edit_distance(s1, s2):\n",
    "    \"\"\"Calculate the edit distance between two strings\"\"\"\n",
    "    m, n = len(s1), len(s2)\n",
    "    \n",
    "    # Create DP table\n",
    "    dp = [[0 for _ in range(n+1)] for _ in range(m+1)]\n",
    "    \n",
    "    # Base cases: transforming to/from empty string\n",
    "    for i in range(m+1):\n",
    "        dp[i][0] = i  # Delete all characters\n",
    "    \n",
    "    for j in range(n+1):\n",
    "        dp[0][j] = j  # Insert all characters\n",
    "    \n",
    "    # Fill the DP table\n",
    "    for i in range(1, m+1):\n",
    "        for j in range(1, n+1):\n",
    "            if s1[i-1] == s2[j-1]:\n",
    "                dp[i][j] = dp[i-1][j-1]  # No operation needed\n",
    "            else:\n",
    "                dp[i][j] = 1 + min(\n",
    "                    dp[i-1][j],    # Deletion\n",
    "                    dp[i][j-1],    # Insertion\n",
    "                    dp[i-1][j-1]   # Substitution\n",
    "                )\n",
    "    \n",
    "    return dp[m][n]\n",
    "\n",
    "# Test\n",
    "words = [\n",
    "    (\"kitten\", \"sitting\"),\n",
    "    (\"algorithm\", \"logarithm\"),\n",
    "    (\"python\", \"typhon\"),\n",
    "    (\"saturday\", \"sunday\")\n",
    "]\n",
    "\n",
    "for word1, word2 in words:\n",
    "    distance = edit_distance(word1, word2)\n",
    "    print(f\"Edit distance between '{word1}' and '{word2}': {distance}\")\n",
    "\n",
    "# Time Complexity: O(m*n) where m and n are the lengths of the strings\n",
    "# Space Complexity: O(m*n) for the DP table"
   ]
  },
  {
   "cell_type": "markdown",
   "id": "0428a53b",
   "metadata": {},
   "source": [
    "## Regular Expressions\n",
    "\n",
    "Regular expressions provide a powerful way to search, match, and manipulate strings based on patterns.\n"
   ]
  },
  {
   "cell_type": "code",
   "execution_count": 22,
   "id": "6dc59be9",
   "metadata": {},
   "outputs": [
    {
     "name": "stdout",
     "output_type": "stream",
     "text": [
      "Search result: <re.Match object; span=(4, 8), match='rain'>\n",
      "Match start: 4, end: 8, span: (4, 8)\n",
      "All 'in' occurrences: ['in', 'in', 'in', 'in', 'in', 'in'], count: 6\n",
      "'in' positions: [(6, 8), (9, 11), (15, 17), (26, 28), (31, 33), (41, 43)]\n",
      "Digits: ['1', '2', '3', '4', '5', '6', '7', '8', '9', '0']\n",
      "Words: ['This', 'is', 'a', 'test']\n",
      "Phone numbers: ['123-456-7890', '987-654-3210']\n",
      "First name: John, Last name: Doe\n",
      "Dates (day, month, year): [('02', '15', '2020'), ('03', '20', '2021'), ('10', '25', '2022')]\n",
      "Censored vowels: H*ll* W*rld\n",
      "Case-insensitive matches: ['Python', 'python']\n",
      "user@example.com: Valid\n",
      "invalid.email: Invalid\n",
      "another.user@domain.co.uk: Valid\n"
     ]
    }
   ],
   "source": [
    "import re\n",
    "\n",
    "# Basic patterns\n",
    "text = \"The rain in Spain falls mainly in the plain.\"\n",
    "\n",
    "# Search for a pattern\n",
    "match = re.search(r'rain', text)\n",
    "print(f\"Search result: {match}\")\n",
    "print(f\"Match start: {match.start()}, end: {match.end()}, span: {match.span()}\")\n",
    "\n",
    "# Find all occurrences\n",
    "all_matches = re.findall(r'in', text)\n",
    "print(f\"All 'in' occurrences: {all_matches}, count: {len(all_matches)}\")\n",
    "\n",
    "# Find all occurrences with positions\n",
    "positions = [(m.start(), m.end()) for m in re.finditer(r'in', text)]\n",
    "print(f\"'in' positions: {positions}\")\n",
    "\n",
    "# Character classes\n",
    "digits = re.findall(r'\\d', \"Phone: 123-456-7890\")  # Digits\n",
    "print(f\"Digits: {digits}\")\n",
    "\n",
    "words = re.findall(r'\\w+', \"This is a test!\")  # Word characters\n",
    "print(f\"Words: {words}\")\n",
    "\n",
    "# Patterns with quantifiers\n",
    "phone_pattern = re.compile(r'\\d{3}-\\d{3}-\\d{4}')\n",
    "phone_matches = phone_pattern.findall(\"Call me at 123-456-7890 or 987-654-3210\")\n",
    "print(f\"Phone numbers: {phone_matches}\")\n",
    "\n",
    "# Grouping\n",
    "name_pattern = re.compile(r'(\\w+)\\s(\\w+)')\n",
    "match = name_pattern.search(\"John Doe\")\n",
    "if match:\n",
    "    print(f\"First name: {match.group(1)}, Last name: {match.group(2)}\")\n",
    "\n",
    "# Capture vs. non-capture groups\n",
    "date_pattern = re.compile(r'(\\d{2})[-/.](\\d{2})[-/.](\\d{4})')\n",
    "date_matches = date_pattern.findall(\"Dates: 02/15/2020, 03-20-2021, 10.25.2022\")\n",
    "print(f\"Dates (day, month, year): {date_matches}\")\n",
    "\n",
    "# Replacement\n",
    "censored = re.sub(r'[aeiou]', '*', \"Hello World\")\n",
    "print(f\"Censored vowels: {censored}\")\n",
    "\n",
    "# Case-insensitive matching\n",
    "case_insensitive = re.findall(r'python', \"Python and python are the same in regex if we use flags.\", re.IGNORECASE)\n",
    "print(f\"Case-insensitive matches: {case_insensitive}\")\n",
    "\n",
    "# Email validation pattern\n",
    "email_pattern = re.compile(r'^[\\w.-]+@[\\w.-]+\\.\\w+')\n",
    "emails = [\"user@example.com\", \"invalid.email\", \"another.user@domain.co.uk\"]\n",
    "for email in emails:\n",
    "    print(f\"{email}: {'Valid' if email_pattern.match(email) else 'Invalid'}\")\n",
    "\n",
    "\n"
   ]
  },
  {
   "cell_type": "code",
   "execution_count": 23,
   "id": "1b91b14f",
   "metadata": {},
   "outputs": [
    {
     "name": "stdout",
     "output_type": "stream",
     "text": [
      "\n",
      "Testing email pattern:\n",
      "  'valid@example.com': Valid\n",
      "  'invalid.email': Invalid\n",
      "\n",
      "Testing phone_us pattern:\n",
      "  '(123) 456-7890': Valid\n",
      "  '123-456-7890': Invalid\n",
      "\n",
      "Testing date_iso pattern:\n",
      "  '2023-01-31': Valid\n",
      "  '01/31/2023': Invalid\n",
      "\n",
      "Testing time_24h pattern:\n",
      "  '13:45': Valid\n",
      "  '25:60': Invalid\n",
      "\n",
      "Testing url pattern:\n",
      "  'https://www.example.com': Valid\n",
      "  'invalid-url': Invalid\n",
      "\n",
      "Testing ip_address pattern:\n",
      "  '192.168.1.1': Valid\n",
      "  '256.0.0.1': Valid\n",
      "\n",
      "Testing username pattern:\n",
      "  'user_123': Valid\n",
      "  'a!': Invalid\n",
      "\n",
      "Testing password pattern:\n",
      "  'password123': Valid\n",
      "  'pass': Invalid\n"
     ]
    }
   ],
   "source": [
    "### Common Regex Patterns\n",
    "\n",
    "# Common regex patterns for validation\n",
    "patterns = {\n",
    "    'email': r'^[\\w.-]+@[\\w.-]+\\.\\w+',\n",
    "    'phone_us': r'^\\(\\d{3}\\)\\s\\d{3}-\\d{4}',  # (123) 456-7890\n",
    "    'date_iso': r'^\\d{4}-\\d{2}-\\d{2}',  # YYYY-MM-DD\n",
    "    'time_24h': r'^([01]\\d|2[0-3]):([0-5]\\d)',  # HH:MM\n",
    "    'url': r'^https?:\\/\\/(www\\.)?[-a-zA-Z0-9@:%._\\+~#=]{2,256}\\.[a-z]{2,6}\\b([-a-zA-Z0-9@:%_\\+.~#?&//=]*)',\n",
    "    'ip_address': r'^(\\d{1,3})\\.(\\d{1,3})\\.(\\d{1,3})\\.(\\d{1,3})',\n",
    "    'username': r'^[a-zA-Z0-9_]{3,16}',  # 3-16 alphanumeric or underscore\n",
    "    'password': r'^(?=.*[A-Za-z])(?=.*\\d)[A-Za-z\\d]{8,}'  # At least 8 chars, one letter and one number\n",
    "}\n",
    "\n",
    "# Test data\n",
    "test_data = {\n",
    "    'email': ['valid@example.com', 'invalid.email'],\n",
    "    'phone_us': ['(123) 456-7890', '123-456-7890'],\n",
    "    'date_iso': ['2023-01-31', '01/31/2023'],\n",
    "    'time_24h': ['13:45', '25:60'],\n",
    "    'url': ['https://www.example.com', 'invalid-url'],\n",
    "    'ip_address': ['192.168.1.1', '256.0.0.1'],\n",
    "    'username': ['user_123', 'a!'],\n",
    "    'password': ['password123', 'pass']\n",
    "}\n",
    "\n",
    "# Test each pattern\n",
    "for pattern_name, pattern in patterns.items():\n",
    "    print(f\"\\nTesting {pattern_name} pattern:\")\n",
    "    compiled = re.compile(pattern)\n",
    "    \n",
    "    for test in test_data[pattern_name]:\n",
    "        is_valid = bool(compiled.match(test))\n",
    "        print(f\"  '{test}': {'Valid' if is_valid else 'Invalid'}\")"
   ]
  },
  {
   "cell_type": "markdown",
   "id": "a1754d67",
   "metadata": {},
   "source": [
    "## String Performance\n",
    "\n",
    "Let's examine the performance characteristics of various string operations.\n"
   ]
  },
  {
   "cell_type": "code",
   "execution_count": 24,
   "id": "b8fec785",
   "metadata": {},
   "outputs": [
    {
     "data": {
      "image/png": "[encoded data removed]",
      "text/plain": [
       "<Figure size 1400x800 with 6 Axes>"
      ]
     },
     "metadata": {},
     "output_type": "display_data"
    }
   ],
   "source": [
    "import time\n",
    "import matplotlib.pyplot as plt\n",
    "\n",
    "# Function to measure execution time\n",
    "def measure_time(func, *args, **kwargs):\n",
    "    start = time.time()\n",
    "    result = func(*args, **kwargs)\n",
    "    end = time.time()\n",
    "    return end - start, result\n",
    "\n",
    "# Test data sizes\n",
    "sizes = [1000, 10000, 100000, 1000000]\n",
    "concatenation_times = []\n",
    "join_times = []\n",
    "search_times = []\n",
    "replace_times = []\n",
    "split_times = []\n",
    "regex_times = []\n",
    "\n",
    "for size in sizes:\n",
    "    # Prepare a long string\n",
    "    long_string = 'a' * size\n",
    "    \n",
    "    # Test string concatenation\n",
    "    def concat_test():\n",
    "        result = \"\"\n",
    "        for i in range(1000):  # Limited iterations for large strings\n",
    "            result += \"a\"\n",
    "        return result\n",
    "    \n",
    "    time_taken, _ = measure_time(concat_test)\n",
    "    concatenation_times.append(time_taken)\n",
    "    \n",
    "    # Test string join\n",
    "    def join_test():\n",
    "        return \"\".join([\"a\" for _ in range(1000)])\n",
    "    \n",
    "    time_taken, _ = measure_time(join_test)\n",
    "    join_times.append(time_taken)\n",
    "    \n",
    "    # Test string search\n",
    "    def search_test():\n",
    "        # Search for 'aaa' at the end of the string\n",
    "        return long_string.find('aaa', size - 10)\n",
    "    \n",
    "    time_taken, _ = measure_time(search_test)\n",
    "    search_times.append(time_taken)\n",
    "    \n",
    "    # Test string replace\n",
    "    def replace_test():\n",
    "        # Replace first 100 'a's with 'b's\n",
    "        return long_string.replace('a', 'b', 100)\n",
    "    \n",
    "    time_taken, _ = measure_time(replace_test)\n",
    "    replace_times.append(time_taken)\n",
    "    \n",
    "    # Test string split\n",
    "    def split_test():\n",
    "        # Create a string with many delimiters and split it\n",
    "        split_string = \"a,b,c\" * (size // 6)  # Maintain approximate size\n",
    "        return split_string.split(',')\n",
    "    \n",
    "    time_taken, _ = measure_time(split_test)\n",
    "    split_times.append(time_taken)\n",
    "    \n",
    "    # Test regex\n",
    "    def regex_test():\n",
    "        # Find all sequences of 'a's\n",
    "        return len(re.findall(r'a+', long_string[:1000]))  # Limit for large strings\n",
    "    \n",
    "    time_taken, _ = measure_time(regex_test)\n",
    "    regex_times.append(time_taken)\n",
    "\n",
    "# Plot the results\n",
    "plt.figure(figsize=(14, 8))\n",
    "\n",
    "plt.subplot(2, 3, 1)\n",
    "plt.plot(sizes, concatenation_times, 'o-')\n",
    "plt.title('String Concatenation')\n",
    "plt.xlabel('String Size (characters)')\n",
    "plt.ylabel('Time (seconds)')\n",
    "plt.xscale('log')\n",
    "\n",
    "plt.subplot(2, 3, 2)\n",
    "plt.plot(sizes, join_times, 'o-')\n",
    "plt.title('String Join')\n",
    "plt.xlabel('String Size (characters)')\n",
    "plt.ylabel('Time (seconds)')\n",
    "plt.xscale('log')\n",
    "\n",
    "plt.subplot(2, 3, 3)\n",
    "plt.plot(sizes, search_times, 'o-')\n",
    "plt.title('String Search')\n",
    "plt.xlabel('String Size (characters)')\n",
    "plt.ylabel('Time (seconds)')\n",
    "plt.xscale('log')\n",
    "\n",
    "plt.subplot(2, 3, 4)\n",
    "plt.plot(sizes, replace_times, 'o-')\n",
    "plt.title('String Replace')\n",
    "plt.xlabel('String Size (characters)')\n",
    "plt.ylabel('Time (seconds)')\n",
    "plt.xscale('log')\n",
    "\n",
    "plt.subplot(2, 3, 5)\n",
    "plt.plot(sizes, split_times, 'o-')\n",
    "plt.title('String Split')\n",
    "plt.xlabel('String Size (characters)')\n",
    "plt.ylabel('Time (seconds)')\n",
    "plt.xscale('log')\n",
    "\n",
    "plt.subplot(2, 3, 6)\n",
    "plt.plot(sizes, regex_times, 'o-')\n",
    "plt.title('Regex Match')\n",
    "plt.xlabel('String Size (characters)')\n",
    "plt.ylabel('Time (seconds)')\n",
    "plt.xscale('log')\n",
    "\n",
    "plt.tight_layout()\n",
    "\n"
   ]
  },
  {
   "cell_type": "markdown",
   "id": "e2c168b4",
   "metadata": {},
   "source": [
    "### String Concatenation Performance"
   ]
  },
  {
   "cell_type": "code",
   "execution_count": 26,
   "id": "751f2482",
   "metadata": {},
   "outputs": [
    {
     "name": "stdout",
     "output_type": "stream",
     "text": [
      "Size 100:\n",
      "  Method 1 (+): 0.000000 seconds\n",
      "  Method 2 (append+join): 0.000000 seconds\n",
      "  Method 3 (comprehension+join): 0.000000 seconds\n",
      "  Method 2 is 0.0x faster than Method 1\n",
      "  Method 3 is 0.0x faster than Method 1\n",
      "\n",
      "Size 1000:\n",
      "  Method 1 (+): 0.000000 seconds\n",
      "  Method 2 (append+join): 0.000000 seconds\n",
      "  Method 3 (comprehension+join): 0.000000 seconds\n",
      "  Method 2 is 0.0x faster than Method 1\n",
      "  Method 3 is 0.0x faster than Method 1\n",
      "\n",
      "Size 10000:\n",
      "  Method 1 (+): 0.001658 seconds\n",
      "  Method 2 (append+join): 0.001324 seconds\n",
      "  Method 3 (comprehension+join): 0.001005 seconds\n",
      "  Method 2 is 1.2x faster than Method 1\n",
      "  Method 3 is 1.5x faster than Method 1\n",
      "\n"
     ]
    },
    {
     "data": {
      "image/png": "[encoded data removed]",
      "text/plain": [
       "<Figure size 1000x600 with 1 Axes>"
      ]
     },
     "metadata": {},
     "output_type": "display_data"
    }
   ],
   "source": [
    "# Compare different methods of string concatenation\n",
    "def concat_test(n):\n",
    "    # Method 1: Using + operator\n",
    "    start = time.time()\n",
    "    result = \"\"\n",
    "    for i in range(n):\n",
    "        result += str(i)\n",
    "    method1_time = time.time() - start\n",
    "    \n",
    "    # Method 2: Using join\n",
    "    start = time.time()\n",
    "    parts = []\n",
    "    for i in range(n):\n",
    "        parts.append(str(i))\n",
    "    result = \"\".join(parts)\n",
    "    method2_time = time.time() - start\n",
    "    \n",
    "    # Method 3: Using list comprehension with join\n",
    "    start = time.time()\n",
    "    result = \"\".join(str(i) for i in range(n))\n",
    "    method3_time = time.time() - start\n",
    "    \n",
    "    return method1_time, method2_time, method3_time\n",
    "\n",
    "# Test with different sizes\n",
    "concat_sizes = [100, 1000, 10000]\n",
    "method1_times = []\n",
    "method2_times = []\n",
    "method3_times = []\n",
    "\n",
    "for size in concat_sizes:\n",
    "    m1, m2, m3 = concat_test(size)\n",
    "    method1_times.append(m1)\n",
    "    method2_times.append(m2)\n",
    "    method3_times.append(m3)\n",
    "    \n",
    "    print(f\"Size {size}:\")\n",
    "    print(f\"  Method 1 (+): {m1:.6f} seconds\")\n",
    "    print(f\"  Method 2 (append+join): {m2:.6f} seconds\")\n",
    "    print(f\"  Method 3 (comprehension+join): {m3:.6f} seconds\")\n",
    "    print(f\"  Method 2 is {m1/(0.0001 + m2):.1f}x faster than Method 1\")\n",
    "    print(f\"  Method 3 is {m1/(0.0001 + m3):.1f}x faster than Method 1\")\n",
    "    print()\n",
    "\n",
    "# Plot results\n",
    "plt.figure(figsize=(10, 6))\n",
    "plt.plot(concat_sizes, method1_times, 'o-', label='+ operator')\n",
    "plt.plot(concat_sizes, method2_times, 's-', label='append + join')\n",
    "plt.plot(concat_sizes, method3_times, '^-', label='comprehension + join')\n",
    "plt.title('String Concatenation Performance')\n",
    "plt.xlabel('Number of Concatenations')\n",
    "plt.ylabel('Time (seconds)')\n",
    "plt.legend()\n",
    "plt.grid(True)\n",
    "\n"
   ]
  },
  {
   "cell_type": "markdown",
   "id": "f713c23d",
   "metadata": {},
   "source": [
    "## Summary\n",
    "\n",
    "Key takeaways from this notebook:\n",
    "\n",
    "1. **String Basics**:\n",
    "   - Strings in Python are immutable sequences of Unicode characters\n",
    "   - Access characters using indexing and slicing\n",
    "   - Create strings with quotes (', \", ''', \"\"\")\n",
    "\n",
    "2. **String Methods**:\n",
    "   - Search and replace: `find()`, `replace()`, `count()`\n",
    "   - Case conversion: `upper()`, `lower()`, `title()`\n",
    "   - Validation: `isalnum()`, `isalpha()`, `isdigit()`\n",
    "   - Split and join: `split()`, `join()`\n",
    "   - Stripping and padding: `strip()`, `ljust()`, `rjust()`\n",
    "\n",
    "3. **String Formatting**:\n",
    "   - F-strings (recommended): `f\"Name: {name}\"`\n",
    "   - str.format(): `\"Name: {}\".format(name)`\n",
    "   - % operator: `\"Name: %s\" % name`\n",
    "\n",
    "4. **String Algorithms**:\n",
    "   - Palindrome check: `s == s[::-1]`\n",
    "   - Anagram check: Sort and compare, or count characters\n",
    "   - String matching: Naive approach, Rabin-Karp\n",
    "   - Edit distance: Dynamic programming approach\n",
    "\n",
    "5. **Regular Expressions**:\n",
    "   - Pattern matching with the `re` module\n",
    "   - Basic patterns: `\\d`, `\\w`, `\\s`, etc.\n",
    "   - Quantifiers: `*`, `+`, `?`, `{n,m}`\n",
    "   - Groups and captures: `()`\n",
    "\n",
    "6. **Performance Considerations**:\n",
    "   - String immutability means operations create new strings\n",
    "   - Use `join()` instead of `+` for concatenating many strings\n",
    "   - Regular expressions can be slow for simple patterns\n",
    "   - Consider `in` operator for simple substring checks\n",
    "\n"
   ]
  },
  {
   "cell_type": "code",
   "execution_count": null,
   "id": "a5611f10",
   "metadata": {},
   "outputs": [],
   "source": []
  }
 ],
 "metadata": {
  "kernelspec": {
   "display_name": "fenv",
   "language": "python",
   "name": "python3"
  },
  "language_info": {
   "codemirror_mode": {
    "name": "ipython",
    "version": 3
   },
   "file_extension": ".py",
   "mimetype": "text/x-python",
   "name": "python",
   "nbconvert_exporter": "python",
   "pygments_lexer": "ipython3",
   "version": "3.12.3"
  }
 },
 "nbformat": 4,
 "nbformat_minor": 5
}
