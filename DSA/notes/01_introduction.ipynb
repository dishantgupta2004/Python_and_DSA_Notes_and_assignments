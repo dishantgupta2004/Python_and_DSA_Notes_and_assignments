{
 "cells": [
  {
   "cell_type": "markdown",
   "id": "9242e647",
   "metadata": {},
   "source": [
    "1. **Beginner Level: Foundation**\n",
    " - What is DSA?\n",
    " - Importance of DSA in problem-solving and interviews.\n",
    " - Time and space Complexity (Big O Notation)\n",
    " - Basic Python Refresor (Lists, Dict, Sets, Functions, Recursion, Anomolous functions)\n",
    "\n",
    "2. **Core Data Structures**\n",
    "- Arrays (Basics, Operations, string operation and manipulations)\n",
    "- Linked List\n",
    "- Stacks and Queues\n",
    "\n",
    "3. **Recursion and Searching**\n",
    "- Base and recursive case\n",
    "- Backtracking\n",
    "- Tail Recursion\n",
    "- Memoization and DP intro\n",
    "- Searching Algorithms\n",
    "\n",
    "4. **Non-Linear Data Structures**\n",
    "- Trees\n",
    "- Heaps\n",
    "- Graphs\n",
    "\n",
    "5. **Algorithms**\n",
    "- Sorting Algorithms\n",
    "- Greedy Algorithms\n",
    "- Dynamic Programming\n",
    "- Backtracking\n",
    "\n",
    "6. **Advanced Topics**\n",
    "- Tries (Insert/Search words, Prefix search, Auto-complete systems)\n",
    "- Segment trees / binary indexed tree (fenwick tree)\n",
    "- Bit Manipulation (AND, OR, XOR Operations, power of 2, set bits count, bit masking)\n"
   ]
  },
  {
   "cell_type": "code",
   "execution_count": null,
   "id": "dad8403c",
   "metadata": {},
   "outputs": [],
   "source": []
  }
 ],
 "metadata": {
  "kernelspec": {
   "display_name": "fenv",
   "language": "python",
   "name": "python3"
  },
  "language_info": {
   "name": "python",
   "version": "3.12.3"
  }
 },
 "nbformat": 4,
 "nbformat_minor": 5
}
