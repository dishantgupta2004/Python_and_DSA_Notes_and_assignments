{
 "cells": [
  {
   "cell_type": "markdown",
   "id": "d40c1ab0",
   "metadata": {},
   "source": [
    "#### **Linked List vs Arrays**\n",
    "In case of arrays, size is given at the time of creation  and so arrays are of fixed length where as Linked list are dynamic in size and any number of nodes can be added in the linked list dynamically. An array is a collection of elements of the same data type stored in contiguous memory locations. The elements are identified by an index or subscript which allows the array to be traversed in a specific order (usually the order of the indices). \n",
    "\n",
    "| Feature                | Arrays                              | Linked Lists                          |\n",
    "| ---------------------- | ----------------------------------- | ------------------------------------- |\n",
    "| **Memory Allocation**  | Contiguous (fixed size at creation) | Non-contiguous (dynamic size)         |\n",
    "| **Access Time**        | O(1) – Random access                | O(n) – Sequential access              |\n",
    "| **Insertion/Deletion** | Costly (may require shifting)       | Efficient (just pointer changes)      |\n",
    "| **Memory Waste**       | Possible (pre-allocated size)       | No waste (allocates as needed)        |\n",
    "| **Cache Performance**  | Better (contiguous)                 | Worse (pointers break cache locality) |\n",
    "| **Pointer Usage**      | No extra memory for links           | Extra memory needed for pointers      |\n",
    "\n",
    "\n",
    "**In summary**:\n",
    "1. Use arrays when fast access (indexing) is needed and size is known.\n",
    "2. Use linked lists when frequent insertions/deletions are required and size is dynamic.\n",
    "\n",
    "#### **What is Linked List?**:\n",
    "A linked list is a linear data structure where each element (called a node) contains:\n",
    "1. Data - Value.\n",
    "2. Pointer - to the next node.\n"
   ]
  },
  {
   "cell_type": "code",
   "execution_count": 2,
   "id": "24aecb3e",
   "metadata": {},
   "outputs": [
    {
     "name": "stdout",
     "output_type": "stream",
     "text": [
      "Traversing the Linked List.......\n",
      "1->2->3->4->5->None\n"
     ]
    }
   ],
   "source": [
    "## define the list node:\n",
    "class Node:\n",
    "    def __init__(self, data= None, next= None):\n",
    "        self.data = data\n",
    "        self.next = next\n",
    "        \n",
    "    def setdata(self, data):\n",
    "        self.data = data\n",
    "        \n",
    "    def getdata(self):\n",
    "        return self.data\n",
    "    \n",
    "    def setnext(self, next):\n",
    "        self.next = next\n",
    "        \n",
    "    def getnext(self):\n",
    "        return self.next\n",
    "    \n",
    "    \n",
    "### create a linked list -- collection of list nodes\n",
    "\n",
    "head = Node(1)\n",
    "node2 = Node(2)\n",
    "node3 = Node(3)\n",
    "node4 = Node(4)\n",
    "node5 = Node(5)\n",
    "\n",
    "## creating a linkage\n",
    "head.setnext(node2)\n",
    "node2.setnext(node3)\n",
    "node3.setnext(node4)\n",
    "node4.setnext(node5)\n",
    "\n",
    "### traverse:\n",
    "def traverse(head):\n",
    "    temp = head\n",
    "    while(temp):\n",
    "        print(temp.getdata(), end=\"->\")\n",
    "        temp = temp.getnext()\n",
    "        \n",
    "\n",
    "print(\"Traversing the Linked List.......\")\n",
    "print(traverse(head))"
   ]
  },
  {
   "cell_type": "code",
   "execution_count": 3,
   "id": "83ea2a97",
   "metadata": {},
   "outputs": [
    {
     "name": "stdout",
     "output_type": "stream",
     "text": [
      "1->2->3->4->5->"
     ]
    }
   ],
   "source": [
    "def traverse_recursive(node):\n",
    "    if not node:\n",
    "        return\n",
    "    print(node.getdata(), end=\"->\")\n",
    "    traverse_recursive(node.getnext())\n",
    "\n",
    "traverse_recursive(head)\n"
   ]
  },
  {
   "cell_type": "code",
   "execution_count": 4,
   "id": "5aa38c35",
   "metadata": {},
   "outputs": [
    {
     "name": "stdout",
     "output_type": "stream",
     "text": [
      "Length : 5\n"
     ]
    }
   ],
   "source": [
    "### Length and size of linked list\n",
    "def length(head):\n",
    "    len = 0\n",
    "    while(head):\n",
    "        len += 1\n",
    "        head = head.getnext()\n",
    "    return len\n",
    "\n",
    "print(f\"Length : {length(head)}\")\n",
    "\n"
   ]
  },
  {
   "cell_type": "code",
   "execution_count": 5,
   "id": "578b9b90",
   "metadata": {},
   "outputs": [
    {
     "name": "stdout",
     "output_type": "stream",
     "text": [
      "length using recursion: 5\n"
     ]
    }
   ],
   "source": [
    "def length_rec(head):\n",
    "    if not head:\n",
    "        return 0\n",
    "    return 1 + length_rec(head.getnext())\n",
    "\n",
    "print(f\"length using recursion: {length_rec(head)}\")  # Output: 5"
   ]
  },
  {
   "cell_type": "code",
   "execution_count": 7,
   "id": "f6adad87",
   "metadata": {},
   "outputs": [
    {
     "name": "stdout",
     "output_type": "stream",
     "text": [
      "1->2->3->4->5->\n",
      "1->2->3->8->4->5->"
     ]
    }
   ],
   "source": [
    "### Insertion of Node:\n",
    "def insertNode(head, data, k):\n",
    "    #if k is valid\n",
    "    if (k > length(head) or k < 0):\n",
    "        print(\"Argument k passed is not valid\")\n",
    "        return head\n",
    "    \n",
    "    ## create new node for data\n",
    "    newNode = Node(data)\n",
    "    \n",
    "    if (k == 0):\n",
    "        newNode.setnext(head)\n",
    "        head = newNode\n",
    "        \n",
    "    else:\n",
    "        prev = head\n",
    "        i = 0\n",
    "        while (i < k-1):\n",
    "            prev = prev.getnext()\n",
    "            i += 1\n",
    "            \n",
    "        newNode.setnext(prev.getnext())\n",
    "        prev.setnext(newNode)\n",
    "    return head\n",
    "\n",
    "\n",
    "head = Node(1)\n",
    "node2 = Node(2)\n",
    "node3 = Node(3)\n",
    "node4 = Node(4)\n",
    "node5 = Node(5)\n",
    "\n",
    "#Creating the linkage\n",
    "head.setnext(node2)\n",
    "node2.setnext(node3)\n",
    "node3.setnext(node4)\n",
    "node4.setnext(node5)\n",
    "\n",
    "traverse(head)\n",
    "print()\n",
    "\n",
    "head = insertNode(head,8,3)\n",
    "\n",
    "traverse(head)"
   ]
  },
  {
   "cell_type": "code",
   "execution_count": 8,
   "id": "75612868",
   "metadata": {},
   "outputs": [],
   "source": [
    "### delete the node at k :\n",
    "def deleteNode(head, k):\n",
    "    pass"
   ]
  },
  {
   "cell_type": "code",
   "execution_count": 9,
   "id": "e4eab23e",
   "metadata": {},
   "outputs": [],
   "source": [
    "class LinkedList:\n",
    "    def __init__(self):\n",
    "        self.head = None\n",
    "\n",
    "    def traverse(self):\n",
    "        temp = self.head\n",
    "        while temp:\n",
    "            print(temp.getdata(), end=\"->\")\n",
    "            temp = temp.getnext()\n",
    "        print(\"None\")\n",
    "\n",
    "    def insert_at_beginning(self, data):\n",
    "        new_node = Node(data)\n",
    "        new_node.setnext(self.head)\n",
    "        self.head = new_node\n",
    "\n",
    "    def insert_at_end(self, data):\n",
    "        new_node = Node(data)\n",
    "        if self.head is None:\n",
    "            self.head = new_node\n",
    "            return\n",
    "\n",
    "        temp = self.head\n",
    "        while temp.getnext():\n",
    "            temp = temp.getnext()\n",
    "        temp.setnext(new_node)\n",
    "\n",
    "    def insert_after(self, prev_data, data):\n",
    "        temp = self.head\n",
    "        while temp and temp.getdata() != prev_data:\n",
    "            temp = temp.getnext()\n",
    "\n",
    "        if temp is None:\n",
    "            print(\"Previous node not found.\")\n",
    "            return\n",
    "\n",
    "        new_node = Node(data)\n",
    "        new_node.setnext(temp.getnext())\n",
    "        temp.setnext(new_node)\n",
    "\n",
    "    def delete_by_value(self, key):\n",
    "        temp = self.head\n",
    "        prev = None\n",
    "\n",
    "        if temp and temp.getdata() == key:\n",
    "            self.head = temp.getnext()\n",
    "            return\n",
    "\n",
    "        while temp and temp.getdata() != key:\n",
    "            prev = temp\n",
    "            temp = temp.getnext()\n",
    "\n",
    "        if temp is None:\n",
    "            print(\"Value not found.\")\n",
    "            return\n",
    "\n",
    "        prev.setnext(temp.getnext())\n",
    "\n",
    "    def delete_at_position(self, pos):\n",
    "        if self.head is None:\n",
    "            return\n",
    "\n",
    "        temp = self.head\n",
    "\n",
    "        if pos == 0:\n",
    "            self.head = temp.getnext()\n",
    "            return\n",
    "\n",
    "        for i in range(pos - 1):\n",
    "            if temp is None:\n",
    "                return\n",
    "            temp = temp.getnext()\n",
    "\n",
    "        if temp is None or temp.getnext() is None:\n",
    "            return\n",
    "\n",
    "        next_node = temp.getnext().getnext()\n",
    "        temp.setnext(next_node)\n",
    "\n",
    "    def search(self, key):\n",
    "        temp = self.head\n",
    "        while temp:\n",
    "            if temp.getdata() == key:\n",
    "                return True\n",
    "            temp = temp.getnext()\n",
    "        return False\n"
   ]
  },
  {
   "cell_type": "code",
   "execution_count": 10,
   "id": "7ea99a56",
   "metadata": {},
   "outputs": [
    {
     "name": "stdout",
     "output_type": "stream",
     "text": [
      "5->10->15->20->None\n",
      "True\n",
      "5->15->20->None\n",
      "5->20->None\n"
     ]
    }
   ],
   "source": [
    "ll = LinkedList()\n",
    "ll.insert_at_end(10)\n",
    "ll.insert_at_end(20)\n",
    "ll.insert_at_beginning(5)\n",
    "ll.insert_after(10, 15)\n",
    "ll.traverse()           # Output: 5->10->15->20->None\n",
    "\n",
    "print(ll.search(15))    # Output: True\n",
    "ll.delete_by_value(10)\n",
    "ll.traverse()           # Output: 5->15->20->None\n",
    "ll.delete_at_position(1)\n",
    "ll.traverse()           # Output: 5->20->None\n"
   ]
  },
  {
   "cell_type": "markdown",
   "id": "0118790c",
   "metadata": {},
   "source": [
    "**Reversing of Linked List**\n",
    "\n",
    "1. START\n",
    "2. We use three pointers to perform the reversing: \n",
    "   prev, next, head.\n",
    "3. Point the current node to head and assign its next value to \n",
    "   the prev node.\n",
    "4. Iteratively repeat the step 3 for all the nodes in the list.\n",
    "5. Assign head to the prev node."
   ]
  },
  {
   "cell_type": "code",
   "execution_count": 11,
   "id": "ac2e2b6b",
   "metadata": {},
   "outputs": [
    {
     "name": "stdout",
     "output_type": "stream",
     "text": [
      "Linked List: \n",
      "432\n",
      "343\n",
      "123\n",
      "After reversing: \n",
      "Linked List: \n",
      "123\n",
      "343\n",
      "432\n"
     ]
    }
   ],
   "source": [
    "class Node:\n",
    "    def __init__(self, data = None):\n",
    "        self.data = data\n",
    "        self.next = None\n",
    "    \n",
    "    \n",
    "class SLL:\n",
    "    def __init__(self):\n",
    "        self.head = None\n",
    "        \n",
    "    def listprint(self):\n",
    "        printval = self.head\n",
    "        print(\"Linked List: \")\n",
    "        while printval is not None:\n",
    "            print(printval.data)\n",
    "            printval = printval.next    \n",
    "            \n",
    "    def reverse(self):\n",
    "        prev = None\n",
    "        curr = self.head\n",
    "        while (curr is not None):\n",
    "            next = curr.next\n",
    "            curr.next = prev\n",
    "            prev = curr\n",
    "            curr = next\n",
    "        self.head = prev\n",
    "        \n",
    "\n",
    "l1 = SLL()\n",
    "l1.head = Node('432')\n",
    "e2 = Node('343')\n",
    "e3 = Node('123')\n",
    "\n",
    "l1.head.next = e2\n",
    "e2.next = e3\n",
    "\n",
    "l1.listprint()\n",
    "l1.reverse()\n",
    "print('After reversing: ')\n",
    "l1.listprint()\n",
    "        "
   ]
  },
  {
   "cell_type": "code",
   "execution_count": null,
   "id": "5b18fa51",
   "metadata": {},
   "outputs": [],
   "source": []
  }
 ],
 "metadata": {
  "kernelspec": {
   "display_name": "fenv",
   "language": "python",
   "name": "python3"
  },
  "language_info": {
   "codemirror_mode": {
    "name": "ipython",
    "version": 3
   },
   "file_extension": ".py",
   "mimetype": "text/x-python",
   "name": "python",
   "nbconvert_exporter": "python",
   "pygments_lexer": "ipython3",
   "version": "3.12.3"
  }
 },
 "nbformat": 4,
 "nbformat_minor": 5
}
