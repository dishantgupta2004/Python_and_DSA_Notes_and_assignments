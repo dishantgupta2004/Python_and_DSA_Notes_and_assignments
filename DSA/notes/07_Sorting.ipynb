{
 "cells": [
  {
   "cell_type": "markdown",
   "id": "4b0a99d3",
   "metadata": {},
   "source": [
    "#### **Sorting Practice Questions**\n",
    "1. **Given an array of n numbers, give an algorithm which gives the element app"
   ]
  },
  {
   "cell_type": "code",
   "execution_count": null,
   "id": "05d9d143",
   "metadata": {},
   "outputs": [],
   "source": []
  },
  {
   "cell_type": "code",
   "execution_count": null,
   "id": "35096246",
   "metadata": {},
   "outputs": [],
   "source": []
  }
 ],
 "metadata": {
  "kernelspec": {
   "display_name": "fenv",
   "language": "python",
   "name": "python3"
  },
  "language_info": {
   "codemirror_mode": {
    "name": "ipython",
    "version": 3
   },
   "file_extension": ".py",
   "mimetype": "text/x-python",
   "name": "python",
   "nbconvert_exporter": "python",
   "pygments_lexer": "ipython3",
   "version": "3.12.3"
  }
 },
 "nbformat": 4,
 "nbformat_minor": 5
}
