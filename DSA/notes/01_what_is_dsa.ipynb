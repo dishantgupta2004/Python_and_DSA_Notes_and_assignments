{
 "cells": [
  {
   "cell_type": "markdown",
   "id": "6d8b837b",
   "metadata": {},
   "source": [
    "### **Tables of Contents**\n",
    "1. Introduction\n",
    "2. What are Data Structures?\n",
    "3. What are algorithms?\n",
    "4. DSA'S Role in Computer Science\n",
    "5. Common Data Structures\n",
    "6. Common Algorithms\n",
    "7. Summary\n",
    "\n",
    "### **Learning Objectives**\n",
    "1. By the end of this notebook, you will be able to:\n",
    " - Define data structures and algorithms.\n",
    " - Understand the fundamental role of DSA in computer science.\n",
    " - Identify basic categories of data structures and algorithms.\n",
    " - Explain how DSA affects program efficiency.\n",
    " - Recognize when to use specific data structures.\n",
    "\n"
   ]
  },
  {
   "cell_type": "markdown",
   "id": "9d0bbec8",
   "metadata": {},
   "source": [
    "1. **Data Structures and Algorithms (DSA)** form the backbone of computer science and programming. They are essential tools that every programmer needs to master to write efficient and optimized code.\n",
    "- **What are Data Structures?**: Data structures are specialized formats for organizing, storing, and manipulating data in computers. They provide a way to manage data efficiently for various uses. Think of data structures as different types of containers - each designed to store items in a specific way that makes certain operations faster or more convenient."
   ]
  },
  {
   "cell_type": "code",
   "execution_count": 1,
   "id": "920c5f20",
   "metadata": {},
   "outputs": [
    {
     "name": "stdout",
     "output_type": "stream",
     "text": [
      "List: [1, 2, 3, 4, 5]\n",
      "Dictionary: {'name': 'Alice', 'age': 25, 'city': 'New York'}\n",
      "Set: {1, 2, 3, 4, 5}\n",
      "Tuple: (1, 2, 3, 4, 5)\n"
     ]
    }
   ],
   "source": [
    "# Examples of basic data structures in Python\n",
    "\n",
    "# List - ordered, mutable collection\n",
    "my_list = [1, 2, 3, 4, 5]\n",
    "\n",
    "# Dictionary - key-value pairs\n",
    "my_dict = {\"name\": \"Alice\", \"age\": 25, \"city\": \"New York\"}\n",
    "\n",
    "# Set - unordered collection of unique items\n",
    "my_set = {1, 2, 3, 4, 5}\n",
    "\n",
    "# Tuple - ordered, immutable collection\n",
    "my_tuple = (1, 2, 3, 4, 5)\n",
    "\n",
    "print(f\"List: {my_list}\")\n",
    "print(f\"Dictionary: {my_dict}\")\n",
    "print(f\"Set: {my_set}\")\n",
    "print(f\"Tuple: {my_tuple}\")"
   ]
  },
  {
   "cell_type": "markdown",
   "id": "33db32cb",
   "metadata": {},
   "source": [
    "**What are Algorithms?**: Algorithms are step-by-step procedures or formulas for solving problems. They are precise sequences of instructions that perform specific tasks or computations. An algorithm is like a recipe - it provides clear instructions that, when followed correctly, will produce the desired result."
   ]
  },
  {
   "cell_type": "code",
   "execution_count": 2,
   "id": "f5aa0005",
   "metadata": {},
   "outputs": [
    {
     "name": "stdout",
     "output_type": "stream",
     "text": [
      "Maximum value in [23, 7, 45, 12, 67, 9, 34] is: 67\n"
     ]
    }
   ],
   "source": [
    "# Simple algorithm example: Finding the maximum value in a list\n",
    "\n",
    "def find_max(numbers):\n",
    "    \"\"\"\n",
    "    A simple algorithm to find the maximum value in a list\n",
    "    \"\"\"\n",
    "    if not numbers:  \n",
    "        return None\n",
    "        \n",
    "    max_value = numbers[0] \n",
    "    \n",
    "    # Iterate through each number and update max_value if a larger number is found\n",
    "    for number in numbers:\n",
    "        if number > max_value:\n",
    "            max_value = number\n",
    "            \n",
    "    return max_value\n",
    "\n",
    "# Test the algorithm\n",
    "test_list = [23, 7, 45, 12, 67, 9, 34]\n",
    "print(f\"Maximum value in {test_list} is: {find_max(test_list)}\")"
   ]
  },
  {
   "cell_type": "markdown",
   "id": "e4be14a6",
   "metadata": {},
   "source": [
    "**DSA's Role in Computer Science**: DSA plays a crucial role in computer science for several reasons:\n",
    "1. Problem Solving: DSA provides frameworks for breaking down complex problems into manageable parts.\n",
    "2. Efficiency: Proper DSA selection dramatically affects how fast and with how much memory your program runs.\n",
    "3. Scalability: Good DSA choices allow your programs to handle larger inputs without significant performance degradation.\n",
    "4. Code Organization: DSA helps structure your code in a logical manner."
   ]
  },
  {
   "cell_type": "code",
   "execution_count": 5,
   "id": "8ff03958",
   "metadata": {},
   "outputs": [
    {
     "name": "stdout",
     "output_type": "stream",
     "text": [
      "Time to find an element in list: 0.001635 seconds\n",
      "Time to find an element in set: 0.000000 seconds\n"
     ]
    }
   ],
   "source": [
    "# Example showing how choice of data structure affects performance\n",
    "import time\n",
    "\n",
    "# Searching in a list (linear time complexity)\n",
    "def find_in_list(item, my_list):\n",
    "    return item in my_list\n",
    "\n",
    "# Searching in a set (constant time complexity)\n",
    "def find_in_set(item, my_set):\n",
    "    return item in my_set\n",
    "\n",
    "# Create test data\n",
    "test_size = 100000\n",
    "test_list = list(range(test_size))\n",
    "test_set = set(range(test_size))\n",
    "\n",
    "# Test list search\n",
    "start_time = time.time()\n",
    "list_result = find_in_list(test_size-1, test_list)\n",
    "list_time = time.time() - start_time\n",
    "\n",
    "# Test set search\n",
    "start_time = time.time()\n",
    "set_result = find_in_set(test_size-1, test_set)\n",
    "set_time = time.time() - start_time\n",
    "\n",
    "print(f\"Time to find an element in list: {list_time:.6f} seconds\")\n",
    "print(f\"Time to find an element in set: {set_time:.6f} seconds\")"
   ]
  },
  {
   "cell_type": "markdown",
   "id": "d748b138",
   "metadata": {},
   "source": [
    "**Common Data Structures**: Here's an overview of fundamental data structures:\n",
    "1. Arrays/Lists: Ordered collection of elements. Fast access by index. Used when order matters and fast random access is needed\n",
    "2. Linked Lists: Chain of nodes, each containing data and a pointer to the next node. Efficient insertions and deletions. Used when frequent insertions/deletions are needed\n",
    "3. Stacks: LIFO (Last In, First Out) principle. Operations: push (add), pop (remove). Used for function calls, undo mechanisms, expression evaluation\n",
    "4. Queues: FIFO (First In, First Out) principle. Operations: enqueue (add), dequeue (remove). Used for task scheduling, breadth-first search\n",
    "5. Hash Tables/Dictionaries: Key-value pairs with O(1) average-case access. Used for fast lookups, caches, database indexing\n",
    "6. Trees: Hierarchical structure with a root node and child nodes. Types: Binary Trees, BST, AVL, Red-Black, B-trees. Used for hierarchical data, searching, priority queues\n",
    "7. Graphs: Nodes (vertices) connected by edges. Used for networks, pathfinding, social connections\n",
    "8. Heaps: Specialized tree structure. Used for priority queues, scheduling"
   ]
  },
  {
   "cell_type": "code",
   "execution_count": 6,
   "id": "241f25ca",
   "metadata": {},
   "outputs": [
    {
     "name": "stdout",
     "output_type": "stream",
     "text": [
      "Stack size: 3\n",
      "Top item: C\n",
      "Popped item: C\n",
      "New top item: B\n"
     ]
    }
   ],
   "source": [
    "# Simple implementation of a Stack in Python\n",
    "\n",
    "class Stack:\n",
    "    def __init__(self):\n",
    "        self.items = []\n",
    "        \n",
    "    def push(self, item):\n",
    "        self.items.append(item)\n",
    "        \n",
    "    def pop(self):\n",
    "        if not self.is_empty():\n",
    "            return self.items.pop()\n",
    "        return None\n",
    "        \n",
    "    def peek(self):\n",
    "        if not self.is_empty():\n",
    "            return self.items[-1]\n",
    "        return None\n",
    "        \n",
    "    def is_empty(self):\n",
    "        return len(self.items) == 0\n",
    "        \n",
    "    def size(self):\n",
    "        return len(self.items)\n",
    "\n",
    "# Example usage\n",
    "stack = Stack()\n",
    "stack.push(\"A\")\n",
    "stack.push(\"B\")\n",
    "stack.push(\"C\")\n",
    "\n",
    "print(f\"Stack size: {stack.size()}\")\n",
    "print(f\"Top item: {stack.peek()}\")\n",
    "print(f\"Popped item: {stack.pop()}\")\n",
    "print(f\"New top item: {stack.peek()}\")"
   ]
  },
  {
   "cell_type": "markdown",
   "id": "5617e978",
   "metadata": {},
   "source": [
    "Common Algorithms\n",
    "Here are some fundamental algorithm categories:\n",
    "\n",
    "Searching Algorithms:\n",
    "\n",
    "Linear Search\n",
    "Binary Search\n",
    "Depth-First Search (DFS)\n",
    "Breadth-First Search (BFS)\n",
    "\n",
    "\n",
    "Sorting Algorithms:\n",
    "\n",
    "Bubble Sort\n",
    "Selection Sort\n",
    "Insertion Sort\n",
    "Merge Sort\n",
    "Quick Sort\n",
    "Heap Sort\n",
    "\n",
    "\n",
    "Graph Algorithms:\n",
    "\n",
    "Dijkstra's Algorithm\n",
    "Bellman-Ford Algorithm\n",
    "Floyd-Warshall Algorithm\n",
    "Kruskal's Algorithm\n",
    "Prim's Algorithm\n",
    "\n",
    "\n",
    "Dynamic Programming:\n",
    "\n",
    "Breaking complex problems into simpler subproblems\n",
    "Storing solutions to subproblems to avoid recalculations\n",
    "\n",
    "\n",
    "Greedy Algorithms:\n",
    "\n",
    "Making locally optimal choices at each step\n",
    "Hoping to find a global optimum"
   ]
  },
  {
   "cell_type": "code",
   "execution_count": 7,
   "id": "91f01ceb",
   "metadata": {},
   "outputs": [
    {
     "name": "stdout",
     "output_type": "stream",
     "text": [
      "Element 23 found at index 5\n"
     ]
    }
   ],
   "source": [
    "# Binary Search Algorithm Example\n",
    "\n",
    "def binary_search(arr, target):\n",
    "    \"\"\"\n",
    "    Binary search algorithm to find target in a sorted array\n",
    "    Returns the index of target if found, otherwise -1\n",
    "    \"\"\"\n",
    "    left = 0\n",
    "    right = len(arr) - 1\n",
    "    \n",
    "    while left <= right:\n",
    "        mid = (left + right) // 2\n",
    "        \n",
    "        # Check if target is at the middle\n",
    "        if arr[mid] == target:\n",
    "            return mid\n",
    "        \n",
    "        # If target is greater, ignore left half\n",
    "        elif arr[mid] < target:\n",
    "            left = mid + 1\n",
    "        \n",
    "        # If target is smaller, ignore right half\n",
    "        else:\n",
    "            right = mid - 1\n",
    "    \n",
    "    # Target not found\n",
    "    return -1\n",
    "\n",
    "# Test the binary search\n",
    "sorted_array = [2, 5, 8, 12, 16, 23, 38, 56, 72, 91]\n",
    "target = 23\n",
    "\n",
    "result = binary_search(sorted_array, target)\n",
    "if result != -1:\n",
    "    print(f\"Element {target} found at index {result}\")\n",
    "else:\n",
    "    print(f\"Element {target} not found in the array\")"
   ]
  },
  {
   "cell_type": "markdown",
   "id": "101001a7",
   "metadata": {},
   "source": [
    "### **Summary**\n",
    "Data Structures are specialized formats for organizing, storing, and manipulating data efficiently. Algorithms are step-by-step procedures or instructions for solving specific problems. DSA is fundamental to computer science and programming, affecting:\n",
    " - Code efficiency and performance.\n",
    " - Program scalability.\n",
    " - Memory usage.\n",
    " - Problem-solving approaches.\n",
    " - Choosing the right data structure and algorithm for a specific task is crucial for writing efficient code. Understanding DSA principles helps in writing cleaner, more optimized code and solving complex computational problems.\n",
    "\n",
    "\n",
    "   \n",
    " "
   ]
  },
  {
   "cell_type": "code",
   "execution_count": null,
   "id": "ef7a5665",
   "metadata": {},
   "outputs": [],
   "source": []
  }
 ],
 "metadata": {
  "kernelspec": {
   "display_name": "fenv",
   "language": "python",
   "name": "python3"
  },
  "language_info": {
   "codemirror_mode": {
    "name": "ipython",
    "version": 3
   },
   "file_extension": ".py",
   "mimetype": "text/x-python",
   "name": "python",
   "nbconvert_exporter": "python",
   "pygments_lexer": "ipython3",
   "version": "3.12.3"
  }
 },
 "nbformat": 4,
 "nbformat_minor": 5
}
